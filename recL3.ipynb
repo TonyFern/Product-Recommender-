{
 "cells": [
  {
   "cell_type": "markdown",
   "metadata": {
    "Collapsed": "false"
   },
   "source": [
    "# 1. Get data and create DataFrame"
   ]
  },
  {
   "cell_type": "code",
   "execution_count": 2,
   "metadata": {
    "Collapsed": "false"
   },
   "outputs": [
    {
     "ename": "DatabaseError",
     "evalue": "DPI-1047: Cannot locate a 64-bit Oracle Client library: \"libclntsh.so: cannot open shared object file: No such file or directory\". See https://oracle.github.io/odpi/doc/installation.html#linux for help",
     "output_type": "error",
     "traceback": [
      "\u001b[0;31m---------------------------------------------------------------------------\u001b[0m",
      "\u001b[0;31mDatabaseError\u001b[0m                             Traceback (most recent call last)",
      "\u001b[0;32m<ipython-input-2-4d8146f15701>\u001b[0m in \u001b[0;36m<module>\u001b[0;34m\u001b[0m\n\u001b[1;32m     11\u001b[0m \u001b[0;34m\u001b[0m\u001b[0m\n\u001b[1;32m     12\u001b[0m \u001b[0;34m\u001b[0m\u001b[0m\n\u001b[0;32m---> 13\u001b[0;31m \u001b[0mconnection\u001b[0m \u001b[0;34m=\u001b[0m \u001b[0mcx_Oracle\u001b[0m\u001b[0;34m.\u001b[0m\u001b[0mconnect\u001b[0m\u001b[0;34m(\u001b[0m\u001b[0;34m'tony.fernandez/Kerrdental70$!@PDW'\u001b[0m\u001b[0;34m)\u001b[0m\u001b[0;34m\u001b[0m\u001b[0;34m\u001b[0m\u001b[0m\n\u001b[0m\u001b[1;32m     14\u001b[0m \u001b[0mcursor\u001b[0m \u001b[0;34m=\u001b[0m \u001b[0mconnection\u001b[0m\u001b[0;34m.\u001b[0m\u001b[0mcursor\u001b[0m\u001b[0;34m(\u001b[0m\u001b[0;34m)\u001b[0m\u001b[0;34m\u001b[0m\u001b[0;34m\u001b[0m\u001b[0m\n\u001b[1;32m     15\u001b[0m \u001b[0;34m\u001b[0m\u001b[0m\n",
      "\u001b[0;31mDatabaseError\u001b[0m: DPI-1047: Cannot locate a 64-bit Oracle Client library: \"libclntsh.so: cannot open shared object file: No such file or directory\". See https://oracle.github.io/odpi/doc/installation.html#linux for help"
     ]
    }
   ],
   "source": [
    "from IPython.core.interactiveshell import InteractiveShell\n",
    "InteractiveShell.ast_node_interactivity = \"all\"\n",
    "\n",
    "import cx_Oracle\n",
    "import numpy as np ; import modin.pandas as pd\n",
    "# import pandas_profiling as pp\n",
    "import sys\n",
    "import timeit\n",
    "\n",
    "start = timeit.default_timer()\n",
    "\n",
    "\n",
    "connection = cx_Oracle.connect('tony.fernandez/Kerrdental70$!@PDW')\n",
    "cursor = connection.cursor()\n",
    "\n",
    "querystring =  \"SELECT      Prod Cat L1 Desc, \\\n",
    "                            Data Source, \\\n",
    "                            Prod Cat L3 Desc,\\\n",
    "                            Trx Date,\\\n",
    "                            Mdm Cust Key,\\\n",
    "                            Company,\\\n",
    "                            Acct Office Name,\\\n",
    "                            Addr Streetaddr,\\\n",
    "                            Addr City,\\\n",
    "                            Addr Zip,\\\n",
    "                            Addr State,\\\n",
    "                            Product Number,\\\n",
    "                            Product Desc,\\\n",
    "                            Serial Number,\\\n",
    "                            Bus Unit,\\\n",
    "                            Ext Value Eud,\\\n",
    "                FROM \\\n",
    "                            PDW.MDM_MIM_EUDDRCT_ASSET_SLA_VALL\"\n",
    "         #      WHERE \\\n",
    "          #                 CAL_YYYY = 2019  AND (DEALER_NAME) NOT IN ('PROMO REDEMPTIONS')\"\n",
    "\n",
    "cursor.execute(querystring)\n",
    "\n",
    "df_ora = pd.read_sql(querystring, con=connection)\n",
    "\n",
    "stop = timeit.default_timer()\n",
    "total_time = stop - start\n",
    "\n",
    "# output running time in a nice format.\n",
    "mins, secs = divmod(total_time, 60)\n",
    "hours, mins = divmod(mins, 60)\n",
    "\n",
    "df_ora.shape\n",
    "df_ora.head()\n",
    "\n",
    "sys.stdout.write(\"Total running time: %d:%d:%d.\\n\" % (hours, mins, secs))"
   ]
  },
  {
   "cell_type": "code",
   "execution_count": 4,
   "metadata": {
    "Collapsed": "false"
   },
   "outputs": [
    {
     "data": {
      "text/plain": [
       "Timestamp('2019-12-16 00:00:00')"
      ]
     },
     "execution_count": 4,
     "metadata": {},
     "output_type": "execute_result"
    }
   ],
   "source": [
    "df_ora['REBATE_PERIOD'].max()"
   ]
  },
  {
   "cell_type": "code",
   "execution_count": 2,
   "metadata": {
    "Collapsed": "false"
   },
   "outputs": [
    {
     "data": {
      "text/plain": [
       "(5048926, 17)"
      ]
     },
     "execution_count": 2,
     "metadata": {},
     "output_type": "execute_result"
    },
    {
     "data": {
      "text/html": [
       "<div>\n",
       "<style scoped>\n",
       "    .dataframe tbody tr th:only-of-type {\n",
       "        vertical-align: middle;\n",
       "    }\n",
       "\n",
       "    .dataframe tbody tr th {\n",
       "        vertical-align: top;\n",
       "    }\n",
       "\n",
       "    .dataframe thead th {\n",
       "        text-align: right;\n",
       "    }\n",
       "</style>\n",
       "<table border=\"1\" class=\"dataframe\">\n",
       "  <thead>\n",
       "    <tr style=\"text-align: right;\">\n",
       "      <th></th>\n",
       "      <th>L1_DESC_NEW</th>\n",
       "      <th>DEALER_NAME</th>\n",
       "      <th>L3_DESC_NEW</th>\n",
       "      <th>REBATE_PERIOD</th>\n",
       "      <th>CRM_CUST_KEY</th>\n",
       "      <th>COMPANY</th>\n",
       "      <th>CRM_ADDR_STREETADDR</th>\n",
       "      <th>CRM_ADDR_SUITE</th>\n",
       "      <th>CRM_ADDR_CITY</th>\n",
       "      <th>CRM_ADDR_STATE</th>\n",
       "      <th>CRM_ADDR_ZIP</th>\n",
       "      <th>DEBIT_MEMO_NO1</th>\n",
       "      <th>SDS_CUST_CLASS1</th>\n",
       "      <th>SDS_CUST_CLASS2</th>\n",
       "      <th>SDS_CUST_CLASS3</th>\n",
       "      <th>EXTPRICE</th>\n",
       "      <th>IVC_QTY</th>\n",
       "    </tr>\n",
       "  </thead>\n",
       "  <tbody>\n",
       "    <tr>\n",
       "      <th>0</th>\n",
       "      <td>FINISHING AND POLISHING</td>\n",
       "      <td>SCHEIN</td>\n",
       "      <td>NTI POLISHER</td>\n",
       "      <td>2019-01-02</td>\n",
       "      <td>Master-CM090337</td>\n",
       "      <td>AXIS</td>\n",
       "      <td>1018 Oberlin Rd</td>\n",
       "      <td>None</td>\n",
       "      <td>Raleigh</td>\n",
       "      <td>NC</td>\n",
       "      <td>27605</td>\n",
       "      <td>60791387-018-60791387</td>\n",
       "      <td>STANDARD</td>\n",
       "      <td>STANDARD</td>\n",
       "      <td>STANDARD</td>\n",
       "      <td>112.32</td>\n",
       "      <td>4.0</td>\n",
       "    </tr>\n",
       "    <tr>\n",
       "      <th>1</th>\n",
       "      <td>CARBIDES</td>\n",
       "      <td>SCHEIN</td>\n",
       "      <td>BVR SPECIALTY CARBIDE</td>\n",
       "      <td>2019-01-02</td>\n",
       "      <td>Master-CM197424</td>\n",
       "      <td>AXIS</td>\n",
       "      <td>1450 Sam Davis Rd</td>\n",
       "      <td>120</td>\n",
       "      <td>Smyrna</td>\n",
       "      <td>TN</td>\n",
       "      <td>37167</td>\n",
       "      <td>60822966-013-60822966</td>\n",
       "      <td>SPECIAL MARKETS</td>\n",
       "      <td>DSO</td>\n",
       "      <td>SM DSO</td>\n",
       "      <td>47.99</td>\n",
       "      <td>1.0</td>\n",
       "    </tr>\n",
       "    <tr>\n",
       "      <th>2</th>\n",
       "      <td>DIAMONDS</td>\n",
       "      <td>PATTERSON</td>\n",
       "      <td>NTI</td>\n",
       "      <td>2019-01-02</td>\n",
       "      <td>Master-CM120216</td>\n",
       "      <td>AXIS</td>\n",
       "      <td>4940 Normal Blvd</td>\n",
       "      <td>None</td>\n",
       "      <td>Lincoln</td>\n",
       "      <td>NE</td>\n",
       "      <td>68506</td>\n",
       "      <td>0035568033</td>\n",
       "      <td>STANDARD</td>\n",
       "      <td>STANDARD</td>\n",
       "      <td>STANDARD</td>\n",
       "      <td>-115.38</td>\n",
       "      <td>-2.0</td>\n",
       "    </tr>\n",
       "    <tr>\n",
       "      <th>3</th>\n",
       "      <td>CARBIDES</td>\n",
       "      <td>SCHEIN</td>\n",
       "      <td>EDENTA OPERATIVE CARBIDE</td>\n",
       "      <td>2019-01-02</td>\n",
       "      <td>Master-CM087022</td>\n",
       "      <td>AXIS</td>\n",
       "      <td>784 W Army Trail Rd</td>\n",
       "      <td>None</td>\n",
       "      <td>Carol Stream</td>\n",
       "      <td>IL</td>\n",
       "      <td>60188</td>\n",
       "      <td>60817086-004-60817086</td>\n",
       "      <td>STANDARD</td>\n",
       "      <td>STANDARD</td>\n",
       "      <td>STANDARD</td>\n",
       "      <td>201.51</td>\n",
       "      <td>1.0</td>\n",
       "    </tr>\n",
       "    <tr>\n",
       "      <th>4</th>\n",
       "      <td>DIAMONDS</td>\n",
       "      <td>DARBY</td>\n",
       "      <td>NTI</td>\n",
       "      <td>2019-01-02</td>\n",
       "      <td>Master-CM1421316</td>\n",
       "      <td>AXIS</td>\n",
       "      <td>4816 Main St</td>\n",
       "      <td>A</td>\n",
       "      <td>Spring Hill</td>\n",
       "      <td>TN</td>\n",
       "      <td>37174</td>\n",
       "      <td>6463875</td>\n",
       "      <td>SPECIAL MARKETS</td>\n",
       "      <td>DSO</td>\n",
       "      <td>SM DSO</td>\n",
       "      <td>47.60</td>\n",
       "      <td>1.0</td>\n",
       "    </tr>\n",
       "  </tbody>\n",
       "</table>\n",
       "</div>"
      ],
      "text/plain": [
       "               L1_DESC_NEW DEALER_NAME               L3_DESC_NEW  \\\n",
       "0  FINISHING AND POLISHING      SCHEIN              NTI POLISHER   \n",
       "1                 CARBIDES      SCHEIN     BVR SPECIALTY CARBIDE   \n",
       "2                 DIAMONDS   PATTERSON                       NTI   \n",
       "3                 CARBIDES      SCHEIN  EDENTA OPERATIVE CARBIDE   \n",
       "4                 DIAMONDS       DARBY                       NTI   \n",
       "\n",
       "  REBATE_PERIOD      CRM_CUST_KEY COMPANY  CRM_ADDR_STREETADDR CRM_ADDR_SUITE  \\\n",
       "0    2019-01-02   Master-CM090337    AXIS      1018 Oberlin Rd           None   \n",
       "1    2019-01-02   Master-CM197424    AXIS    1450 Sam Davis Rd            120   \n",
       "2    2019-01-02   Master-CM120216    AXIS     4940 Normal Blvd           None   \n",
       "3    2019-01-02   Master-CM087022    AXIS  784 W Army Trail Rd           None   \n",
       "4    2019-01-02  Master-CM1421316    AXIS         4816 Main St              A   \n",
       "\n",
       "  CRM_ADDR_CITY CRM_ADDR_STATE CRM_ADDR_ZIP         DEBIT_MEMO_NO1  \\\n",
       "0       Raleigh             NC        27605  60791387-018-60791387   \n",
       "1        Smyrna             TN        37167  60822966-013-60822966   \n",
       "2       Lincoln             NE        68506             0035568033   \n",
       "3  Carol Stream             IL        60188  60817086-004-60817086   \n",
       "4   Spring Hill             TN        37174                6463875   \n",
       "\n",
       "   SDS_CUST_CLASS1 SDS_CUST_CLASS2 SDS_CUST_CLASS3  EXTPRICE  IVC_QTY  \n",
       "0         STANDARD        STANDARD        STANDARD    112.32      4.0  \n",
       "1  SPECIAL MARKETS             DSO          SM DSO     47.99      1.0  \n",
       "2         STANDARD        STANDARD        STANDARD   -115.38     -2.0  \n",
       "3         STANDARD        STANDARD        STANDARD    201.51      1.0  \n",
       "4  SPECIAL MARKETS             DSO          SM DSO     47.60      1.0  "
      ]
     },
     "execution_count": 2,
     "metadata": {},
     "output_type": "execute_result"
    }
   ],
   "source": [
    "df_ora.shape\n",
    "df_ora.head()"
   ]
  },
  {
   "cell_type": "markdown",
   "metadata": {
    "Collapsed": "true"
   },
   "source": [
    "# 2. Send DataFrame to pickled file"
   ]
  },
  {
   "cell_type": "code",
   "execution_count": 5,
   "metadata": {
    "Collapsed": "false"
   },
   "outputs": [],
   "source": [
    "df_ora.to_pickle('2019_All_HDS_L3.pickle')"
   ]
  },
  {
   "cell_type": "markdown",
   "metadata": {
    "Collapsed": "false"
   },
   "source": [
    "# 3. Load pickled file"
   ]
  },
  {
   "cell_type": "code",
   "execution_count": 78,
   "metadata": {
    "Collapsed": "false"
   },
   "outputs": [
    {
     "name": "stdout",
     "output_type": "stream",
     "text": [
      "CPU times: user 0 ns, sys: 0 ns, total: 0 ns\n",
      "Wall time: 15 µs\n"
     ]
    }
   ],
   "source": [
    "from IPython.core.interactiveshell import InteractiveShell\n",
    "InteractiveShell.ast_node_interactivity = \"all\"\n",
    "\n",
    "import numpy as np\n",
    "import pandas as pd\n",
    "#import modin.pandas as pd\n",
    "import turicreate as tc\n",
    "from sklearn.model_selection import train_test_split\n",
    "\n",
    "df_ora = pd.read_pickle('2019_ALL_HDS.pickle')\n",
    "\n",
    "%time"
   ]
  },
  {
   "cell_type": "code",
   "execution_count": 79,
   "metadata": {
    "Collapsed": "false"
   },
   "outputs": [
    {
     "data": {
      "text/plain": [
       "(4748735, 19)"
      ]
     },
     "execution_count": 79,
     "metadata": {},
     "output_type": "execute_result"
    },
    {
     "data": {
      "text/html": [
       "<div>\n",
       "<style scoped>\n",
       "    .dataframe tbody tr th:only-of-type {\n",
       "        vertical-align: middle;\n",
       "    }\n",
       "\n",
       "    .dataframe tbody tr th {\n",
       "        vertical-align: top;\n",
       "    }\n",
       "\n",
       "    .dataframe thead th {\n",
       "        text-align: right;\n",
       "    }\n",
       "</style>\n",
       "<table border=\"1\" class=\"dataframe\">\n",
       "  <thead>\n",
       "    <tr style=\"text-align: right;\">\n",
       "      <th></th>\n",
       "      <th>L1_DESC_NEW</th>\n",
       "      <th>DEALER_NAME</th>\n",
       "      <th>SDS_PROD_NUM</th>\n",
       "      <th>SDS_PROD_DESC</th>\n",
       "      <th>L3_DESC_NEW</th>\n",
       "      <th>REBATE_PERIOD</th>\n",
       "      <th>CRM_CUST_KEY</th>\n",
       "      <th>COMPANY</th>\n",
       "      <th>CRM_ADDR_STREETADDR</th>\n",
       "      <th>CRM_ADDR_SUITE</th>\n",
       "      <th>CRM_ADDR_CITY</th>\n",
       "      <th>CRM_ADDR_STATE</th>\n",
       "      <th>CRM_ADDR_ZIP</th>\n",
       "      <th>DEBIT_MEMO_NO1</th>\n",
       "      <th>SDS_CUST_CLASS1</th>\n",
       "      <th>SDS_CUST_CLASS2</th>\n",
       "      <th>SDS_CUST_CLASS3</th>\n",
       "      <th>EXTPRICE</th>\n",
       "      <th>IVC_QTY</th>\n",
       "    </tr>\n",
       "  </thead>\n",
       "  <tbody>\n",
       "    <tr>\n",
       "      <td>0</td>\n",
       "      <td>DIAMONDS</td>\n",
       "      <td>SCHEIN</td>\n",
       "      <td>C836-010</td>\n",
       "      <td>NTI Diamond Coarse FG</td>\n",
       "      <td>NTI</td>\n",
       "      <td>2019-01-02</td>\n",
       "      <td>Master-CM236963</td>\n",
       "      <td>AXIS</td>\n",
       "      <td>2715 Packard St</td>\n",
       "      <td>B</td>\n",
       "      <td>Ann Arbor</td>\n",
       "      <td>MI</td>\n",
       "      <td>48108</td>\n",
       "      <td>60806363-003-60806363</td>\n",
       "      <td>STANDARD</td>\n",
       "      <td>STANDARD</td>\n",
       "      <td>STANDARD</td>\n",
       "      <td>329.94</td>\n",
       "      <td>6.0</td>\n",
       "    </tr>\n",
       "    <tr>\n",
       "      <td>1</td>\n",
       "      <td>ALL OTHER</td>\n",
       "      <td>SCHEIN</td>\n",
       "      <td>EC-1200</td>\n",
       "      <td>AXIS Diamond-ZYME Solution</td>\n",
       "      <td>ACCESSORIES</td>\n",
       "      <td>2019-01-02</td>\n",
       "      <td>Master-CM217851</td>\n",
       "      <td>AXIS</td>\n",
       "      <td>910 Wagner Ave</td>\n",
       "      <td>None</td>\n",
       "      <td>San Antonio</td>\n",
       "      <td>TX</td>\n",
       "      <td>78211</td>\n",
       "      <td>60784890-013-60784890</td>\n",
       "      <td>INSTITUTION</td>\n",
       "      <td>COMMUNITY HEALTHCARE</td>\n",
       "      <td>COMMUNITY HEALTHCARE</td>\n",
       "      <td>145.17</td>\n",
       "      <td>3.0</td>\n",
       "    </tr>\n",
       "    <tr>\n",
       "      <td>2</td>\n",
       "      <td>FINISHING AND POLISHING</td>\n",
       "      <td>DHP</td>\n",
       "      <td>FS3-MX</td>\n",
       "      <td>NTI Serrated Diamond Strip - M</td>\n",
       "      <td>NTI STRIPS</td>\n",
       "      <td>2019-01-02</td>\n",
       "      <td>Master-CM083287</td>\n",
       "      <td>AXIS</td>\n",
       "      <td>913 NW Garden Valley Blvd</td>\n",
       "      <td>None</td>\n",
       "      <td>Roseburg</td>\n",
       "      <td>OR</td>\n",
       "      <td>97471</td>\n",
       "      <td>1846597-0</td>\n",
       "      <td>INSTITUTION</td>\n",
       "      <td>GOVERNMENT</td>\n",
       "      <td>VETERAN'S AFFAIRS</td>\n",
       "      <td>67.11</td>\n",
       "      <td>1.0</td>\n",
       "    </tr>\n",
       "    <tr>\n",
       "      <td>3</td>\n",
       "      <td>CARBIDES</td>\n",
       "      <td>BENCO</td>\n",
       "      <td>H379-023</td>\n",
       "      <td>NTI OA-1/7408 Carbide (RED)</td>\n",
       "      <td>BVR T&amp;F CARBIDE</td>\n",
       "      <td>2019-01-02</td>\n",
       "      <td>Master-CM1187672</td>\n",
       "      <td>AXIS</td>\n",
       "      <td>Ste 90B</td>\n",
       "      <td>None</td>\n",
       "      <td>Madison</td>\n",
       "      <td>TN</td>\n",
       "      <td>37115</td>\n",
       "      <td>1L338867</td>\n",
       "      <td>STANDARD</td>\n",
       "      <td>STANDARD</td>\n",
       "      <td>STANDARD</td>\n",
       "      <td>91.82</td>\n",
       "      <td>2.0</td>\n",
       "    </tr>\n",
       "    <tr>\n",
       "      <td>4</td>\n",
       "      <td>CARBIDES</td>\n",
       "      <td>BENCO</td>\n",
       "      <td>H135-014</td>\n",
       "      <td>NTI TDF-9 Carbide (RED)</td>\n",
       "      <td>BVR SPECIALTY CARBIDE</td>\n",
       "      <td>2019-01-02</td>\n",
       "      <td>Master-CM1187672</td>\n",
       "      <td>AXIS</td>\n",
       "      <td>Ste 90B</td>\n",
       "      <td>None</td>\n",
       "      <td>Madison</td>\n",
       "      <td>TN</td>\n",
       "      <td>37115</td>\n",
       "      <td>1L338867</td>\n",
       "      <td>STANDARD</td>\n",
       "      <td>STANDARD</td>\n",
       "      <td>STANDARD</td>\n",
       "      <td>51.47</td>\n",
       "      <td>1.0</td>\n",
       "    </tr>\n",
       "  </tbody>\n",
       "</table>\n",
       "</div>"
      ],
      "text/plain": [
       "               L1_DESC_NEW DEALER_NAME SDS_PROD_NUM  \\\n",
       "0                 DIAMONDS      SCHEIN     C836-010   \n",
       "1                ALL OTHER      SCHEIN      EC-1200   \n",
       "2  FINISHING AND POLISHING         DHP       FS3-MX   \n",
       "3                 CARBIDES       BENCO     H379-023   \n",
       "4                 CARBIDES       BENCO     H135-014   \n",
       "\n",
       "                    SDS_PROD_DESC            L3_DESC_NEW REBATE_PERIOD  \\\n",
       "0           NTI Diamond Coarse FG                    NTI    2019-01-02   \n",
       "1      AXIS Diamond-ZYME Solution            ACCESSORIES    2019-01-02   \n",
       "2  NTI Serrated Diamond Strip - M             NTI STRIPS    2019-01-02   \n",
       "3     NTI OA-1/7408 Carbide (RED)        BVR T&F CARBIDE    2019-01-02   \n",
       "4         NTI TDF-9 Carbide (RED)  BVR SPECIALTY CARBIDE    2019-01-02   \n",
       "\n",
       "       CRM_CUST_KEY COMPANY        CRM_ADDR_STREETADDR CRM_ADDR_SUITE  \\\n",
       "0   Master-CM236963    AXIS            2715 Packard St              B   \n",
       "1   Master-CM217851    AXIS             910 Wagner Ave           None   \n",
       "2   Master-CM083287    AXIS  913 NW Garden Valley Blvd           None   \n",
       "3  Master-CM1187672    AXIS                    Ste 90B           None   \n",
       "4  Master-CM1187672    AXIS                    Ste 90B           None   \n",
       "\n",
       "  CRM_ADDR_CITY CRM_ADDR_STATE CRM_ADDR_ZIP         DEBIT_MEMO_NO1  \\\n",
       "0     Ann Arbor             MI        48108  60806363-003-60806363   \n",
       "1   San Antonio             TX        78211  60784890-013-60784890   \n",
       "2      Roseburg             OR        97471              1846597-0   \n",
       "3       Madison             TN        37115               1L338867   \n",
       "4       Madison             TN        37115               1L338867   \n",
       "\n",
       "  SDS_CUST_CLASS1       SDS_CUST_CLASS2       SDS_CUST_CLASS3  EXTPRICE  \\\n",
       "0        STANDARD              STANDARD              STANDARD    329.94   \n",
       "1     INSTITUTION  COMMUNITY HEALTHCARE  COMMUNITY HEALTHCARE    145.17   \n",
       "2     INSTITUTION            GOVERNMENT     VETERAN'S AFFAIRS     67.11   \n",
       "3        STANDARD              STANDARD              STANDARD     91.82   \n",
       "4        STANDARD              STANDARD              STANDARD     51.47   \n",
       "\n",
       "   IVC_QTY  \n",
       "0      6.0  \n",
       "1      3.0  \n",
       "2      1.0  \n",
       "3      2.0  \n",
       "4      1.0  "
      ]
     },
     "execution_count": 79,
     "metadata": {},
     "output_type": "execute_result"
    }
   ],
   "source": [
    "df_ora.shape\n",
    "df_ora.head()\n"
   ]
  },
  {
   "cell_type": "markdown",
   "metadata": {
    "Collapsed": "false"
   },
   "source": [
    "# 4. Data prep"
   ]
  },
  {
   "cell_type": "code",
   "execution_count": 80,
   "metadata": {
    "Collapsed": "false"
   },
   "outputs": [
    {
     "data": {
      "text/plain": [
       "pandas.core.frame.DataFrame"
      ]
     },
     "execution_count": 80,
     "metadata": {},
     "output_type": "execute_result"
    }
   ],
   "source": [
    "type(df_ora)"
   ]
  },
  {
   "cell_type": "code",
   "execution_count": 81,
   "metadata": {
    "Collapsed": "false"
   },
   "outputs": [
    {
     "data": {
      "text/plain": [
       "(4748735, 20)"
      ]
     },
     "execution_count": 81,
     "metadata": {},
     "output_type": "execute_result"
    }
   ],
   "source": [
    "#create new column for product\n",
    "df_ora['PRODUCT'] = df_ora['SDS_PROD_NUM'] + '|' + df_ora['SDS_PROD_DESC']\n",
    "df_ora.shape"
   ]
  },
  {
   "cell_type": "code",
   "execution_count": 82,
   "metadata": {
    "Collapsed": "false"
   },
   "outputs": [
    {
     "data": {
      "text/plain": [
       "20"
      ]
     },
     "execution_count": 82,
     "metadata": {},
     "output_type": "execute_result"
    }
   ],
   "source": [
    "df_ora['CRM_CUST_KEY'].isna().sum()"
   ]
  },
  {
   "cell_type": "code",
   "execution_count": 83,
   "metadata": {
    "Collapsed": "false"
   },
   "outputs": [
    {
     "data": {
      "text/plain": [
       "(4748715, 20)"
      ]
     },
     "execution_count": 83,
     "metadata": {},
     "output_type": "execute_result"
    }
   ],
   "source": [
    "df_ora = df_ora.dropna(subset=['CRM_CUST_KEY'])\n",
    "df_ora.shape"
   ]
  },
  {
   "cell_type": "code",
   "execution_count": 84,
   "metadata": {
    "Collapsed": "false"
   },
   "outputs": [
    {
     "data": {
      "text/plain": [
       "(4495785, 20)"
      ]
     },
     "execution_count": 84,
     "metadata": {},
     "output_type": "execute_result"
    }
   ],
   "source": [
    "# filter for matched keys\n",
    "\n",
    "df_ = df_ora.loc[df_ora['CRM_CUST_KEY'].str.contains('Master-CM*'),:]\n",
    "df_.shape"
   ]
  },
  {
   "cell_type": "code",
   "execution_count": 15,
   "metadata": {
    "Collapsed": "false"
   },
   "outputs": [],
   "source": [
    "#df_.to_csv('auditCRM_CUST_KEY.csv')"
   ]
  },
  {
   "cell_type": "code",
   "execution_count": 85,
   "metadata": {
    "Collapsed": "false"
   },
   "outputs": [
    {
     "data": {
      "text/plain": [
       "(2262441, 20)"
      ]
     },
     "execution_count": 85,
     "metadata": {},
     "output_type": "execute_result"
    },
    {
     "data": {
      "text/plain": [
       "array(['AXIS', 'KERR', 'PENTRON', 'SYBRONENDO', 'DEXIS', 'MARUS',\n",
       "       'PELTON', 'DCIE', 'GENDEX', 'INSTRUMENTARIUM', 'ISI',\n",
       "       'KAVO IMAGING', 'KAVO US', 'NOMAD'], dtype=object)"
      ]
     },
     "execution_count": 85,
     "metadata": {},
     "output_type": "execute_result"
    }
   ],
   "source": [
    "dfFilter = df_.loc[(df_['COMPANY'] == 'AXIS') | \n",
    "                   (df_['COMPANY'] == 'KERR') |\n",
    "                   (df_['COMPANY'] == 'PENTRON') |\n",
    "                   (df_['COMPANY'] == 'SYBRONENDO') |\n",
    "                   (df_['COMPANY'] == 'DEXIS') |\n",
    "                   (df_['COMPANY'] == 'DCIE') |\n",
    "                   (df_['COMPANY'] == 'MARUS') |\n",
    "                   (df_['COMPANY'] == 'GENDEX') |\n",
    "                   (df_['COMPANY'] == 'INSTRUMENTARIUM') |\n",
    "                   (df_['COMPANY'] == 'ISI') |\n",
    "                   (df_['COMPANY'] == 'KAVO IMAGING') |\n",
    "                   (df_['COMPANY'] == 'KAVO US') |\n",
    "                   (df_['COMPANY'] == 'NOMAD') |\n",
    "                   (df_['COMPANY'] == 'PELTON')    \n",
    "                    ,:]\n",
    "dfFilter.shape \n",
    "dfFilter['COMPANY'].unique()"
   ]
  },
  {
   "cell_type": "code",
   "execution_count": 86,
   "metadata": {
    "Collapsed": "false"
   },
   "outputs": [],
   "source": [
    "df_ = dfFilter"
   ]
  },
  {
   "cell_type": "code",
   "execution_count": 87,
   "metadata": {
    "Collapsed": "false"
   },
   "outputs": [
    {
     "data": {
      "text/plain": [
       "(2262441, 20)"
      ]
     },
     "execution_count": 87,
     "metadata": {},
     "output_type": "execute_result"
    }
   ],
   "source": [
    "df_.shape"
   ]
  },
  {
   "cell_type": "code",
   "execution_count": 88,
   "metadata": {
    "Collapsed": "false"
   },
   "outputs": [
    {
     "data": {
      "text/plain": [
       "(2262441, 3)"
      ]
     },
     "execution_count": 88,
     "metadata": {},
     "output_type": "execute_result"
    },
    {
     "data": {
      "text/html": [
       "<div>\n",
       "<style scoped>\n",
       "    .dataframe tbody tr th:only-of-type {\n",
       "        vertical-align: middle;\n",
       "    }\n",
       "\n",
       "    .dataframe tbody tr th {\n",
       "        vertical-align: top;\n",
       "    }\n",
       "\n",
       "    .dataframe thead th {\n",
       "        text-align: right;\n",
       "    }\n",
       "</style>\n",
       "<table border=\"1\" class=\"dataframe\">\n",
       "  <thead>\n",
       "    <tr style=\"text-align: right;\">\n",
       "      <th></th>\n",
       "      <th>CRM_CUST_KEY</th>\n",
       "      <th>PRODUCT</th>\n",
       "      <th>IVC_QTY</th>\n",
       "    </tr>\n",
       "  </thead>\n",
       "  <tbody>\n",
       "    <tr>\n",
       "      <td>288290</td>\n",
       "      <td>Master-CM045451</td>\n",
       "      <td>P1932-3|AXIS Pink DiaGloss - RA</td>\n",
       "      <td>1.0</td>\n",
       "    </tr>\n",
       "    <tr>\n",
       "      <td>296292</td>\n",
       "      <td>Master-CM045451</td>\n",
       "      <td>P19032-3|AXIS White DiaGloss - RA</td>\n",
       "      <td>1.0</td>\n",
       "    </tr>\n",
       "    <tr>\n",
       "      <td>1255175</td>\n",
       "      <td>Master-CM045452</td>\n",
       "      <td>33872|REFILL- MAXCEM ELITE CLEAR</td>\n",
       "      <td>1.0</td>\n",
       "    </tr>\n",
       "    <tr>\n",
       "      <td>1006795</td>\n",
       "      <td>Master-CM045452</td>\n",
       "      <td>33872|REFILL- MAXCEM ELITE CLEAR</td>\n",
       "      <td>1.0</td>\n",
       "    </tr>\n",
       "    <tr>\n",
       "      <td>1299216</td>\n",
       "      <td>Master-CM045452</td>\n",
       "      <td>00370|TEMP BOND STANDARD PACKAGE</td>\n",
       "      <td>1.0</td>\n",
       "    </tr>\n",
       "  </tbody>\n",
       "</table>\n",
       "</div>"
      ],
      "text/plain": [
       "            CRM_CUST_KEY                            PRODUCT  IVC_QTY\n",
       "288290   Master-CM045451    P1932-3|AXIS Pink DiaGloss - RA      1.0\n",
       "296292   Master-CM045451  P19032-3|AXIS White DiaGloss - RA      1.0\n",
       "1255175  Master-CM045452   33872|REFILL- MAXCEM ELITE CLEAR      1.0\n",
       "1006795  Master-CM045452   33872|REFILL- MAXCEM ELITE CLEAR      1.0\n",
       "1299216  Master-CM045452   00370|TEMP BOND STANDARD PACKAGE      1.0"
      ]
     },
     "execution_count": 88,
     "metadata": {},
     "output_type": "execute_result"
    }
   ],
   "source": [
    "dfRec = df_[['CRM_CUST_KEY','PRODUCT', 'IVC_QTY' ]].sort_values(by=['CRM_CUST_KEY'])\n",
    "dfRec.shape\n",
    "dfRec.head()"
   ]
  },
  {
   "cell_type": "code",
   "execution_count": 12,
   "metadata": {
    "Collapsed": "false"
   },
   "outputs": [],
   "source": [
    "def createDataDummy(dfRec):\n",
    "    dataDummy = dfRec.copy()\n",
    "    dataDummy['purchaseDummy'] = 1\n",
    "    return dataDummy"
   ]
  },
  {
   "cell_type": "code",
   "execution_count": 13,
   "metadata": {
    "Collapsed": "false"
   },
   "outputs": [],
   "source": [
    "dataDummy = createDataDummy(dfRec)"
   ]
  },
  {
   "cell_type": "code",
   "execution_count": 14,
   "metadata": {
    "Collapsed": "false"
   },
   "outputs": [],
   "source": [
    "# if crash then filter data\n",
    "dfRec_ = dfRec[:500000]"
   ]
  },
  {
   "cell_type": "code",
   "execution_count": 17,
   "metadata": {
    "Collapsed": "false"
   },
   "outputs": [
    {
     "name": "stdout",
     "output_type": "stream",
     "text": [
      "InteractiveShell\t createDataDummy\t dataDummy\t dfRec\t dfRec_\t df_\t np\t pd\t tc\t \n",
      "train_test_split\t \n"
     ]
    }
   ],
   "source": [
    "who"
   ]
  },
  {
   "cell_type": "code",
   "execution_count": 16,
   "metadata": {
    "Collapsed": "false"
   },
   "outputs": [],
   "source": [
    "# clear space for memory\n",
    "del(df_ora)\n",
    "del(dfFilter)"
   ]
  },
  {
   "cell_type": "code",
   "execution_count": 18,
   "metadata": {
    "Collapsed": "false"
   },
   "outputs": [
    {
     "data": {
      "text/plain": [
       "(26227, 8175)"
      ]
     },
     "execution_count": 18,
     "metadata": {},
     "output_type": "execute_result"
    },
    {
     "data": {
      "text/html": [
       "<div>\n",
       "<style scoped>\n",
       "    .dataframe tbody tr th:only-of-type {\n",
       "        vertical-align: middle;\n",
       "    }\n",
       "\n",
       "    .dataframe tbody tr th {\n",
       "        vertical-align: top;\n",
       "    }\n",
       "\n",
       "    .dataframe thead th {\n",
       "        text-align: right;\n",
       "    }\n",
       "</style>\n",
       "<table border=\"1\" class=\"dataframe\">\n",
       "  <thead>\n",
       "    <tr style=\"text-align: right;\">\n",
       "      <th>PRODUCT</th>\n",
       "      <th>0.553.1210|MultiFlex Coupling 457</th>\n",
       "      <th>00008|ARM ASSEMBLY-STANDARD ARM</th>\n",
       "      <th>00027|CRUCIBLE-CLAY SMALL #16, TWO</th>\n",
       "      <th>00028|CRUCIBLE-CLAY LARGE #18, ONE</th>\n",
       "      <th>001-005|U.T. GINGIVAL BLADE GREEN (ex PN:001-005)</th>\n",
       "      <th>001-010|REPLACEMENT ALUMINUM HANDLE</th>\n",
       "      <th>00123|HOUSING, BODY, PLATED</th>\n",
       "      <th>00126|SYRINGE-FREE FLO</th>\n",
       "      <th>00152|NOSE CONE,3MM XILLUM,LGT GUIDE</th>\n",
       "      <th>00296|HANDLE-MIRROR 5C</th>\n",
       "      <th>...</th>\n",
       "      <th>Z856-018|AXIS ZIR-CUT Diamond - FG</th>\n",
       "      <th>Z856-023HP|AXIS ZIR-CUT Diamond - HP</th>\n",
       "      <th>Z856-025|AXIS ZIR-CUT Diamond - FG</th>\n",
       "      <th>Z862-014|AXIS ZIR-CUT Diamond - FG</th>\n",
       "      <th>Z878K-021|AXIS ZIR-CUT Diamond - FG</th>\n",
       "      <th>ZZZ-9001|NOT DEFINED</th>\n",
       "      <th>ZZZ-9005|NOT DEFINED</th>\n",
       "      <th>ZZZ-9020|NOT DEFINED</th>\n",
       "      <th>ZZZ-9050|NOT DEFINED</th>\n",
       "      <th>zzz-PLU690PTRD|DEXIS Sensor Trade In</th>\n",
       "    </tr>\n",
       "    <tr>\n",
       "      <th>CRM_CUST_KEY</th>\n",
       "      <th></th>\n",
       "      <th></th>\n",
       "      <th></th>\n",
       "      <th></th>\n",
       "      <th></th>\n",
       "      <th></th>\n",
       "      <th></th>\n",
       "      <th></th>\n",
       "      <th></th>\n",
       "      <th></th>\n",
       "      <th></th>\n",
       "      <th></th>\n",
       "      <th></th>\n",
       "      <th></th>\n",
       "      <th></th>\n",
       "      <th></th>\n",
       "      <th></th>\n",
       "      <th></th>\n",
       "      <th></th>\n",
       "      <th></th>\n",
       "      <th></th>\n",
       "    </tr>\n",
       "  </thead>\n",
       "  <tbody>\n",
       "    <tr>\n",
       "      <td>Master-CM045451</td>\n",
       "      <td>NaN</td>\n",
       "      <td>NaN</td>\n",
       "      <td>NaN</td>\n",
       "      <td>NaN</td>\n",
       "      <td>NaN</td>\n",
       "      <td>NaN</td>\n",
       "      <td>NaN</td>\n",
       "      <td>NaN</td>\n",
       "      <td>NaN</td>\n",
       "      <td>NaN</td>\n",
       "      <td>...</td>\n",
       "      <td>NaN</td>\n",
       "      <td>NaN</td>\n",
       "      <td>NaN</td>\n",
       "      <td>NaN</td>\n",
       "      <td>NaN</td>\n",
       "      <td>NaN</td>\n",
       "      <td>NaN</td>\n",
       "      <td>NaN</td>\n",
       "      <td>NaN</td>\n",
       "      <td>NaN</td>\n",
       "    </tr>\n",
       "    <tr>\n",
       "      <td>Master-CM045452</td>\n",
       "      <td>NaN</td>\n",
       "      <td>NaN</td>\n",
       "      <td>NaN</td>\n",
       "      <td>NaN</td>\n",
       "      <td>NaN</td>\n",
       "      <td>NaN</td>\n",
       "      <td>NaN</td>\n",
       "      <td>NaN</td>\n",
       "      <td>NaN</td>\n",
       "      <td>NaN</td>\n",
       "      <td>...</td>\n",
       "      <td>NaN</td>\n",
       "      <td>NaN</td>\n",
       "      <td>NaN</td>\n",
       "      <td>NaN</td>\n",
       "      <td>NaN</td>\n",
       "      <td>NaN</td>\n",
       "      <td>NaN</td>\n",
       "      <td>NaN</td>\n",
       "      <td>NaN</td>\n",
       "      <td>NaN</td>\n",
       "    </tr>\n",
       "    <tr>\n",
       "      <td>Master-CM045453</td>\n",
       "      <td>NaN</td>\n",
       "      <td>NaN</td>\n",
       "      <td>NaN</td>\n",
       "      <td>NaN</td>\n",
       "      <td>NaN</td>\n",
       "      <td>NaN</td>\n",
       "      <td>NaN</td>\n",
       "      <td>NaN</td>\n",
       "      <td>NaN</td>\n",
       "      <td>NaN</td>\n",
       "      <td>...</td>\n",
       "      <td>NaN</td>\n",
       "      <td>NaN</td>\n",
       "      <td>NaN</td>\n",
       "      <td>NaN</td>\n",
       "      <td>NaN</td>\n",
       "      <td>NaN</td>\n",
       "      <td>NaN</td>\n",
       "      <td>NaN</td>\n",
       "      <td>NaN</td>\n",
       "      <td>NaN</td>\n",
       "    </tr>\n",
       "    <tr>\n",
       "      <td>Master-CM045456</td>\n",
       "      <td>NaN</td>\n",
       "      <td>NaN</td>\n",
       "      <td>NaN</td>\n",
       "      <td>NaN</td>\n",
       "      <td>NaN</td>\n",
       "      <td>NaN</td>\n",
       "      <td>NaN</td>\n",
       "      <td>NaN</td>\n",
       "      <td>NaN</td>\n",
       "      <td>NaN</td>\n",
       "      <td>...</td>\n",
       "      <td>NaN</td>\n",
       "      <td>NaN</td>\n",
       "      <td>NaN</td>\n",
       "      <td>NaN</td>\n",
       "      <td>NaN</td>\n",
       "      <td>NaN</td>\n",
       "      <td>NaN</td>\n",
       "      <td>NaN</td>\n",
       "      <td>NaN</td>\n",
       "      <td>NaN</td>\n",
       "    </tr>\n",
       "    <tr>\n",
       "      <td>Master-CM045458</td>\n",
       "      <td>NaN</td>\n",
       "      <td>NaN</td>\n",
       "      <td>NaN</td>\n",
       "      <td>NaN</td>\n",
       "      <td>NaN</td>\n",
       "      <td>NaN</td>\n",
       "      <td>NaN</td>\n",
       "      <td>NaN</td>\n",
       "      <td>NaN</td>\n",
       "      <td>NaN</td>\n",
       "      <td>...</td>\n",
       "      <td>NaN</td>\n",
       "      <td>NaN</td>\n",
       "      <td>NaN</td>\n",
       "      <td>NaN</td>\n",
       "      <td>NaN</td>\n",
       "      <td>NaN</td>\n",
       "      <td>NaN</td>\n",
       "      <td>NaN</td>\n",
       "      <td>NaN</td>\n",
       "      <td>NaN</td>\n",
       "    </tr>\n",
       "  </tbody>\n",
       "</table>\n",
       "<p>5 rows × 8175 columns</p>\n",
       "</div>"
      ],
      "text/plain": [
       "PRODUCT          0.553.1210|MultiFlex Coupling 457  \\\n",
       "CRM_CUST_KEY                                         \n",
       "Master-CM045451                                NaN   \n",
       "Master-CM045452                                NaN   \n",
       "Master-CM045453                                NaN   \n",
       "Master-CM045456                                NaN   \n",
       "Master-CM045458                                NaN   \n",
       "\n",
       "PRODUCT          00008|ARM ASSEMBLY-STANDARD ARM  \\\n",
       "CRM_CUST_KEY                                       \n",
       "Master-CM045451                              NaN   \n",
       "Master-CM045452                              NaN   \n",
       "Master-CM045453                              NaN   \n",
       "Master-CM045456                              NaN   \n",
       "Master-CM045458                              NaN   \n",
       "\n",
       "PRODUCT          00027|CRUCIBLE-CLAY SMALL #16, TWO  \\\n",
       "CRM_CUST_KEY                                          \n",
       "Master-CM045451                                 NaN   \n",
       "Master-CM045452                                 NaN   \n",
       "Master-CM045453                                 NaN   \n",
       "Master-CM045456                                 NaN   \n",
       "Master-CM045458                                 NaN   \n",
       "\n",
       "PRODUCT          00028|CRUCIBLE-CLAY LARGE #18, ONE  \\\n",
       "CRM_CUST_KEY                                          \n",
       "Master-CM045451                                 NaN   \n",
       "Master-CM045452                                 NaN   \n",
       "Master-CM045453                                 NaN   \n",
       "Master-CM045456                                 NaN   \n",
       "Master-CM045458                                 NaN   \n",
       "\n",
       "PRODUCT          001-005|U.T. GINGIVAL BLADE GREEN (ex PN:001-005)  \\\n",
       "CRM_CUST_KEY                                                         \n",
       "Master-CM045451                                                NaN   \n",
       "Master-CM045452                                                NaN   \n",
       "Master-CM045453                                                NaN   \n",
       "Master-CM045456                                                NaN   \n",
       "Master-CM045458                                                NaN   \n",
       "\n",
       "PRODUCT          001-010|REPLACEMENT ALUMINUM HANDLE  \\\n",
       "CRM_CUST_KEY                                           \n",
       "Master-CM045451                                  NaN   \n",
       "Master-CM045452                                  NaN   \n",
       "Master-CM045453                                  NaN   \n",
       "Master-CM045456                                  NaN   \n",
       "Master-CM045458                                  NaN   \n",
       "\n",
       "PRODUCT          00123|HOUSING, BODY, PLATED  00126|SYRINGE-FREE FLO  \\\n",
       "CRM_CUST_KEY                                                           \n",
       "Master-CM045451                          NaN                     NaN   \n",
       "Master-CM045452                          NaN                     NaN   \n",
       "Master-CM045453                          NaN                     NaN   \n",
       "Master-CM045456                          NaN                     NaN   \n",
       "Master-CM045458                          NaN                     NaN   \n",
       "\n",
       "PRODUCT          00152|NOSE CONE,3MM XILLUM,LGT GUIDE  00296|HANDLE-MIRROR 5C  \\\n",
       "CRM_CUST_KEY                                                                    \n",
       "Master-CM045451                                   NaN                     NaN   \n",
       "Master-CM045452                                   NaN                     NaN   \n",
       "Master-CM045453                                   NaN                     NaN   \n",
       "Master-CM045456                                   NaN                     NaN   \n",
       "Master-CM045458                                   NaN                     NaN   \n",
       "\n",
       "PRODUCT          ...  Z856-018|AXIS ZIR-CUT Diamond - FG  \\\n",
       "CRM_CUST_KEY     ...                                       \n",
       "Master-CM045451  ...                                 NaN   \n",
       "Master-CM045452  ...                                 NaN   \n",
       "Master-CM045453  ...                                 NaN   \n",
       "Master-CM045456  ...                                 NaN   \n",
       "Master-CM045458  ...                                 NaN   \n",
       "\n",
       "PRODUCT          Z856-023HP|AXIS ZIR-CUT Diamond - HP  \\\n",
       "CRM_CUST_KEY                                            \n",
       "Master-CM045451                                   NaN   \n",
       "Master-CM045452                                   NaN   \n",
       "Master-CM045453                                   NaN   \n",
       "Master-CM045456                                   NaN   \n",
       "Master-CM045458                                   NaN   \n",
       "\n",
       "PRODUCT          Z856-025|AXIS ZIR-CUT Diamond - FG  \\\n",
       "CRM_CUST_KEY                                          \n",
       "Master-CM045451                                 NaN   \n",
       "Master-CM045452                                 NaN   \n",
       "Master-CM045453                                 NaN   \n",
       "Master-CM045456                                 NaN   \n",
       "Master-CM045458                                 NaN   \n",
       "\n",
       "PRODUCT          Z862-014|AXIS ZIR-CUT Diamond - FG  \\\n",
       "CRM_CUST_KEY                                          \n",
       "Master-CM045451                                 NaN   \n",
       "Master-CM045452                                 NaN   \n",
       "Master-CM045453                                 NaN   \n",
       "Master-CM045456                                 NaN   \n",
       "Master-CM045458                                 NaN   \n",
       "\n",
       "PRODUCT          Z878K-021|AXIS ZIR-CUT Diamond - FG  ZZZ-9001|NOT DEFINED  \\\n",
       "CRM_CUST_KEY                                                                 \n",
       "Master-CM045451                                  NaN                   NaN   \n",
       "Master-CM045452                                  NaN                   NaN   \n",
       "Master-CM045453                                  NaN                   NaN   \n",
       "Master-CM045456                                  NaN                   NaN   \n",
       "Master-CM045458                                  NaN                   NaN   \n",
       "\n",
       "PRODUCT          ZZZ-9005|NOT DEFINED  ZZZ-9020|NOT DEFINED  \\\n",
       "CRM_CUST_KEY                                                  \n",
       "Master-CM045451                   NaN                   NaN   \n",
       "Master-CM045452                   NaN                   NaN   \n",
       "Master-CM045453                   NaN                   NaN   \n",
       "Master-CM045456                   NaN                   NaN   \n",
       "Master-CM045458                   NaN                   NaN   \n",
       "\n",
       "PRODUCT          ZZZ-9050|NOT DEFINED  zzz-PLU690PTRD|DEXIS Sensor Trade In  \n",
       "CRM_CUST_KEY                                                                 \n",
       "Master-CM045451                   NaN                                   NaN  \n",
       "Master-CM045452                   NaN                                   NaN  \n",
       "Master-CM045453                   NaN                                   NaN  \n",
       "Master-CM045456                   NaN                                   NaN  \n",
       "Master-CM045458                   NaN                                   NaN  \n",
       "\n",
       "[5 rows x 8175 columns]"
      ]
     },
     "execution_count": 18,
     "metadata": {},
     "output_type": "execute_result"
    }
   ],
   "source": [
    "#pivot the data \n",
    "#\n",
    "#\n",
    "#\n",
    "dfRecMatrix = pd.pivot_table(dfRec_, values = 'IVC_QTY', index = 'CRM_CUST_KEY', columns = 'PRODUCT')\n",
    "dfRecMatrix.shape\n",
    "dfRecMatrix.head()"
   ]
  },
  {
   "cell_type": "code",
   "execution_count": 19,
   "metadata": {
    "Collapsed": "false"
   },
   "outputs": [],
   "source": [
    "dfMatrixNorm = (dfRecMatrix - dfRecMatrix.min()) / (dfRecMatrix.max() - dfRecMatrix.min())\n",
    "#dfMatrixNorm.shape\n",
    "#dfMatrixNorm.head()"
   ]
  },
  {
   "cell_type": "code",
   "execution_count": 20,
   "metadata": {
    "Collapsed": "false"
   },
   "outputs": [],
   "source": [
    "# create table for input to model"
   ]
  },
  {
   "cell_type": "code",
   "execution_count": 21,
   "metadata": {
    "Collapsed": "false"
   },
   "outputs": [],
   "source": [
    "d = dfMatrixNorm.reset_index()"
   ]
  },
  {
   "cell_type": "code",
   "execution_count": 22,
   "metadata": {
    "Collapsed": "false"
   },
   "outputs": [],
   "source": [
    "d.index.names = ['scaledPurchaseFreq']"
   ]
  },
  {
   "cell_type": "code",
   "execution_count": 23,
   "metadata": {
    "Collapsed": "false"
   },
   "outputs": [
    {
     "data": {
      "text/plain": [
       "(26227, 8176)"
      ]
     },
     "execution_count": 23,
     "metadata": {},
     "output_type": "execute_result"
    },
    {
     "data": {
      "text/html": [
       "<div>\n",
       "<style scoped>\n",
       "    .dataframe tbody tr th:only-of-type {\n",
       "        vertical-align: middle;\n",
       "    }\n",
       "\n",
       "    .dataframe tbody tr th {\n",
       "        vertical-align: top;\n",
       "    }\n",
       "\n",
       "    .dataframe thead th {\n",
       "        text-align: right;\n",
       "    }\n",
       "</style>\n",
       "<table border=\"1\" class=\"dataframe\">\n",
       "  <thead>\n",
       "    <tr style=\"text-align: right;\">\n",
       "      <th>PRODUCT</th>\n",
       "      <th>CRM_CUST_KEY</th>\n",
       "      <th>0.553.1210|MultiFlex Coupling 457</th>\n",
       "      <th>00008|ARM ASSEMBLY-STANDARD ARM</th>\n",
       "      <th>00027|CRUCIBLE-CLAY SMALL #16, TWO</th>\n",
       "      <th>00028|CRUCIBLE-CLAY LARGE #18, ONE</th>\n",
       "      <th>001-005|U.T. GINGIVAL BLADE GREEN (ex PN:001-005)</th>\n",
       "      <th>001-010|REPLACEMENT ALUMINUM HANDLE</th>\n",
       "      <th>00123|HOUSING, BODY, PLATED</th>\n",
       "      <th>00126|SYRINGE-FREE FLO</th>\n",
       "      <th>00152|NOSE CONE,3MM XILLUM,LGT GUIDE</th>\n",
       "      <th>...</th>\n",
       "      <th>Z856-018|AXIS ZIR-CUT Diamond - FG</th>\n",
       "      <th>Z856-023HP|AXIS ZIR-CUT Diamond - HP</th>\n",
       "      <th>Z856-025|AXIS ZIR-CUT Diamond - FG</th>\n",
       "      <th>Z862-014|AXIS ZIR-CUT Diamond - FG</th>\n",
       "      <th>Z878K-021|AXIS ZIR-CUT Diamond - FG</th>\n",
       "      <th>ZZZ-9001|NOT DEFINED</th>\n",
       "      <th>ZZZ-9005|NOT DEFINED</th>\n",
       "      <th>ZZZ-9020|NOT DEFINED</th>\n",
       "      <th>ZZZ-9050|NOT DEFINED</th>\n",
       "      <th>zzz-PLU690PTRD|DEXIS Sensor Trade In</th>\n",
       "    </tr>\n",
       "    <tr>\n",
       "      <th>scaledPurchaseFreq</th>\n",
       "      <th></th>\n",
       "      <th></th>\n",
       "      <th></th>\n",
       "      <th></th>\n",
       "      <th></th>\n",
       "      <th></th>\n",
       "      <th></th>\n",
       "      <th></th>\n",
       "      <th></th>\n",
       "      <th></th>\n",
       "      <th></th>\n",
       "      <th></th>\n",
       "      <th></th>\n",
       "      <th></th>\n",
       "      <th></th>\n",
       "      <th></th>\n",
       "      <th></th>\n",
       "      <th></th>\n",
       "      <th></th>\n",
       "      <th></th>\n",
       "      <th></th>\n",
       "    </tr>\n",
       "  </thead>\n",
       "  <tbody>\n",
       "    <tr>\n",
       "      <td>0</td>\n",
       "      <td>Master-CM045451</td>\n",
       "      <td>NaN</td>\n",
       "      <td>NaN</td>\n",
       "      <td>NaN</td>\n",
       "      <td>NaN</td>\n",
       "      <td>NaN</td>\n",
       "      <td>NaN</td>\n",
       "      <td>NaN</td>\n",
       "      <td>NaN</td>\n",
       "      <td>NaN</td>\n",
       "      <td>...</td>\n",
       "      <td>NaN</td>\n",
       "      <td>NaN</td>\n",
       "      <td>NaN</td>\n",
       "      <td>NaN</td>\n",
       "      <td>NaN</td>\n",
       "      <td>NaN</td>\n",
       "      <td>NaN</td>\n",
       "      <td>NaN</td>\n",
       "      <td>NaN</td>\n",
       "      <td>NaN</td>\n",
       "    </tr>\n",
       "    <tr>\n",
       "      <td>1</td>\n",
       "      <td>Master-CM045452</td>\n",
       "      <td>NaN</td>\n",
       "      <td>NaN</td>\n",
       "      <td>NaN</td>\n",
       "      <td>NaN</td>\n",
       "      <td>NaN</td>\n",
       "      <td>NaN</td>\n",
       "      <td>NaN</td>\n",
       "      <td>NaN</td>\n",
       "      <td>NaN</td>\n",
       "      <td>...</td>\n",
       "      <td>NaN</td>\n",
       "      <td>NaN</td>\n",
       "      <td>NaN</td>\n",
       "      <td>NaN</td>\n",
       "      <td>NaN</td>\n",
       "      <td>NaN</td>\n",
       "      <td>NaN</td>\n",
       "      <td>NaN</td>\n",
       "      <td>NaN</td>\n",
       "      <td>NaN</td>\n",
       "    </tr>\n",
       "    <tr>\n",
       "      <td>2</td>\n",
       "      <td>Master-CM045453</td>\n",
       "      <td>NaN</td>\n",
       "      <td>NaN</td>\n",
       "      <td>NaN</td>\n",
       "      <td>NaN</td>\n",
       "      <td>NaN</td>\n",
       "      <td>NaN</td>\n",
       "      <td>NaN</td>\n",
       "      <td>NaN</td>\n",
       "      <td>NaN</td>\n",
       "      <td>...</td>\n",
       "      <td>NaN</td>\n",
       "      <td>NaN</td>\n",
       "      <td>NaN</td>\n",
       "      <td>NaN</td>\n",
       "      <td>NaN</td>\n",
       "      <td>NaN</td>\n",
       "      <td>NaN</td>\n",
       "      <td>NaN</td>\n",
       "      <td>NaN</td>\n",
       "      <td>NaN</td>\n",
       "    </tr>\n",
       "    <tr>\n",
       "      <td>3</td>\n",
       "      <td>Master-CM045456</td>\n",
       "      <td>NaN</td>\n",
       "      <td>NaN</td>\n",
       "      <td>NaN</td>\n",
       "      <td>NaN</td>\n",
       "      <td>NaN</td>\n",
       "      <td>NaN</td>\n",
       "      <td>NaN</td>\n",
       "      <td>NaN</td>\n",
       "      <td>NaN</td>\n",
       "      <td>...</td>\n",
       "      <td>NaN</td>\n",
       "      <td>NaN</td>\n",
       "      <td>NaN</td>\n",
       "      <td>NaN</td>\n",
       "      <td>NaN</td>\n",
       "      <td>NaN</td>\n",
       "      <td>NaN</td>\n",
       "      <td>NaN</td>\n",
       "      <td>NaN</td>\n",
       "      <td>NaN</td>\n",
       "    </tr>\n",
       "    <tr>\n",
       "      <td>4</td>\n",
       "      <td>Master-CM045458</td>\n",
       "      <td>NaN</td>\n",
       "      <td>NaN</td>\n",
       "      <td>NaN</td>\n",
       "      <td>NaN</td>\n",
       "      <td>NaN</td>\n",
       "      <td>NaN</td>\n",
       "      <td>NaN</td>\n",
       "      <td>NaN</td>\n",
       "      <td>NaN</td>\n",
       "      <td>...</td>\n",
       "      <td>NaN</td>\n",
       "      <td>NaN</td>\n",
       "      <td>NaN</td>\n",
       "      <td>NaN</td>\n",
       "      <td>NaN</td>\n",
       "      <td>NaN</td>\n",
       "      <td>NaN</td>\n",
       "      <td>NaN</td>\n",
       "      <td>NaN</td>\n",
       "      <td>NaN</td>\n",
       "    </tr>\n",
       "  </tbody>\n",
       "</table>\n",
       "<p>5 rows × 8176 columns</p>\n",
       "</div>"
      ],
      "text/plain": [
       "PRODUCT                CRM_CUST_KEY  0.553.1210|MultiFlex Coupling 457  \\\n",
       "scaledPurchaseFreq                                                       \n",
       "0                   Master-CM045451                                NaN   \n",
       "1                   Master-CM045452                                NaN   \n",
       "2                   Master-CM045453                                NaN   \n",
       "3                   Master-CM045456                                NaN   \n",
       "4                   Master-CM045458                                NaN   \n",
       "\n",
       "PRODUCT             00008|ARM ASSEMBLY-STANDARD ARM  \\\n",
       "scaledPurchaseFreq                                    \n",
       "0                                               NaN   \n",
       "1                                               NaN   \n",
       "2                                               NaN   \n",
       "3                                               NaN   \n",
       "4                                               NaN   \n",
       "\n",
       "PRODUCT             00027|CRUCIBLE-CLAY SMALL #16, TWO  \\\n",
       "scaledPurchaseFreq                                       \n",
       "0                                                  NaN   \n",
       "1                                                  NaN   \n",
       "2                                                  NaN   \n",
       "3                                                  NaN   \n",
       "4                                                  NaN   \n",
       "\n",
       "PRODUCT             00028|CRUCIBLE-CLAY LARGE #18, ONE  \\\n",
       "scaledPurchaseFreq                                       \n",
       "0                                                  NaN   \n",
       "1                                                  NaN   \n",
       "2                                                  NaN   \n",
       "3                                                  NaN   \n",
       "4                                                  NaN   \n",
       "\n",
       "PRODUCT             001-005|U.T. GINGIVAL BLADE GREEN (ex PN:001-005)  \\\n",
       "scaledPurchaseFreq                                                      \n",
       "0                                                                 NaN   \n",
       "1                                                                 NaN   \n",
       "2                                                                 NaN   \n",
       "3                                                                 NaN   \n",
       "4                                                                 NaN   \n",
       "\n",
       "PRODUCT             001-010|REPLACEMENT ALUMINUM HANDLE  \\\n",
       "scaledPurchaseFreq                                        \n",
       "0                                                   NaN   \n",
       "1                                                   NaN   \n",
       "2                                                   NaN   \n",
       "3                                                   NaN   \n",
       "4                                                   NaN   \n",
       "\n",
       "PRODUCT             00123|HOUSING, BODY, PLATED  00126|SYRINGE-FREE FLO  \\\n",
       "scaledPurchaseFreq                                                        \n",
       "0                                           NaN                     NaN   \n",
       "1                                           NaN                     NaN   \n",
       "2                                           NaN                     NaN   \n",
       "3                                           NaN                     NaN   \n",
       "4                                           NaN                     NaN   \n",
       "\n",
       "PRODUCT             00152|NOSE CONE,3MM XILLUM,LGT GUIDE  ...  \\\n",
       "scaledPurchaseFreq                                        ...   \n",
       "0                                                    NaN  ...   \n",
       "1                                                    NaN  ...   \n",
       "2                                                    NaN  ...   \n",
       "3                                                    NaN  ...   \n",
       "4                                                    NaN  ...   \n",
       "\n",
       "PRODUCT             Z856-018|AXIS ZIR-CUT Diamond - FG  \\\n",
       "scaledPurchaseFreq                                       \n",
       "0                                                  NaN   \n",
       "1                                                  NaN   \n",
       "2                                                  NaN   \n",
       "3                                                  NaN   \n",
       "4                                                  NaN   \n",
       "\n",
       "PRODUCT             Z856-023HP|AXIS ZIR-CUT Diamond - HP  \\\n",
       "scaledPurchaseFreq                                         \n",
       "0                                                    NaN   \n",
       "1                                                    NaN   \n",
       "2                                                    NaN   \n",
       "3                                                    NaN   \n",
       "4                                                    NaN   \n",
       "\n",
       "PRODUCT             Z856-025|AXIS ZIR-CUT Diamond - FG  \\\n",
       "scaledPurchaseFreq                                       \n",
       "0                                                  NaN   \n",
       "1                                                  NaN   \n",
       "2                                                  NaN   \n",
       "3                                                  NaN   \n",
       "4                                                  NaN   \n",
       "\n",
       "PRODUCT             Z862-014|AXIS ZIR-CUT Diamond - FG  \\\n",
       "scaledPurchaseFreq                                       \n",
       "0                                                  NaN   \n",
       "1                                                  NaN   \n",
       "2                                                  NaN   \n",
       "3                                                  NaN   \n",
       "4                                                  NaN   \n",
       "\n",
       "PRODUCT             Z878K-021|AXIS ZIR-CUT Diamond - FG  ZZZ-9001|NOT DEFINED  \\\n",
       "scaledPurchaseFreq                                                              \n",
       "0                                                   NaN                   NaN   \n",
       "1                                                   NaN                   NaN   \n",
       "2                                                   NaN                   NaN   \n",
       "3                                                   NaN                   NaN   \n",
       "4                                                   NaN                   NaN   \n",
       "\n",
       "PRODUCT             ZZZ-9005|NOT DEFINED  ZZZ-9020|NOT DEFINED  \\\n",
       "scaledPurchaseFreq                                               \n",
       "0                                    NaN                   NaN   \n",
       "1                                    NaN                   NaN   \n",
       "2                                    NaN                   NaN   \n",
       "3                                    NaN                   NaN   \n",
       "4                                    NaN                   NaN   \n",
       "\n",
       "PRODUCT             ZZZ-9050|NOT DEFINED  zzz-PLU690PTRD|DEXIS Sensor Trade In  \n",
       "scaledPurchaseFreq                                                              \n",
       "0                                    NaN                                   NaN  \n",
       "1                                    NaN                                   NaN  \n",
       "2                                    NaN                                   NaN  \n",
       "3                                    NaN                                   NaN  \n",
       "4                                    NaN                                   NaN  \n",
       "\n",
       "[5 rows x 8176 columns]"
      ]
     },
     "execution_count": 23,
     "metadata": {},
     "output_type": "execute_result"
    }
   ],
   "source": [
    "d.shape\n",
    "d.head()"
   ]
  },
  {
   "cell_type": "code",
   "execution_count": 27,
   "metadata": {
    "Collapsed": "false"
   },
   "outputs": [],
   "source": [
    "#del(df_)\n",
    "del(dfRec)"
   ]
  },
  {
   "cell_type": "code",
   "execution_count": 29,
   "metadata": {
    "Collapsed": "false"
   },
   "outputs": [
    {
     "name": "stdout",
     "output_type": "stream",
     "text": [
      "InteractiveShell\t createDataDummy\t d\t dataDummy\t dfMatrixNorm\t dfRecMatrix\t dfRec_\t np\t pd\t \n",
      "tc\t train_test_split\t \n"
     ]
    }
   ],
   "source": [
    "who"
   ]
  },
  {
   "cell_type": "code",
   "execution_count": 30,
   "metadata": {
    "Collapsed": "false"
   },
   "outputs": [
    {
     "data": {
      "text/plain": [
       "(248478, 3)"
      ]
     },
     "execution_count": 30,
     "metadata": {},
     "output_type": "execute_result"
    },
    {
     "data": {
      "text/html": [
       "<div>\n",
       "<style scoped>\n",
       "    .dataframe tbody tr th:only-of-type {\n",
       "        vertical-align: middle;\n",
       "    }\n",
       "\n",
       "    .dataframe tbody tr th {\n",
       "        vertical-align: top;\n",
       "    }\n",
       "\n",
       "    .dataframe thead th {\n",
       "        text-align: right;\n",
       "    }\n",
       "</style>\n",
       "<table border=\"1\" class=\"dataframe\">\n",
       "  <thead>\n",
       "    <tr style=\"text-align: right;\">\n",
       "      <th></th>\n",
       "      <th>CRM_CUST_KEY</th>\n",
       "      <th>PRODUCT</th>\n",
       "      <th>scaledPurchaseFreq</th>\n",
       "    </tr>\n",
       "  </thead>\n",
       "  <tbody>\n",
       "    <tr>\n",
       "      <td>91721</td>\n",
       "      <td>Master-CM069375</td>\n",
       "      <td>00028|CRUCIBLE-CLAY LARGE #18, ONE</td>\n",
       "      <td>0.5</td>\n",
       "    </tr>\n",
       "    <tr>\n",
       "      <td>92221</td>\n",
       "      <td>Master-CM070352</td>\n",
       "      <td>00028|CRUCIBLE-CLAY LARGE #18, ONE</td>\n",
       "      <td>0.0</td>\n",
       "    </tr>\n",
       "    <tr>\n",
       "      <td>99319</td>\n",
       "      <td>Master-CM084598</td>\n",
       "      <td>00028|CRUCIBLE-CLAY LARGE #18, ONE</td>\n",
       "      <td>1.0</td>\n",
       "    </tr>\n",
       "    <tr>\n",
       "      <td>105492</td>\n",
       "      <td>Master-CM046442</td>\n",
       "      <td>001-005|U.T. GINGIVAL BLADE GREEN (ex PN:001-005)</td>\n",
       "      <td>1.0</td>\n",
       "    </tr>\n",
       "    <tr>\n",
       "      <td>108056</td>\n",
       "      <td>Master-CM051009</td>\n",
       "      <td>001-005|U.T. GINGIVAL BLADE GREEN (ex PN:001-005)</td>\n",
       "      <td>0.0</td>\n",
       "    </tr>\n",
       "  </tbody>\n",
       "</table>\n",
       "</div>"
      ],
      "text/plain": [
       "           CRM_CUST_KEY                                            PRODUCT  \\\n",
       "91721   Master-CM069375                 00028|CRUCIBLE-CLAY LARGE #18, ONE   \n",
       "92221   Master-CM070352                 00028|CRUCIBLE-CLAY LARGE #18, ONE   \n",
       "99319   Master-CM084598                 00028|CRUCIBLE-CLAY LARGE #18, ONE   \n",
       "105492  Master-CM046442  001-005|U.T. GINGIVAL BLADE GREEN (ex PN:001-005)   \n",
       "108056  Master-CM051009  001-005|U.T. GINGIVAL BLADE GREEN (ex PN:001-005)   \n",
       "\n",
       "        scaledPurchaseFreq  \n",
       "91721                  0.5  \n",
       "92221                  0.0  \n",
       "99319                  1.0  \n",
       "105492                 1.0  \n",
       "108056                 0.0  "
      ]
     },
     "execution_count": 30,
     "metadata": {},
     "output_type": "execute_result"
    }
   ],
   "source": [
    "dfNorm = pd.melt(d, id_vars = ['CRM_CUST_KEY'], value_name = 'scaledPurchaseFreq').dropna()\n",
    "dfNorm.shape\n",
    "dfNorm.head()"
   ]
  },
  {
   "cell_type": "code",
   "execution_count": 31,
   "metadata": {
    "Collapsed": "false"
   },
   "outputs": [],
   "source": [
    "# Define a function for normalizing data\n",
    "\n",
    "def normalizeData(dfRec_):\n",
    "    dfRecMatrix = pd.pivot_table(dfRec_, values = 'IVC_QTY', index = 'CRM_CUST_KEY', columns = 'PRODUCT')    \n",
    "    dfMatrixNorm = (dfRecMatrix - dfRecMatrix.min()) / (dfRecMatrix.max() - dfRecMatrix.min())\n",
    "    d = dfMatrixNorm.reset_index()\n",
    "    d.index.names = ['scaledPurchaseFreq']\n",
    "    return pd.melt(d,id_vars = ['CRM_CUST_KEY'],value_name = 'scaledPurchaseFreq').dropna()\n"
   ]
  },
  {
   "cell_type": "markdown",
   "metadata": {
    "Collapsed": "false"
   },
   "source": [
    "# 5. Split train and test set"
   ]
  },
  {
   "cell_type": "code",
   "execution_count": 32,
   "metadata": {
    "Collapsed": "false"
   },
   "outputs": [
    {
     "data": {
      "text/html": [
       "<div>\n",
       "<style scoped>\n",
       "    .dataframe tbody tr th:only-of-type {\n",
       "        vertical-align: middle;\n",
       "    }\n",
       "\n",
       "    .dataframe tbody tr th {\n",
       "        vertical-align: top;\n",
       "    }\n",
       "\n",
       "    .dataframe thead th {\n",
       "        text-align: right;\n",
       "    }\n",
       "</style>\n",
       "<table border=\"1\" class=\"dataframe\">\n",
       "  <thead>\n",
       "    <tr style=\"text-align: right;\">\n",
       "      <th>PRODUCT</th>\n",
       "      <th>CRM_CUST_KEY</th>\n",
       "      <th>0.553.1210|MultiFlex Coupling 457</th>\n",
       "      <th>00008|ARM ASSEMBLY-STANDARD ARM</th>\n",
       "      <th>00027|CRUCIBLE-CLAY SMALL #16, TWO</th>\n",
       "      <th>00028|CRUCIBLE-CLAY LARGE #18, ONE</th>\n",
       "      <th>001-005|U.T. GINGIVAL BLADE GREEN (ex PN:001-005)</th>\n",
       "      <th>001-010|REPLACEMENT ALUMINUM HANDLE</th>\n",
       "      <th>00123|HOUSING, BODY, PLATED</th>\n",
       "      <th>00126|SYRINGE-FREE FLO</th>\n",
       "      <th>00152|NOSE CONE,3MM XILLUM,LGT GUIDE</th>\n",
       "      <th>...</th>\n",
       "      <th>Z856-018|AXIS ZIR-CUT Diamond - FG</th>\n",
       "      <th>Z856-023HP|AXIS ZIR-CUT Diamond - HP</th>\n",
       "      <th>Z856-025|AXIS ZIR-CUT Diamond - FG</th>\n",
       "      <th>Z862-014|AXIS ZIR-CUT Diamond - FG</th>\n",
       "      <th>Z878K-021|AXIS ZIR-CUT Diamond - FG</th>\n",
       "      <th>ZZZ-9001|NOT DEFINED</th>\n",
       "      <th>ZZZ-9005|NOT DEFINED</th>\n",
       "      <th>ZZZ-9020|NOT DEFINED</th>\n",
       "      <th>ZZZ-9050|NOT DEFINED</th>\n",
       "      <th>zzz-PLU690PTRD|DEXIS Sensor Trade In</th>\n",
       "    </tr>\n",
       "    <tr>\n",
       "      <th>scaledPurchaseFreq</th>\n",
       "      <th></th>\n",
       "      <th></th>\n",
       "      <th></th>\n",
       "      <th></th>\n",
       "      <th></th>\n",
       "      <th></th>\n",
       "      <th></th>\n",
       "      <th></th>\n",
       "      <th></th>\n",
       "      <th></th>\n",
       "      <th></th>\n",
       "      <th></th>\n",
       "      <th></th>\n",
       "      <th></th>\n",
       "      <th></th>\n",
       "      <th></th>\n",
       "      <th></th>\n",
       "      <th></th>\n",
       "      <th></th>\n",
       "      <th></th>\n",
       "      <th></th>\n",
       "    </tr>\n",
       "  </thead>\n",
       "  <tbody>\n",
       "    <tr>\n",
       "      <td>0</td>\n",
       "      <td>Master-CM045451</td>\n",
       "      <td>NaN</td>\n",
       "      <td>NaN</td>\n",
       "      <td>NaN</td>\n",
       "      <td>NaN</td>\n",
       "      <td>NaN</td>\n",
       "      <td>NaN</td>\n",
       "      <td>NaN</td>\n",
       "      <td>NaN</td>\n",
       "      <td>NaN</td>\n",
       "      <td>...</td>\n",
       "      <td>NaN</td>\n",
       "      <td>NaN</td>\n",
       "      <td>NaN</td>\n",
       "      <td>NaN</td>\n",
       "      <td>NaN</td>\n",
       "      <td>NaN</td>\n",
       "      <td>NaN</td>\n",
       "      <td>NaN</td>\n",
       "      <td>NaN</td>\n",
       "      <td>NaN</td>\n",
       "    </tr>\n",
       "    <tr>\n",
       "      <td>1</td>\n",
       "      <td>Master-CM045452</td>\n",
       "      <td>NaN</td>\n",
       "      <td>NaN</td>\n",
       "      <td>NaN</td>\n",
       "      <td>NaN</td>\n",
       "      <td>NaN</td>\n",
       "      <td>NaN</td>\n",
       "      <td>NaN</td>\n",
       "      <td>NaN</td>\n",
       "      <td>NaN</td>\n",
       "      <td>...</td>\n",
       "      <td>NaN</td>\n",
       "      <td>NaN</td>\n",
       "      <td>NaN</td>\n",
       "      <td>NaN</td>\n",
       "      <td>NaN</td>\n",
       "      <td>NaN</td>\n",
       "      <td>NaN</td>\n",
       "      <td>NaN</td>\n",
       "      <td>NaN</td>\n",
       "      <td>NaN</td>\n",
       "    </tr>\n",
       "    <tr>\n",
       "      <td>2</td>\n",
       "      <td>Master-CM045453</td>\n",
       "      <td>NaN</td>\n",
       "      <td>NaN</td>\n",
       "      <td>NaN</td>\n",
       "      <td>NaN</td>\n",
       "      <td>NaN</td>\n",
       "      <td>NaN</td>\n",
       "      <td>NaN</td>\n",
       "      <td>NaN</td>\n",
       "      <td>NaN</td>\n",
       "      <td>...</td>\n",
       "      <td>NaN</td>\n",
       "      <td>NaN</td>\n",
       "      <td>NaN</td>\n",
       "      <td>NaN</td>\n",
       "      <td>NaN</td>\n",
       "      <td>NaN</td>\n",
       "      <td>NaN</td>\n",
       "      <td>NaN</td>\n",
       "      <td>NaN</td>\n",
       "      <td>NaN</td>\n",
       "    </tr>\n",
       "    <tr>\n",
       "      <td>3</td>\n",
       "      <td>Master-CM045456</td>\n",
       "      <td>NaN</td>\n",
       "      <td>NaN</td>\n",
       "      <td>NaN</td>\n",
       "      <td>NaN</td>\n",
       "      <td>NaN</td>\n",
       "      <td>NaN</td>\n",
       "      <td>NaN</td>\n",
       "      <td>NaN</td>\n",
       "      <td>NaN</td>\n",
       "      <td>...</td>\n",
       "      <td>NaN</td>\n",
       "      <td>NaN</td>\n",
       "      <td>NaN</td>\n",
       "      <td>NaN</td>\n",
       "      <td>NaN</td>\n",
       "      <td>NaN</td>\n",
       "      <td>NaN</td>\n",
       "      <td>NaN</td>\n",
       "      <td>NaN</td>\n",
       "      <td>NaN</td>\n",
       "    </tr>\n",
       "    <tr>\n",
       "      <td>4</td>\n",
       "      <td>Master-CM045458</td>\n",
       "      <td>NaN</td>\n",
       "      <td>NaN</td>\n",
       "      <td>NaN</td>\n",
       "      <td>NaN</td>\n",
       "      <td>NaN</td>\n",
       "      <td>NaN</td>\n",
       "      <td>NaN</td>\n",
       "      <td>NaN</td>\n",
       "      <td>NaN</td>\n",
       "      <td>...</td>\n",
       "      <td>NaN</td>\n",
       "      <td>NaN</td>\n",
       "      <td>NaN</td>\n",
       "      <td>NaN</td>\n",
       "      <td>NaN</td>\n",
       "      <td>NaN</td>\n",
       "      <td>NaN</td>\n",
       "      <td>NaN</td>\n",
       "      <td>NaN</td>\n",
       "      <td>NaN</td>\n",
       "    </tr>\n",
       "  </tbody>\n",
       "</table>\n",
       "<p>5 rows × 8176 columns</p>\n",
       "</div>"
      ],
      "text/plain": [
       "PRODUCT                CRM_CUST_KEY  0.553.1210|MultiFlex Coupling 457  \\\n",
       "scaledPurchaseFreq                                                       \n",
       "0                   Master-CM045451                                NaN   \n",
       "1                   Master-CM045452                                NaN   \n",
       "2                   Master-CM045453                                NaN   \n",
       "3                   Master-CM045456                                NaN   \n",
       "4                   Master-CM045458                                NaN   \n",
       "\n",
       "PRODUCT             00008|ARM ASSEMBLY-STANDARD ARM  \\\n",
       "scaledPurchaseFreq                                    \n",
       "0                                               NaN   \n",
       "1                                               NaN   \n",
       "2                                               NaN   \n",
       "3                                               NaN   \n",
       "4                                               NaN   \n",
       "\n",
       "PRODUCT             00027|CRUCIBLE-CLAY SMALL #16, TWO  \\\n",
       "scaledPurchaseFreq                                       \n",
       "0                                                  NaN   \n",
       "1                                                  NaN   \n",
       "2                                                  NaN   \n",
       "3                                                  NaN   \n",
       "4                                                  NaN   \n",
       "\n",
       "PRODUCT             00028|CRUCIBLE-CLAY LARGE #18, ONE  \\\n",
       "scaledPurchaseFreq                                       \n",
       "0                                                  NaN   \n",
       "1                                                  NaN   \n",
       "2                                                  NaN   \n",
       "3                                                  NaN   \n",
       "4                                                  NaN   \n",
       "\n",
       "PRODUCT             001-005|U.T. GINGIVAL BLADE GREEN (ex PN:001-005)  \\\n",
       "scaledPurchaseFreq                                                      \n",
       "0                                                                 NaN   \n",
       "1                                                                 NaN   \n",
       "2                                                                 NaN   \n",
       "3                                                                 NaN   \n",
       "4                                                                 NaN   \n",
       "\n",
       "PRODUCT             001-010|REPLACEMENT ALUMINUM HANDLE  \\\n",
       "scaledPurchaseFreq                                        \n",
       "0                                                   NaN   \n",
       "1                                                   NaN   \n",
       "2                                                   NaN   \n",
       "3                                                   NaN   \n",
       "4                                                   NaN   \n",
       "\n",
       "PRODUCT             00123|HOUSING, BODY, PLATED  00126|SYRINGE-FREE FLO  \\\n",
       "scaledPurchaseFreq                                                        \n",
       "0                                           NaN                     NaN   \n",
       "1                                           NaN                     NaN   \n",
       "2                                           NaN                     NaN   \n",
       "3                                           NaN                     NaN   \n",
       "4                                           NaN                     NaN   \n",
       "\n",
       "PRODUCT             00152|NOSE CONE,3MM XILLUM,LGT GUIDE  ...  \\\n",
       "scaledPurchaseFreq                                        ...   \n",
       "0                                                    NaN  ...   \n",
       "1                                                    NaN  ...   \n",
       "2                                                    NaN  ...   \n",
       "3                                                    NaN  ...   \n",
       "4                                                    NaN  ...   \n",
       "\n",
       "PRODUCT             Z856-018|AXIS ZIR-CUT Diamond - FG  \\\n",
       "scaledPurchaseFreq                                       \n",
       "0                                                  NaN   \n",
       "1                                                  NaN   \n",
       "2                                                  NaN   \n",
       "3                                                  NaN   \n",
       "4                                                  NaN   \n",
       "\n",
       "PRODUCT             Z856-023HP|AXIS ZIR-CUT Diamond - HP  \\\n",
       "scaledPurchaseFreq                                         \n",
       "0                                                    NaN   \n",
       "1                                                    NaN   \n",
       "2                                                    NaN   \n",
       "3                                                    NaN   \n",
       "4                                                    NaN   \n",
       "\n",
       "PRODUCT             Z856-025|AXIS ZIR-CUT Diamond - FG  \\\n",
       "scaledPurchaseFreq                                       \n",
       "0                                                  NaN   \n",
       "1                                                  NaN   \n",
       "2                                                  NaN   \n",
       "3                                                  NaN   \n",
       "4                                                  NaN   \n",
       "\n",
       "PRODUCT             Z862-014|AXIS ZIR-CUT Diamond - FG  \\\n",
       "scaledPurchaseFreq                                       \n",
       "0                                                  NaN   \n",
       "1                                                  NaN   \n",
       "2                                                  NaN   \n",
       "3                                                  NaN   \n",
       "4                                                  NaN   \n",
       "\n",
       "PRODUCT             Z878K-021|AXIS ZIR-CUT Diamond - FG  ZZZ-9001|NOT DEFINED  \\\n",
       "scaledPurchaseFreq                                                              \n",
       "0                                                   NaN                   NaN   \n",
       "1                                                   NaN                   NaN   \n",
       "2                                                   NaN                   NaN   \n",
       "3                                                   NaN                   NaN   \n",
       "4                                                   NaN                   NaN   \n",
       "\n",
       "PRODUCT             ZZZ-9005|NOT DEFINED  ZZZ-9020|NOT DEFINED  \\\n",
       "scaledPurchaseFreq                                               \n",
       "0                                    NaN                   NaN   \n",
       "1                                    NaN                   NaN   \n",
       "2                                    NaN                   NaN   \n",
       "3                                    NaN                   NaN   \n",
       "4                                    NaN                   NaN   \n",
       "\n",
       "PRODUCT             ZZZ-9050|NOT DEFINED  zzz-PLU690PTRD|DEXIS Sensor Trade In  \n",
       "scaledPurchaseFreq                                                              \n",
       "0                                    NaN                                   NaN  \n",
       "1                                    NaN                                   NaN  \n",
       "2                                    NaN                                   NaN  \n",
       "3                                    NaN                                   NaN  \n",
       "4                                    NaN                                   NaN  \n",
       "\n",
       "[5 rows x 8176 columns]"
      ]
     },
     "execution_count": 32,
     "metadata": {},
     "output_type": "execute_result"
    }
   ],
   "source": [
    "d.head()"
   ]
  },
  {
   "cell_type": "code",
   "execution_count": 33,
   "metadata": {
    "Collapsed": "false"
   },
   "outputs": [
    {
     "data": {
      "text/plain": [
       "(400000, 3)"
      ]
     },
     "execution_count": 33,
     "metadata": {},
     "output_type": "execute_result"
    },
    {
     "data": {
      "text/plain": [
       "(100000, 3)"
      ]
     },
     "execution_count": 33,
     "metadata": {},
     "output_type": "execute_result"
    }
   ],
   "source": [
    "train, test = train_test_split(dfRec_, test_size = .2)\n",
    "train.shape\n",
    "test.shape"
   ]
  },
  {
   "cell_type": "code",
   "execution_count": 34,
   "metadata": {
    "Collapsed": "false"
   },
   "outputs": [],
   "source": [
    "trainData = tc.SFrame(train)\n",
    "testData = tc.SFrame(test)"
   ]
  },
  {
   "cell_type": "code",
   "execution_count": 35,
   "metadata": {
    "Collapsed": "false"
   },
   "outputs": [
    {
     "data": {
      "text/plain": [
       "turicreate.data_structures.sframe.SFrame"
      ]
     },
     "execution_count": 35,
     "metadata": {},
     "output_type": "execute_result"
    }
   ],
   "source": [
    "type(trainData)"
   ]
  },
  {
   "cell_type": "code",
   "execution_count": 36,
   "metadata": {
    "Collapsed": "false"
   },
   "outputs": [
    {
     "data": {
      "text/html": [
       "<div style=\"max-height:1000px;max-width:1500px;overflow:auto;\"><table frame=\"box\" rules=\"cols\">\n",
       "    <tr>\n",
       "        <th style=\"padding-left: 1em; padding-right: 1em; text-align: center\">CRM_CUST_KEY</th>\n",
       "        <th style=\"padding-left: 1em; padding-right: 1em; text-align: center\">PRODUCT</th>\n",
       "        <th style=\"padding-left: 1em; padding-right: 1em; text-align: center\">IVC_QTY</th>\n",
       "    </tr>\n",
       "    <tr>\n",
       "        <td style=\"padding-left: 1em; padding-right: 1em; text-align: center; vertical-align: top\">Master-CM069268</td>\n",
       "        <td style=\"padding-left: 1em; padding-right: 1em; text-align: center; vertical-align: top\">821-4125|K-FLEX FILES<br>25MM SERIES 2 SST ASST ...</td>\n",
       "        <td style=\"padding-left: 1em; padding-right: 1em; text-align: center; vertical-align: top\">2.0</td>\n",
       "    </tr>\n",
       "    <tr>\n",
       "        <td style=\"padding-left: 1em; padding-right: 1em; text-align: center; vertical-align: top\">Master-CM072168</td>\n",
       "        <td style=\"padding-left: 1em; padding-right: 1em; text-align: center; vertical-align: top\">33361|REFILL - TEMPBOND<br>MIXING TIPS, 50PK ...</td>\n",
       "        <td style=\"padding-left: 1em; padding-right: 1em; text-align: center; vertical-align: top\">1.0</td>\n",
       "    </tr>\n",
       "    <tr>\n",
       "        <td style=\"padding-left: 1em; padding-right: 1em; text-align: center; vertical-align: top\">Master-CM060418</td>\n",
       "        <td style=\"padding-left: 1em; padding-right: 1em; text-align: center; vertical-align: top\">34696|Take 1 Adv Tray FS</td>\n",
       "        <td style=\"padding-left: 1em; padding-right: 1em; text-align: center; vertical-align: top\">1.0</td>\n",
       "    </tr>\n",
       "    <tr>\n",
       "        <td style=\"padding-left: 1em; padding-right: 1em; text-align: center; vertical-align: top\">Master-CM064252</td>\n",
       "        <td style=\"padding-left: 1em; padding-right: 1em; text-align: center; vertical-align: top\">N69CB|REFILL - TEMPSPAN<br>TRANSPARENT ...</td>\n",
       "        <td style=\"padding-left: 1em; padding-right: 1em; text-align: center; vertical-align: top\">3.0</td>\n",
       "    </tr>\n",
       "    <tr>\n",
       "        <td style=\"padding-left: 1em; padding-right: 1em; text-align: center; vertical-align: top\">Master-CM080235</td>\n",
       "        <td style=\"padding-left: 1em; padding-right: 1em; text-align: center; vertical-align: top\">830-0257|K3 ENG FILE<br>.25/.10 17MM ...</td>\n",
       "        <td style=\"padding-left: 1em; padding-right: 1em; text-align: center; vertical-align: top\">2.0</td>\n",
       "    </tr>\n",
       "    <tr>\n",
       "        <td style=\"padding-left: 1em; padding-right: 1em; text-align: center; vertical-align: top\">Master-CM061808</td>\n",
       "        <td style=\"padding-left: 1em; padding-right: 1em; text-align: center; vertical-align: top\">00370|TEMP BOND STANDARD<br>PACKAGE ...</td>\n",
       "        <td style=\"padding-left: 1em; padding-right: 1em; text-align: center; vertical-align: top\">3.0</td>\n",
       "    </tr>\n",
       "    <tr>\n",
       "        <td style=\"padding-left: 1em; padding-right: 1em; text-align: center; vertical-align: top\">Master-CM095676</td>\n",
       "        <td style=\"padding-left: 1em; padding-right: 1em; text-align: center; vertical-align: top\">13150|HEMODETTES BOX OF<br>25 UNIT DOSE CUPS ...</td>\n",
       "        <td style=\"padding-left: 1em; padding-right: 1em; text-align: center; vertical-align: top\">1.0</td>\n",
       "    </tr>\n",
       "    <tr>\n",
       "        <td style=\"padding-left: 1em; padding-right: 1em; text-align: center; vertical-align: top\">Master-CM074550</td>\n",
       "        <td style=\"padding-left: 1em; padding-right: 1em; text-align: center; vertical-align: top\">31377|TEMPBOND 50 PACK<br>UNIDOSE ...</td>\n",
       "        <td style=\"padding-left: 1em; padding-right: 1em; text-align: center; vertical-align: top\">1.0</td>\n",
       "    </tr>\n",
       "    <tr>\n",
       "        <td style=\"padding-left: 1em; padding-right: 1em; text-align: center; vertical-align: top\">Master-CM055877</td>\n",
       "        <td style=\"padding-left: 1em; padding-right: 1em; text-align: center; vertical-align: top\">FS2-SF|NTI Diamond Strip<br>2.5mm - SF ...</td>\n",
       "        <td style=\"padding-left: 1em; padding-right: 1em; text-align: center; vertical-align: top\">2.0</td>\n",
       "    </tr>\n",
       "    <tr>\n",
       "        <td style=\"padding-left: 1em; padding-right: 1em; text-align: center; vertical-align: top\">Master-CM047528</td>\n",
       "        <td style=\"padding-left: 1em; padding-right: 1em; text-align: center; vertical-align: top\">29888|REFILL - SYRINGE<br>POINT 4 - C4 ...</td>\n",
       "        <td style=\"padding-left: 1em; padding-right: 1em; text-align: center; vertical-align: top\">1.0</td>\n",
       "    </tr>\n",
       "</table>\n",
       "[400000 rows x 3 columns]<br/>Note: Only the head of the SFrame is printed.<br/>You can use print_rows(num_rows=m, num_columns=n) to print more rows and columns.\n",
       "</div>"
      ],
      "text/plain": [
       "Columns:\n",
       "\tCRM_CUST_KEY\tstr\n",
       "\tPRODUCT\tstr\n",
       "\tIVC_QTY\tfloat\n",
       "\n",
       "Rows: 400000\n",
       "\n",
       "Data:\n",
       "+-----------------+--------------------------------+---------+\n",
       "|   CRM_CUST_KEY  |            PRODUCT             | IVC_QTY |\n",
       "+-----------------+--------------------------------+---------+\n",
       "| Master-CM069268 | 821-4125|K-FLEX FILES 25MM...  |   2.0   |\n",
       "| Master-CM072168 | 33361|REFILL - TEMPBOND MI...  |   1.0   |\n",
       "| Master-CM060418 |    34696|Take 1 Adv Tray FS    |   1.0   |\n",
       "| Master-CM064252 | N69CB|REFILL - TEMPSPAN TR...  |   3.0   |\n",
       "| Master-CM080235 | 830-0257|K3 ENG FILE .25/....  |   2.0   |\n",
       "| Master-CM061808 | 00370|TEMP BOND STANDARD P...  |   3.0   |\n",
       "| Master-CM095676 | 13150|HEMODETTES BOX OF 25...  |   1.0   |\n",
       "| Master-CM074550 | 31377|TEMPBOND 50 PACK UNIDOSE |   1.0   |\n",
       "| Master-CM055877 | FS2-SF|NTI Diamond Strip 2...  |   2.0   |\n",
       "| Master-CM047528 | 29888|REFILL - SYRINGE POI...  |   1.0   |\n",
       "+-----------------+--------------------------------+---------+\n",
       "[400000 rows x 3 columns]\n",
       "Note: Only the head of the SFrame is printed.\n",
       "You can use print_rows(num_rows=m, num_columns=n) to print more rows and columns."
      ]
     },
     "execution_count": 36,
     "metadata": {},
     "output_type": "execute_result"
    }
   ],
   "source": [
    "trainData"
   ]
  },
  {
   "cell_type": "code",
   "execution_count": 37,
   "metadata": {
    "Collapsed": "false"
   },
   "outputs": [
    {
     "data": {
      "text/html": [
       "<div style=\"max-height:1000px;max-width:1500px;overflow:auto;\"><table frame=\"box\" rules=\"cols\">\n",
       "    <tr>\n",
       "        <th style=\"padding-left: 1em; padding-right: 1em; text-align: center\">CRM_CUST_KEY</th>\n",
       "        <th style=\"padding-left: 1em; padding-right: 1em; text-align: center\">PRODUCT</th>\n",
       "        <th style=\"padding-left: 1em; padding-right: 1em; text-align: center\">IVC_QTY</th>\n",
       "    </tr>\n",
       "    <tr>\n",
       "        <td style=\"padding-left: 1em; padding-right: 1em; text-align: center; vertical-align: top\">Master-CM095925</td>\n",
       "        <td style=\"padding-left: 1em; padding-right: 1em; text-align: center; vertical-align: top\">C379-023|NTI Diamond<br>Coarse FG ...</td>\n",
       "        <td style=\"padding-left: 1em; padding-right: 1em; text-align: center; vertical-align: top\">4.0</td>\n",
       "    </tr>\n",
       "    <tr>\n",
       "        <td style=\"padding-left: 1em; padding-right: 1em; text-align: center; vertical-align: top\">Master-CM049910</td>\n",
       "        <td style=\"padding-left: 1em; padding-right: 1em; text-align: center; vertical-align: top\">34778|REFILL - HC ULTRA<br>C2 ENAMEL UNIDOSE ...</td>\n",
       "        <td style=\"padding-left: 1em; padding-right: 1em; text-align: center; vertical-align: top\">1.0</td>\n",
       "    </tr>\n",
       "    <tr>\n",
       "        <td style=\"padding-left: 1em; padding-right: 1em; text-align: center; vertical-align: top\">Master-CM060656</td>\n",
       "        <td style=\"padding-left: 1em; padding-right: 1em; text-align: center; vertical-align: top\">817-8253|TF ADAPTIVE FILE<br>ML1 23MM LENGTH ...</td>\n",
       "        <td style=\"padding-left: 1em; padding-right: 1em; text-align: center; vertical-align: top\">3.0</td>\n",
       "    </tr>\n",
       "    <tr>\n",
       "        <td style=\"padding-left: 1em; padding-right: 1em; text-align: center; vertical-align: top\">Master-CM045789</td>\n",
       "        <td style=\"padding-left: 1em; padding-right: 1em; text-align: center; vertical-align: top\">952-0004|100-502 Fine<br>Buchanan Plugger ...</td>\n",
       "        <td style=\"padding-left: 1em; padding-right: 1em; text-align: center; vertical-align: top\">1.0</td>\n",
       "    </tr>\n",
       "    <tr>\n",
       "        <td style=\"padding-left: 1em; padding-right: 1em; text-align: center; vertical-align: top\">Master-CM082308</td>\n",
       "        <td style=\"padding-left: 1em; padding-right: 1em; text-align: center; vertical-align: top\">27045DX|Zone A1 Large<br>Dual Barrel Syringe Kit ...</td>\n",
       "        <td style=\"padding-left: 1em; padding-right: 1em; text-align: center; vertical-align: top\">2.0</td>\n",
       "    </tr>\n",
       "    <tr>\n",
       "        <td style=\"padding-left: 1em; padding-right: 1em; text-align: center; vertical-align: top\">Master-CM050394</td>\n",
       "        <td style=\"padding-left: 1em; padding-right: 1em; text-align: center; vertical-align: top\">33215|TEMP BOND SYRINGE,<br>5ml, STD PKG ...</td>\n",
       "        <td style=\"padding-left: 1em; padding-right: 1em; text-align: center; vertical-align: top\">1.0</td>\n",
       "    </tr>\n",
       "    <tr>\n",
       "        <td style=\"padding-left: 1em; padding-right: 1em; text-align: center; vertical-align: top\">Master-CM067445</td>\n",
       "        <td style=\"padding-left: 1em; padding-right: 1em; text-align: center; vertical-align: top\">09246|ORTHO TRAY WAX-48<br>STICKS ...</td>\n",
       "        <td style=\"padding-left: 1em; padding-right: 1em; text-align: center; vertical-align: top\">2.0</td>\n",
       "    </tr>\n",
       "    <tr>\n",
       "        <td style=\"padding-left: 1em; padding-right: 1em; text-align: center; vertical-align: top\">Master-CM076773</td>\n",
       "        <td style=\"padding-left: 1em; padding-right: 1em; text-align: center; vertical-align: top\">08400021|SHEILD</td>\n",
       "        <td style=\"padding-left: 1em; padding-right: 1em; text-align: center; vertical-align: top\">14.0</td>\n",
       "    </tr>\n",
       "    <tr>\n",
       "        <td style=\"padding-left: 1em; padding-right: 1em; text-align: center; vertical-align: top\">Master-CM089662</td>\n",
       "        <td style=\"padding-left: 1em; padding-right: 1em; text-align: center; vertical-align: top\">34338|REFILL - HC ULTRA<br>A2 ENAMEL SYRINGE ...</td>\n",
       "        <td style=\"padding-left: 1em; padding-right: 1em; text-align: center; vertical-align: top\">2.0</td>\n",
       "    </tr>\n",
       "    <tr>\n",
       "        <td style=\"padding-left: 1em; padding-right: 1em; text-align: center; vertical-align: top\">Master-CM095120</td>\n",
       "        <td style=\"padding-left: 1em; padding-right: 1em; text-align: center; vertical-align: top\">34418|KIT - MAXCEM ELITE<br>BULK ...</td>\n",
       "        <td style=\"padding-left: 1em; padding-right: 1em; text-align: center; vertical-align: top\">1.0</td>\n",
       "    </tr>\n",
       "</table>\n",
       "[100000 rows x 3 columns]<br/>Note: Only the head of the SFrame is printed.<br/>You can use print_rows(num_rows=m, num_columns=n) to print more rows and columns.\n",
       "</div>"
      ],
      "text/plain": [
       "Columns:\n",
       "\tCRM_CUST_KEY\tstr\n",
       "\tPRODUCT\tstr\n",
       "\tIVC_QTY\tfloat\n",
       "\n",
       "Rows: 100000\n",
       "\n",
       "Data:\n",
       "+-----------------+--------------------------------+---------+\n",
       "|   CRM_CUST_KEY  |            PRODUCT             | IVC_QTY |\n",
       "+-----------------+--------------------------------+---------+\n",
       "| Master-CM095925 | C379-023|NTI Diamond Coarse FG |   4.0   |\n",
       "| Master-CM049910 | 34778|REFILL - HC ULTRA C2...  |   1.0   |\n",
       "| Master-CM060656 | 817-8253|TF ADAPTIVE FILE ...  |   3.0   |\n",
       "| Master-CM045789 | 952-0004|100-502 Fine Buch...  |   1.0   |\n",
       "| Master-CM082308 | 27045DX|Zone A1 Large Dual...  |   2.0   |\n",
       "| Master-CM050394 | 33215|TEMP BOND SYRINGE, 5...  |   1.0   |\n",
       "| Master-CM067445 | 09246|ORTHO TRAY WAX-48 STICKS |   2.0   |\n",
       "| Master-CM076773 |        08400021|SHEILD         |   14.0  |\n",
       "| Master-CM089662 | 34338|REFILL - HC ULTRA A2...  |   2.0   |\n",
       "| Master-CM095120 | 34418|KIT - MAXCEM ELITE BULK  |   1.0   |\n",
       "+-----------------+--------------------------------+---------+\n",
       "[100000 rows x 3 columns]\n",
       "Note: Only the head of the SFrame is printed.\n",
       "You can use print_rows(num_rows=m, num_columns=n) to print more rows and columns."
      ]
     },
     "execution_count": 37,
     "metadata": {},
     "output_type": "execute_result"
    }
   ],
   "source": [
    "testData"
   ]
  },
  {
   "cell_type": "code",
   "execution_count": 38,
   "metadata": {
    "Collapsed": "false"
   },
   "outputs": [],
   "source": [
    "#Define a splitData function for splitting data to training and test set\n",
    "\n",
    "def splitData(dfRec_):\n",
    "    '''\n",
    "    Splits data into training and test set.\n",
    "    Args:\n",
    "        data (pandas.DataFrame)\n",
    "    Returns\n",
    "        trainData (tc.SFrame)\n",
    "        testData (tc.Sframe)\n",
    "    '''\n",
    "    train, test = train_test_split(dfRec_, test_size = .2)\n",
    "    trainData = tc.SFrame(train)\n",
    "    testData = tc.SFrame(test)\n",
    "    return trainData, testData\n",
    "\n"
   ]
  },
  {
   "cell_type": "code",
   "execution_count": 39,
   "metadata": {
    "Collapsed": "false"
   },
   "outputs": [
    {
     "name": "stdout",
     "output_type": "stream",
     "text": [
      "InteractiveShell\t createDataDummy\t d\t dataDummy\t dfMatrixNorm\t dfNorm\t dfRecMatrix\t dfRec_\t normalizeData\t \n",
      "np\t pd\t splitData\t tc\t test\t testData\t train\t trainData\t train_test_split\t \n",
      "\n"
     ]
    }
   ],
   "source": [
    "who"
   ]
  },
  {
   "cell_type": "code",
   "execution_count": 40,
   "metadata": {
    "Collapsed": "false"
   },
   "outputs": [],
   "source": [
    "trainDataDummy, testDataDummy = splitData(dataDummy)\n",
    "trainDataNorm, testDataNorm = splitData(dfNorm)"
   ]
  },
  {
   "cell_type": "markdown",
   "metadata": {
    "Collapsed": "false"
   },
   "source": [
    "# 6. Baseline Model"
   ]
  },
  {
   "cell_type": "code",
   "execution_count": 41,
   "metadata": {
    "Collapsed": "false"
   },
   "outputs": [],
   "source": [
    "# Popularity Model"
   ]
  },
  {
   "cell_type": "code",
   "execution_count": 42,
   "metadata": {
    "Collapsed": "false"
   },
   "outputs": [],
   "source": [
    "#define field names\n",
    "\n",
    "userID = 'CRM_CUST_KEY'\n",
    "itemID = 'PRODUCT'\n",
    "target = 'IVC_QTY'\n",
    "\n",
    "usersToRecommend = list(d[userID])\n",
    "#usersToRecommend = list(df_ora_[user_id])\n",
    "nRec = 10\n",
    "nDisplay = 30"
   ]
  },
  {
   "cell_type": "code",
   "execution_count": 43,
   "metadata": {
    "Collapsed": "false"
   },
   "outputs": [],
   "source": [
    "# unique list of keys\n",
    "#df_ora_= pd.DataFrame(df_ora,columns=['CRM_CUST_KEY']).drop_duplicates()\n"
   ]
  },
  {
   "cell_type": "code",
   "execution_count": 44,
   "metadata": {
    "Collapsed": "false"
   },
   "outputs": [
    {
     "data": {
      "text/html": [
       "<pre>Preparing data set.</pre>"
      ],
      "text/plain": [
       "Preparing data set."
      ]
     },
     "metadata": {},
     "output_type": "display_data"
    },
    {
     "data": {
      "text/html": [
       "<pre>    Data has 400000 observations with 25663 users and 7854 items.</pre>"
      ],
      "text/plain": [
       "    Data has 400000 observations with 25663 users and 7854 items."
      ]
     },
     "metadata": {},
     "output_type": "display_data"
    },
    {
     "data": {
      "text/html": [
       "<pre>    Data prepared in: 0.320188s</pre>"
      ],
      "text/plain": [
       "    Data prepared in: 0.320188s"
      ]
     },
     "metadata": {},
     "output_type": "display_data"
    },
    {
     "data": {
      "text/html": [
       "<pre>400000 observations to process; with 7854 unique items.</pre>"
      ],
      "text/plain": [
       "400000 observations to process; with 7854 unique items."
      ]
     },
     "metadata": {},
     "output_type": "display_data"
    }
   ],
   "source": [
    "popularityModel = tc.popularity_recommender.create(trainData,\n",
    "                                                  user_id=userID,\n",
    "                                                  item_id=itemID,\n",
    "                                                  target=target)\n",
    "                                                \n",
    "                                                  "
   ]
  },
  {
   "cell_type": "code",
   "execution_count": 45,
   "metadata": {
    "Collapsed": "false"
   },
   "outputs": [
    {
     "data": {
      "text/html": [
       "<pre>recommendations finished on 1000/26227 queries. users per second: 67526.5</pre>"
      ],
      "text/plain": [
       "recommendations finished on 1000/26227 queries. users per second: 67526.5"
      ]
     },
     "metadata": {},
     "output_type": "display_data"
    },
    {
     "data": {
      "text/html": [
       "<pre>recommendations finished on 2000/26227 queries. users per second: 78293.2</pre>"
      ],
      "text/plain": [
       "recommendations finished on 2000/26227 queries. users per second: 78293.2"
      ]
     },
     "metadata": {},
     "output_type": "display_data"
    },
    {
     "data": {
      "text/html": [
       "<pre>recommendations finished on 3000/26227 queries. users per second: 84676.4</pre>"
      ],
      "text/plain": [
       "recommendations finished on 3000/26227 queries. users per second: 84676.4"
      ]
     },
     "metadata": {},
     "output_type": "display_data"
    },
    {
     "data": {
      "text/html": [
       "<pre>recommendations finished on 4000/26227 queries. users per second: 88560.2</pre>"
      ],
      "text/plain": [
       "recommendations finished on 4000/26227 queries. users per second: 88560.2"
      ]
     },
     "metadata": {},
     "output_type": "display_data"
    },
    {
     "data": {
      "text/html": [
       "<pre>recommendations finished on 5000/26227 queries. users per second: 91207.6</pre>"
      ],
      "text/plain": [
       "recommendations finished on 5000/26227 queries. users per second: 91207.6"
      ]
     },
     "metadata": {},
     "output_type": "display_data"
    },
    {
     "data": {
      "text/html": [
       "<pre>recommendations finished on 6000/26227 queries. users per second: 92738.6</pre>"
      ],
      "text/plain": [
       "recommendations finished on 6000/26227 queries. users per second: 92738.6"
      ]
     },
     "metadata": {},
     "output_type": "display_data"
    },
    {
     "data": {
      "text/html": [
       "<pre>recommendations finished on 7000/26227 queries. users per second: 93967.3</pre>"
      ],
      "text/plain": [
       "recommendations finished on 7000/26227 queries. users per second: 93967.3"
      ]
     },
     "metadata": {},
     "output_type": "display_data"
    },
    {
     "data": {
      "text/html": [
       "<pre>recommendations finished on 8000/26227 queries. users per second: 95138.4</pre>"
      ],
      "text/plain": [
       "recommendations finished on 8000/26227 queries. users per second: 95138.4"
      ]
     },
     "metadata": {},
     "output_type": "display_data"
    },
    {
     "data": {
      "text/html": [
       "<pre>recommendations finished on 9000/26227 queries. users per second: 95767.1</pre>"
      ],
      "text/plain": [
       "recommendations finished on 9000/26227 queries. users per second: 95767.1"
      ]
     },
     "metadata": {},
     "output_type": "display_data"
    },
    {
     "data": {
      "text/html": [
       "<pre>recommendations finished on 10000/26227 queries. users per second: 96582</pre>"
      ],
      "text/plain": [
       "recommendations finished on 10000/26227 queries. users per second: 96582"
      ]
     },
     "metadata": {},
     "output_type": "display_data"
    },
    {
     "data": {
      "text/html": [
       "<pre>recommendations finished on 11000/26227 queries. users per second: 96971.8</pre>"
      ],
      "text/plain": [
       "recommendations finished on 11000/26227 queries. users per second: 96971.8"
      ]
     },
     "metadata": {},
     "output_type": "display_data"
    },
    {
     "data": {
      "text/html": [
       "<pre>recommendations finished on 12000/26227 queries. users per second: 97439</pre>"
      ],
      "text/plain": [
       "recommendations finished on 12000/26227 queries. users per second: 97439"
      ]
     },
     "metadata": {},
     "output_type": "display_data"
    },
    {
     "data": {
      "text/html": [
       "<pre>recommendations finished on 13000/26227 queries. users per second: 97866.5</pre>"
      ],
      "text/plain": [
       "recommendations finished on 13000/26227 queries. users per second: 97866.5"
      ]
     },
     "metadata": {},
     "output_type": "display_data"
    },
    {
     "data": {
      "text/html": [
       "<pre>recommendations finished on 14000/26227 queries. users per second: 96659</pre>"
      ],
      "text/plain": [
       "recommendations finished on 14000/26227 queries. users per second: 96659"
      ]
     },
     "metadata": {},
     "output_type": "display_data"
    },
    {
     "data": {
      "text/html": [
       "<pre>recommendations finished on 15000/26227 queries. users per second: 95768.9</pre>"
      ],
      "text/plain": [
       "recommendations finished on 15000/26227 queries. users per second: 95768.9"
      ]
     },
     "metadata": {},
     "output_type": "display_data"
    },
    {
     "data": {
      "text/html": [
       "<pre>recommendations finished on 16000/26227 queries. users per second: 95367.5</pre>"
      ],
      "text/plain": [
       "recommendations finished on 16000/26227 queries. users per second: 95367.5"
      ]
     },
     "metadata": {},
     "output_type": "display_data"
    },
    {
     "data": {
      "text/html": [
       "<pre>recommendations finished on 17000/26227 queries. users per second: 95627</pre>"
      ],
      "text/plain": [
       "recommendations finished on 17000/26227 queries. users per second: 95627"
      ]
     },
     "metadata": {},
     "output_type": "display_data"
    },
    {
     "data": {
      "text/html": [
       "<pre>recommendations finished on 18000/26227 queries. users per second: 95568.3</pre>"
      ],
      "text/plain": [
       "recommendations finished on 18000/26227 queries. users per second: 95568.3"
      ]
     },
     "metadata": {},
     "output_type": "display_data"
    },
    {
     "data": {
      "text/html": [
       "<pre>recommendations finished on 19000/26227 queries. users per second: 93811.4</pre>"
      ],
      "text/plain": [
       "recommendations finished on 19000/26227 queries. users per second: 93811.4"
      ]
     },
     "metadata": {},
     "output_type": "display_data"
    },
    {
     "data": {
      "text/html": [
       "<pre>recommendations finished on 20000/26227 queries. users per second: 93697</pre>"
      ],
      "text/plain": [
       "recommendations finished on 20000/26227 queries. users per second: 93697"
      ]
     },
     "metadata": {},
     "output_type": "display_data"
    },
    {
     "data": {
      "text/html": [
       "<pre>recommendations finished on 21000/26227 queries. users per second: 92921.6</pre>"
      ],
      "text/plain": [
       "recommendations finished on 21000/26227 queries. users per second: 92921.6"
      ]
     },
     "metadata": {},
     "output_type": "display_data"
    },
    {
     "data": {
      "text/html": [
       "<pre>recommendations finished on 22000/26227 queries. users per second: 92970.6</pre>"
      ],
      "text/plain": [
       "recommendations finished on 22000/26227 queries. users per second: 92970.6"
      ]
     },
     "metadata": {},
     "output_type": "display_data"
    },
    {
     "data": {
      "text/html": [
       "<pre>recommendations finished on 23000/26227 queries. users per second: 92211</pre>"
      ],
      "text/plain": [
       "recommendations finished on 23000/26227 queries. users per second: 92211"
      ]
     },
     "metadata": {},
     "output_type": "display_data"
    },
    {
     "data": {
      "text/html": [
       "<pre>recommendations finished on 24000/26227 queries. users per second: 91707.7</pre>"
      ],
      "text/plain": [
       "recommendations finished on 24000/26227 queries. users per second: 91707.7"
      ]
     },
     "metadata": {},
     "output_type": "display_data"
    },
    {
     "data": {
      "text/html": [
       "<pre>recommendations finished on 25000/26227 queries. users per second: 91708.5</pre>"
      ],
      "text/plain": [
       "recommendations finished on 25000/26227 queries. users per second: 91708.5"
      ]
     },
     "metadata": {},
     "output_type": "display_data"
    },
    {
     "data": {
      "text/html": [
       "<pre>recommendations finished on 26000/26227 queries. users per second: 89678.7</pre>"
      ],
      "text/plain": [
       "recommendations finished on 26000/26227 queries. users per second: 89678.7"
      ]
     },
     "metadata": {},
     "output_type": "display_data"
    },
    {
     "name": "stdout",
     "output_type": "stream",
     "text": [
      "+-----------------+--------------------------------+--------------------+------+\n",
      "|   CRM_CUST_KEY  |            PRODUCT             |       score        | rank |\n",
      "+-----------------+--------------------------------+--------------------+------+\n",
      "| Master-CM045451 |      02006219|O-Ring 11x1      |       200.0        |  1   |\n",
      "| Master-CM045451 | 06221431|DPS- Mask with ad...  |        94.0        |  2   |\n",
      "| Master-CM045451 |     06223882|DPS-FACE MASK     |        73.0        |  3   |\n",
      "| Master-CM045451 | 06221421|DPS-JAW SIMULATOR G40 |        68.0        |  4   |\n",
      "| Master-CM045451 |         07644053|SLIDE         |        50.0        |  5   |\n",
      "| Master-CM045451 |      LA8-KC0|LA8 CARBIDE       | 48.67857142857143  |  6   |\n",
      "| Master-CM045451 | 952-0011|500-014 Medium-Fi...  | 39.53846153846154  |  7   |\n",
      "| Master-CM045451 | 734|Adapt Luciwedge Ultra ...  | 37.166666666666664 |  8   |\n",
      "| Master-CM045451 |   FG7902-KC0|FG7902 CARBIDE    |       33.86        |  9   |\n",
      "| Master-CM045451 | 08431078|3800 O-RING, VACU...  |       31.25        |  10  |\n",
      "| Master-CM045452 |      02006219|O-Ring 11x1      |       200.0        |  1   |\n",
      "| Master-CM045452 | 06221431|DPS- Mask with ad...  |        94.0        |  2   |\n",
      "| Master-CM045452 |     06223882|DPS-FACE MASK     |        73.0        |  3   |\n",
      "| Master-CM045452 | 06221421|DPS-JAW SIMULATOR G40 |        68.0        |  4   |\n",
      "| Master-CM045452 |         07644053|SLIDE         |        50.0        |  5   |\n",
      "| Master-CM045452 |      LA8-KC0|LA8 CARBIDE       | 48.67857142857143  |  6   |\n",
      "| Master-CM045452 | 952-0011|500-014 Medium-Fi...  | 39.53846153846154  |  7   |\n",
      "| Master-CM045452 | 734|Adapt Luciwedge Ultra ...  | 37.166666666666664 |  8   |\n",
      "| Master-CM045452 |   FG7902-KC0|FG7902 CARBIDE    |       33.86        |  9   |\n",
      "| Master-CM045452 | 08431078|3800 O-RING, VACU...  |       31.25        |  10  |\n",
      "| Master-CM045453 |      02006219|O-Ring 11x1      |       200.0        |  1   |\n",
      "| Master-CM045453 | 06221431|DPS- Mask with ad...  |        94.0        |  2   |\n",
      "| Master-CM045453 |     06223882|DPS-FACE MASK     |        73.0        |  3   |\n",
      "| Master-CM045453 | 06221421|DPS-JAW SIMULATOR G40 |        68.0        |  4   |\n",
      "| Master-CM045453 |         07644053|SLIDE         |        50.0        |  5   |\n",
      "| Master-CM045453 |      LA8-KC0|LA8 CARBIDE       | 48.67857142857143  |  6   |\n",
      "| Master-CM045453 | 952-0011|500-014 Medium-Fi...  | 39.53846153846154  |  7   |\n",
      "| Master-CM045453 | 734|Adapt Luciwedge Ultra ...  | 37.166666666666664 |  8   |\n",
      "| Master-CM045453 |   FG7902-KC0|FG7902 CARBIDE    |       33.86        |  9   |\n",
      "| Master-CM045453 | 08431078|3800 O-RING, VACU...  |       31.25        |  10  |\n",
      "+-----------------+--------------------------------+--------------------+------+\n",
      "[262270 rows x 4 columns]\n",
      "\n"
     ]
    }
   ],
   "source": [
    "# Get recommened output for a list of users \n",
    "\n",
    "popularityRecommend = popularityModel.recommend(users=usersToRecommend,\n",
    "                                               k=nRec)\n",
    "popularityRecommend.print_rows(nDisplay)"
   ]
  },
  {
   "cell_type": "code",
   "execution_count": 46,
   "metadata": {
    "Collapsed": "false"
   },
   "outputs": [],
   "source": [
    "# Define model selection\n",
    "\n",
    "def model(trainData, name, user_id, item_id, target, usersToRecommned,nRec,nDisplay):\n",
    "    if name == 'popularity':\n",
    "        model = tc.popularity_recommender.create(trainData,\n",
    "                                                 user_id=userID,\n",
    "                                                 item_id=itemID,\n",
    "                                                 target=target)\n",
    "                        \n",
    "    elif name == 'cosine':\n",
    "        model = tc.item_similarity_recommender.create(trainData,\n",
    "                                                  user_id=userID,\n",
    "                                                  item_id=itemID,\n",
    "                                                  target=target,\n",
    "                                                  similarity_type='cosine')\n",
    "    elif name == 'pearson':\n",
    "        model = tc.item_similarity_recommender.create(trainData,\n",
    "                                                  user_id=userID,\n",
    "                                                  item_id=itemID,\n",
    "                                                  target=target,\n",
    "                                                  similarity_type='pearson')\n",
    "    recomm = model.recommend(users=usersToRecommned, k=nRec)\n",
    "    recomm.print_rows(nDisplay)\n",
    "    return model\n",
    "            "
   ]
  },
  {
   "cell_type": "code",
   "execution_count": 47,
   "metadata": {
    "Collapsed": "false"
   },
   "outputs": [],
   "source": [
    "user_id = 'CRM_CUST_KEY'\n",
    "item_id = 'PRODUCT'\n",
    "\n",
    "#usersToRecommend = list(df_ora_[user_id])\n",
    "nRec=10\n",
    "nDisplay=30"
   ]
  },
  {
   "cell_type": "code",
   "execution_count": 48,
   "metadata": {
    "Collapsed": "false"
   },
   "outputs": [
    {
     "data": {
      "text/html": [
       "<pre>Warning: Ignoring columns IVC_QTY;</pre>"
      ],
      "text/plain": [
       "Warning: Ignoring columns IVC_QTY;"
      ]
     },
     "metadata": {},
     "output_type": "display_data"
    },
    {
     "data": {
      "text/html": [
       "<pre>    To use these columns in scoring predictions, use a model that allows the use of additional features.</pre>"
      ],
      "text/plain": [
       "    To use these columns in scoring predictions, use a model that allows the use of additional features."
      ]
     },
     "metadata": {},
     "output_type": "display_data"
    },
    {
     "data": {
      "text/html": [
       "<pre>Preparing data set.</pre>"
      ],
      "text/plain": [
       "Preparing data set."
      ]
     },
     "metadata": {},
     "output_type": "display_data"
    },
    {
     "data": {
      "text/html": [
       "<pre>    Data has 1809952 observations with 144223 users and 11020 items.</pre>"
      ],
      "text/plain": [
       "    Data has 1809952 observations with 144223 users and 11020 items."
      ]
     },
     "metadata": {},
     "output_type": "display_data"
    },
    {
     "data": {
      "text/html": [
       "<pre>    Data prepared in: 1.28658s</pre>"
      ],
      "text/plain": [
       "    Data prepared in: 1.28658s"
      ]
     },
     "metadata": {},
     "output_type": "display_data"
    },
    {
     "data": {
      "text/html": [
       "<pre>1809952 observations to process; with 11020 unique items.</pre>"
      ],
      "text/plain": [
       "1809952 observations to process; with 11020 unique items."
      ]
     },
     "metadata": {},
     "output_type": "display_data"
    },
    {
     "data": {
      "text/html": [
       "<pre>recommendations finished on 1000/26227 queries. users per second: 33883.4</pre>"
      ],
      "text/plain": [
       "recommendations finished on 1000/26227 queries. users per second: 33883.4"
      ]
     },
     "metadata": {},
     "output_type": "display_data"
    },
    {
     "data": {
      "text/html": [
       "<pre>recommendations finished on 2000/26227 queries. users per second: 43006.1</pre>"
      ],
      "text/plain": [
       "recommendations finished on 2000/26227 queries. users per second: 43006.1"
      ]
     },
     "metadata": {},
     "output_type": "display_data"
    },
    {
     "data": {
      "text/html": [
       "<pre>recommendations finished on 3000/26227 queries. users per second: 47158.7</pre>"
      ],
      "text/plain": [
       "recommendations finished on 3000/26227 queries. users per second: 47158.7"
      ]
     },
     "metadata": {},
     "output_type": "display_data"
    },
    {
     "data": {
      "text/html": [
       "<pre>recommendations finished on 4000/26227 queries. users per second: 50257.6</pre>"
      ],
      "text/plain": [
       "recommendations finished on 4000/26227 queries. users per second: 50257.6"
      ]
     },
     "metadata": {},
     "output_type": "display_data"
    },
    {
     "data": {
      "text/html": [
       "<pre>recommendations finished on 5000/26227 queries. users per second: 52979</pre>"
      ],
      "text/plain": [
       "recommendations finished on 5000/26227 queries. users per second: 52979"
      ]
     },
     "metadata": {},
     "output_type": "display_data"
    },
    {
     "data": {
      "text/html": [
       "<pre>recommendations finished on 6000/26227 queries. users per second: 53300.2</pre>"
      ],
      "text/plain": [
       "recommendations finished on 6000/26227 queries. users per second: 53300.2"
      ]
     },
     "metadata": {},
     "output_type": "display_data"
    },
    {
     "data": {
      "text/html": [
       "<pre>recommendations finished on 7000/26227 queries. users per second: 55236.8</pre>"
      ],
      "text/plain": [
       "recommendations finished on 7000/26227 queries. users per second: 55236.8"
      ]
     },
     "metadata": {},
     "output_type": "display_data"
    },
    {
     "data": {
      "text/html": [
       "<pre>recommendations finished on 8000/26227 queries. users per second: 55962.8</pre>"
      ],
      "text/plain": [
       "recommendations finished on 8000/26227 queries. users per second: 55962.8"
      ]
     },
     "metadata": {},
     "output_type": "display_data"
    },
    {
     "data": {
      "text/html": [
       "<pre>recommendations finished on 9000/26227 queries. users per second: 57139.2</pre>"
      ],
      "text/plain": [
       "recommendations finished on 9000/26227 queries. users per second: 57139.2"
      ]
     },
     "metadata": {},
     "output_type": "display_data"
    },
    {
     "data": {
      "text/html": [
       "<pre>recommendations finished on 10000/26227 queries. users per second: 58556.2</pre>"
      ],
      "text/plain": [
       "recommendations finished on 10000/26227 queries. users per second: 58556.2"
      ]
     },
     "metadata": {},
     "output_type": "display_data"
    },
    {
     "data": {
      "text/html": [
       "<pre>recommendations finished on 11000/26227 queries. users per second: 58865.1</pre>"
      ],
      "text/plain": [
       "recommendations finished on 11000/26227 queries. users per second: 58865.1"
      ]
     },
     "metadata": {},
     "output_type": "display_data"
    },
    {
     "data": {
      "text/html": [
       "<pre>recommendations finished on 12000/26227 queries. users per second: 58989.2</pre>"
      ],
      "text/plain": [
       "recommendations finished on 12000/26227 queries. users per second: 58989.2"
      ]
     },
     "metadata": {},
     "output_type": "display_data"
    },
    {
     "data": {
      "text/html": [
       "<pre>recommendations finished on 13000/26227 queries. users per second: 59071.6</pre>"
      ],
      "text/plain": [
       "recommendations finished on 13000/26227 queries. users per second: 59071.6"
      ]
     },
     "metadata": {},
     "output_type": "display_data"
    },
    {
     "data": {
      "text/html": [
       "<pre>recommendations finished on 14000/26227 queries. users per second: 59998.5</pre>"
      ],
      "text/plain": [
       "recommendations finished on 14000/26227 queries. users per second: 59998.5"
      ]
     },
     "metadata": {},
     "output_type": "display_data"
    },
    {
     "data": {
      "text/html": [
       "<pre>recommendations finished on 15000/26227 queries. users per second: 60616.1</pre>"
      ],
      "text/plain": [
       "recommendations finished on 15000/26227 queries. users per second: 60616.1"
      ]
     },
     "metadata": {},
     "output_type": "display_data"
    },
    {
     "data": {
      "text/html": [
       "<pre>recommendations finished on 16000/26227 queries. users per second: 60833.3</pre>"
      ],
      "text/plain": [
       "recommendations finished on 16000/26227 queries. users per second: 60833.3"
      ]
     },
     "metadata": {},
     "output_type": "display_data"
    },
    {
     "data": {
      "text/html": [
       "<pre>recommendations finished on 17000/26227 queries. users per second: 61518.2</pre>"
      ],
      "text/plain": [
       "recommendations finished on 17000/26227 queries. users per second: 61518.2"
      ]
     },
     "metadata": {},
     "output_type": "display_data"
    },
    {
     "data": {
      "text/html": [
       "<pre>recommendations finished on 18000/26227 queries. users per second: 61386.9</pre>"
      ],
      "text/plain": [
       "recommendations finished on 18000/26227 queries. users per second: 61386.9"
      ]
     },
     "metadata": {},
     "output_type": "display_data"
    },
    {
     "data": {
      "text/html": [
       "<pre>recommendations finished on 19000/26227 queries. users per second: 61578.5</pre>"
      ],
      "text/plain": [
       "recommendations finished on 19000/26227 queries. users per second: 61578.5"
      ]
     },
     "metadata": {},
     "output_type": "display_data"
    },
    {
     "data": {
      "text/html": [
       "<pre>recommendations finished on 20000/26227 queries. users per second: 61303.2</pre>"
      ],
      "text/plain": [
       "recommendations finished on 20000/26227 queries. users per second: 61303.2"
      ]
     },
     "metadata": {},
     "output_type": "display_data"
    },
    {
     "data": {
      "text/html": [
       "<pre>recommendations finished on 21000/26227 queries. users per second: 61220.4</pre>"
      ],
      "text/plain": [
       "recommendations finished on 21000/26227 queries. users per second: 61220.4"
      ]
     },
     "metadata": {},
     "output_type": "display_data"
    },
    {
     "data": {
      "text/html": [
       "<pre>recommendations finished on 22000/26227 queries. users per second: 61229.7</pre>"
      ],
      "text/plain": [
       "recommendations finished on 22000/26227 queries. users per second: 61229.7"
      ]
     },
     "metadata": {},
     "output_type": "display_data"
    },
    {
     "data": {
      "text/html": [
       "<pre>recommendations finished on 23000/26227 queries. users per second: 61069.8</pre>"
      ],
      "text/plain": [
       "recommendations finished on 23000/26227 queries. users per second: 61069.8"
      ]
     },
     "metadata": {},
     "output_type": "display_data"
    },
    {
     "data": {
      "text/html": [
       "<pre>recommendations finished on 24000/26227 queries. users per second: 60954.1</pre>"
      ],
      "text/plain": [
       "recommendations finished on 24000/26227 queries. users per second: 60954.1"
      ]
     },
     "metadata": {},
     "output_type": "display_data"
    },
    {
     "data": {
      "text/html": [
       "<pre>recommendations finished on 25000/26227 queries. users per second: 60015.1</pre>"
      ],
      "text/plain": [
       "recommendations finished on 25000/26227 queries. users per second: 60015.1"
      ]
     },
     "metadata": {},
     "output_type": "display_data"
    },
    {
     "data": {
      "text/html": [
       "<pre>recommendations finished on 26000/26227 queries. users per second: 57854.1</pre>"
      ],
      "text/plain": [
       "recommendations finished on 26000/26227 queries. users per second: 57854.1"
      ]
     },
     "metadata": {},
     "output_type": "display_data"
    },
    {
     "name": "stdout",
     "output_type": "stream",
     "text": [
      "+-----------------+--------------------------------+-------+------+\n",
      "|   CRM_CUST_KEY  |            PRODUCT             | score | rank |\n",
      "+-----------------+--------------------------------+-------+------+\n",
      "| Master-CM045451 | 00455|COMPOUND STICKS-GREY...  |  1.0  |  1   |\n",
      "| Master-CM045451 | 821-8025|K-FILES 25MM SERI...  |  1.0  |  2   |\n",
      "| Master-CM045451 | 815-1542|TF ADAPTIVE GUTTA...  |  1.0  |  3   |\n",
      "| Master-CM045451 | 13499|GINGIKNIT 00n NON IM...  |  1.0  |  4   |\n",
      "| Master-CM045451 | H557RZ-FG100|AXIS Razor 55...  |  1.0  |  5   |\n",
      "| Master-CM045451 |  P343|NTI Green CeraGlaze-HP   |  1.0  |  6   |\n",
      "| Master-CM045451 | 29836|REFILL - UNID  XRVE ...  |  1.0  |  7   |\n",
      "| Master-CM045451 |   33643|REFILL - NX3, CLEAR    |  1.0  |  8   |\n",
      "| Master-CM045451 | 31377|TEMPBOND 50 PACK UNIDOSE |  1.0  |  9   |\n",
      "| Master-CM045451 | 10131099|Holder, Horiz BW,...  |  1.0  |  10  |\n",
      "| Master-CM045452 | 00455|COMPOUND STICKS-GREY...  |  1.0  |  1   |\n",
      "| Master-CM045452 | 821-8025|K-FILES 25MM SERI...  |  1.0  |  2   |\n",
      "| Master-CM045452 | 815-1542|TF ADAPTIVE GUTTA...  |  1.0  |  3   |\n",
      "| Master-CM045452 | 13499|GINGIKNIT 00n NON IM...  |  1.0  |  4   |\n",
      "| Master-CM045452 | H557RZ-FG100|AXIS Razor 55...  |  1.0  |  5   |\n",
      "| Master-CM045452 |  P343|NTI Green CeraGlaze-HP   |  1.0  |  6   |\n",
      "| Master-CM045452 | 29836|REFILL - UNID  XRVE ...  |  1.0  |  7   |\n",
      "| Master-CM045452 |   33643|REFILL - NX3, CLEAR    |  1.0  |  8   |\n",
      "| Master-CM045452 | 31377|TEMPBOND 50 PACK UNIDOSE |  1.0  |  9   |\n",
      "| Master-CM045452 | 10131099|Holder, Horiz BW,...  |  1.0  |  10  |\n",
      "| Master-CM045453 | 00455|COMPOUND STICKS-GREY...  |  1.0  |  1   |\n",
      "| Master-CM045453 | 821-8025|K-FILES 25MM SERI...  |  1.0  |  2   |\n",
      "| Master-CM045453 | 815-1542|TF ADAPTIVE GUTTA...  |  1.0  |  3   |\n",
      "| Master-CM045453 | 13499|GINGIKNIT 00n NON IM...  |  1.0  |  4   |\n",
      "| Master-CM045453 | H557RZ-FG100|AXIS Razor 55...  |  1.0  |  5   |\n",
      "| Master-CM045453 |  P343|NTI Green CeraGlaze-HP   |  1.0  |  6   |\n",
      "| Master-CM045453 | 29836|REFILL - UNID  XRVE ...  |  1.0  |  7   |\n",
      "| Master-CM045453 |   33643|REFILL - NX3, CLEAR    |  1.0  |  8   |\n",
      "| Master-CM045453 | 31377|TEMPBOND 50 PACK UNIDOSE |  1.0  |  9   |\n",
      "| Master-CM045453 | 10131099|Holder, Horiz BW,...  |  1.0  |  10  |\n",
      "+-----------------+--------------------------------+-------+------+\n",
      "[262270 rows x 4 columns]\n",
      "\n"
     ]
    }
   ],
   "source": [
    "#Using purchase dummy\n",
    "name='popularity'\n",
    "target = 'purchaseDummy'\n",
    "\n",
    "popularityDummy = model(trainDataDummy,name,user_id,item_id,target,usersToRecommend,nRec,nDisplay)"
   ]
  },
  {
   "cell_type": "code",
   "execution_count": 49,
   "metadata": {
    "Collapsed": "false"
   },
   "outputs": [
    {
     "data": {
      "text/html": [
       "<pre>Preparing data set.</pre>"
      ],
      "text/plain": [
       "Preparing data set."
      ]
     },
     "metadata": {},
     "output_type": "display_data"
    },
    {
     "data": {
      "text/html": [
       "<pre>    Data has 198782 observations with 25407 users and 5261 items.</pre>"
      ],
      "text/plain": [
       "    Data has 198782 observations with 25407 users and 5261 items."
      ]
     },
     "metadata": {},
     "output_type": "display_data"
    },
    {
     "data": {
      "text/html": [
       "<pre>    Data prepared in: 0.183761s</pre>"
      ],
      "text/plain": [
       "    Data prepared in: 0.183761s"
      ]
     },
     "metadata": {},
     "output_type": "display_data"
    },
    {
     "data": {
      "text/html": [
       "<pre>Training model from provided data.</pre>"
      ],
      "text/plain": [
       "Training model from provided data."
      ]
     },
     "metadata": {},
     "output_type": "display_data"
    },
    {
     "data": {
      "text/html": [
       "<pre>Gathering per-item and per-user statistics.</pre>"
      ],
      "text/plain": [
       "Gathering per-item and per-user statistics."
      ]
     },
     "metadata": {},
     "output_type": "display_data"
    },
    {
     "data": {
      "text/html": [
       "<pre>+--------------------------------+------------+</pre>"
      ],
      "text/plain": [
       "+--------------------------------+------------+"
      ]
     },
     "metadata": {},
     "output_type": "display_data"
    },
    {
     "data": {
      "text/html": [
       "<pre>| Elapsed Time (Item Statistics) | % Complete |</pre>"
      ],
      "text/plain": [
       "| Elapsed Time (Item Statistics) | % Complete |"
      ]
     },
     "metadata": {},
     "output_type": "display_data"
    },
    {
     "data": {
      "text/html": [
       "<pre>+--------------------------------+------------+</pre>"
      ],
      "text/plain": [
       "+--------------------------------+------------+"
      ]
     },
     "metadata": {},
     "output_type": "display_data"
    },
    {
     "data": {
      "text/html": [
       "<pre>| 2.045ms                        | 3.75       |</pre>"
      ],
      "text/plain": [
       "| 2.045ms                        | 3.75       |"
      ]
     },
     "metadata": {},
     "output_type": "display_data"
    },
    {
     "data": {
      "text/html": [
       "<pre>| 5.192ms                        | 100        |</pre>"
      ],
      "text/plain": [
       "| 5.192ms                        | 100        |"
      ]
     },
     "metadata": {},
     "output_type": "display_data"
    },
    {
     "data": {
      "text/html": [
       "<pre>+--------------------------------+------------+</pre>"
      ],
      "text/plain": [
       "+--------------------------------+------------+"
      ]
     },
     "metadata": {},
     "output_type": "display_data"
    },
    {
     "data": {
      "text/html": [
       "<pre>Setting up lookup tables.</pre>"
      ],
      "text/plain": [
       "Setting up lookup tables."
      ]
     },
     "metadata": {},
     "output_type": "display_data"
    },
    {
     "data": {
      "text/html": [
       "<pre>Processing data in one pass using dense lookup tables.</pre>"
      ],
      "text/plain": [
       "Processing data in one pass using dense lookup tables."
      ]
     },
     "metadata": {},
     "output_type": "display_data"
    },
    {
     "data": {
      "text/html": [
       "<pre>+-------------------------------------+------------------+-----------------+</pre>"
      ],
      "text/plain": [
       "+-------------------------------------+------------------+-----------------+"
      ]
     },
     "metadata": {},
     "output_type": "display_data"
    },
    {
     "data": {
      "text/html": [
       "<pre>| Elapsed Time (Constructing Lookups) | Total % Complete | Items Processed |</pre>"
      ],
      "text/plain": [
       "| Elapsed Time (Constructing Lookups) | Total % Complete | Items Processed |"
      ]
     },
     "metadata": {},
     "output_type": "display_data"
    },
    {
     "data": {
      "text/html": [
       "<pre>+-------------------------------------+------------------+-----------------+</pre>"
      ],
      "text/plain": [
       "+-------------------------------------+------------------+-----------------+"
      ]
     },
     "metadata": {},
     "output_type": "display_data"
    },
    {
     "data": {
      "text/html": [
       "<pre>| 170.063ms                           | 0                | 0               |</pre>"
      ],
      "text/plain": [
       "| 170.063ms                           | 0                | 0               |"
      ]
     },
     "metadata": {},
     "output_type": "display_data"
    },
    {
     "data": {
      "text/html": [
       "<pre>| 260.099ms                           | 100              | 5261            |</pre>"
      ],
      "text/plain": [
       "| 260.099ms                           | 100              | 5261            |"
      ]
     },
     "metadata": {},
     "output_type": "display_data"
    },
    {
     "data": {
      "text/html": [
       "<pre>+-------------------------------------+------------------+-----------------+</pre>"
      ],
      "text/plain": [
       "+-------------------------------------+------------------+-----------------+"
      ]
     },
     "metadata": {},
     "output_type": "display_data"
    },
    {
     "data": {
      "text/html": [
       "<pre>Finalizing lookup tables.</pre>"
      ],
      "text/plain": [
       "Finalizing lookup tables."
      ]
     },
     "metadata": {},
     "output_type": "display_data"
    },
    {
     "data": {
      "text/html": [
       "<pre>Generating candidate set for working with new users.</pre>"
      ],
      "text/plain": [
       "Generating candidate set for working with new users."
      ]
     },
     "metadata": {},
     "output_type": "display_data"
    },
    {
     "data": {
      "text/html": [
       "<pre>Finished training in 1.27837s</pre>"
      ],
      "text/plain": [
       "Finished training in 1.27837s"
      ]
     },
     "metadata": {},
     "output_type": "display_data"
    },
    {
     "data": {
      "text/html": [
       "<pre>recommendations finished on 1000/26227 queries. users per second: 66168.2</pre>"
      ],
      "text/plain": [
       "recommendations finished on 1000/26227 queries. users per second: 66168.2"
      ]
     },
     "metadata": {},
     "output_type": "display_data"
    },
    {
     "data": {
      "text/html": [
       "<pre>recommendations finished on 2000/26227 queries. users per second: 81459.8</pre>"
      ],
      "text/plain": [
       "recommendations finished on 2000/26227 queries. users per second: 81459.8"
      ]
     },
     "metadata": {},
     "output_type": "display_data"
    },
    {
     "data": {
      "text/html": [
       "<pre>recommendations finished on 3000/26227 queries. users per second: 86783</pre>"
      ],
      "text/plain": [
       "recommendations finished on 3000/26227 queries. users per second: 86783"
      ]
     },
     "metadata": {},
     "output_type": "display_data"
    },
    {
     "data": {
      "text/html": [
       "<pre>recommendations finished on 4000/26227 queries. users per second: 89641.9</pre>"
      ],
      "text/plain": [
       "recommendations finished on 4000/26227 queries. users per second: 89641.9"
      ]
     },
     "metadata": {},
     "output_type": "display_data"
    },
    {
     "data": {
      "text/html": [
       "<pre>recommendations finished on 5000/26227 queries. users per second: 92950.6</pre>"
      ],
      "text/plain": [
       "recommendations finished on 5000/26227 queries. users per second: 92950.6"
      ]
     },
     "metadata": {},
     "output_type": "display_data"
    },
    {
     "data": {
      "text/html": [
       "<pre>recommendations finished on 6000/26227 queries. users per second: 94917.2</pre>"
      ],
      "text/plain": [
       "recommendations finished on 6000/26227 queries. users per second: 94917.2"
      ]
     },
     "metadata": {},
     "output_type": "display_data"
    },
    {
     "data": {
      "text/html": [
       "<pre>recommendations finished on 7000/26227 queries. users per second: 95908.8</pre>"
      ],
      "text/plain": [
       "recommendations finished on 7000/26227 queries. users per second: 95908.8"
      ]
     },
     "metadata": {},
     "output_type": "display_data"
    },
    {
     "data": {
      "text/html": [
       "<pre>recommendations finished on 8000/26227 queries. users per second: 97212.4</pre>"
      ],
      "text/plain": [
       "recommendations finished on 8000/26227 queries. users per second: 97212.4"
      ]
     },
     "metadata": {},
     "output_type": "display_data"
    },
    {
     "data": {
      "text/html": [
       "<pre>recommendations finished on 9000/26227 queries. users per second: 97449</pre>"
      ],
      "text/plain": [
       "recommendations finished on 9000/26227 queries. users per second: 97449"
      ]
     },
     "metadata": {},
     "output_type": "display_data"
    },
    {
     "data": {
      "text/html": [
       "<pre>recommendations finished on 10000/26227 queries. users per second: 95150.2</pre>"
      ],
      "text/plain": [
       "recommendations finished on 10000/26227 queries. users per second: 95150.2"
      ]
     },
     "metadata": {},
     "output_type": "display_data"
    },
    {
     "data": {
      "text/html": [
       "<pre>recommendations finished on 11000/26227 queries. users per second: 94224.1</pre>"
      ],
      "text/plain": [
       "recommendations finished on 11000/26227 queries. users per second: 94224.1"
      ]
     },
     "metadata": {},
     "output_type": "display_data"
    },
    {
     "data": {
      "text/html": [
       "<pre>recommendations finished on 12000/26227 queries. users per second: 94210.7</pre>"
      ],
      "text/plain": [
       "recommendations finished on 12000/26227 queries. users per second: 94210.7"
      ]
     },
     "metadata": {},
     "output_type": "display_data"
    },
    {
     "data": {
      "text/html": [
       "<pre>recommendations finished on 13000/26227 queries. users per second: 94989.7</pre>"
      ],
      "text/plain": [
       "recommendations finished on 13000/26227 queries. users per second: 94989.7"
      ]
     },
     "metadata": {},
     "output_type": "display_data"
    },
    {
     "data": {
      "text/html": [
       "<pre>recommendations finished on 14000/26227 queries. users per second: 94857.4</pre>"
      ],
      "text/plain": [
       "recommendations finished on 14000/26227 queries. users per second: 94857.4"
      ]
     },
     "metadata": {},
     "output_type": "display_data"
    },
    {
     "data": {
      "text/html": [
       "<pre>recommendations finished on 15000/26227 queries. users per second: 95511.6</pre>"
      ],
      "text/plain": [
       "recommendations finished on 15000/26227 queries. users per second: 95511.6"
      ]
     },
     "metadata": {},
     "output_type": "display_data"
    },
    {
     "data": {
      "text/html": [
       "<pre>recommendations finished on 16000/26227 queries. users per second: 94741.8</pre>"
      ],
      "text/plain": [
       "recommendations finished on 16000/26227 queries. users per second: 94741.8"
      ]
     },
     "metadata": {},
     "output_type": "display_data"
    },
    {
     "data": {
      "text/html": [
       "<pre>recommendations finished on 17000/26227 queries. users per second: 94866.6</pre>"
      ],
      "text/plain": [
       "recommendations finished on 17000/26227 queries. users per second: 94866.6"
      ]
     },
     "metadata": {},
     "output_type": "display_data"
    },
    {
     "data": {
      "text/html": [
       "<pre>recommendations finished on 18000/26227 queries. users per second: 94194.5</pre>"
      ],
      "text/plain": [
       "recommendations finished on 18000/26227 queries. users per second: 94194.5"
      ]
     },
     "metadata": {},
     "output_type": "display_data"
    },
    {
     "data": {
      "text/html": [
       "<pre>recommendations finished on 19000/26227 queries. users per second: 93089.8</pre>"
      ],
      "text/plain": [
       "recommendations finished on 19000/26227 queries. users per second: 93089.8"
      ]
     },
     "metadata": {},
     "output_type": "display_data"
    },
    {
     "data": {
      "text/html": [
       "<pre>recommendations finished on 20000/26227 queries. users per second: 92615.3</pre>"
      ],
      "text/plain": [
       "recommendations finished on 20000/26227 queries. users per second: 92615.3"
      ]
     },
     "metadata": {},
     "output_type": "display_data"
    },
    {
     "data": {
      "text/html": [
       "<pre>recommendations finished on 21000/26227 queries. users per second: 92963.5</pre>"
      ],
      "text/plain": [
       "recommendations finished on 21000/26227 queries. users per second: 92963.5"
      ]
     },
     "metadata": {},
     "output_type": "display_data"
    },
    {
     "data": {
      "text/html": [
       "<pre>recommendations finished on 22000/26227 queries. users per second: 93225.5</pre>"
      ],
      "text/plain": [
       "recommendations finished on 22000/26227 queries. users per second: 93225.5"
      ]
     },
     "metadata": {},
     "output_type": "display_data"
    },
    {
     "data": {
      "text/html": [
       "<pre>recommendations finished on 23000/26227 queries. users per second: 92690</pre>"
      ],
      "text/plain": [
       "recommendations finished on 23000/26227 queries. users per second: 92690"
      ]
     },
     "metadata": {},
     "output_type": "display_data"
    },
    {
     "data": {
      "text/html": [
       "<pre>recommendations finished on 24000/26227 queries. users per second: 92180.4</pre>"
      ],
      "text/plain": [
       "recommendations finished on 24000/26227 queries. users per second: 92180.4"
      ]
     },
     "metadata": {},
     "output_type": "display_data"
    },
    {
     "data": {
      "text/html": [
       "<pre>recommendations finished on 25000/26227 queries. users per second: 90283.7</pre>"
      ],
      "text/plain": [
       "recommendations finished on 25000/26227 queries. users per second: 90283.7"
      ]
     },
     "metadata": {},
     "output_type": "display_data"
    },
    {
     "data": {
      "text/html": [
       "<pre>recommendations finished on 26000/26227 queries. users per second: 85861.6</pre>"
      ],
      "text/plain": [
       "recommendations finished on 26000/26227 queries. users per second: 85861.6"
      ]
     },
     "metadata": {},
     "output_type": "display_data"
    },
    {
     "name": "stdout",
     "output_type": "stream",
     "text": [
      "+-----------------+--------------------------------+----------------------+------+\n",
      "|   CRM_CUST_KEY  |            PRODUCT             |        score         | rank |\n",
      "+-----------------+--------------------------------+----------------------+------+\n",
      "| Master-CM045451 | 10075082|BITE PIECE, PANORAMIC | 0.049581676721572876 |  1   |\n",
      "| Master-CM045451 | 825-2355|K3 ENG FILE .35/....  | 0.049581676721572876 |  2   |\n",
      "| Master-CM045451 | P19035-3|AXIS White DiaGlo...  | 0.026875227689743042 |  3   |\n",
      "| Master-CM045451 |  F833-021|NTI Diamond Fine FG  | 0.026372045278549194 |  4   |\n",
      "| Master-CM045451 | C879K-018|NTI Diamond Coar...  | 0.025229156017303467 |  5   |\n",
      "| Master-CM045451 | SC368-023|NTI Diamond Supe...  | 0.025206178426742554 |  6   |\n",
      "| Master-CM045451 | SC847-012|NTI Diamond Supe...  | 0.022707998752593994 |  7   |\n",
      "| Master-CM045451 | P0143-150|AXIS Polisher - ...  | 0.02217361330986023  |  8   |\n",
      "| Master-CM045451 | SC909-037|NTI Diamond Supe...  | 0.020665884017944336 |  9   |\n",
      "| Master-CM045451 | 825-2201|K3 ENG FILE .20/....  |  0.0205610990524292  |  10  |\n",
      "| Master-CM045452 | 33361|REFILL - TEMPBOND MI...  | 0.013834372162818909 |  1   |\n",
      "| Master-CM045452 | 33351|KIT- TEMPBOND CLEAR ...  | 0.011326998472213745 |  2   |\n",
      "| Master-CM045452 |  N18AD|REFILL- KOR 1.25 30PK   | 0.009290352463722229 |  3   |\n",
      "| Master-CM045452 |  N18AF|REFILL- KOR 1.50 30PK   | 0.008865907788276672 |  4   |\n",
      "| Master-CM045452 | 33873|REFILL - MAXCEM ELIT...  | 0.00886586308479309  |  5   |\n",
      "| Master-CM045452 | 32862|REFILL - MAXCEM MIXI...  | 0.008714839816093445 |  6   |\n",
      "| Master-CM045452 | 33217|TEMP BOND N.E. SYRIN...  | 0.008596375584602356 |  7   |\n",
      "| Master-CM045452 | 34418|KIT - MAXCEM ELITE BULK  | 0.00835445523262024  |  8   |\n",
      "| Master-CM045452 | 33875|REFILL - MAXCEM ELIT...  | 0.008318856358528137 |  9   |\n",
      "| Master-CM045452 |    N32FE|BFR OPWHT MINI MIX    | 0.008231133222579956 |  10  |\n",
      "| Master-CM045453 | 08467627|COVER STRIP LONG ...  | 0.03628619909286499  |  1   |\n",
      "| Master-CM045453 |   FG7408-KC0|FG7408 CARBIDE    | 0.03219393491744995  |  2   |\n",
      "| Master-CM045453 | 08427096|WATER VALVE - DEL...  | 0.032057130336761476 |  3   |\n",
      "| Master-CM045453 | 08457774|VALVE-3 WAY TOGGL...  | 0.02962754964828491  |  4   |\n",
      "| Master-CM045453 | 08423962|ARM REST SLINGS-U...  |  0.0270879864692688  |  5   |\n",
      "| Master-CM045453 | C848L-014|NTI Diamond Coar...  | 0.023476600646972656 |  6   |\n",
      "| Master-CM045453 | 08406929|PIN ROLL 1/8 OD X...  | 0.021960353851318358 |  7   |\n",
      "| Master-CM045453 | 08305356|InVivo Software -...  | 0.020998120307922363 |  8   |\n",
      "| Master-CM045453 |     08405137|SWITCH MICRO      | 0.01868692636489868  |  9   |\n",
      "| Master-CM045453 |   FG7901-KC0|FG7901 CARBIDE    | 0.01776597499847412  |  10  |\n",
      "+-----------------+--------------------------------+----------------------+------+\n",
      "[262270 rows x 4 columns]\n",
      "\n"
     ]
    }
   ],
   "source": [
    "# Using Normalized Purchase Count\n",
    "\n",
    "name='cosine'\n",
    "target='scaledPurchaseFreq'\n",
    "popularityNormalized = model(trainDataNorm, name,user_id, item_id, target, usersToRecommend,nRec,nDisplay)"
   ]
  },
  {
   "cell_type": "code",
   "execution_count": 50,
   "metadata": {
    "Collapsed": "false"
   },
   "outputs": [
    {
     "data": {
      "text/plain": [
       "(400000, 3)"
      ]
     },
     "execution_count": 50,
     "metadata": {},
     "output_type": "execute_result"
    },
    {
     "data": {
      "text/plain": [
       "PRODUCT\n",
       "02006219|O-Ring 11x1                                 200.000000\n",
       "06221431|DPS- Mask with adaptor                       94.000000\n",
       "06223882|DPS-FACE MASK                                73.000000\n",
       "06221421|DPS-JAW SIMULATOR G40                        68.000000\n",
       "07644053|SLIDE                                        50.000000\n",
       "LA8-KC0|LA8 CARBIDE                                   48.678571\n",
       "952-0011|500-014 Medium-Fine Gutta Percha Box 100     39.538462\n",
       "734|Adapt Luciwedge Ultra small                       37.166667\n",
       "FG7902-KC0|FG7902 CARBIDE                             33.860000\n",
       "08431078|3800 O-RING, VACUUM STEAL                    31.250000\n",
       "Name: IVC_QTY, dtype: float64"
      ]
     },
     "execution_count": 50,
     "metadata": {},
     "output_type": "execute_result"
    }
   ],
   "source": [
    "train.shape\n",
    "train.groupby(by=item_id)['IVC_QTY'].mean().sort_values(ascending=False).head(10)"
   ]
  },
  {
   "cell_type": "markdown",
   "metadata": {
    "Collapsed": "false"
   },
   "source": [
    "# 7. Collaborative Filtering"
   ]
  },
  {
   "cell_type": "code",
   "execution_count": 51,
   "metadata": {
    "Collapsed": "false"
   },
   "outputs": [
    {
     "data": {
      "text/html": [
       "<pre>Preparing data set.</pre>"
      ],
      "text/plain": [
       "Preparing data set."
      ]
     },
     "metadata": {},
     "output_type": "display_data"
    },
    {
     "data": {
      "text/html": [
       "<pre>    Data has 400000 observations with 25663 users and 7854 items.</pre>"
      ],
      "text/plain": [
       "    Data has 400000 observations with 25663 users and 7854 items."
      ]
     },
     "metadata": {},
     "output_type": "display_data"
    },
    {
     "data": {
      "text/html": [
       "<pre>    Data prepared in: 0.324649s</pre>"
      ],
      "text/plain": [
       "    Data prepared in: 0.324649s"
      ]
     },
     "metadata": {},
     "output_type": "display_data"
    },
    {
     "data": {
      "text/html": [
       "<pre>Training model from provided data.</pre>"
      ],
      "text/plain": [
       "Training model from provided data."
      ]
     },
     "metadata": {},
     "output_type": "display_data"
    },
    {
     "data": {
      "text/html": [
       "<pre>Gathering per-item and per-user statistics.</pre>"
      ],
      "text/plain": [
       "Gathering per-item and per-user statistics."
      ]
     },
     "metadata": {},
     "output_type": "display_data"
    },
    {
     "data": {
      "text/html": [
       "<pre>+--------------------------------+------------+</pre>"
      ],
      "text/plain": [
       "+--------------------------------+------------+"
      ]
     },
     "metadata": {},
     "output_type": "display_data"
    },
    {
     "data": {
      "text/html": [
       "<pre>| Elapsed Time (Item Statistics) | % Complete |</pre>"
      ],
      "text/plain": [
       "| Elapsed Time (Item Statistics) | % Complete |"
      ]
     },
     "metadata": {},
     "output_type": "display_data"
    },
    {
     "data": {
      "text/html": [
       "<pre>+--------------------------------+------------+</pre>"
      ],
      "text/plain": [
       "+--------------------------------+------------+"
      ]
     },
     "metadata": {},
     "output_type": "display_data"
    },
    {
     "data": {
      "text/html": [
       "<pre>| 1.425ms                        | 3.75       |</pre>"
      ],
      "text/plain": [
       "| 1.425ms                        | 3.75       |"
      ]
     },
     "metadata": {},
     "output_type": "display_data"
    },
    {
     "data": {
      "text/html": [
       "<pre>| 5.632ms                        | 100        |</pre>"
      ],
      "text/plain": [
       "| 5.632ms                        | 100        |"
      ]
     },
     "metadata": {},
     "output_type": "display_data"
    },
    {
     "data": {
      "text/html": [
       "<pre>+--------------------------------+------------+</pre>"
      ],
      "text/plain": [
       "+--------------------------------+------------+"
      ]
     },
     "metadata": {},
     "output_type": "display_data"
    },
    {
     "data": {
      "text/html": [
       "<pre>Setting up lookup tables.</pre>"
      ],
      "text/plain": [
       "Setting up lookup tables."
      ]
     },
     "metadata": {},
     "output_type": "display_data"
    },
    {
     "data": {
      "text/html": [
       "<pre>Processing data in one pass using dense lookup tables.</pre>"
      ],
      "text/plain": [
       "Processing data in one pass using dense lookup tables."
      ]
     },
     "metadata": {},
     "output_type": "display_data"
    },
    {
     "data": {
      "text/html": [
       "<pre>+-------------------------------------+------------------+-----------------+</pre>"
      ],
      "text/plain": [
       "+-------------------------------------+------------------+-----------------+"
      ]
     },
     "metadata": {},
     "output_type": "display_data"
    },
    {
     "data": {
      "text/html": [
       "<pre>| Elapsed Time (Constructing Lookups) | Total % Complete | Items Processed |</pre>"
      ],
      "text/plain": [
       "| Elapsed Time (Constructing Lookups) | Total % Complete | Items Processed |"
      ]
     },
     "metadata": {},
     "output_type": "display_data"
    },
    {
     "data": {
      "text/html": [
       "<pre>+-------------------------------------+------------------+-----------------+</pre>"
      ],
      "text/plain": [
       "+-------------------------------------+------------------+-----------------+"
      ]
     },
     "metadata": {},
     "output_type": "display_data"
    },
    {
     "data": {
      "text/html": [
       "<pre>| 284.257ms                           | 0                | 0               |</pre>"
      ],
      "text/plain": [
       "| 284.257ms                           | 0                | 0               |"
      ]
     },
     "metadata": {},
     "output_type": "display_data"
    },
    {
     "data": {
      "text/html": [
       "<pre>| 453.125ms                           | 100              | 7854            |</pre>"
      ],
      "text/plain": [
       "| 453.125ms                           | 100              | 7854            |"
      ]
     },
     "metadata": {},
     "output_type": "display_data"
    },
    {
     "data": {
      "text/html": [
       "<pre>+-------------------------------------+------------------+-----------------+</pre>"
      ],
      "text/plain": [
       "+-------------------------------------+------------------+-----------------+"
      ]
     },
     "metadata": {},
     "output_type": "display_data"
    },
    {
     "data": {
      "text/html": [
       "<pre>Finalizing lookup tables.</pre>"
      ],
      "text/plain": [
       "Finalizing lookup tables."
      ]
     },
     "metadata": {},
     "output_type": "display_data"
    },
    {
     "data": {
      "text/html": [
       "<pre>Generating candidate set for working with new users.</pre>"
      ],
      "text/plain": [
       "Generating candidate set for working with new users."
      ]
     },
     "metadata": {},
     "output_type": "display_data"
    },
    {
     "data": {
      "text/html": [
       "<pre>Finished training in 0.470367s</pre>"
      ],
      "text/plain": [
       "Finished training in 0.470367s"
      ]
     },
     "metadata": {},
     "output_type": "display_data"
    },
    {
     "data": {
      "text/html": [
       "<pre>recommendations finished on 1000/26227 queries. users per second: 44812.9</pre>"
      ],
      "text/plain": [
       "recommendations finished on 1000/26227 queries. users per second: 44812.9"
      ]
     },
     "metadata": {},
     "output_type": "display_data"
    },
    {
     "data": {
      "text/html": [
       "<pre>recommendations finished on 2000/26227 queries. users per second: 52441.1</pre>"
      ],
      "text/plain": [
       "recommendations finished on 2000/26227 queries. users per second: 52441.1"
      ]
     },
     "metadata": {},
     "output_type": "display_data"
    },
    {
     "data": {
      "text/html": [
       "<pre>recommendations finished on 3000/26227 queries. users per second: 57752.3</pre>"
      ],
      "text/plain": [
       "recommendations finished on 3000/26227 queries. users per second: 57752.3"
      ]
     },
     "metadata": {},
     "output_type": "display_data"
    },
    {
     "data": {
      "text/html": [
       "<pre>recommendations finished on 4000/26227 queries. users per second: 60610.7</pre>"
      ],
      "text/plain": [
       "recommendations finished on 4000/26227 queries. users per second: 60610.7"
      ]
     },
     "metadata": {},
     "output_type": "display_data"
    },
    {
     "data": {
      "text/html": [
       "<pre>recommendations finished on 5000/26227 queries. users per second: 63085.1</pre>"
      ],
      "text/plain": [
       "recommendations finished on 5000/26227 queries. users per second: 63085.1"
      ]
     },
     "metadata": {},
     "output_type": "display_data"
    },
    {
     "data": {
      "text/html": [
       "<pre>recommendations finished on 6000/26227 queries. users per second: 64836.1</pre>"
      ],
      "text/plain": [
       "recommendations finished on 6000/26227 queries. users per second: 64836.1"
      ]
     },
     "metadata": {},
     "output_type": "display_data"
    },
    {
     "data": {
      "text/html": [
       "<pre>recommendations finished on 7000/26227 queries. users per second: 66107.6</pre>"
      ],
      "text/plain": [
       "recommendations finished on 7000/26227 queries. users per second: 66107.6"
      ]
     },
     "metadata": {},
     "output_type": "display_data"
    },
    {
     "data": {
      "text/html": [
       "<pre>recommendations finished on 8000/26227 queries. users per second: 66760.1</pre>"
      ],
      "text/plain": [
       "recommendations finished on 8000/26227 queries. users per second: 66760.1"
      ]
     },
     "metadata": {},
     "output_type": "display_data"
    },
    {
     "data": {
      "text/html": [
       "<pre>recommendations finished on 9000/26227 queries. users per second: 67801.2</pre>"
      ],
      "text/plain": [
       "recommendations finished on 9000/26227 queries. users per second: 67801.2"
      ]
     },
     "metadata": {},
     "output_type": "display_data"
    },
    {
     "data": {
      "text/html": [
       "<pre>recommendations finished on 10000/26227 queries. users per second: 66796.3</pre>"
      ],
      "text/plain": [
       "recommendations finished on 10000/26227 queries. users per second: 66796.3"
      ]
     },
     "metadata": {},
     "output_type": "display_data"
    },
    {
     "data": {
      "text/html": [
       "<pre>recommendations finished on 11000/26227 queries. users per second: 66745.5</pre>"
      ],
      "text/plain": [
       "recommendations finished on 11000/26227 queries. users per second: 66745.5"
      ]
     },
     "metadata": {},
     "output_type": "display_data"
    },
    {
     "data": {
      "text/html": [
       "<pre>recommendations finished on 12000/26227 queries. users per second: 65607.1</pre>"
      ],
      "text/plain": [
       "recommendations finished on 12000/26227 queries. users per second: 65607.1"
      ]
     },
     "metadata": {},
     "output_type": "display_data"
    },
    {
     "data": {
      "text/html": [
       "<pre>recommendations finished on 13000/26227 queries. users per second: 66151.4</pre>"
      ],
      "text/plain": [
       "recommendations finished on 13000/26227 queries. users per second: 66151.4"
      ]
     },
     "metadata": {},
     "output_type": "display_data"
    },
    {
     "data": {
      "text/html": [
       "<pre>recommendations finished on 14000/26227 queries. users per second: 66034.3</pre>"
      ],
      "text/plain": [
       "recommendations finished on 14000/26227 queries. users per second: 66034.3"
      ]
     },
     "metadata": {},
     "output_type": "display_data"
    },
    {
     "data": {
      "text/html": [
       "<pre>recommendations finished on 15000/26227 queries. users per second: 65909.7</pre>"
      ],
      "text/plain": [
       "recommendations finished on 15000/26227 queries. users per second: 65909.7"
      ]
     },
     "metadata": {},
     "output_type": "display_data"
    },
    {
     "data": {
      "text/html": [
       "<pre>recommendations finished on 16000/26227 queries. users per second: 65246.5</pre>"
      ],
      "text/plain": [
       "recommendations finished on 16000/26227 queries. users per second: 65246.5"
      ]
     },
     "metadata": {},
     "output_type": "display_data"
    },
    {
     "data": {
      "text/html": [
       "<pre>recommendations finished on 17000/26227 queries. users per second: 65019</pre>"
      ],
      "text/plain": [
       "recommendations finished on 17000/26227 queries. users per second: 65019"
      ]
     },
     "metadata": {},
     "output_type": "display_data"
    },
    {
     "data": {
      "text/html": [
       "<pre>recommendations finished on 18000/26227 queries. users per second: 64772.2</pre>"
      ],
      "text/plain": [
       "recommendations finished on 18000/26227 queries. users per second: 64772.2"
      ]
     },
     "metadata": {},
     "output_type": "display_data"
    },
    {
     "data": {
      "text/html": [
       "<pre>recommendations finished on 19000/26227 queries. users per second: 64659.9</pre>"
      ],
      "text/plain": [
       "recommendations finished on 19000/26227 queries. users per second: 64659.9"
      ]
     },
     "metadata": {},
     "output_type": "display_data"
    },
    {
     "data": {
      "text/html": [
       "<pre>recommendations finished on 20000/26227 queries. users per second: 64821.2</pre>"
      ],
      "text/plain": [
       "recommendations finished on 20000/26227 queries. users per second: 64821.2"
      ]
     },
     "metadata": {},
     "output_type": "display_data"
    },
    {
     "data": {
      "text/html": [
       "<pre>recommendations finished on 21000/26227 queries. users per second: 64657.6</pre>"
      ],
      "text/plain": [
       "recommendations finished on 21000/26227 queries. users per second: 64657.6"
      ]
     },
     "metadata": {},
     "output_type": "display_data"
    },
    {
     "data": {
      "text/html": [
       "<pre>recommendations finished on 22000/26227 queries. users per second: 64669.7</pre>"
      ],
      "text/plain": [
       "recommendations finished on 22000/26227 queries. users per second: 64669.7"
      ]
     },
     "metadata": {},
     "output_type": "display_data"
    },
    {
     "data": {
      "text/html": [
       "<pre>recommendations finished on 23000/26227 queries. users per second: 64690.1</pre>"
      ],
      "text/plain": [
       "recommendations finished on 23000/26227 queries. users per second: 64690.1"
      ]
     },
     "metadata": {},
     "output_type": "display_data"
    },
    {
     "data": {
      "text/html": [
       "<pre>recommendations finished on 24000/26227 queries. users per second: 64665.1</pre>"
      ],
      "text/plain": [
       "recommendations finished on 24000/26227 queries. users per second: 64665.1"
      ]
     },
     "metadata": {},
     "output_type": "display_data"
    },
    {
     "data": {
      "text/html": [
       "<pre>recommendations finished on 25000/26227 queries. users per second: 63956</pre>"
      ],
      "text/plain": [
       "recommendations finished on 25000/26227 queries. users per second: 63956"
      ]
     },
     "metadata": {},
     "output_type": "display_data"
    },
    {
     "data": {
      "text/html": [
       "<pre>recommendations finished on 26000/26227 queries. users per second: 61456.3</pre>"
      ],
      "text/plain": [
       "recommendations finished on 26000/26227 queries. users per second: 61456.3"
      ]
     },
     "metadata": {},
     "output_type": "display_data"
    },
    {
     "name": "stdout",
     "output_type": "stream",
     "text": [
      "+-----------------+--------------------------------+----------------------+------+\n",
      "|   CRM_CUST_KEY  |            PRODUCT             |        score         | rank |\n",
      "+-----------------+--------------------------------+----------------------+------+\n",
      "| Master-CM045451 | 821-4021|K-FLEX FILES 21MM...  |  0.7863507270812988  |  1   |\n",
      "| Master-CM045451 | 821-8021|K-FILES 21MM SERI...  |  0.325080931186676   |  2   |\n",
      "| Master-CM045451 | P19035-3|AXIS White DiaGlo...  | 0.30654042959213257  |  3   |\n",
      "| Master-CM045451 | P19038-3|AXIS White DiaGlo...  |  0.3001031279563904  |  4   |\n",
      "| Master-CM045451 |        10035656|O-RING         | 0.21944952011108398  |  5   |\n",
      "| Master-CM045451 |  F833-021|NTI Diamond Fine FG  | 0.20547699928283691  |  6   |\n",
      "| Master-CM045451 | P1932-3|AXIS Pink DiaGloss...  | 0.17792975902557373  |  7   |\n",
      "| Master-CM045451 | 821-8025|K-FILES 25MM SERI...  | 0.16858583688735962  |  8   |\n",
      "| Master-CM045451 | P0143-150|AXIS Polisher - ...  | 0.14629971981048584  |  9   |\n",
      "| Master-CM045451 | 32430|EXPA-SYL CAPSULE 20P...  | 0.14629971981048584  |  10  |\n",
      "| Master-CM045452 | 823-4301|K3XF FILE .30/.04...  | 0.09455010890960694  |  1   |\n",
      "| Master-CM045452 | 35266|REFILL - OPTIBOND FL...  | 0.07553204894065857  |  2   |\n",
      "| Master-CM045452 | 29817|REFILL - XRVD   A4, USA  |  0.0673599362373352  |  3   |\n",
      "| Master-CM045452 | 973-0602-TYPEB|elements IC...  | 0.06350125670433045  |  4   |\n",
      "| Master-CM045452 | 33879|REFILL - AUTOMIX TIP...  |  0.0585671603679657  |  5   |\n",
      "| Master-CM045452 | 08414439|TUBING 5/8\"I.D.AE...  | 0.050572174787521365 |  6   |\n",
      "| Master-CM045452 | 08487264|SYRINGE - QUICK CLEAN | 0.04748042225837708  |  7   |\n",
      "| Master-CM045452 | 08430481|ADAPTER-KERR SEAL...  | 0.04358722567558289  |  8   |\n",
      "| Master-CM045452 | 08050058|LONG CONE RECTANGULAR | 0.04344356656074524  |  9   |\n",
      "| Master-CM045452 | H331RZ-FG100|AXIS Razor 33...  | 0.04262787103652954  |  10  |\n",
      "| Master-CM045453 | 15162|K-FLEX FILES 25MM SZ...  | 0.26937058568000793  |  1   |\n",
      "| Master-CM045453 | 15170|K-FLEX FILES 25MM SZ...  | 0.20151907205581665  |  2   |\n",
      "| Master-CM045453 |   FG7408-KC0|FG7408 CARBIDE    | 0.19179999828338623  |  3   |\n",
      "| Master-CM045453 | 08055406|HYGIENE ACCESSORI...  | 0.13783350586891174  |  4   |\n",
      "| Master-CM045453 | 08485844|SCR SHLDR 4-40 X 3/8  | 0.12833070755004883  |  5   |\n",
      "| Master-CM045453 | 15154|K-FLEX FILES 25MM SZ...  | 0.10877621173858643  |  6   |\n",
      "| Master-CM045453 | 08409803|TUBING-SYRINGE-LT...  | 0.08247379958629608  |  7   |\n",
      "| Master-CM045453 | 33879|REFILL - AUTOMIX TIP...  | 0.08210927248001099  |  8   |\n",
      "| Master-CM045453 | 08427729|PCB & HARNESS ASS...  |  0.0780114084482193  |  9   |\n",
      "| Master-CM045453 | 08055407|HYGIENE ACCESSORI...  | 0.07704778015613556  |  10  |\n",
      "+-----------------+--------------------------------+----------------------+------+\n",
      "[262270 rows x 4 columns]\n",
      "\n"
     ]
    }
   ],
   "source": [
    "# Using Purchase Count\n",
    "name = 'cosine'\n",
    "target = 'IVC_QTY'\n",
    "usersToRecommend = list(d[user_id])\n",
    "cos = model(trainData,name,user_id,item_id,target,usersToRecommend,nRec,nDisplay)"
   ]
  },
  {
   "cell_type": "code",
   "execution_count": 52,
   "metadata": {
    "Collapsed": "false"
   },
   "outputs": [
    {
     "data": {
      "text/html": [
       "<pre>Warning: Ignoring columns IVC_QTY;</pre>"
      ],
      "text/plain": [
       "Warning: Ignoring columns IVC_QTY;"
      ]
     },
     "metadata": {},
     "output_type": "display_data"
    },
    {
     "data": {
      "text/html": [
       "<pre>    To use these columns in scoring predictions, use a model that allows the use of additional features.</pre>"
      ],
      "text/plain": [
       "    To use these columns in scoring predictions, use a model that allows the use of additional features."
      ]
     },
     "metadata": {},
     "output_type": "display_data"
    },
    {
     "data": {
      "text/html": [
       "<pre>Preparing data set.</pre>"
      ],
      "text/plain": [
       "Preparing data set."
      ]
     },
     "metadata": {},
     "output_type": "display_data"
    },
    {
     "data": {
      "text/html": [
       "<pre>    Data has 1809952 observations with 144223 users and 11020 items.</pre>"
      ],
      "text/plain": [
       "    Data has 1809952 observations with 144223 users and 11020 items."
      ]
     },
     "metadata": {},
     "output_type": "display_data"
    },
    {
     "data": {
      "text/html": [
       "<pre>    Data prepared in: 1.20494s</pre>"
      ],
      "text/plain": [
       "    Data prepared in: 1.20494s"
      ]
     },
     "metadata": {},
     "output_type": "display_data"
    },
    {
     "data": {
      "text/html": [
       "<pre>Training model from provided data.</pre>"
      ],
      "text/plain": [
       "Training model from provided data."
      ]
     },
     "metadata": {},
     "output_type": "display_data"
    },
    {
     "data": {
      "text/html": [
       "<pre>Gathering per-item and per-user statistics.</pre>"
      ],
      "text/plain": [
       "Gathering per-item and per-user statistics."
      ]
     },
     "metadata": {},
     "output_type": "display_data"
    },
    {
     "data": {
      "text/html": [
       "<pre>+--------------------------------+------------+</pre>"
      ],
      "text/plain": [
       "+--------------------------------+------------+"
      ]
     },
     "metadata": {},
     "output_type": "display_data"
    },
    {
     "data": {
      "text/html": [
       "<pre>| Elapsed Time (Item Statistics) | % Complete |</pre>"
      ],
      "text/plain": [
       "| Elapsed Time (Item Statistics) | % Complete |"
      ]
     },
     "metadata": {},
     "output_type": "display_data"
    },
    {
     "data": {
      "text/html": [
       "<pre>+--------------------------------+------------+</pre>"
      ],
      "text/plain": [
       "+--------------------------------+------------+"
      ]
     },
     "metadata": {},
     "output_type": "display_data"
    },
    {
     "data": {
      "text/html": [
       "<pre>| 1.808ms                        | 0.5        |</pre>"
      ],
      "text/plain": [
       "| 1.808ms                        | 0.5        |"
      ]
     },
     "metadata": {},
     "output_type": "display_data"
    },
    {
     "data": {
      "text/html": [
       "<pre>| 21.002ms                       | 100        |</pre>"
      ],
      "text/plain": [
       "| 21.002ms                       | 100        |"
      ]
     },
     "metadata": {},
     "output_type": "display_data"
    },
    {
     "data": {
      "text/html": [
       "<pre>+--------------------------------+------------+</pre>"
      ],
      "text/plain": [
       "+--------------------------------+------------+"
      ]
     },
     "metadata": {},
     "output_type": "display_data"
    },
    {
     "data": {
      "text/html": [
       "<pre>Setting up lookup tables.</pre>"
      ],
      "text/plain": [
       "Setting up lookup tables."
      ]
     },
     "metadata": {},
     "output_type": "display_data"
    },
    {
     "data": {
      "text/html": [
       "<pre>Processing data in one pass using dense lookup tables.</pre>"
      ],
      "text/plain": [
       "Processing data in one pass using dense lookup tables."
      ]
     },
     "metadata": {},
     "output_type": "display_data"
    },
    {
     "data": {
      "text/html": [
       "<pre>+-------------------------------------+------------------+-----------------+</pre>"
      ],
      "text/plain": [
       "+-------------------------------------+------------------+-----------------+"
      ]
     },
     "metadata": {},
     "output_type": "display_data"
    },
    {
     "data": {
      "text/html": [
       "<pre>| Elapsed Time (Constructing Lookups) | Total % Complete | Items Processed |</pre>"
      ],
      "text/plain": [
       "| Elapsed Time (Constructing Lookups) | Total % Complete | Items Processed |"
      ]
     },
     "metadata": {},
     "output_type": "display_data"
    },
    {
     "data": {
      "text/html": [
       "<pre>+-------------------------------------+------------------+-----------------+</pre>"
      ],
      "text/plain": [
       "+-------------------------------------+------------------+-----------------+"
      ]
     },
     "metadata": {},
     "output_type": "display_data"
    },
    {
     "data": {
      "text/html": [
       "<pre>| 503.753ms                           | 0                | 0               |</pre>"
      ],
      "text/plain": [
       "| 503.753ms                           | 0                | 0               |"
      ]
     },
     "metadata": {},
     "output_type": "display_data"
    },
    {
     "data": {
      "text/html": [
       "<pre>| 1.05s                               | 100              | 11020           |</pre>"
      ],
      "text/plain": [
       "| 1.05s                               | 100              | 11020           |"
      ]
     },
     "metadata": {},
     "output_type": "display_data"
    },
    {
     "data": {
      "text/html": [
       "<pre>+-------------------------------------+------------------+-----------------+</pre>"
      ],
      "text/plain": [
       "+-------------------------------------+------------------+-----------------+"
      ]
     },
     "metadata": {},
     "output_type": "display_data"
    },
    {
     "data": {
      "text/html": [
       "<pre>Finalizing lookup tables.</pre>"
      ],
      "text/plain": [
       "Finalizing lookup tables."
      ]
     },
     "metadata": {},
     "output_type": "display_data"
    },
    {
     "data": {
      "text/html": [
       "<pre>Generating candidate set for working with new users.</pre>"
      ],
      "text/plain": [
       "Generating candidate set for working with new users."
      ]
     },
     "metadata": {},
     "output_type": "display_data"
    },
    {
     "data": {
      "text/html": [
       "<pre>Finished training in 1.10759s</pre>"
      ],
      "text/plain": [
       "Finished training in 1.10759s"
      ]
     },
     "metadata": {},
     "output_type": "display_data"
    },
    {
     "data": {
      "text/html": [
       "<pre>recommendations finished on 1000/26227 queries. users per second: 24902.9</pre>"
      ],
      "text/plain": [
       "recommendations finished on 1000/26227 queries. users per second: 24902.9"
      ]
     },
     "metadata": {},
     "output_type": "display_data"
    },
    {
     "data": {
      "text/html": [
       "<pre>recommendations finished on 2000/26227 queries. users per second: 32789.6</pre>"
      ],
      "text/plain": [
       "recommendations finished on 2000/26227 queries. users per second: 32789.6"
      ]
     },
     "metadata": {},
     "output_type": "display_data"
    },
    {
     "data": {
      "text/html": [
       "<pre>recommendations finished on 3000/26227 queries. users per second: 34758.4</pre>"
      ],
      "text/plain": [
       "recommendations finished on 3000/26227 queries. users per second: 34758.4"
      ]
     },
     "metadata": {},
     "output_type": "display_data"
    },
    {
     "data": {
      "text/html": [
       "<pre>recommendations finished on 4000/26227 queries. users per second: 33441.2</pre>"
      ],
      "text/plain": [
       "recommendations finished on 4000/26227 queries. users per second: 33441.2"
      ]
     },
     "metadata": {},
     "output_type": "display_data"
    },
    {
     "data": {
      "text/html": [
       "<pre>recommendations finished on 5000/26227 queries. users per second: 35037.8</pre>"
      ],
      "text/plain": [
       "recommendations finished on 5000/26227 queries. users per second: 35037.8"
      ]
     },
     "metadata": {},
     "output_type": "display_data"
    },
    {
     "data": {
      "text/html": [
       "<pre>recommendations finished on 6000/26227 queries. users per second: 36142</pre>"
      ],
      "text/plain": [
       "recommendations finished on 6000/26227 queries. users per second: 36142"
      ]
     },
     "metadata": {},
     "output_type": "display_data"
    },
    {
     "data": {
      "text/html": [
       "<pre>recommendations finished on 7000/26227 queries. users per second: 37286.2</pre>"
      ],
      "text/plain": [
       "recommendations finished on 7000/26227 queries. users per second: 37286.2"
      ]
     },
     "metadata": {},
     "output_type": "display_data"
    },
    {
     "data": {
      "text/html": [
       "<pre>recommendations finished on 8000/26227 queries. users per second: 37912.5</pre>"
      ],
      "text/plain": [
       "recommendations finished on 8000/26227 queries. users per second: 37912.5"
      ]
     },
     "metadata": {},
     "output_type": "display_data"
    },
    {
     "data": {
      "text/html": [
       "<pre>recommendations finished on 9000/26227 queries. users per second: 38499.5</pre>"
      ],
      "text/plain": [
       "recommendations finished on 9000/26227 queries. users per second: 38499.5"
      ]
     },
     "metadata": {},
     "output_type": "display_data"
    },
    {
     "data": {
      "text/html": [
       "<pre>recommendations finished on 10000/26227 queries. users per second: 38789.5</pre>"
      ],
      "text/plain": [
       "recommendations finished on 10000/26227 queries. users per second: 38789.5"
      ]
     },
     "metadata": {},
     "output_type": "display_data"
    },
    {
     "data": {
      "text/html": [
       "<pre>recommendations finished on 11000/26227 queries. users per second: 39294</pre>"
      ],
      "text/plain": [
       "recommendations finished on 11000/26227 queries. users per second: 39294"
      ]
     },
     "metadata": {},
     "output_type": "display_data"
    },
    {
     "data": {
      "text/html": [
       "<pre>recommendations finished on 12000/26227 queries. users per second: 39839.8</pre>"
      ],
      "text/plain": [
       "recommendations finished on 12000/26227 queries. users per second: 39839.8"
      ]
     },
     "metadata": {},
     "output_type": "display_data"
    },
    {
     "data": {
      "text/html": [
       "<pre>recommendations finished on 13000/26227 queries. users per second: 40083</pre>"
      ],
      "text/plain": [
       "recommendations finished on 13000/26227 queries. users per second: 40083"
      ]
     },
     "metadata": {},
     "output_type": "display_data"
    },
    {
     "data": {
      "text/html": [
       "<pre>recommendations finished on 14000/26227 queries. users per second: 40656.3</pre>"
      ],
      "text/plain": [
       "recommendations finished on 14000/26227 queries. users per second: 40656.3"
      ]
     },
     "metadata": {},
     "output_type": "display_data"
    },
    {
     "data": {
      "text/html": [
       "<pre>recommendations finished on 15000/26227 queries. users per second: 40976</pre>"
      ],
      "text/plain": [
       "recommendations finished on 15000/26227 queries. users per second: 40976"
      ]
     },
     "metadata": {},
     "output_type": "display_data"
    },
    {
     "data": {
      "text/html": [
       "<pre>recommendations finished on 16000/26227 queries. users per second: 41098.4</pre>"
      ],
      "text/plain": [
       "recommendations finished on 16000/26227 queries. users per second: 41098.4"
      ]
     },
     "metadata": {},
     "output_type": "display_data"
    },
    {
     "data": {
      "text/html": [
       "<pre>recommendations finished on 17000/26227 queries. users per second: 41167.3</pre>"
      ],
      "text/plain": [
       "recommendations finished on 17000/26227 queries. users per second: 41167.3"
      ]
     },
     "metadata": {},
     "output_type": "display_data"
    },
    {
     "data": {
      "text/html": [
       "<pre>recommendations finished on 18000/26227 queries. users per second: 40159.8</pre>"
      ],
      "text/plain": [
       "recommendations finished on 18000/26227 queries. users per second: 40159.8"
      ]
     },
     "metadata": {},
     "output_type": "display_data"
    },
    {
     "data": {
      "text/html": [
       "<pre>recommendations finished on 19000/26227 queries. users per second: 40581.4</pre>"
      ],
      "text/plain": [
       "recommendations finished on 19000/26227 queries. users per second: 40581.4"
      ]
     },
     "metadata": {},
     "output_type": "display_data"
    },
    {
     "data": {
      "text/html": [
       "<pre>recommendations finished on 20000/26227 queries. users per second: 40784.7</pre>"
      ],
      "text/plain": [
       "recommendations finished on 20000/26227 queries. users per second: 40784.7"
      ]
     },
     "metadata": {},
     "output_type": "display_data"
    },
    {
     "data": {
      "text/html": [
       "<pre>recommendations finished on 21000/26227 queries. users per second: 40853.9</pre>"
      ],
      "text/plain": [
       "recommendations finished on 21000/26227 queries. users per second: 40853.9"
      ]
     },
     "metadata": {},
     "output_type": "display_data"
    },
    {
     "data": {
      "text/html": [
       "<pre>recommendations finished on 22000/26227 queries. users per second: 40788.8</pre>"
      ],
      "text/plain": [
       "recommendations finished on 22000/26227 queries. users per second: 40788.8"
      ]
     },
     "metadata": {},
     "output_type": "display_data"
    },
    {
     "data": {
      "text/html": [
       "<pre>recommendations finished on 23000/26227 queries. users per second: 40998.4</pre>"
      ],
      "text/plain": [
       "recommendations finished on 23000/26227 queries. users per second: 40998.4"
      ]
     },
     "metadata": {},
     "output_type": "display_data"
    },
    {
     "data": {
      "text/html": [
       "<pre>recommendations finished on 24000/26227 queries. users per second: 40749.3</pre>"
      ],
      "text/plain": [
       "recommendations finished on 24000/26227 queries. users per second: 40749.3"
      ]
     },
     "metadata": {},
     "output_type": "display_data"
    },
    {
     "data": {
      "text/html": [
       "<pre>recommendations finished on 25000/26227 queries. users per second: 40137.8</pre>"
      ],
      "text/plain": [
       "recommendations finished on 25000/26227 queries. users per second: 40137.8"
      ]
     },
     "metadata": {},
     "output_type": "display_data"
    },
    {
     "data": {
      "text/html": [
       "<pre>recommendations finished on 26000/26227 queries. users per second: 39419.5</pre>"
      ],
      "text/plain": [
       "recommendations finished on 26000/26227 queries. users per second: 39419.5"
      ]
     },
     "metadata": {},
     "output_type": "display_data"
    },
    {
     "name": "stdout",
     "output_type": "stream",
     "text": [
      "+-----------------+-------------------------------+----------------------+------+\n",
      "|   CRM_CUST_KEY  |            PRODUCT            |        score         | rank |\n",
      "+-----------------+-------------------------------+----------------------+------+\n",
      "| Master-CM045451 | P1935-3|AXIS Pink DiaGloss... | 0.22167864441871643  |  1   |\n",
      "| Master-CM045451 | P19035-3|AXIS White DiaGlo... | 0.18390876054763794  |  2   |\n",
      "| Master-CM045451 | P1938-3|AXIS Pink DiaGloss... |  0.1309148073196411  |  3   |\n",
      "| Master-CM045451 | P19038-3|AXIS White DiaGlo... | 0.10432299971580505  |  4   |\n",
      "| Master-CM045451 | P19033-3|AXIS White DiaGlo... | 0.09515869617462158  |  5   |\n",
      "| Master-CM045451 | P1933-3|AXIS Pink DiaGloss... | 0.08920526504516602  |  6   |\n",
      "| Master-CM045451 |      10013434|Spray Tube      | 0.05050763487815857  |  7   |\n",
      "| Master-CM045451 |     05343262|Thrust piece     | 0.05050763487815857  |  8   |\n",
      "| Master-CM045451 | F368-023G|AXIS Gold Pack (... | 0.04587346315383911  |  9   |\n",
      "| Master-CM045451 | 08420787|SCREW .500-28 X .... | 0.04123929142951965  |  10  |\n",
      "| Master-CM045452 | 33879|REFILL - AUTOMIX TIP... | 0.050448563363817006 |  1   |\n",
      "| Master-CM045452 | 33351|KIT- TEMPBOND CLEAR ... | 0.04676900969611274  |  2   |\n",
      "| Master-CM045452 | 10054524|QUATTROcare plus ... | 0.041759212811787925 |  3   |\n",
      "| Master-CM045452 | 34418|KIT - MAXCEM ELITE BULK | 0.04048660066392687  |  4   |\n",
      "| Master-CM045452 | 33361|REFILL - TEMPBOND MI... | 0.03769167926576403  |  5   |\n",
      "| Master-CM045452 | 32862|REFILL - MAXCEM MIXI... | 0.03317566050423516  |  6   |\n",
      "| Master-CM045452 | 33873|REFILL - MAXCEM ELIT... | 0.03154269191953871  |  7   |\n",
      "| Master-CM045452 | 33881|REFILL - ROOT CANAL ... | 0.03140658802456326  |  8   |\n",
      "| Master-CM045452 | 10073580|GENTLEpower Lux C... | 0.027888019879659016 |  9   |\n",
      "| Master-CM045452 | 36441|Harmonize A2 Enamel ... | 0.024836149480607774 |  10  |\n",
      "| Master-CM045453 | 08455707|SET RPLCMNT LIGHT... | 0.08333435654640198  |  1   |\n",
      "| Master-CM045453 | 32862|REFILL - MAXCEM MIXI... | 0.07958461344242096  |  2   |\n",
      "| Master-CM045453 | 08405844|SWITCH MEMBRANE -... | 0.07177115976810455  |  3   |\n",
      "| Master-CM045453 |  08458720|PLATE LABEL VENTED  |  0.069893479347229   |  4   |\n",
      "| Master-CM045453 | 08451205|NAMEPLATE DCIE LI... | 0.06236627697944641  |  5   |\n",
      "| Master-CM045453 | 33879|REFILL - AUTOMIX TIP... | 0.05653531849384308  |  6   |\n",
      "| Master-CM045453 |  08453075|PIN SHIELD RELEASE  | 0.055649325251579285 |  7   |\n",
      "| Master-CM045453 | 08451228|RING RETAINING EX... | 0.05088233947753906  |  8   |\n",
      "| Master-CM045453 | 08451224|SPRING COMPRESSIO... | 0.04906997084617615  |  9   |\n",
      "| Master-CM045453 | 33351|KIT- TEMPBOND CLEAR ... | 0.04385967552661896  |  10  |\n",
      "+-----------------+-------------------------------+----------------------+------+\n",
      "[262270 rows x 4 columns]\n",
      "\n"
     ]
    }
   ],
   "source": [
    "# Using Purchase Dummy\n",
    "\n",
    "name = 'cosine'\n",
    "target = 'purchaseDummy'\n",
    "cosDummy = model(trainDataDummy,name,user_id,item_id,target,usersToRecommend,nRec,nDisplay)"
   ]
  },
  {
   "cell_type": "code",
   "execution_count": 53,
   "metadata": {
    "Collapsed": "false"
   },
   "outputs": [
    {
     "data": {
      "text/html": [
       "<pre>Preparing data set.</pre>"
      ],
      "text/plain": [
       "Preparing data set."
      ]
     },
     "metadata": {},
     "output_type": "display_data"
    },
    {
     "data": {
      "text/html": [
       "<pre>    Data has 198782 observations with 25407 users and 5261 items.</pre>"
      ],
      "text/plain": [
       "    Data has 198782 observations with 25407 users and 5261 items."
      ]
     },
     "metadata": {},
     "output_type": "display_data"
    },
    {
     "data": {
      "text/html": [
       "<pre>    Data prepared in: 0.185637s</pre>"
      ],
      "text/plain": [
       "    Data prepared in: 0.185637s"
      ]
     },
     "metadata": {},
     "output_type": "display_data"
    },
    {
     "data": {
      "text/html": [
       "<pre>Training model from provided data.</pre>"
      ],
      "text/plain": [
       "Training model from provided data."
      ]
     },
     "metadata": {},
     "output_type": "display_data"
    },
    {
     "data": {
      "text/html": [
       "<pre>Gathering per-item and per-user statistics.</pre>"
      ],
      "text/plain": [
       "Gathering per-item and per-user statistics."
      ]
     },
     "metadata": {},
     "output_type": "display_data"
    },
    {
     "data": {
      "text/html": [
       "<pre>+--------------------------------+------------+</pre>"
      ],
      "text/plain": [
       "+--------------------------------+------------+"
      ]
     },
     "metadata": {},
     "output_type": "display_data"
    },
    {
     "data": {
      "text/html": [
       "<pre>| Elapsed Time (Item Statistics) | % Complete |</pre>"
      ],
      "text/plain": [
       "| Elapsed Time (Item Statistics) | % Complete |"
      ]
     },
     "metadata": {},
     "output_type": "display_data"
    },
    {
     "data": {
      "text/html": [
       "<pre>+--------------------------------+------------+</pre>"
      ],
      "text/plain": [
       "+--------------------------------+------------+"
      ]
     },
     "metadata": {},
     "output_type": "display_data"
    },
    {
     "data": {
      "text/html": [
       "<pre>| 1.88ms                         | 3.75       |</pre>"
      ],
      "text/plain": [
       "| 1.88ms                         | 3.75       |"
      ]
     },
     "metadata": {},
     "output_type": "display_data"
    },
    {
     "data": {
      "text/html": [
       "<pre>| 5.159ms                        | 100        |</pre>"
      ],
      "text/plain": [
       "| 5.159ms                        | 100        |"
      ]
     },
     "metadata": {},
     "output_type": "display_data"
    },
    {
     "data": {
      "text/html": [
       "<pre>+--------------------------------+------------+</pre>"
      ],
      "text/plain": [
       "+--------------------------------+------------+"
      ]
     },
     "metadata": {},
     "output_type": "display_data"
    },
    {
     "data": {
      "text/html": [
       "<pre>Setting up lookup tables.</pre>"
      ],
      "text/plain": [
       "Setting up lookup tables."
      ]
     },
     "metadata": {},
     "output_type": "display_data"
    },
    {
     "data": {
      "text/html": [
       "<pre>Processing data in one pass using dense lookup tables.</pre>"
      ],
      "text/plain": [
       "Processing data in one pass using dense lookup tables."
      ]
     },
     "metadata": {},
     "output_type": "display_data"
    },
    {
     "data": {
      "text/html": [
       "<pre>+-------------------------------------+------------------+-----------------+</pre>"
      ],
      "text/plain": [
       "+-------------------------------------+------------------+-----------------+"
      ]
     },
     "metadata": {},
     "output_type": "display_data"
    },
    {
     "data": {
      "text/html": [
       "<pre>| Elapsed Time (Constructing Lookups) | Total % Complete | Items Processed |</pre>"
      ],
      "text/plain": [
       "| Elapsed Time (Constructing Lookups) | Total % Complete | Items Processed |"
      ]
     },
     "metadata": {},
     "output_type": "display_data"
    },
    {
     "data": {
      "text/html": [
       "<pre>+-------------------------------------+------------------+-----------------+</pre>"
      ],
      "text/plain": [
       "+-------------------------------------+------------------+-----------------+"
      ]
     },
     "metadata": {},
     "output_type": "display_data"
    },
    {
     "data": {
      "text/html": [
       "<pre>| 139.471ms                           | 0                | 0               |</pre>"
      ],
      "text/plain": [
       "| 139.471ms                           | 0                | 0               |"
      ]
     },
     "metadata": {},
     "output_type": "display_data"
    },
    {
     "data": {
      "text/html": [
       "<pre>| 246.919ms                           | 100              | 5261            |</pre>"
      ],
      "text/plain": [
       "| 246.919ms                           | 100              | 5261            |"
      ]
     },
     "metadata": {},
     "output_type": "display_data"
    },
    {
     "data": {
      "text/html": [
       "<pre>+-------------------------------------+------------------+-----------------+</pre>"
      ],
      "text/plain": [
       "+-------------------------------------+------------------+-----------------+"
      ]
     },
     "metadata": {},
     "output_type": "display_data"
    },
    {
     "data": {
      "text/html": [
       "<pre>Finalizing lookup tables.</pre>"
      ],
      "text/plain": [
       "Finalizing lookup tables."
      ]
     },
     "metadata": {},
     "output_type": "display_data"
    },
    {
     "data": {
      "text/html": [
       "<pre>Generating candidate set for working with new users.</pre>"
      ],
      "text/plain": [
       "Generating candidate set for working with new users."
      ]
     },
     "metadata": {},
     "output_type": "display_data"
    },
    {
     "data": {
      "text/html": [
       "<pre>Finished training in 0.266107s</pre>"
      ],
      "text/plain": [
       "Finished training in 0.266107s"
      ]
     },
     "metadata": {},
     "output_type": "display_data"
    },
    {
     "data": {
      "text/html": [
       "<pre>recommendations finished on 1000/26227 queries. users per second: 32831</pre>"
      ],
      "text/plain": [
       "recommendations finished on 1000/26227 queries. users per second: 32831"
      ]
     },
     "metadata": {},
     "output_type": "display_data"
    },
    {
     "data": {
      "text/html": [
       "<pre>recommendations finished on 2000/26227 queries. users per second: 48804.3</pre>"
      ],
      "text/plain": [
       "recommendations finished on 2000/26227 queries. users per second: 48804.3"
      ]
     },
     "metadata": {},
     "output_type": "display_data"
    },
    {
     "data": {
      "text/html": [
       "<pre>recommendations finished on 3000/26227 queries. users per second: 57644.6</pre>"
      ],
      "text/plain": [
       "recommendations finished on 3000/26227 queries. users per second: 57644.6"
      ]
     },
     "metadata": {},
     "output_type": "display_data"
    },
    {
     "data": {
      "text/html": [
       "<pre>recommendations finished on 4000/26227 queries. users per second: 60821.7</pre>"
      ],
      "text/plain": [
       "recommendations finished on 4000/26227 queries. users per second: 60821.7"
      ]
     },
     "metadata": {},
     "output_type": "display_data"
    },
    {
     "data": {
      "text/html": [
       "<pre>recommendations finished on 5000/26227 queries. users per second: 65884.8</pre>"
      ],
      "text/plain": [
       "recommendations finished on 5000/26227 queries. users per second: 65884.8"
      ]
     },
     "metadata": {},
     "output_type": "display_data"
    },
    {
     "data": {
      "text/html": [
       "<pre>recommendations finished on 6000/26227 queries. users per second: 69545.1</pre>"
      ],
      "text/plain": [
       "recommendations finished on 6000/26227 queries. users per second: 69545.1"
      ]
     },
     "metadata": {},
     "output_type": "display_data"
    },
    {
     "data": {
      "text/html": [
       "<pre>recommendations finished on 7000/26227 queries. users per second: 71519.8</pre>"
      ],
      "text/plain": [
       "recommendations finished on 7000/26227 queries. users per second: 71519.8"
      ]
     },
     "metadata": {},
     "output_type": "display_data"
    },
    {
     "data": {
      "text/html": [
       "<pre>recommendations finished on 8000/26227 queries. users per second: 73647.9</pre>"
      ],
      "text/plain": [
       "recommendations finished on 8000/26227 queries. users per second: 73647.9"
      ]
     },
     "metadata": {},
     "output_type": "display_data"
    },
    {
     "data": {
      "text/html": [
       "<pre>recommendations finished on 9000/26227 queries. users per second: 75459.7</pre>"
      ],
      "text/plain": [
       "recommendations finished on 9000/26227 queries. users per second: 75459.7"
      ]
     },
     "metadata": {},
     "output_type": "display_data"
    },
    {
     "data": {
      "text/html": [
       "<pre>recommendations finished on 10000/26227 queries. users per second: 77566.9</pre>"
      ],
      "text/plain": [
       "recommendations finished on 10000/26227 queries. users per second: 77566.9"
      ]
     },
     "metadata": {},
     "output_type": "display_data"
    },
    {
     "data": {
      "text/html": [
       "<pre>recommendations finished on 11000/26227 queries. users per second: 78115.6</pre>"
      ],
      "text/plain": [
       "recommendations finished on 11000/26227 queries. users per second: 78115.6"
      ]
     },
     "metadata": {},
     "output_type": "display_data"
    },
    {
     "data": {
      "text/html": [
       "<pre>recommendations finished on 12000/26227 queries. users per second: 78968.7</pre>"
      ],
      "text/plain": [
       "recommendations finished on 12000/26227 queries. users per second: 78968.7"
      ]
     },
     "metadata": {},
     "output_type": "display_data"
    },
    {
     "data": {
      "text/html": [
       "<pre>recommendations finished on 13000/26227 queries. users per second: 79830.5</pre>"
      ],
      "text/plain": [
       "recommendations finished on 13000/26227 queries. users per second: 79830.5"
      ]
     },
     "metadata": {},
     "output_type": "display_data"
    },
    {
     "data": {
      "text/html": [
       "<pre>recommendations finished on 14000/26227 queries. users per second: 80250.4</pre>"
      ],
      "text/plain": [
       "recommendations finished on 14000/26227 queries. users per second: 80250.4"
      ]
     },
     "metadata": {},
     "output_type": "display_data"
    },
    {
     "data": {
      "text/html": [
       "<pre>recommendations finished on 15000/26227 queries. users per second: 79535.5</pre>"
      ],
      "text/plain": [
       "recommendations finished on 15000/26227 queries. users per second: 79535.5"
      ]
     },
     "metadata": {},
     "output_type": "display_data"
    },
    {
     "data": {
      "text/html": [
       "<pre>recommendations finished on 16000/26227 queries. users per second: 80113</pre>"
      ],
      "text/plain": [
       "recommendations finished on 16000/26227 queries. users per second: 80113"
      ]
     },
     "metadata": {},
     "output_type": "display_data"
    },
    {
     "data": {
      "text/html": [
       "<pre>recommendations finished on 17000/26227 queries. users per second: 80113.5</pre>"
      ],
      "text/plain": [
       "recommendations finished on 17000/26227 queries. users per second: 80113.5"
      ]
     },
     "metadata": {},
     "output_type": "display_data"
    },
    {
     "data": {
      "text/html": [
       "<pre>recommendations finished on 18000/26227 queries. users per second: 79644.6</pre>"
      ],
      "text/plain": [
       "recommendations finished on 18000/26227 queries. users per second: 79644.6"
      ]
     },
     "metadata": {},
     "output_type": "display_data"
    },
    {
     "data": {
      "text/html": [
       "<pre>recommendations finished on 19000/26227 queries. users per second: 79716.7</pre>"
      ],
      "text/plain": [
       "recommendations finished on 19000/26227 queries. users per second: 79716.7"
      ]
     },
     "metadata": {},
     "output_type": "display_data"
    },
    {
     "data": {
      "text/html": [
       "<pre>recommendations finished on 20000/26227 queries. users per second: 79698.4</pre>"
      ],
      "text/plain": [
       "recommendations finished on 20000/26227 queries. users per second: 79698.4"
      ]
     },
     "metadata": {},
     "output_type": "display_data"
    },
    {
     "data": {
      "text/html": [
       "<pre>recommendations finished on 21000/26227 queries. users per second: 79124.4</pre>"
      ],
      "text/plain": [
       "recommendations finished on 21000/26227 queries. users per second: 79124.4"
      ]
     },
     "metadata": {},
     "output_type": "display_data"
    },
    {
     "data": {
      "text/html": [
       "<pre>recommendations finished on 22000/26227 queries. users per second: 79587</pre>"
      ],
      "text/plain": [
       "recommendations finished on 22000/26227 queries. users per second: 79587"
      ]
     },
     "metadata": {},
     "output_type": "display_data"
    },
    {
     "data": {
      "text/html": [
       "<pre>recommendations finished on 23000/26227 queries. users per second: 79966.1</pre>"
      ],
      "text/plain": [
       "recommendations finished on 23000/26227 queries. users per second: 79966.1"
      ]
     },
     "metadata": {},
     "output_type": "display_data"
    },
    {
     "data": {
      "text/html": [
       "<pre>recommendations finished on 24000/26227 queries. users per second: 79226</pre>"
      ],
      "text/plain": [
       "recommendations finished on 24000/26227 queries. users per second: 79226"
      ]
     },
     "metadata": {},
     "output_type": "display_data"
    },
    {
     "data": {
      "text/html": [
       "<pre>recommendations finished on 25000/26227 queries. users per second: 79511.2</pre>"
      ],
      "text/plain": [
       "recommendations finished on 25000/26227 queries. users per second: 79511.2"
      ]
     },
     "metadata": {},
     "output_type": "display_data"
    },
    {
     "data": {
      "text/html": [
       "<pre>recommendations finished on 26000/26227 queries. users per second: 76775.7</pre>"
      ],
      "text/plain": [
       "recommendations finished on 26000/26227 queries. users per second: 76775.7"
      ]
     },
     "metadata": {},
     "output_type": "display_data"
    },
    {
     "name": "stdout",
     "output_type": "stream",
     "text": [
      "+-----------------+--------------------------------+----------------------+------+\n",
      "|   CRM_CUST_KEY  |            PRODUCT             |        score         | rank |\n",
      "+-----------------+--------------------------------+----------------------+------+\n",
      "| Master-CM045451 | 10075082|BITE PIECE, PANORAMIC | 0.049581676721572876 |  1   |\n",
      "| Master-CM045451 | 825-2355|K3 ENG FILE .35/....  | 0.049581676721572876 |  2   |\n",
      "| Master-CM045451 | P19035-3|AXIS White DiaGlo...  | 0.026875227689743042 |  3   |\n",
      "| Master-CM045451 |  F833-021|NTI Diamond Fine FG  | 0.026372045278549194 |  4   |\n",
      "| Master-CM045451 | C879K-018|NTI Diamond Coar...  | 0.025229156017303467 |  5   |\n",
      "| Master-CM045451 | SC368-023|NTI Diamond Supe...  | 0.025206178426742554 |  6   |\n",
      "| Master-CM045451 | SC847-012|NTI Diamond Supe...  | 0.022707998752593994 |  7   |\n",
      "| Master-CM045451 | P0143-150|AXIS Polisher - ...  | 0.02217361330986023  |  8   |\n",
      "| Master-CM045451 | SC909-037|NTI Diamond Supe...  | 0.020665884017944336 |  9   |\n",
      "| Master-CM045451 | 825-2201|K3 ENG FILE .20/....  |  0.0205610990524292  |  10  |\n",
      "| Master-CM045452 | 33361|REFILL - TEMPBOND MI...  | 0.013834372162818909 |  1   |\n",
      "| Master-CM045452 | 33351|KIT- TEMPBOND CLEAR ...  | 0.011326998472213745 |  2   |\n",
      "| Master-CM045452 |  N18AD|REFILL- KOR 1.25 30PK   | 0.009290352463722229 |  3   |\n",
      "| Master-CM045452 |  N18AF|REFILL- KOR 1.50 30PK   | 0.008865907788276672 |  4   |\n",
      "| Master-CM045452 | 33873|REFILL - MAXCEM ELIT...  | 0.00886586308479309  |  5   |\n",
      "| Master-CM045452 | 32862|REFILL - MAXCEM MIXI...  | 0.008714839816093445 |  6   |\n",
      "| Master-CM045452 | 33217|TEMP BOND N.E. SYRIN...  | 0.008596375584602356 |  7   |\n",
      "| Master-CM045452 | 34418|KIT - MAXCEM ELITE BULK  | 0.00835445523262024  |  8   |\n",
      "| Master-CM045452 | 33875|REFILL - MAXCEM ELIT...  | 0.008318856358528137 |  9   |\n",
      "| Master-CM045452 |    N32FE|BFR OPWHT MINI MIX    | 0.008231133222579956 |  10  |\n",
      "| Master-CM045453 | 08467627|COVER STRIP LONG ...  | 0.03628619909286499  |  1   |\n",
      "| Master-CM045453 |   FG7408-KC0|FG7408 CARBIDE    | 0.03219393491744995  |  2   |\n",
      "| Master-CM045453 | 08427096|WATER VALVE - DEL...  | 0.032057130336761476 |  3   |\n",
      "| Master-CM045453 | 08457774|VALVE-3 WAY TOGGL...  | 0.02962754964828491  |  4   |\n",
      "| Master-CM045453 | 08423962|ARM REST SLINGS-U...  |  0.0270879864692688  |  5   |\n",
      "| Master-CM045453 | C848L-014|NTI Diamond Coar...  | 0.023476600646972656 |  6   |\n",
      "| Master-CM045453 | 08406929|PIN ROLL 1/8 OD X...  | 0.021960353851318358 |  7   |\n",
      "| Master-CM045453 | 08305356|InVivo Software -...  | 0.020998120307922363 |  8   |\n",
      "| Master-CM045453 |     08405137|SWITCH MICRO      | 0.01868692636489868  |  9   |\n",
      "| Master-CM045453 |   FG7901-KC0|FG7901 CARBIDE    | 0.01776597499847412  |  10  |\n",
      "+-----------------+--------------------------------+----------------------+------+\n",
      "[262270 rows x 4 columns]\n",
      "\n"
     ]
    }
   ],
   "source": [
    "# Using Normalized Purchase Count\n",
    "name = 'cosine'\n",
    "target = 'scaledPurchaseFreq'\n",
    "cosNormalized = model(trainDataNorm,name,user_id,item_id,target,usersToRecommend,nRec,nDisplay)"
   ]
  },
  {
   "cell_type": "code",
   "execution_count": 54,
   "metadata": {
    "Collapsed": "false"
   },
   "outputs": [],
   "source": [
    "# Pearson Similarity\n",
    "# Using Purchase Count"
   ]
  },
  {
   "cell_type": "code",
   "execution_count": 55,
   "metadata": {
    "Collapsed": "false"
   },
   "outputs": [
    {
     "data": {
      "text/html": [
       "<pre>Preparing data set.</pre>"
      ],
      "text/plain": [
       "Preparing data set."
      ]
     },
     "metadata": {},
     "output_type": "display_data"
    },
    {
     "data": {
      "text/html": [
       "<pre>    Data has 400000 observations with 25663 users and 7854 items.</pre>"
      ],
      "text/plain": [
       "    Data has 400000 observations with 25663 users and 7854 items."
      ]
     },
     "metadata": {},
     "output_type": "display_data"
    },
    {
     "data": {
      "text/html": [
       "<pre>    Data prepared in: 0.300246s</pre>"
      ],
      "text/plain": [
       "    Data prepared in: 0.300246s"
      ]
     },
     "metadata": {},
     "output_type": "display_data"
    },
    {
     "data": {
      "text/html": [
       "<pre>Training model from provided data.</pre>"
      ],
      "text/plain": [
       "Training model from provided data."
      ]
     },
     "metadata": {},
     "output_type": "display_data"
    },
    {
     "data": {
      "text/html": [
       "<pre>Gathering per-item and per-user statistics.</pre>"
      ],
      "text/plain": [
       "Gathering per-item and per-user statistics."
      ]
     },
     "metadata": {},
     "output_type": "display_data"
    },
    {
     "data": {
      "text/html": [
       "<pre>+--------------------------------+------------+</pre>"
      ],
      "text/plain": [
       "+--------------------------------+------------+"
      ]
     },
     "metadata": {},
     "output_type": "display_data"
    },
    {
     "data": {
      "text/html": [
       "<pre>| Elapsed Time (Item Statistics) | % Complete |</pre>"
      ],
      "text/plain": [
       "| Elapsed Time (Item Statistics) | % Complete |"
      ]
     },
     "metadata": {},
     "output_type": "display_data"
    },
    {
     "data": {
      "text/html": [
       "<pre>+--------------------------------+------------+</pre>"
      ],
      "text/plain": [
       "+--------------------------------+------------+"
      ]
     },
     "metadata": {},
     "output_type": "display_data"
    },
    {
     "data": {
      "text/html": [
       "<pre>| 2.665ms                        | 3.75       |</pre>"
      ],
      "text/plain": [
       "| 2.665ms                        | 3.75       |"
      ]
     },
     "metadata": {},
     "output_type": "display_data"
    },
    {
     "data": {
      "text/html": [
       "<pre>| 10.059ms                       | 100        |</pre>"
      ],
      "text/plain": [
       "| 10.059ms                       | 100        |"
      ]
     },
     "metadata": {},
     "output_type": "display_data"
    },
    {
     "data": {
      "text/html": [
       "<pre>+--------------------------------+------------+</pre>"
      ],
      "text/plain": [
       "+--------------------------------+------------+"
      ]
     },
     "metadata": {},
     "output_type": "display_data"
    },
    {
     "data": {
      "text/html": [
       "<pre>Setting up lookup tables.</pre>"
      ],
      "text/plain": [
       "Setting up lookup tables."
      ]
     },
     "metadata": {},
     "output_type": "display_data"
    },
    {
     "data": {
      "text/html": [
       "<pre>Processing data in one pass using dense lookup tables.</pre>"
      ],
      "text/plain": [
       "Processing data in one pass using dense lookup tables."
      ]
     },
     "metadata": {},
     "output_type": "display_data"
    },
    {
     "data": {
      "text/html": [
       "<pre>+-------------------------------------+------------------+-----------------+</pre>"
      ],
      "text/plain": [
       "+-------------------------------------+------------------+-----------------+"
      ]
     },
     "metadata": {},
     "output_type": "display_data"
    },
    {
     "data": {
      "text/html": [
       "<pre>| Elapsed Time (Constructing Lookups) | Total % Complete | Items Processed |</pre>"
      ],
      "text/plain": [
       "| Elapsed Time (Constructing Lookups) | Total % Complete | Items Processed |"
      ]
     },
     "metadata": {},
     "output_type": "display_data"
    },
    {
     "data": {
      "text/html": [
       "<pre>+-------------------------------------+------------------+-----------------+</pre>"
      ],
      "text/plain": [
       "+-------------------------------------+------------------+-----------------+"
      ]
     },
     "metadata": {},
     "output_type": "display_data"
    },
    {
     "data": {
      "text/html": [
       "<pre>| 291.073ms                           | 0                | 0               |</pre>"
      ],
      "text/plain": [
       "| 291.073ms                           | 0                | 0               |"
      ]
     },
     "metadata": {},
     "output_type": "display_data"
    },
    {
     "data": {
      "text/html": [
       "<pre>| 484.146ms                           | 100              | 7854            |</pre>"
      ],
      "text/plain": [
       "| 484.146ms                           | 100              | 7854            |"
      ]
     },
     "metadata": {},
     "output_type": "display_data"
    },
    {
     "data": {
      "text/html": [
       "<pre>+-------------------------------------+------------------+-----------------+</pre>"
      ],
      "text/plain": [
       "+-------------------------------------+------------------+-----------------+"
      ]
     },
     "metadata": {},
     "output_type": "display_data"
    },
    {
     "data": {
      "text/html": [
       "<pre>Finalizing lookup tables.</pre>"
      ],
      "text/plain": [
       "Finalizing lookup tables."
      ]
     },
     "metadata": {},
     "output_type": "display_data"
    },
    {
     "data": {
      "text/html": [
       "<pre>Generating candidate set for working with new users.</pre>"
      ],
      "text/plain": [
       "Generating candidate set for working with new users."
      ]
     },
     "metadata": {},
     "output_type": "display_data"
    },
    {
     "data": {
      "text/html": [
       "<pre>Finished training in 0.501901s</pre>"
      ],
      "text/plain": [
       "Finished training in 0.501901s"
      ]
     },
     "metadata": {},
     "output_type": "display_data"
    },
    {
     "data": {
      "text/html": [
       "<pre>recommendations finished on 1000/26227 queries. users per second: 35310.7</pre>"
      ],
      "text/plain": [
       "recommendations finished on 1000/26227 queries. users per second: 35310.7"
      ]
     },
     "metadata": {},
     "output_type": "display_data"
    },
    {
     "data": {
      "text/html": [
       "<pre>recommendations finished on 2000/26227 queries. users per second: 44811.9</pre>"
      ],
      "text/plain": [
       "recommendations finished on 2000/26227 queries. users per second: 44811.9"
      ]
     },
     "metadata": {},
     "output_type": "display_data"
    },
    {
     "data": {
      "text/html": [
       "<pre>recommendations finished on 3000/26227 queries. users per second: 49249</pre>"
      ],
      "text/plain": [
       "recommendations finished on 3000/26227 queries. users per second: 49249"
      ]
     },
     "metadata": {},
     "output_type": "display_data"
    },
    {
     "data": {
      "text/html": [
       "<pre>recommendations finished on 4000/26227 queries. users per second: 52792.7</pre>"
      ],
      "text/plain": [
       "recommendations finished on 4000/26227 queries. users per second: 52792.7"
      ]
     },
     "metadata": {},
     "output_type": "display_data"
    },
    {
     "data": {
      "text/html": [
       "<pre>recommendations finished on 5000/26227 queries. users per second: 55538.3</pre>"
      ],
      "text/plain": [
       "recommendations finished on 5000/26227 queries. users per second: 55538.3"
      ]
     },
     "metadata": {},
     "output_type": "display_data"
    },
    {
     "data": {
      "text/html": [
       "<pre>recommendations finished on 6000/26227 queries. users per second: 57567.8</pre>"
      ],
      "text/plain": [
       "recommendations finished on 6000/26227 queries. users per second: 57567.8"
      ]
     },
     "metadata": {},
     "output_type": "display_data"
    },
    {
     "data": {
      "text/html": [
       "<pre>recommendations finished on 7000/26227 queries. users per second: 59142.1</pre>"
      ],
      "text/plain": [
       "recommendations finished on 7000/26227 queries. users per second: 59142.1"
      ]
     },
     "metadata": {},
     "output_type": "display_data"
    },
    {
     "data": {
      "text/html": [
       "<pre>recommendations finished on 8000/26227 queries. users per second: 60467.7</pre>"
      ],
      "text/plain": [
       "recommendations finished on 8000/26227 queries. users per second: 60467.7"
      ]
     },
     "metadata": {},
     "output_type": "display_data"
    },
    {
     "data": {
      "text/html": [
       "<pre>recommendations finished on 9000/26227 queries. users per second: 61581.8</pre>"
      ],
      "text/plain": [
       "recommendations finished on 9000/26227 queries. users per second: 61581.8"
      ]
     },
     "metadata": {},
     "output_type": "display_data"
    },
    {
     "data": {
      "text/html": [
       "<pre>recommendations finished on 10000/26227 queries. users per second: 61060.5</pre>"
      ],
      "text/plain": [
       "recommendations finished on 10000/26227 queries. users per second: 61060.5"
      ]
     },
     "metadata": {},
     "output_type": "display_data"
    },
    {
     "data": {
      "text/html": [
       "<pre>recommendations finished on 11000/26227 queries. users per second: 60735.6</pre>"
      ],
      "text/plain": [
       "recommendations finished on 11000/26227 queries. users per second: 60735.6"
      ]
     },
     "metadata": {},
     "output_type": "display_data"
    },
    {
     "data": {
      "text/html": [
       "<pre>recommendations finished on 12000/26227 queries. users per second: 60817.7</pre>"
      ],
      "text/plain": [
       "recommendations finished on 12000/26227 queries. users per second: 60817.7"
      ]
     },
     "metadata": {},
     "output_type": "display_data"
    },
    {
     "data": {
      "text/html": [
       "<pre>recommendations finished on 13000/26227 queries. users per second: 60976.5</pre>"
      ],
      "text/plain": [
       "recommendations finished on 13000/26227 queries. users per second: 60976.5"
      ]
     },
     "metadata": {},
     "output_type": "display_data"
    },
    {
     "data": {
      "text/html": [
       "<pre>recommendations finished on 14000/26227 queries. users per second: 60939</pre>"
      ],
      "text/plain": [
       "recommendations finished on 14000/26227 queries. users per second: 60939"
      ]
     },
     "metadata": {},
     "output_type": "display_data"
    },
    {
     "data": {
      "text/html": [
       "<pre>recommendations finished on 15000/26227 queries. users per second: 60257.4</pre>"
      ],
      "text/plain": [
       "recommendations finished on 15000/26227 queries. users per second: 60257.4"
      ]
     },
     "metadata": {},
     "output_type": "display_data"
    },
    {
     "data": {
      "text/html": [
       "<pre>recommendations finished on 16000/26227 queries. users per second: 60203.3</pre>"
      ],
      "text/plain": [
       "recommendations finished on 16000/26227 queries. users per second: 60203.3"
      ]
     },
     "metadata": {},
     "output_type": "display_data"
    },
    {
     "data": {
      "text/html": [
       "<pre>recommendations finished on 17000/26227 queries. users per second: 60169.7</pre>"
      ],
      "text/plain": [
       "recommendations finished on 17000/26227 queries. users per second: 60169.7"
      ]
     },
     "metadata": {},
     "output_type": "display_data"
    },
    {
     "data": {
      "text/html": [
       "<pre>recommendations finished on 18000/26227 queries. users per second: 59851.4</pre>"
      ],
      "text/plain": [
       "recommendations finished on 18000/26227 queries. users per second: 59851.4"
      ]
     },
     "metadata": {},
     "output_type": "display_data"
    },
    {
     "data": {
      "text/html": [
       "<pre>recommendations finished on 19000/26227 queries. users per second: 59914</pre>"
      ],
      "text/plain": [
       "recommendations finished on 19000/26227 queries. users per second: 59914"
      ]
     },
     "metadata": {},
     "output_type": "display_data"
    },
    {
     "data": {
      "text/html": [
       "<pre>recommendations finished on 20000/26227 queries. users per second: 60162.3</pre>"
      ],
      "text/plain": [
       "recommendations finished on 20000/26227 queries. users per second: 60162.3"
      ]
     },
     "metadata": {},
     "output_type": "display_data"
    },
    {
     "data": {
      "text/html": [
       "<pre>recommendations finished on 21000/26227 queries. users per second: 60337.4</pre>"
      ],
      "text/plain": [
       "recommendations finished on 21000/26227 queries. users per second: 60337.4"
      ]
     },
     "metadata": {},
     "output_type": "display_data"
    },
    {
     "data": {
      "text/html": [
       "<pre>recommendations finished on 22000/26227 queries. users per second: 60125.2</pre>"
      ],
      "text/plain": [
       "recommendations finished on 22000/26227 queries. users per second: 60125.2"
      ]
     },
     "metadata": {},
     "output_type": "display_data"
    },
    {
     "data": {
      "text/html": [
       "<pre>recommendations finished on 23000/26227 queries. users per second: 59954.1</pre>"
      ],
      "text/plain": [
       "recommendations finished on 23000/26227 queries. users per second: 59954.1"
      ]
     },
     "metadata": {},
     "output_type": "display_data"
    },
    {
     "data": {
      "text/html": [
       "<pre>recommendations finished on 24000/26227 queries. users per second: 59824.6</pre>"
      ],
      "text/plain": [
       "recommendations finished on 24000/26227 queries. users per second: 59824.6"
      ]
     },
     "metadata": {},
     "output_type": "display_data"
    },
    {
     "data": {
      "text/html": [
       "<pre>recommendations finished on 25000/26227 queries. users per second: 57984.2</pre>"
      ],
      "text/plain": [
       "recommendations finished on 25000/26227 queries. users per second: 57984.2"
      ]
     },
     "metadata": {},
     "output_type": "display_data"
    },
    {
     "data": {
      "text/html": [
       "<pre>recommendations finished on 26000/26227 queries. users per second: 56427</pre>"
      ],
      "text/plain": [
       "recommendations finished on 26000/26227 queries. users per second: 56427"
      ]
     },
     "metadata": {},
     "output_type": "display_data"
    },
    {
     "name": "stdout",
     "output_type": "stream",
     "text": [
      "+-----------------+--------------------------------+--------------------+------+\n",
      "|   CRM_CUST_KEY  |            PRODUCT             |       score        | rank |\n",
      "+-----------------+--------------------------------+--------------------+------+\n",
      "| Master-CM045451 |      02006219|O-Ring 11x1      |       200.0        |  1   |\n",
      "| Master-CM045451 | 06221431|DPS- Mask with ad...  |        94.0        |  2   |\n",
      "| Master-CM045451 |     06223882|DPS-FACE MASK     |        73.0        |  3   |\n",
      "| Master-CM045451 | 06221421|DPS-JAW SIMULATOR G40 |        68.0        |  4   |\n",
      "| Master-CM045451 |         07644053|SLIDE         |        50.0        |  5   |\n",
      "| Master-CM045451 | 08431078|3800 O-RING, VACU...  | 41.22222222222222  |  6   |\n",
      "| Master-CM045451 | 734|Adapt Luciwedge Ultra ...  | 37.166666666666664 |  7   |\n",
      "| Master-CM045451 |  720|Cervical Matrices Metal   | 32.16666666666667  |  8   |\n",
      "| Master-CM045451 | 76019|REFILL - UNIDOSE 40 ...  |        30.0        |  9   |\n",
      "| Master-CM045451 | 742|*Adapt Sectional Matri...  |        30.0        |  10  |\n",
      "| Master-CM045452 |      02006219|O-Ring 11x1      |       200.0        |  1   |\n",
      "| Master-CM045452 | 06221431|DPS- Mask with ad...  |        94.0        |  2   |\n",
      "| Master-CM045452 |     06223882|DPS-FACE MASK     |        73.0        |  3   |\n",
      "| Master-CM045452 | 06221421|DPS-JAW SIMULATOR G40 |        68.0        |  4   |\n",
      "| Master-CM045452 |         07644053|SLIDE         |        50.0        |  5   |\n",
      "| Master-CM045452 | 08431078|3800 O-RING, VACU...  | 41.22222222222222  |  6   |\n",
      "| Master-CM045452 | 734|Adapt Luciwedge Ultra ...  | 37.166666666666664 |  7   |\n",
      "| Master-CM045452 |  720|Cervical Matrices Metal   | 32.16666666666667  |  8   |\n",
      "| Master-CM045452 | 76019|REFILL - UNIDOSE 40 ...  |        30.0        |  9   |\n",
      "| Master-CM045452 | 742|*Adapt Sectional Matri...  |        30.0        |  10  |\n",
      "| Master-CM045453 |      02006219|O-Ring 11x1      |       200.0        |  1   |\n",
      "| Master-CM045453 | 06221431|DPS- Mask with ad...  |        94.0        |  2   |\n",
      "| Master-CM045453 |     06223882|DPS-FACE MASK     |        73.0        |  3   |\n",
      "| Master-CM045453 | 06221421|DPS-JAW SIMULATOR G40 |        68.0        |  4   |\n",
      "| Master-CM045453 |         07644053|SLIDE         |        50.0        |  5   |\n",
      "| Master-CM045453 | 08431078|3800 O-RING, VACU...  | 41.22222222222222  |  6   |\n",
      "| Master-CM045453 | 734|Adapt Luciwedge Ultra ...  | 37.166666666666664 |  7   |\n",
      "| Master-CM045453 |  720|Cervical Matrices Metal   | 32.16666666666667  |  8   |\n",
      "| Master-CM045453 | 76019|REFILL - UNIDOSE 40 ...  |        30.0        |  9   |\n",
      "| Master-CM045453 | 742|*Adapt Sectional Matri...  |        30.0        |  10  |\n",
      "+-----------------+--------------------------------+--------------------+------+\n",
      "[262270 rows x 4 columns]\n",
      "\n"
     ]
    }
   ],
   "source": [
    "name = 'pearson'\n",
    "target = 'IVC_QTY'\n",
    "kPear = model(trainData,name,user_id,item_id,target,usersToRecommend,nRec,nDisplay)"
   ]
  },
  {
   "cell_type": "code",
   "execution_count": 56,
   "metadata": {
    "Collapsed": "false"
   },
   "outputs": [
    {
     "data": {
      "text/html": [
       "<pre>Warning: Ignoring columns IVC_QTY;</pre>"
      ],
      "text/plain": [
       "Warning: Ignoring columns IVC_QTY;"
      ]
     },
     "metadata": {},
     "output_type": "display_data"
    },
    {
     "data": {
      "text/html": [
       "<pre>    To use these columns in scoring predictions, use a model that allows the use of additional features.</pre>"
      ],
      "text/plain": [
       "    To use these columns in scoring predictions, use a model that allows the use of additional features."
      ]
     },
     "metadata": {},
     "output_type": "display_data"
    },
    {
     "data": {
      "text/html": [
       "<pre>Preparing data set.</pre>"
      ],
      "text/plain": [
       "Preparing data set."
      ]
     },
     "metadata": {},
     "output_type": "display_data"
    },
    {
     "data": {
      "text/html": [
       "<pre>    Data has 1809952 observations with 144223 users and 11020 items.</pre>"
      ],
      "text/plain": [
       "    Data has 1809952 observations with 144223 users and 11020 items."
      ]
     },
     "metadata": {},
     "output_type": "display_data"
    },
    {
     "data": {
      "text/html": [
       "<pre>    Data prepared in: 1.20025s</pre>"
      ],
      "text/plain": [
       "    Data prepared in: 1.20025s"
      ]
     },
     "metadata": {},
     "output_type": "display_data"
    },
    {
     "data": {
      "text/html": [
       "<pre>Training model from provided data.</pre>"
      ],
      "text/plain": [
       "Training model from provided data."
      ]
     },
     "metadata": {},
     "output_type": "display_data"
    },
    {
     "data": {
      "text/html": [
       "<pre>Gathering per-item and per-user statistics.</pre>"
      ],
      "text/plain": [
       "Gathering per-item and per-user statistics."
      ]
     },
     "metadata": {},
     "output_type": "display_data"
    },
    {
     "data": {
      "text/html": [
       "<pre>+--------------------------------+------------+</pre>"
      ],
      "text/plain": [
       "+--------------------------------+------------+"
      ]
     },
     "metadata": {},
     "output_type": "display_data"
    },
    {
     "data": {
      "text/html": [
       "<pre>| Elapsed Time (Item Statistics) | % Complete |</pre>"
      ],
      "text/plain": [
       "| Elapsed Time (Item Statistics) | % Complete |"
      ]
     },
     "metadata": {},
     "output_type": "display_data"
    },
    {
     "data": {
      "text/html": [
       "<pre>+--------------------------------+------------+</pre>"
      ],
      "text/plain": [
       "+--------------------------------+------------+"
      ]
     },
     "metadata": {},
     "output_type": "display_data"
    },
    {
     "data": {
      "text/html": [
       "<pre>| 2.019ms                        | 0.5        |</pre>"
      ],
      "text/plain": [
       "| 2.019ms                        | 0.5        |"
      ]
     },
     "metadata": {},
     "output_type": "display_data"
    },
    {
     "data": {
      "text/html": [
       "<pre>| 31.021ms                       | 100        |</pre>"
      ],
      "text/plain": [
       "| 31.021ms                       | 100        |"
      ]
     },
     "metadata": {},
     "output_type": "display_data"
    },
    {
     "data": {
      "text/html": [
       "<pre>+--------------------------------+------------+</pre>"
      ],
      "text/plain": [
       "+--------------------------------+------------+"
      ]
     },
     "metadata": {},
     "output_type": "display_data"
    },
    {
     "data": {
      "text/html": [
       "<pre>Setting up lookup tables.</pre>"
      ],
      "text/plain": [
       "Setting up lookup tables."
      ]
     },
     "metadata": {},
     "output_type": "display_data"
    },
    {
     "data": {
      "text/html": [
       "<pre>Processing data in one pass using dense lookup tables.</pre>"
      ],
      "text/plain": [
       "Processing data in one pass using dense lookup tables."
      ]
     },
     "metadata": {},
     "output_type": "display_data"
    },
    {
     "data": {
      "text/html": [
       "<pre>+-------------------------------------+------------------+-----------------+</pre>"
      ],
      "text/plain": [
       "+-------------------------------------+------------------+-----------------+"
      ]
     },
     "metadata": {},
     "output_type": "display_data"
    },
    {
     "data": {
      "text/html": [
       "<pre>| Elapsed Time (Constructing Lookups) | Total % Complete | Items Processed |</pre>"
      ],
      "text/plain": [
       "| Elapsed Time (Constructing Lookups) | Total % Complete | Items Processed |"
      ]
     },
     "metadata": {},
     "output_type": "display_data"
    },
    {
     "data": {
      "text/html": [
       "<pre>+-------------------------------------+------------------+-----------------+</pre>"
      ],
      "text/plain": [
       "+-------------------------------------+------------------+-----------------+"
      ]
     },
     "metadata": {},
     "output_type": "display_data"
    },
    {
     "data": {
      "text/html": [
       "<pre>| 502.763ms                           | 0                | 0               |</pre>"
      ],
      "text/plain": [
       "| 502.763ms                           | 0                | 0               |"
      ]
     },
     "metadata": {},
     "output_type": "display_data"
    },
    {
     "data": {
      "text/html": [
       "<pre>| 995.284ms                           | 100              | 11020           |</pre>"
      ],
      "text/plain": [
       "| 995.284ms                           | 100              | 11020           |"
      ]
     },
     "metadata": {},
     "output_type": "display_data"
    },
    {
     "data": {
      "text/html": [
       "<pre>+-------------------------------------+------------------+-----------------+</pre>"
      ],
      "text/plain": [
       "+-------------------------------------+------------------+-----------------+"
      ]
     },
     "metadata": {},
     "output_type": "display_data"
    },
    {
     "data": {
      "text/html": [
       "<pre>Finalizing lookup tables.</pre>"
      ],
      "text/plain": [
       "Finalizing lookup tables."
      ]
     },
     "metadata": {},
     "output_type": "display_data"
    },
    {
     "data": {
      "text/html": [
       "<pre>Generating candidate set for working with new users.</pre>"
      ],
      "text/plain": [
       "Generating candidate set for working with new users."
      ]
     },
     "metadata": {},
     "output_type": "display_data"
    },
    {
     "data": {
      "text/html": [
       "<pre>Finished training in 1.04983s</pre>"
      ],
      "text/plain": [
       "Finished training in 1.04983s"
      ]
     },
     "metadata": {},
     "output_type": "display_data"
    },
    {
     "data": {
      "text/html": [
       "<pre>recommendations finished on 1000/26227 queries. users per second: 20774</pre>"
      ],
      "text/plain": [
       "recommendations finished on 1000/26227 queries. users per second: 20774"
      ]
     },
     "metadata": {},
     "output_type": "display_data"
    },
    {
     "data": {
      "text/html": [
       "<pre>recommendations finished on 2000/26227 queries. users per second: 26143.1</pre>"
      ],
      "text/plain": [
       "recommendations finished on 2000/26227 queries. users per second: 26143.1"
      ]
     },
     "metadata": {},
     "output_type": "display_data"
    },
    {
     "data": {
      "text/html": [
       "<pre>recommendations finished on 3000/26227 queries. users per second: 28306.7</pre>"
      ],
      "text/plain": [
       "recommendations finished on 3000/26227 queries. users per second: 28306.7"
      ]
     },
     "metadata": {},
     "output_type": "display_data"
    },
    {
     "data": {
      "text/html": [
       "<pre>recommendations finished on 4000/26227 queries. users per second: 29522.9</pre>"
      ],
      "text/plain": [
       "recommendations finished on 4000/26227 queries. users per second: 29522.9"
      ]
     },
     "metadata": {},
     "output_type": "display_data"
    },
    {
     "data": {
      "text/html": [
       "<pre>recommendations finished on 5000/26227 queries. users per second: 29671.5</pre>"
      ],
      "text/plain": [
       "recommendations finished on 5000/26227 queries. users per second: 29671.5"
      ]
     },
     "metadata": {},
     "output_type": "display_data"
    },
    {
     "data": {
      "text/html": [
       "<pre>recommendations finished on 6000/26227 queries. users per second: 29642.5</pre>"
      ],
      "text/plain": [
       "recommendations finished on 6000/26227 queries. users per second: 29642.5"
      ]
     },
     "metadata": {},
     "output_type": "display_data"
    },
    {
     "data": {
      "text/html": [
       "<pre>recommendations finished on 7000/26227 queries. users per second: 29385.7</pre>"
      ],
      "text/plain": [
       "recommendations finished on 7000/26227 queries. users per second: 29385.7"
      ]
     },
     "metadata": {},
     "output_type": "display_data"
    },
    {
     "data": {
      "text/html": [
       "<pre>recommendations finished on 8000/26227 queries. users per second: 28499.1</pre>"
      ],
      "text/plain": [
       "recommendations finished on 8000/26227 queries. users per second: 28499.1"
      ]
     },
     "metadata": {},
     "output_type": "display_data"
    },
    {
     "data": {
      "text/html": [
       "<pre>recommendations finished on 9000/26227 queries. users per second: 28578.3</pre>"
      ],
      "text/plain": [
       "recommendations finished on 9000/26227 queries. users per second: 28578.3"
      ]
     },
     "metadata": {},
     "output_type": "display_data"
    },
    {
     "data": {
      "text/html": [
       "<pre>recommendations finished on 10000/26227 queries. users per second: 28584.2</pre>"
      ],
      "text/plain": [
       "recommendations finished on 10000/26227 queries. users per second: 28584.2"
      ]
     },
     "metadata": {},
     "output_type": "display_data"
    },
    {
     "data": {
      "text/html": [
       "<pre>recommendations finished on 11000/26227 queries. users per second: 28540.1</pre>"
      ],
      "text/plain": [
       "recommendations finished on 11000/26227 queries. users per second: 28540.1"
      ]
     },
     "metadata": {},
     "output_type": "display_data"
    },
    {
     "data": {
      "text/html": [
       "<pre>recommendations finished on 12000/26227 queries. users per second: 28861.9</pre>"
      ],
      "text/plain": [
       "recommendations finished on 12000/26227 queries. users per second: 28861.9"
      ]
     },
     "metadata": {},
     "output_type": "display_data"
    },
    {
     "data": {
      "text/html": [
       "<pre>recommendations finished on 13000/26227 queries. users per second: 28538.2</pre>"
      ],
      "text/plain": [
       "recommendations finished on 13000/26227 queries. users per second: 28538.2"
      ]
     },
     "metadata": {},
     "output_type": "display_data"
    },
    {
     "data": {
      "text/html": [
       "<pre>recommendations finished on 14000/26227 queries. users per second: 27886.5</pre>"
      ],
      "text/plain": [
       "recommendations finished on 14000/26227 queries. users per second: 27886.5"
      ]
     },
     "metadata": {},
     "output_type": "display_data"
    },
    {
     "data": {
      "text/html": [
       "<pre>recommendations finished on 15000/26227 queries. users per second: 27219.9</pre>"
      ],
      "text/plain": [
       "recommendations finished on 15000/26227 queries. users per second: 27219.9"
      ]
     },
     "metadata": {},
     "output_type": "display_data"
    },
    {
     "data": {
      "text/html": [
       "<pre>recommendations finished on 16000/26227 queries. users per second: 27050.8</pre>"
      ],
      "text/plain": [
       "recommendations finished on 16000/26227 queries. users per second: 27050.8"
      ]
     },
     "metadata": {},
     "output_type": "display_data"
    },
    {
     "data": {
      "text/html": [
       "<pre>recommendations finished on 17000/26227 queries. users per second: 27162</pre>"
      ],
      "text/plain": [
       "recommendations finished on 17000/26227 queries. users per second: 27162"
      ]
     },
     "metadata": {},
     "output_type": "display_data"
    },
    {
     "data": {
      "text/html": [
       "<pre>recommendations finished on 18000/26227 queries. users per second: 27239.1</pre>"
      ],
      "text/plain": [
       "recommendations finished on 18000/26227 queries. users per second: 27239.1"
      ]
     },
     "metadata": {},
     "output_type": "display_data"
    },
    {
     "data": {
      "text/html": [
       "<pre>recommendations finished on 19000/26227 queries. users per second: 27293.3</pre>"
      ],
      "text/plain": [
       "recommendations finished on 19000/26227 queries. users per second: 27293.3"
      ]
     },
     "metadata": {},
     "output_type": "display_data"
    },
    {
     "data": {
      "text/html": [
       "<pre>recommendations finished on 20000/26227 queries. users per second: 27363.9</pre>"
      ],
      "text/plain": [
       "recommendations finished on 20000/26227 queries. users per second: 27363.9"
      ]
     },
     "metadata": {},
     "output_type": "display_data"
    },
    {
     "data": {
      "text/html": [
       "<pre>recommendations finished on 21000/26227 queries. users per second: 27331.3</pre>"
      ],
      "text/plain": [
       "recommendations finished on 21000/26227 queries. users per second: 27331.3"
      ]
     },
     "metadata": {},
     "output_type": "display_data"
    },
    {
     "data": {
      "text/html": [
       "<pre>recommendations finished on 22000/26227 queries. users per second: 27119.9</pre>"
      ],
      "text/plain": [
       "recommendations finished on 22000/26227 queries. users per second: 27119.9"
      ]
     },
     "metadata": {},
     "output_type": "display_data"
    },
    {
     "data": {
      "text/html": [
       "<pre>recommendations finished on 23000/26227 queries. users per second: 26985.9</pre>"
      ],
      "text/plain": [
       "recommendations finished on 23000/26227 queries. users per second: 26985.9"
      ]
     },
     "metadata": {},
     "output_type": "display_data"
    },
    {
     "data": {
      "text/html": [
       "<pre>recommendations finished on 24000/26227 queries. users per second: 26519.2</pre>"
      ],
      "text/plain": [
       "recommendations finished on 24000/26227 queries. users per second: 26519.2"
      ]
     },
     "metadata": {},
     "output_type": "display_data"
    },
    {
     "data": {
      "text/html": [
       "<pre>recommendations finished on 25000/26227 queries. users per second: 26041.9</pre>"
      ],
      "text/plain": [
       "recommendations finished on 25000/26227 queries. users per second: 26041.9"
      ]
     },
     "metadata": {},
     "output_type": "display_data"
    },
    {
     "data": {
      "text/html": [
       "<pre>recommendations finished on 26000/26227 queries. users per second: 25593.6</pre>"
      ],
      "text/plain": [
       "recommendations finished on 26000/26227 queries. users per second: 25593.6"
      ]
     },
     "metadata": {},
     "output_type": "display_data"
    },
    {
     "name": "stdout",
     "output_type": "stream",
     "text": [
      "+-----------------+--------------------------------+-------+------+\n",
      "|   CRM_CUST_KEY  |            PRODUCT             | score | rank |\n",
      "+-----------------+--------------------------------+-------+------+\n",
      "| Master-CM045451 | 00455|COMPOUND STICKS-GREY...  |  0.0  |  1   |\n",
      "| Master-CM045451 | 821-8025|K-FILES 25MM SERI...  |  0.0  |  2   |\n",
      "| Master-CM045451 | 815-1542|TF ADAPTIVE GUTTA...  |  0.0  |  3   |\n",
      "| Master-CM045451 | 13499|GINGIKNIT 00n NON IM...  |  0.0  |  4   |\n",
      "| Master-CM045451 | H557RZ-FG100|AXIS Razor 55...  |  0.0  |  5   |\n",
      "| Master-CM045451 |  P343|NTI Green CeraGlaze-HP   |  0.0  |  6   |\n",
      "| Master-CM045451 | 29836|REFILL - UNID  XRVE ...  |  0.0  |  7   |\n",
      "| Master-CM045451 |   33643|REFILL - NX3, CLEAR    |  0.0  |  8   |\n",
      "| Master-CM045451 | 31377|TEMPBOND 50 PACK UNIDOSE |  0.0  |  9   |\n",
      "| Master-CM045451 | 10131099|Holder, Horiz BW,...  |  0.0  |  10  |\n",
      "| Master-CM045452 | 00455|COMPOUND STICKS-GREY...  |  0.0  |  1   |\n",
      "| Master-CM045452 | 821-8025|K-FILES 25MM SERI...  |  0.0  |  2   |\n",
      "| Master-CM045452 | 815-1542|TF ADAPTIVE GUTTA...  |  0.0  |  3   |\n",
      "| Master-CM045452 | 13499|GINGIKNIT 00n NON IM...  |  0.0  |  4   |\n",
      "| Master-CM045452 | H557RZ-FG100|AXIS Razor 55...  |  0.0  |  5   |\n",
      "| Master-CM045452 |  P343|NTI Green CeraGlaze-HP   |  0.0  |  6   |\n",
      "| Master-CM045452 | 29836|REFILL - UNID  XRVE ...  |  0.0  |  7   |\n",
      "| Master-CM045452 |   33643|REFILL - NX3, CLEAR    |  0.0  |  8   |\n",
      "| Master-CM045452 | 31377|TEMPBOND 50 PACK UNIDOSE |  0.0  |  9   |\n",
      "| Master-CM045452 | 10131099|Holder, Horiz BW,...  |  0.0  |  10  |\n",
      "| Master-CM045453 | 00455|COMPOUND STICKS-GREY...  |  0.0  |  1   |\n",
      "| Master-CM045453 | 821-8025|K-FILES 25MM SERI...  |  0.0  |  2   |\n",
      "| Master-CM045453 | 815-1542|TF ADAPTIVE GUTTA...  |  0.0  |  3   |\n",
      "| Master-CM045453 | 13499|GINGIKNIT 00n NON IM...  |  0.0  |  4   |\n",
      "| Master-CM045453 | H557RZ-FG100|AXIS Razor 55...  |  0.0  |  5   |\n",
      "| Master-CM045453 |  P343|NTI Green CeraGlaze-HP   |  0.0  |  6   |\n",
      "| Master-CM045453 | 29836|REFILL - UNID  XRVE ...  |  0.0  |  7   |\n",
      "| Master-CM045453 |   33643|REFILL - NX3, CLEAR    |  0.0  |  8   |\n",
      "| Master-CM045453 | 31377|TEMPBOND 50 PACK UNIDOSE |  0.0  |  9   |\n",
      "| Master-CM045453 | 10131099|Holder, Horiz BW,...  |  0.0  |  10  |\n",
      "+-----------------+--------------------------------+-------+------+\n",
      "[262270 rows x 4 columns]\n",
      "\n"
     ]
    }
   ],
   "source": [
    "# Using Purshase Dummy\n",
    "name = 'pearson'\n",
    "target = 'purchaseDummy'\n",
    "kPearDummy = model(trainDataDummy,name,user_id,item_id,target,usersToRecommend,nRec,nDisplay)"
   ]
  },
  {
   "cell_type": "code",
   "execution_count": 57,
   "metadata": {
    "Collapsed": "false"
   },
   "outputs": [],
   "source": [
    "# Using normalized purchase count"
   ]
  },
  {
   "cell_type": "code",
   "execution_count": 58,
   "metadata": {
    "Collapsed": "false"
   },
   "outputs": [
    {
     "data": {
      "text/html": [
       "<pre>Preparing data set.</pre>"
      ],
      "text/plain": [
       "Preparing data set."
      ]
     },
     "metadata": {},
     "output_type": "display_data"
    },
    {
     "data": {
      "text/html": [
       "<pre>    Data has 198782 observations with 25407 users and 5261 items.</pre>"
      ],
      "text/plain": [
       "    Data has 198782 observations with 25407 users and 5261 items."
      ]
     },
     "metadata": {},
     "output_type": "display_data"
    },
    {
     "data": {
      "text/html": [
       "<pre>    Data prepared in: 0.199869s</pre>"
      ],
      "text/plain": [
       "    Data prepared in: 0.199869s"
      ]
     },
     "metadata": {},
     "output_type": "display_data"
    },
    {
     "data": {
      "text/html": [
       "<pre>Training model from provided data.</pre>"
      ],
      "text/plain": [
       "Training model from provided data."
      ]
     },
     "metadata": {},
     "output_type": "display_data"
    },
    {
     "data": {
      "text/html": [
       "<pre>Gathering per-item and per-user statistics.</pre>"
      ],
      "text/plain": [
       "Gathering per-item and per-user statistics."
      ]
     },
     "metadata": {},
     "output_type": "display_data"
    },
    {
     "data": {
      "text/html": [
       "<pre>+--------------------------------+------------+</pre>"
      ],
      "text/plain": [
       "+--------------------------------+------------+"
      ]
     },
     "metadata": {},
     "output_type": "display_data"
    },
    {
     "data": {
      "text/html": [
       "<pre>| Elapsed Time (Item Statistics) | % Complete |</pre>"
      ],
      "text/plain": [
       "| Elapsed Time (Item Statistics) | % Complete |"
      ]
     },
     "metadata": {},
     "output_type": "display_data"
    },
    {
     "data": {
      "text/html": [
       "<pre>+--------------------------------+------------+</pre>"
      ],
      "text/plain": [
       "+--------------------------------+------------+"
      ]
     },
     "metadata": {},
     "output_type": "display_data"
    },
    {
     "data": {
      "text/html": [
       "<pre>| 2.644ms                        | 3.75       |</pre>"
      ],
      "text/plain": [
       "| 2.644ms                        | 3.75       |"
      ]
     },
     "metadata": {},
     "output_type": "display_data"
    },
    {
     "data": {
      "text/html": [
       "<pre>| 7.592ms                        | 100        |</pre>"
      ],
      "text/plain": [
       "| 7.592ms                        | 100        |"
      ]
     },
     "metadata": {},
     "output_type": "display_data"
    },
    {
     "data": {
      "text/html": [
       "<pre>+--------------------------------+------------+</pre>"
      ],
      "text/plain": [
       "+--------------------------------+------------+"
      ]
     },
     "metadata": {},
     "output_type": "display_data"
    },
    {
     "data": {
      "text/html": [
       "<pre>Setting up lookup tables.</pre>"
      ],
      "text/plain": [
       "Setting up lookup tables."
      ]
     },
     "metadata": {},
     "output_type": "display_data"
    },
    {
     "data": {
      "text/html": [
       "<pre>Processing data in one pass using dense lookup tables.</pre>"
      ],
      "text/plain": [
       "Processing data in one pass using dense lookup tables."
      ]
     },
     "metadata": {},
     "output_type": "display_data"
    },
    {
     "data": {
      "text/html": [
       "<pre>+-------------------------------------+------------------+-----------------+</pre>"
      ],
      "text/plain": [
       "+-------------------------------------+------------------+-----------------+"
      ]
     },
     "metadata": {},
     "output_type": "display_data"
    },
    {
     "data": {
      "text/html": [
       "<pre>| Elapsed Time (Constructing Lookups) | Total % Complete | Items Processed |</pre>"
      ],
      "text/plain": [
       "| Elapsed Time (Constructing Lookups) | Total % Complete | Items Processed |"
      ]
     },
     "metadata": {},
     "output_type": "display_data"
    },
    {
     "data": {
      "text/html": [
       "<pre>+-------------------------------------+------------------+-----------------+</pre>"
      ],
      "text/plain": [
       "+-------------------------------------+------------------+-----------------+"
      ]
     },
     "metadata": {},
     "output_type": "display_data"
    },
    {
     "data": {
      "text/html": [
       "<pre>| 149.551ms                           | 0                | 0               |</pre>"
      ],
      "text/plain": [
       "| 149.551ms                           | 0                | 0               |"
      ]
     },
     "metadata": {},
     "output_type": "display_data"
    },
    {
     "data": {
      "text/html": [
       "<pre>| 254.964ms                           | 100              | 5261            |</pre>"
      ],
      "text/plain": [
       "| 254.964ms                           | 100              | 5261            |"
      ]
     },
     "metadata": {},
     "output_type": "display_data"
    },
    {
     "data": {
      "text/html": [
       "<pre>+-------------------------------------+------------------+-----------------+</pre>"
      ],
      "text/plain": [
       "+-------------------------------------+------------------+-----------------+"
      ]
     },
     "metadata": {},
     "output_type": "display_data"
    },
    {
     "data": {
      "text/html": [
       "<pre>Finalizing lookup tables.</pre>"
      ],
      "text/plain": [
       "Finalizing lookup tables."
      ]
     },
     "metadata": {},
     "output_type": "display_data"
    },
    {
     "data": {
      "text/html": [
       "<pre>Generating candidate set for working with new users.</pre>"
      ],
      "text/plain": [
       "Generating candidate set for working with new users."
      ]
     },
     "metadata": {},
     "output_type": "display_data"
    },
    {
     "data": {
      "text/html": [
       "<pre>Finished training in 0.270773s</pre>"
      ],
      "text/plain": [
       "Finished training in 0.270773s"
      ]
     },
     "metadata": {},
     "output_type": "display_data"
    },
    {
     "data": {
      "text/html": [
       "<pre>recommendations finished on 1000/26227 queries. users per second: 33088.5</pre>"
      ],
      "text/plain": [
       "recommendations finished on 1000/26227 queries. users per second: 33088.5"
      ]
     },
     "metadata": {},
     "output_type": "display_data"
    },
    {
     "data": {
      "text/html": [
       "<pre>recommendations finished on 2000/26227 queries. users per second: 45612.1</pre>"
      ],
      "text/plain": [
       "recommendations finished on 2000/26227 queries. users per second: 45612.1"
      ]
     },
     "metadata": {},
     "output_type": "display_data"
    },
    {
     "data": {
      "text/html": [
       "<pre>recommendations finished on 3000/26227 queries. users per second: 52179.4</pre>"
      ],
      "text/plain": [
       "recommendations finished on 3000/26227 queries. users per second: 52179.4"
      ]
     },
     "metadata": {},
     "output_type": "display_data"
    },
    {
     "data": {
      "text/html": [
       "<pre>recommendations finished on 4000/26227 queries. users per second: 57281.2</pre>"
      ],
      "text/plain": [
       "recommendations finished on 4000/26227 queries. users per second: 57281.2"
      ]
     },
     "metadata": {},
     "output_type": "display_data"
    },
    {
     "data": {
      "text/html": [
       "<pre>recommendations finished on 5000/26227 queries. users per second: 62426.6</pre>"
      ],
      "text/plain": [
       "recommendations finished on 5000/26227 queries. users per second: 62426.6"
      ]
     },
     "metadata": {},
     "output_type": "display_data"
    },
    {
     "data": {
      "text/html": [
       "<pre>recommendations finished on 6000/26227 queries. users per second: 65919.6</pre>"
      ],
      "text/plain": [
       "recommendations finished on 6000/26227 queries. users per second: 65919.6"
      ]
     },
     "metadata": {},
     "output_type": "display_data"
    },
    {
     "data": {
      "text/html": [
       "<pre>recommendations finished on 7000/26227 queries. users per second: 69069</pre>"
      ],
      "text/plain": [
       "recommendations finished on 7000/26227 queries. users per second: 69069"
      ]
     },
     "metadata": {},
     "output_type": "display_data"
    },
    {
     "data": {
      "text/html": [
       "<pre>recommendations finished on 8000/26227 queries. users per second: 72022.8</pre>"
      ],
      "text/plain": [
       "recommendations finished on 8000/26227 queries. users per second: 72022.8"
      ]
     },
     "metadata": {},
     "output_type": "display_data"
    },
    {
     "data": {
      "text/html": [
       "<pre>recommendations finished on 9000/26227 queries. users per second: 74490.4</pre>"
      ],
      "text/plain": [
       "recommendations finished on 9000/26227 queries. users per second: 74490.4"
      ]
     },
     "metadata": {},
     "output_type": "display_data"
    },
    {
     "data": {
      "text/html": [
       "<pre>recommendations finished on 10000/26227 queries. users per second: 76615.4</pre>"
      ],
      "text/plain": [
       "recommendations finished on 10000/26227 queries. users per second: 76615.4"
      ]
     },
     "metadata": {},
     "output_type": "display_data"
    },
    {
     "data": {
      "text/html": [
       "<pre>recommendations finished on 11000/26227 queries. users per second: 77956.7</pre>"
      ],
      "text/plain": [
       "recommendations finished on 11000/26227 queries. users per second: 77956.7"
      ]
     },
     "metadata": {},
     "output_type": "display_data"
    },
    {
     "data": {
      "text/html": [
       "<pre>recommendations finished on 12000/26227 queries. users per second: 77993</pre>"
      ],
      "text/plain": [
       "recommendations finished on 12000/26227 queries. users per second: 77993"
      ]
     },
     "metadata": {},
     "output_type": "display_data"
    },
    {
     "data": {
      "text/html": [
       "<pre>recommendations finished on 13000/26227 queries. users per second: 78276.9</pre>"
      ],
      "text/plain": [
       "recommendations finished on 13000/26227 queries. users per second: 78276.9"
      ]
     },
     "metadata": {},
     "output_type": "display_data"
    },
    {
     "data": {
      "text/html": [
       "<pre>recommendations finished on 14000/26227 queries. users per second: 79180.1</pre>"
      ],
      "text/plain": [
       "recommendations finished on 14000/26227 queries. users per second: 79180.1"
      ]
     },
     "metadata": {},
     "output_type": "display_data"
    },
    {
     "data": {
      "text/html": [
       "<pre>recommendations finished on 15000/26227 queries. users per second: 79844.1</pre>"
      ],
      "text/plain": [
       "recommendations finished on 15000/26227 queries. users per second: 79844.1"
      ]
     },
     "metadata": {},
     "output_type": "display_data"
    },
    {
     "data": {
      "text/html": [
       "<pre>recommendations finished on 16000/26227 queries. users per second: 80721.2</pre>"
      ],
      "text/plain": [
       "recommendations finished on 16000/26227 queries. users per second: 80721.2"
      ]
     },
     "metadata": {},
     "output_type": "display_data"
    },
    {
     "data": {
      "text/html": [
       "<pre>recommendations finished on 17000/26227 queries. users per second: 81050</pre>"
      ],
      "text/plain": [
       "recommendations finished on 17000/26227 queries. users per second: 81050"
      ]
     },
     "metadata": {},
     "output_type": "display_data"
    },
    {
     "data": {
      "text/html": [
       "<pre>recommendations finished on 18000/26227 queries. users per second: 81733.5</pre>"
      ],
      "text/plain": [
       "recommendations finished on 18000/26227 queries. users per second: 81733.5"
      ]
     },
     "metadata": {},
     "output_type": "display_data"
    },
    {
     "data": {
      "text/html": [
       "<pre>recommendations finished on 19000/26227 queries. users per second: 82104.3</pre>"
      ],
      "text/plain": [
       "recommendations finished on 19000/26227 queries. users per second: 82104.3"
      ]
     },
     "metadata": {},
     "output_type": "display_data"
    },
    {
     "data": {
      "text/html": [
       "<pre>recommendations finished on 20000/26227 queries. users per second: 81892</pre>"
      ],
      "text/plain": [
       "recommendations finished on 20000/26227 queries. users per second: 81892"
      ]
     },
     "metadata": {},
     "output_type": "display_data"
    },
    {
     "data": {
      "text/html": [
       "<pre>recommendations finished on 21000/26227 queries. users per second: 82169.3</pre>"
      ],
      "text/plain": [
       "recommendations finished on 21000/26227 queries. users per second: 82169.3"
      ]
     },
     "metadata": {},
     "output_type": "display_data"
    },
    {
     "data": {
      "text/html": [
       "<pre>recommendations finished on 22000/26227 queries. users per second: 82418</pre>"
      ],
      "text/plain": [
       "recommendations finished on 22000/26227 queries. users per second: 82418"
      ]
     },
     "metadata": {},
     "output_type": "display_data"
    },
    {
     "data": {
      "text/html": [
       "<pre>recommendations finished on 23000/26227 queries. users per second: 81983.3</pre>"
      ],
      "text/plain": [
       "recommendations finished on 23000/26227 queries. users per second: 81983.3"
      ]
     },
     "metadata": {},
     "output_type": "display_data"
    },
    {
     "data": {
      "text/html": [
       "<pre>recommendations finished on 24000/26227 queries. users per second: 82315.5</pre>"
      ],
      "text/plain": [
       "recommendations finished on 24000/26227 queries. users per second: 82315.5"
      ]
     },
     "metadata": {},
     "output_type": "display_data"
    },
    {
     "data": {
      "text/html": [
       "<pre>recommendations finished on 25000/26227 queries. users per second: 81643.6</pre>"
      ],
      "text/plain": [
       "recommendations finished on 25000/26227 queries. users per second: 81643.6"
      ]
     },
     "metadata": {},
     "output_type": "display_data"
    },
    {
     "data": {
      "text/html": [
       "<pre>recommendations finished on 26000/26227 queries. users per second: 77992.4</pre>"
      ],
      "text/plain": [
       "recommendations finished on 26000/26227 queries. users per second: 77992.4"
      ]
     },
     "metadata": {},
     "output_type": "display_data"
    },
    {
     "name": "stdout",
     "output_type": "stream",
     "text": [
      "+-----------------+-------------------------------+-------+------+\n",
      "|   CRM_CUST_KEY  |            PRODUCT            | score | rank |\n",
      "+-----------------+-------------------------------+-------+------+\n",
      "| Master-CM045451 | 900-0301|973-0234 VITALITY... |  1.0  |  1   |\n",
      "| Master-CM045451 |   08425638|RATCHET MECHANISM  |  1.0  |  2   |\n",
      "| Master-CM045451 | 10134103|NCP-Premier-Month... |  1.0  |  3   |\n",
      "| Master-CM045451 |      30001874|Cap mounted     |  1.0  |  4   |\n",
      "| Master-CM045451 | 10131115|Universal Sensor ... |  1.0  |  5   |\n",
      "| Master-CM045451 | H1S-010|NTI #2 One Pc Oper... |  1.0  |  6   |\n",
      "| Master-CM045451 | 5092|SWIVEL, REPLACEMENT Q... |  1.0  |  7   |\n",
      "| Master-CM045451 | 35666|DEMI ULTRA CHARGER R... |  1.0  |  8   |\n",
      "| Master-CM045451 | GF661-HP|AXIS Green Stone ... |  1.0  |  9   |\n",
      "| Master-CM045451 | 08447956|HANDLE,BRAKE,SYST... |  1.0  |  10  |\n",
      "| Master-CM045452 | 900-0301|973-0234 VITALITY... |  1.0  |  1   |\n",
      "| Master-CM045452 |   08425638|RATCHET MECHANISM  |  1.0  |  2   |\n",
      "| Master-CM045452 | 10134103|NCP-Premier-Month... |  1.0  |  3   |\n",
      "| Master-CM045452 |      30001874|Cap mounted     |  1.0  |  4   |\n",
      "| Master-CM045452 | 10131115|Universal Sensor ... |  1.0  |  5   |\n",
      "| Master-CM045452 | H1S-010|NTI #2 One Pc Oper... |  1.0  |  6   |\n",
      "| Master-CM045452 | 5092|SWIVEL, REPLACEMENT Q... |  1.0  |  7   |\n",
      "| Master-CM045452 | 35666|DEMI ULTRA CHARGER R... |  1.0  |  8   |\n",
      "| Master-CM045452 | GF661-HP|AXIS Green Stone ... |  1.0  |  9   |\n",
      "| Master-CM045452 | 08447956|HANDLE,BRAKE,SYST... |  1.0  |  10  |\n",
      "| Master-CM045453 | 900-0301|973-0234 VITALITY... |  1.0  |  1   |\n",
      "| Master-CM045453 |   08425638|RATCHET MECHANISM  |  1.0  |  2   |\n",
      "| Master-CM045453 | 10134103|NCP-Premier-Month... |  1.0  |  3   |\n",
      "| Master-CM045453 |      30001874|Cap mounted     |  1.0  |  4   |\n",
      "| Master-CM045453 | 10131115|Universal Sensor ... |  1.0  |  5   |\n",
      "| Master-CM045453 | H1S-010|NTI #2 One Pc Oper... |  1.0  |  6   |\n",
      "| Master-CM045453 | 5092|SWIVEL, REPLACEMENT Q... |  1.0  |  7   |\n",
      "| Master-CM045453 | 35666|DEMI ULTRA CHARGER R... |  1.0  |  8   |\n",
      "| Master-CM045453 | GF661-HP|AXIS Green Stone ... |  1.0  |  9   |\n",
      "| Master-CM045453 | 08447956|HANDLE,BRAKE,SYST... |  1.0  |  10  |\n",
      "+-----------------+-------------------------------+-------+------+\n",
      "[262270 rows x 4 columns]\n",
      "\n"
     ]
    }
   ],
   "source": [
    "name = 'pearson'\n",
    "target = 'scaledPurchaseFreq'\n",
    "kPearNomralization = model(trainDataNorm,name,user_id,item_id,target,usersToRecommend,nRec,nDisplay)"
   ]
  },
  {
   "cell_type": "markdown",
   "metadata": {
    "Collapsed": "false"
   },
   "source": [
    "# 8. Model Evaluation"
   ]
  },
  {
   "cell_type": "code",
   "execution_count": 59,
   "metadata": {
    "Collapsed": "false"
   },
   "outputs": [
    {
     "name": "stdout",
     "output_type": "stream",
     "text": [
      "InteractiveShell\t cos\t cosDummy\t cosNormalized\t createDataDummy\t d\t dataDummy\t dfMatrixNorm\t dfNorm\t \n",
      "dfRecMatrix\t dfRec_\t itemID\t item_id\t kPear\t kPearDummy\t kPearNomralization\t model\t nDisplay\t \n",
      "nRec\t name\t normalizeData\t np\t pd\t popularityDummy\t popularityModel\t popularityNormalized\t popularityRecommend\t \n",
      "splitData\t target\t tc\t test\t testData\t testDataDummy\t testDataNorm\t train\t trainData\t \n",
      "trainDataDummy\t trainDataNorm\t train_test_split\t userID\t user_id\t usersToRecommend\t \n"
     ]
    }
   ],
   "source": [
    "who"
   ]
  },
  {
   "cell_type": "code",
   "execution_count": 60,
   "metadata": {
    "Collapsed": "false"
   },
   "outputs": [],
   "source": [
    "modelsWcounts = [popularityModel, cos, kPear]\n",
    "modelsWdummy = [popularityDummy, cosDummy, kPearDummy]\n",
    "modelsWNormalization = [popularityNormalized, cosNormalized, kPearNomralization]\n",
    "\n",
    "names_w_counts = ['Popularity Model on Purchase Counts', 'Cosine Similarity on Purchase Counts', 'Pearson Similarity on Purchase Counts']\n",
    "names_w_dummy = ['Popularity Model on Purchase Dummy', 'Cosine Similarity on Purchase Dummy', 'Pearson Similarity on Purchase Dummy']\n",
    "names_w_norm = ['Popularity Model on Scaled Purchase Counts', 'Cosine Similarity on Scaled Purchase Counts', 'Pearson Similarity on Scaled Purchase Counts']"
   ]
  },
  {
   "cell_type": "markdown",
   "metadata": {
    "Collapsed": "true"
   },
   "source": [
    "##### Models on Purchase Counts"
   ]
  },
  {
   "cell_type": "code",
   "execution_count": 61,
   "metadata": {
    "Collapsed": "false"
   },
   "outputs": [
    {
     "name": "stdout",
     "output_type": "stream",
     "text": [
      "PROGRESS: Evaluate model Popularity Model on Purchase Counts\n"
     ]
    },
    {
     "data": {
      "text/html": [
       "<pre>recommendations finished on 1000/20525 queries. users per second: 21855.1</pre>"
      ],
      "text/plain": [
       "recommendations finished on 1000/20525 queries. users per second: 21855.1"
      ]
     },
     "metadata": {},
     "output_type": "display_data"
    },
    {
     "data": {
      "text/html": [
       "<pre>recommendations finished on 2000/20525 queries. users per second: 29076.5</pre>"
      ],
      "text/plain": [
       "recommendations finished on 2000/20525 queries. users per second: 29076.5"
      ]
     },
     "metadata": {},
     "output_type": "display_data"
    },
    {
     "data": {
      "text/html": [
       "<pre>recommendations finished on 3000/20525 queries. users per second: 33454.9</pre>"
      ],
      "text/plain": [
       "recommendations finished on 3000/20525 queries. users per second: 33454.9"
      ]
     },
     "metadata": {},
     "output_type": "display_data"
    },
    {
     "data": {
      "text/html": [
       "<pre>recommendations finished on 4000/20525 queries. users per second: 35838.4</pre>"
      ],
      "text/plain": [
       "recommendations finished on 4000/20525 queries. users per second: 35838.4"
      ]
     },
     "metadata": {},
     "output_type": "display_data"
    },
    {
     "data": {
      "text/html": [
       "<pre>recommendations finished on 5000/20525 queries. users per second: 37625.1</pre>"
      ],
      "text/plain": [
       "recommendations finished on 5000/20525 queries. users per second: 37625.1"
      ]
     },
     "metadata": {},
     "output_type": "display_data"
    },
    {
     "data": {
      "text/html": [
       "<pre>recommendations finished on 6000/20525 queries. users per second: 37935.8</pre>"
      ],
      "text/plain": [
       "recommendations finished on 6000/20525 queries. users per second: 37935.8"
      ]
     },
     "metadata": {},
     "output_type": "display_data"
    },
    {
     "data": {
      "text/html": [
       "<pre>recommendations finished on 7000/20525 queries. users per second: 39093</pre>"
      ],
      "text/plain": [
       "recommendations finished on 7000/20525 queries. users per second: 39093"
      ]
     },
     "metadata": {},
     "output_type": "display_data"
    },
    {
     "data": {
      "text/html": [
       "<pre>recommendations finished on 8000/20525 queries. users per second: 39254.9</pre>"
      ],
      "text/plain": [
       "recommendations finished on 8000/20525 queries. users per second: 39254.9"
      ]
     },
     "metadata": {},
     "output_type": "display_data"
    },
    {
     "data": {
      "text/html": [
       "<pre>recommendations finished on 9000/20525 queries. users per second: 39418.9</pre>"
      ],
      "text/plain": [
       "recommendations finished on 9000/20525 queries. users per second: 39418.9"
      ]
     },
     "metadata": {},
     "output_type": "display_data"
    },
    {
     "data": {
      "text/html": [
       "<pre>recommendations finished on 10000/20525 queries. users per second: 39364.7</pre>"
      ],
      "text/plain": [
       "recommendations finished on 10000/20525 queries. users per second: 39364.7"
      ]
     },
     "metadata": {},
     "output_type": "display_data"
    },
    {
     "data": {
      "text/html": [
       "<pre>recommendations finished on 11000/20525 queries. users per second: 39598.3</pre>"
      ],
      "text/plain": [
       "recommendations finished on 11000/20525 queries. users per second: 39598.3"
      ]
     },
     "metadata": {},
     "output_type": "display_data"
    },
    {
     "data": {
      "text/html": [
       "<pre>recommendations finished on 12000/20525 queries. users per second: 39559.3</pre>"
      ],
      "text/plain": [
       "recommendations finished on 12000/20525 queries. users per second: 39559.3"
      ]
     },
     "metadata": {},
     "output_type": "display_data"
    },
    {
     "data": {
      "text/html": [
       "<pre>recommendations finished on 13000/20525 queries. users per second: 40008.4</pre>"
      ],
      "text/plain": [
       "recommendations finished on 13000/20525 queries. users per second: 40008.4"
      ]
     },
     "metadata": {},
     "output_type": "display_data"
    },
    {
     "data": {
      "text/html": [
       "<pre>recommendations finished on 14000/20525 queries. users per second: 40250.2</pre>"
      ],
      "text/plain": [
       "recommendations finished on 14000/20525 queries. users per second: 40250.2"
      ]
     },
     "metadata": {},
     "output_type": "display_data"
    },
    {
     "data": {
      "text/html": [
       "<pre>recommendations finished on 15000/20525 queries. users per second: 40263.8</pre>"
      ],
      "text/plain": [
       "recommendations finished on 15000/20525 queries. users per second: 40263.8"
      ]
     },
     "metadata": {},
     "output_type": "display_data"
    },
    {
     "data": {
      "text/html": [
       "<pre>recommendations finished on 16000/20525 queries. users per second: 40573</pre>"
      ],
      "text/plain": [
       "recommendations finished on 16000/20525 queries. users per second: 40573"
      ]
     },
     "metadata": {},
     "output_type": "display_data"
    },
    {
     "data": {
      "text/html": [
       "<pre>recommendations finished on 17000/20525 queries. users per second: 40842</pre>"
      ],
      "text/plain": [
       "recommendations finished on 17000/20525 queries. users per second: 40842"
      ]
     },
     "metadata": {},
     "output_type": "display_data"
    },
    {
     "data": {
      "text/html": [
       "<pre>recommendations finished on 18000/20525 queries. users per second: 41131.8</pre>"
      ],
      "text/plain": [
       "recommendations finished on 18000/20525 queries. users per second: 41131.8"
      ]
     },
     "metadata": {},
     "output_type": "display_data"
    },
    {
     "data": {
      "text/html": [
       "<pre>recommendations finished on 19000/20525 queries. users per second: 40715.6</pre>"
      ],
      "text/plain": [
       "recommendations finished on 19000/20525 queries. users per second: 40715.6"
      ]
     },
     "metadata": {},
     "output_type": "display_data"
    },
    {
     "data": {
      "text/html": [
       "<pre>recommendations finished on 20000/20525 queries. users per second: 39648.6</pre>"
      ],
      "text/plain": [
       "recommendations finished on 20000/20525 queries. users per second: 39648.6"
      ]
     },
     "metadata": {},
     "output_type": "display_data"
    },
    {
     "name": "stdout",
     "output_type": "stream",
     "text": [
      "\n",
      "Precision and recall summary statistics by cutoff\n",
      "+--------+------------------------+------------------------+\n",
      "| cutoff |     mean_precision     |      mean_recall       |\n",
      "+--------+------------------------+------------------------+\n",
      "|   1    | 4.872107186358064e-05  |  8.12017864393011e-06  |\n",
      "|   2    | 2.436053593179032e-05  |  8.12017864393011e-06  |\n",
      "|   3    | 3.2480714575720583e-05 | 1.1867953402667015e-05 |\n",
      "|   4    | 2.4360535931790358e-05 | 1.1867953402667015e-05 |\n",
      "|   5    | 1.9488428745432526e-05 | 1.1867953402667015e-05 |\n",
      "|   6    | 7.308160779537128e-05  | 0.00011248434878154827 |\n",
      "|   7    | 6.960153123368718e-05  | 0.0001612054206451286  |\n",
      "|   8    | 6.699147381242402e-05  | 0.00016407136604886983 |\n",
      "|   9    | 8.661523886858837e-05  | 0.0002141458010197714  |\n",
      "|   10   | 7.795371498172993e-05  | 0.0002141458010197714  |\n",
      "+--------+------------------------+------------------------+\n",
      "[10 rows x 3 columns]\n",
      "\n",
      "\n",
      "Overall RMSE: 3.5706824197731297\n",
      "\n",
      "Per User RMSE (best)\n",
      "+-----------------+------+-------+\n",
      "|   CRM_CUST_KEY  | rmse | count |\n",
      "+-----------------+------+-------+\n",
      "| Master-CM085613 | 0.0  |   1   |\n",
      "+-----------------+------+-------+\n",
      "[1 rows x 3 columns]\n",
      "\n",
      "\n",
      "Per User RMSE (worst)\n",
      "+-----------------+--------------------+-------+\n",
      "|   CRM_CUST_KEY  |        rmse        | count |\n",
      "+-----------------+--------------------+-------+\n",
      "| Master-CM077836 | 188.31252566735114 |   1   |\n",
      "+-----------------+--------------------+-------+\n",
      "[1 rows x 3 columns]\n",
      "\n",
      "\n",
      "Per Item RMSE (best)\n",
      "+-------------------------------+------+-------+\n",
      "|            PRODUCT            | rmse | count |\n",
      "+-------------------------------+------+-------+\n",
      "| C885-012G|AXIS Gold Pack (... | 0.0  |   1   |\n",
      "+-------------------------------+------+-------+\n",
      "[1 rows x 3 columns]\n",
      "\n",
      "\n",
      "Per Item RMSE (worst)\n",
      "+----------------------+-------+-------+\n",
      "|       PRODUCT        |  rmse | count |\n",
      "+----------------------+-------+-------+\n",
      "| 02006219|O-Ring 11x1 | 199.0 |   1   |\n",
      "+----------------------+-------+-------+\n",
      "[1 rows x 3 columns]\n",
      "\n",
      "PROGRESS: Evaluate model Cosine Similarity on Purchase Counts\n"
     ]
    },
    {
     "data": {
      "text/html": [
       "<pre>recommendations finished on 1000/20525 queries. users per second: 43694.8</pre>"
      ],
      "text/plain": [
       "recommendations finished on 1000/20525 queries. users per second: 43694.8"
      ]
     },
     "metadata": {},
     "output_type": "display_data"
    },
    {
     "data": {
      "text/html": [
       "<pre>recommendations finished on 2000/20525 queries. users per second: 45787.5</pre>"
      ],
      "text/plain": [
       "recommendations finished on 2000/20525 queries. users per second: 45787.5"
      ]
     },
     "metadata": {},
     "output_type": "display_data"
    },
    {
     "data": {
      "text/html": [
       "<pre>recommendations finished on 3000/20525 queries. users per second: 46262.7</pre>"
      ],
      "text/plain": [
       "recommendations finished on 3000/20525 queries. users per second: 46262.7"
      ]
     },
     "metadata": {},
     "output_type": "display_data"
    },
    {
     "data": {
      "text/html": [
       "<pre>recommendations finished on 4000/20525 queries. users per second: 47308.7</pre>"
      ],
      "text/plain": [
       "recommendations finished on 4000/20525 queries. users per second: 47308.7"
      ]
     },
     "metadata": {},
     "output_type": "display_data"
    },
    {
     "data": {
      "text/html": [
       "<pre>recommendations finished on 5000/20525 queries. users per second: 47786.1</pre>"
      ],
      "text/plain": [
       "recommendations finished on 5000/20525 queries. users per second: 47786.1"
      ]
     },
     "metadata": {},
     "output_type": "display_data"
    },
    {
     "data": {
      "text/html": [
       "<pre>recommendations finished on 6000/20525 queries. users per second: 47006.8</pre>"
      ],
      "text/plain": [
       "recommendations finished on 6000/20525 queries. users per second: 47006.8"
      ]
     },
     "metadata": {},
     "output_type": "display_data"
    },
    {
     "data": {
      "text/html": [
       "<pre>recommendations finished on 7000/20525 queries. users per second: 46342.3</pre>"
      ],
      "text/plain": [
       "recommendations finished on 7000/20525 queries. users per second: 46342.3"
      ]
     },
     "metadata": {},
     "output_type": "display_data"
    },
    {
     "data": {
      "text/html": [
       "<pre>recommendations finished on 8000/20525 queries. users per second: 45260.6</pre>"
      ],
      "text/plain": [
       "recommendations finished on 8000/20525 queries. users per second: 45260.6"
      ]
     },
     "metadata": {},
     "output_type": "display_data"
    },
    {
     "data": {
      "text/html": [
       "<pre>recommendations finished on 9000/20525 queries. users per second: 44566.6</pre>"
      ],
      "text/plain": [
       "recommendations finished on 9000/20525 queries. users per second: 44566.6"
      ]
     },
     "metadata": {},
     "output_type": "display_data"
    },
    {
     "data": {
      "text/html": [
       "<pre>recommendations finished on 10000/20525 queries. users per second: 43987.6</pre>"
      ],
      "text/plain": [
       "recommendations finished on 10000/20525 queries. users per second: 43987.6"
      ]
     },
     "metadata": {},
     "output_type": "display_data"
    },
    {
     "data": {
      "text/html": [
       "<pre>recommendations finished on 11000/20525 queries. users per second: 43912.7</pre>"
      ],
      "text/plain": [
       "recommendations finished on 11000/20525 queries. users per second: 43912.7"
      ]
     },
     "metadata": {},
     "output_type": "display_data"
    },
    {
     "data": {
      "text/html": [
       "<pre>recommendations finished on 12000/20525 queries. users per second: 43135.1</pre>"
      ],
      "text/plain": [
       "recommendations finished on 12000/20525 queries. users per second: 43135.1"
      ]
     },
     "metadata": {},
     "output_type": "display_data"
    },
    {
     "data": {
      "text/html": [
       "<pre>recommendations finished on 13000/20525 queries. users per second: 42959.4</pre>"
      ],
      "text/plain": [
       "recommendations finished on 13000/20525 queries. users per second: 42959.4"
      ]
     },
     "metadata": {},
     "output_type": "display_data"
    },
    {
     "data": {
      "text/html": [
       "<pre>recommendations finished on 14000/20525 queries. users per second: 42787.4</pre>"
      ],
      "text/plain": [
       "recommendations finished on 14000/20525 queries. users per second: 42787.4"
      ]
     },
     "metadata": {},
     "output_type": "display_data"
    },
    {
     "data": {
      "text/html": [
       "<pre>recommendations finished on 15000/20525 queries. users per second: 42142.9</pre>"
      ],
      "text/plain": [
       "recommendations finished on 15000/20525 queries. users per second: 42142.9"
      ]
     },
     "metadata": {},
     "output_type": "display_data"
    },
    {
     "data": {
      "text/html": [
       "<pre>recommendations finished on 16000/20525 queries. users per second: 42007.8</pre>"
      ],
      "text/plain": [
       "recommendations finished on 16000/20525 queries. users per second: 42007.8"
      ]
     },
     "metadata": {},
     "output_type": "display_data"
    },
    {
     "data": {
      "text/html": [
       "<pre>recommendations finished on 17000/20525 queries. users per second: 42002.2</pre>"
      ],
      "text/plain": [
       "recommendations finished on 17000/20525 queries. users per second: 42002.2"
      ]
     },
     "metadata": {},
     "output_type": "display_data"
    },
    {
     "data": {
      "text/html": [
       "<pre>recommendations finished on 18000/20525 queries. users per second: 41641</pre>"
      ],
      "text/plain": [
       "recommendations finished on 18000/20525 queries. users per second: 41641"
      ]
     },
     "metadata": {},
     "output_type": "display_data"
    },
    {
     "data": {
      "text/html": [
       "<pre>recommendations finished on 19000/20525 queries. users per second: 41444.8</pre>"
      ],
      "text/plain": [
       "recommendations finished on 19000/20525 queries. users per second: 41444.8"
      ]
     },
     "metadata": {},
     "output_type": "display_data"
    },
    {
     "data": {
      "text/html": [
       "<pre>recommendations finished on 20000/20525 queries. users per second: 39862.6</pre>"
      ],
      "text/plain": [
       "recommendations finished on 20000/20525 queries. users per second: 39862.6"
      ]
     },
     "metadata": {},
     "output_type": "display_data"
    },
    {
     "name": "stdout",
     "output_type": "stream",
     "text": [
      "\n",
      "Precision and recall summary statistics by cutoff\n",
      "+--------+----------------------+----------------------+\n",
      "| cutoff |    mean_precision    |     mean_recall      |\n",
      "+--------+----------------------+----------------------+\n",
      "|   1    | 0.03098660170523736  | 0.010831601444125233 |\n",
      "|   2    | 0.030012180267965823 | 0.01970621761836745  |\n",
      "|   3    | 0.02799837596427129  | 0.026211909499347468 |\n",
      "|   4    | 0.026930572472594352 | 0.03266919786982515  |\n",
      "|   5    | 0.025461632155907438 |  0.0375094313428567  |\n",
      "|   6    | 0.024279334145351127 | 0.042189486990330226 |\n",
      "|   7    | 0.02294066469462336  | 0.04593967957263513  |\n",
      "|   8    | 0.021924482338611277 | 0.04927109561274184  |\n",
      "|   9    | 0.020782243876031926 | 0.052039175242293935 |\n",
      "|   10   | 0.019868453105968336 | 0.05498466922126765  |\n",
      "+--------+----------------------+----------------------+\n",
      "[10 rows x 3 columns]\n",
      "\n",
      "\n",
      "Overall RMSE: 4.074918288135176\n",
      "\n",
      "Per User RMSE (best)\n",
      "+-----------------+------+-------+\n",
      "|   CRM_CUST_KEY  | rmse | count |\n",
      "+-----------------+------+-------+\n",
      "| Master-CM058660 | 0.0  |   1   |\n",
      "+-----------------+------+-------+\n",
      "[1 rows x 3 columns]\n",
      "\n",
      "\n",
      "Per User RMSE (worst)\n",
      "+-----------------+-------+-------+\n",
      "|   CRM_CUST_KEY  |  rmse | count |\n",
      "+-----------------+-------+-------+\n",
      "| Master-CM077836 | 190.0 |   1   |\n",
      "+-----------------+-------+-------+\n",
      "[1 rows x 3 columns]\n",
      "\n",
      "\n",
      "Per Item RMSE (best)\n",
      "+---------------------------+------+-------+\n",
      "|          PRODUCT          | rmse | count |\n",
      "+---------------------------+------+-------+\n",
      "| 10117335|COMFORTbase 1750 | 0.0  |   1   |\n",
      "+---------------------------+------+-------+\n",
      "[1 rows x 3 columns]\n",
      "\n",
      "\n",
      "Per Item RMSE (worst)\n",
      "+-------------------------+-----------------+-------+\n",
      "|         PRODUCT         |       rmse      | count |\n",
      "+-------------------------+-----------------+-------+\n",
      "| FG245-KC0|FG245 CARBIDE | 65.136178705031 |   19  |\n",
      "+-------------------------+-----------------+-------+\n",
      "[1 rows x 3 columns]\n",
      "\n",
      "PROGRESS: Evaluate model Pearson Similarity on Purchase Counts\n"
     ]
    },
    {
     "data": {
      "text/html": [
       "<pre>recommendations finished on 1000/20525 queries. users per second: 38516.4</pre>"
      ],
      "text/plain": [
       "recommendations finished on 1000/20525 queries. users per second: 38516.4"
      ]
     },
     "metadata": {},
     "output_type": "display_data"
    },
    {
     "data": {
      "text/html": [
       "<pre>recommendations finished on 2000/20525 queries. users per second: 41996.5</pre>"
      ],
      "text/plain": [
       "recommendations finished on 2000/20525 queries. users per second: 41996.5"
      ]
     },
     "metadata": {},
     "output_type": "display_data"
    },
    {
     "data": {
      "text/html": [
       "<pre>recommendations finished on 3000/20525 queries. users per second: 41088.6</pre>"
      ],
      "text/plain": [
       "recommendations finished on 3000/20525 queries. users per second: 41088.6"
      ]
     },
     "metadata": {},
     "output_type": "display_data"
    },
    {
     "data": {
      "text/html": [
       "<pre>recommendations finished on 4000/20525 queries. users per second: 40641.3</pre>"
      ],
      "text/plain": [
       "recommendations finished on 4000/20525 queries. users per second: 40641.3"
      ]
     },
     "metadata": {},
     "output_type": "display_data"
    },
    {
     "data": {
      "text/html": [
       "<pre>recommendations finished on 5000/20525 queries. users per second: 41119.1</pre>"
      ],
      "text/plain": [
       "recommendations finished on 5000/20525 queries. users per second: 41119.1"
      ]
     },
     "metadata": {},
     "output_type": "display_data"
    },
    {
     "data": {
      "text/html": [
       "<pre>recommendations finished on 6000/20525 queries. users per second: 41101.2</pre>"
      ],
      "text/plain": [
       "recommendations finished on 6000/20525 queries. users per second: 41101.2"
      ]
     },
     "metadata": {},
     "output_type": "display_data"
    },
    {
     "data": {
      "text/html": [
       "<pre>recommendations finished on 7000/20525 queries. users per second: 41423.1</pre>"
      ],
      "text/plain": [
       "recommendations finished on 7000/20525 queries. users per second: 41423.1"
      ]
     },
     "metadata": {},
     "output_type": "display_data"
    },
    {
     "data": {
      "text/html": [
       "<pre>recommendations finished on 8000/20525 queries. users per second: 41256.7</pre>"
      ],
      "text/plain": [
       "recommendations finished on 8000/20525 queries. users per second: 41256.7"
      ]
     },
     "metadata": {},
     "output_type": "display_data"
    },
    {
     "data": {
      "text/html": [
       "<pre>recommendations finished on 9000/20525 queries. users per second: 41118.6</pre>"
      ],
      "text/plain": [
       "recommendations finished on 9000/20525 queries. users per second: 41118.6"
      ]
     },
     "metadata": {},
     "output_type": "display_data"
    },
    {
     "data": {
      "text/html": [
       "<pre>recommendations finished on 10000/20525 queries. users per second: 41081.6</pre>"
      ],
      "text/plain": [
       "recommendations finished on 10000/20525 queries. users per second: 41081.6"
      ]
     },
     "metadata": {},
     "output_type": "display_data"
    },
    {
     "data": {
      "text/html": [
       "<pre>recommendations finished on 11000/20525 queries. users per second: 41081.9</pre>"
      ],
      "text/plain": [
       "recommendations finished on 11000/20525 queries. users per second: 41081.9"
      ]
     },
     "metadata": {},
     "output_type": "display_data"
    },
    {
     "data": {
      "text/html": [
       "<pre>recommendations finished on 12000/20525 queries. users per second: 40294.3</pre>"
      ],
      "text/plain": [
       "recommendations finished on 12000/20525 queries. users per second: 40294.3"
      ]
     },
     "metadata": {},
     "output_type": "display_data"
    },
    {
     "data": {
      "text/html": [
       "<pre>recommendations finished on 13000/20525 queries. users per second: 40000.4</pre>"
      ],
      "text/plain": [
       "recommendations finished on 13000/20525 queries. users per second: 40000.4"
      ]
     },
     "metadata": {},
     "output_type": "display_data"
    },
    {
     "data": {
      "text/html": [
       "<pre>recommendations finished on 14000/20525 queries. users per second: 39717</pre>"
      ],
      "text/plain": [
       "recommendations finished on 14000/20525 queries. users per second: 39717"
      ]
     },
     "metadata": {},
     "output_type": "display_data"
    },
    {
     "data": {
      "text/html": [
       "<pre>recommendations finished on 15000/20525 queries. users per second: 39330.7</pre>"
      ],
      "text/plain": [
       "recommendations finished on 15000/20525 queries. users per second: 39330.7"
      ]
     },
     "metadata": {},
     "output_type": "display_data"
    },
    {
     "data": {
      "text/html": [
       "<pre>recommendations finished on 16000/20525 queries. users per second: 39069</pre>"
      ],
      "text/plain": [
       "recommendations finished on 16000/20525 queries. users per second: 39069"
      ]
     },
     "metadata": {},
     "output_type": "display_data"
    },
    {
     "data": {
      "text/html": [
       "<pre>recommendations finished on 17000/20525 queries. users per second: 39087.6</pre>"
      ],
      "text/plain": [
       "recommendations finished on 17000/20525 queries. users per second: 39087.6"
      ]
     },
     "metadata": {},
     "output_type": "display_data"
    },
    {
     "data": {
      "text/html": [
       "<pre>recommendations finished on 18000/20525 queries. users per second: 38769</pre>"
      ],
      "text/plain": [
       "recommendations finished on 18000/20525 queries. users per second: 38769"
      ]
     },
     "metadata": {},
     "output_type": "display_data"
    },
    {
     "data": {
      "text/html": [
       "<pre>recommendations finished on 19000/20525 queries. users per second: 38639</pre>"
      ],
      "text/plain": [
       "recommendations finished on 19000/20525 queries. users per second: 38639"
      ]
     },
     "metadata": {},
     "output_type": "display_data"
    },
    {
     "data": {
      "text/html": [
       "<pre>recommendations finished on 20000/20525 queries. users per second: 37691</pre>"
      ],
      "text/plain": [
       "recommendations finished on 20000/20525 queries. users per second: 37691"
      ]
     },
     "metadata": {},
     "output_type": "display_data"
    },
    {
     "name": "stdout",
     "output_type": "stream",
     "text": [
      "\n",
      "Precision and recall summary statistics by cutoff\n",
      "+--------+------------------------+------------------------+\n",
      "| cutoff |     mean_precision     |      mean_recall       |\n",
      "+--------+------------------------+------------------------+\n",
      "|   1    | 4.872107186358074e-05  |  8.12017864393011e-06  |\n",
      "|   2    | 2.436053593179037e-05  |  8.12017864393011e-06  |\n",
      "|   3    | 3.248071457572053e-05  | 1.1867953402666997e-05 |\n",
      "|   4    | 2.4360535931790358e-05 | 1.1867953402666997e-05 |\n",
      "|   5    | 1.9488428745432542e-05 |  1.1867953402667e-05   |\n",
      "|   6    | 1.6240357287860265e-05 |  1.1867953402667e-05   |\n",
      "|   7    | 2.0880459370106258e-05 | 1.473389880640703e-05  |\n",
      "|   8    | 1.8270401948842804e-05 | 1.473389880640703e-05  |\n",
      "|   9    | 1.624035728786034e-05  | 1.473389880640703e-05  |\n",
      "|   10   | 1.948842874543254e-05  | 2.6914166772302416e-05 |\n",
      "+--------+------------------------+------------------------+\n",
      "[10 rows x 3 columns]\n",
      "\n",
      "\n",
      "Overall RMSE: 3.407882805905065\n",
      "\n",
      "Per User RMSE (best)\n",
      "+-----------------+------+-------+\n",
      "|   CRM_CUST_KEY  | rmse | count |\n",
      "+-----------------+------+-------+\n",
      "| Master-CM085613 | 0.0  |   1   |\n",
      "+-----------------+------+-------+\n",
      "[1 rows x 3 columns]\n",
      "\n",
      "\n",
      "Per User RMSE (worst)\n",
      "+-----------------+-------------------+-------+\n",
      "|   CRM_CUST_KEY  |        rmse       | count |\n",
      "+-----------------+-------------------+-------+\n",
      "| Master-CM077836 | 188.4577385449225 |   1   |\n",
      "+-----------------+-------------------+-------+\n",
      "[1 rows x 3 columns]\n",
      "\n",
      "\n",
      "Per Item RMSE (best)\n",
      "+-------------------------------+------+-------+\n",
      "|            PRODUCT            | rmse | count |\n",
      "+-------------------------------+------+-------+\n",
      "| C885-012G|AXIS Gold Pack (... | 0.0  |   1   |\n",
      "+-------------------------------+------+-------+\n",
      "[1 rows x 3 columns]\n",
      "\n",
      "\n",
      "Per Item RMSE (worst)\n",
      "+----------------------+-------+-------+\n",
      "|       PRODUCT        |  rmse | count |\n",
      "+----------------------+-------+-------+\n",
      "| 02006219|O-Ring 11x1 | 199.0 |   1   |\n",
      "+----------------------+-------+-------+\n",
      "[1 rows x 3 columns]\n",
      "\n"
     ]
    }
   ],
   "source": [
    "evalCounts = tc.recommender.util.compare_models(testData,modelsWcounts,model_names= names_w_counts)"
   ]
  },
  {
   "cell_type": "markdown",
   "metadata": {
    "Collapsed": "true"
   },
   "source": [
    "#### Models on Purchase Dummy"
   ]
  },
  {
   "cell_type": "code",
   "execution_count": 62,
   "metadata": {
    "Collapsed": "false"
   },
   "outputs": [
    {
     "name": "stdout",
     "output_type": "stream",
     "text": [
      "PROGRESS: Evaluate model Popularity Model on Purchase Dummy\n"
     ]
    },
    {
     "data": {
      "text/html": [
       "<pre>recommendations finished on 1000/106191 queries. users per second: 33992.8</pre>"
      ],
      "text/plain": [
       "recommendations finished on 1000/106191 queries. users per second: 33992.8"
      ]
     },
     "metadata": {},
     "output_type": "display_data"
    },
    {
     "data": {
      "text/html": [
       "<pre>recommendations finished on 2000/106191 queries. users per second: 42976.6</pre>"
      ],
      "text/plain": [
       "recommendations finished on 2000/106191 queries. users per second: 42976.6"
      ]
     },
     "metadata": {},
     "output_type": "display_data"
    },
    {
     "data": {
      "text/html": [
       "<pre>recommendations finished on 3000/106191 queries. users per second: 46623.7</pre>"
      ],
      "text/plain": [
       "recommendations finished on 3000/106191 queries. users per second: 46623.7"
      ]
     },
     "metadata": {},
     "output_type": "display_data"
    },
    {
     "data": {
      "text/html": [
       "<pre>recommendations finished on 4000/106191 queries. users per second: 48934.5</pre>"
      ],
      "text/plain": [
       "recommendations finished on 4000/106191 queries. users per second: 48934.5"
      ]
     },
     "metadata": {},
     "output_type": "display_data"
    },
    {
     "data": {
      "text/html": [
       "<pre>recommendations finished on 5000/106191 queries. users per second: 49894.7</pre>"
      ],
      "text/plain": [
       "recommendations finished on 5000/106191 queries. users per second: 49894.7"
      ]
     },
     "metadata": {},
     "output_type": "display_data"
    },
    {
     "data": {
      "text/html": [
       "<pre>recommendations finished on 6000/106191 queries. users per second: 49689.4</pre>"
      ],
      "text/plain": [
       "recommendations finished on 6000/106191 queries. users per second: 49689.4"
      ]
     },
     "metadata": {},
     "output_type": "display_data"
    },
    {
     "data": {
      "text/html": [
       "<pre>recommendations finished on 7000/106191 queries. users per second: 50518.2</pre>"
      ],
      "text/plain": [
       "recommendations finished on 7000/106191 queries. users per second: 50518.2"
      ]
     },
     "metadata": {},
     "output_type": "display_data"
    },
    {
     "data": {
      "text/html": [
       "<pre>recommendations finished on 8000/106191 queries. users per second: 50861.5</pre>"
      ],
      "text/plain": [
       "recommendations finished on 8000/106191 queries. users per second: 50861.5"
      ]
     },
     "metadata": {},
     "output_type": "display_data"
    },
    {
     "data": {
      "text/html": [
       "<pre>recommendations finished on 9000/106191 queries. users per second: 51296.1</pre>"
      ],
      "text/plain": [
       "recommendations finished on 9000/106191 queries. users per second: 51296.1"
      ]
     },
     "metadata": {},
     "output_type": "display_data"
    },
    {
     "data": {
      "text/html": [
       "<pre>recommendations finished on 10000/106191 queries. users per second: 51404.6</pre>"
      ],
      "text/plain": [
       "recommendations finished on 10000/106191 queries. users per second: 51404.6"
      ]
     },
     "metadata": {},
     "output_type": "display_data"
    },
    {
     "data": {
      "text/html": [
       "<pre>recommendations finished on 11000/106191 queries. users per second: 50612.6</pre>"
      ],
      "text/plain": [
       "recommendations finished on 11000/106191 queries. users per second: 50612.6"
      ]
     },
     "metadata": {},
     "output_type": "display_data"
    },
    {
     "data": {
      "text/html": [
       "<pre>recommendations finished on 12000/106191 queries. users per second: 50278.2</pre>"
      ],
      "text/plain": [
       "recommendations finished on 12000/106191 queries. users per second: 50278.2"
      ]
     },
     "metadata": {},
     "output_type": "display_data"
    },
    {
     "data": {
      "text/html": [
       "<pre>recommendations finished on 13000/106191 queries. users per second: 49611.1</pre>"
      ],
      "text/plain": [
       "recommendations finished on 13000/106191 queries. users per second: 49611.1"
      ]
     },
     "metadata": {},
     "output_type": "display_data"
    },
    {
     "data": {
      "text/html": [
       "<pre>recommendations finished on 14000/106191 queries. users per second: 48670.9</pre>"
      ],
      "text/plain": [
       "recommendations finished on 14000/106191 queries. users per second: 48670.9"
      ]
     },
     "metadata": {},
     "output_type": "display_data"
    },
    {
     "data": {
      "text/html": [
       "<pre>recommendations finished on 15000/106191 queries. users per second: 47476.9</pre>"
      ],
      "text/plain": [
       "recommendations finished on 15000/106191 queries. users per second: 47476.9"
      ]
     },
     "metadata": {},
     "output_type": "display_data"
    },
    {
     "data": {
      "text/html": [
       "<pre>recommendations finished on 16000/106191 queries. users per second: 47292.6</pre>"
      ],
      "text/plain": [
       "recommendations finished on 16000/106191 queries. users per second: 47292.6"
      ]
     },
     "metadata": {},
     "output_type": "display_data"
    },
    {
     "data": {
      "text/html": [
       "<pre>recommendations finished on 17000/106191 queries. users per second: 46213.4</pre>"
      ],
      "text/plain": [
       "recommendations finished on 17000/106191 queries. users per second: 46213.4"
      ]
     },
     "metadata": {},
     "output_type": "display_data"
    },
    {
     "data": {
      "text/html": [
       "<pre>recommendations finished on 18000/106191 queries. users per second: 46130.2</pre>"
      ],
      "text/plain": [
       "recommendations finished on 18000/106191 queries. users per second: 46130.2"
      ]
     },
     "metadata": {},
     "output_type": "display_data"
    },
    {
     "data": {
      "text/html": [
       "<pre>recommendations finished on 19000/106191 queries. users per second: 46071.4</pre>"
      ],
      "text/plain": [
       "recommendations finished on 19000/106191 queries. users per second: 46071.4"
      ]
     },
     "metadata": {},
     "output_type": "display_data"
    },
    {
     "data": {
      "text/html": [
       "<pre>recommendations finished on 20000/106191 queries. users per second: 46131.4</pre>"
      ],
      "text/plain": [
       "recommendations finished on 20000/106191 queries. users per second: 46131.4"
      ]
     },
     "metadata": {},
     "output_type": "display_data"
    },
    {
     "data": {
      "text/html": [
       "<pre>recommendations finished on 21000/106191 queries. users per second: 46072</pre>"
      ],
      "text/plain": [
       "recommendations finished on 21000/106191 queries. users per second: 46072"
      ]
     },
     "metadata": {},
     "output_type": "display_data"
    },
    {
     "data": {
      "text/html": [
       "<pre>recommendations finished on 22000/106191 queries. users per second: 45227.1</pre>"
      ],
      "text/plain": [
       "recommendations finished on 22000/106191 queries. users per second: 45227.1"
      ]
     },
     "metadata": {},
     "output_type": "display_data"
    },
    {
     "data": {
      "text/html": [
       "<pre>recommendations finished on 23000/106191 queries. users per second: 45487.4</pre>"
      ],
      "text/plain": [
       "recommendations finished on 23000/106191 queries. users per second: 45487.4"
      ]
     },
     "metadata": {},
     "output_type": "display_data"
    },
    {
     "data": {
      "text/html": [
       "<pre>recommendations finished on 24000/106191 queries. users per second: 44684.8</pre>"
      ],
      "text/plain": [
       "recommendations finished on 24000/106191 queries. users per second: 44684.8"
      ]
     },
     "metadata": {},
     "output_type": "display_data"
    },
    {
     "data": {
      "text/html": [
       "<pre>recommendations finished on 25000/106191 queries. users per second: 44487.2</pre>"
      ],
      "text/plain": [
       "recommendations finished on 25000/106191 queries. users per second: 44487.2"
      ]
     },
     "metadata": {},
     "output_type": "display_data"
    },
    {
     "data": {
      "text/html": [
       "<pre>recommendations finished on 26000/106191 queries. users per second: 44050.4</pre>"
      ],
      "text/plain": [
       "recommendations finished on 26000/106191 queries. users per second: 44050.4"
      ]
     },
     "metadata": {},
     "output_type": "display_data"
    },
    {
     "data": {
      "text/html": [
       "<pre>recommendations finished on 27000/106191 queries. users per second: 43816.8</pre>"
      ],
      "text/plain": [
       "recommendations finished on 27000/106191 queries. users per second: 43816.8"
      ]
     },
     "metadata": {},
     "output_type": "display_data"
    },
    {
     "data": {
      "text/html": [
       "<pre>recommendations finished on 28000/106191 queries. users per second: 43479.3</pre>"
      ],
      "text/plain": [
       "recommendations finished on 28000/106191 queries. users per second: 43479.3"
      ]
     },
     "metadata": {},
     "output_type": "display_data"
    },
    {
     "data": {
      "text/html": [
       "<pre>recommendations finished on 29000/106191 queries. users per second: 43146.3</pre>"
      ],
      "text/plain": [
       "recommendations finished on 29000/106191 queries. users per second: 43146.3"
      ]
     },
     "metadata": {},
     "output_type": "display_data"
    },
    {
     "data": {
      "text/html": [
       "<pre>recommendations finished on 30000/106191 queries. users per second: 42974.2</pre>"
      ],
      "text/plain": [
       "recommendations finished on 30000/106191 queries. users per second: 42974.2"
      ]
     },
     "metadata": {},
     "output_type": "display_data"
    },
    {
     "data": {
      "text/html": [
       "<pre>recommendations finished on 31000/106191 queries. users per second: 42660.4</pre>"
      ],
      "text/plain": [
       "recommendations finished on 31000/106191 queries. users per second: 42660.4"
      ]
     },
     "metadata": {},
     "output_type": "display_data"
    },
    {
     "data": {
      "text/html": [
       "<pre>recommendations finished on 32000/106191 queries. users per second: 42264.6</pre>"
      ],
      "text/plain": [
       "recommendations finished on 32000/106191 queries. users per second: 42264.6"
      ]
     },
     "metadata": {},
     "output_type": "display_data"
    },
    {
     "data": {
      "text/html": [
       "<pre>recommendations finished on 33000/106191 queries. users per second: 42133.5</pre>"
      ],
      "text/plain": [
       "recommendations finished on 33000/106191 queries. users per second: 42133.5"
      ]
     },
     "metadata": {},
     "output_type": "display_data"
    },
    {
     "data": {
      "text/html": [
       "<pre>recommendations finished on 34000/106191 queries. users per second: 42087.2</pre>"
      ],
      "text/plain": [
       "recommendations finished on 34000/106191 queries. users per second: 42087.2"
      ]
     },
     "metadata": {},
     "output_type": "display_data"
    },
    {
     "data": {
      "text/html": [
       "<pre>recommendations finished on 35000/106191 queries. users per second: 41758.5</pre>"
      ],
      "text/plain": [
       "recommendations finished on 35000/106191 queries. users per second: 41758.5"
      ]
     },
     "metadata": {},
     "output_type": "display_data"
    },
    {
     "data": {
      "text/html": [
       "<pre>recommendations finished on 36000/106191 queries. users per second: 41401.2</pre>"
      ],
      "text/plain": [
       "recommendations finished on 36000/106191 queries. users per second: 41401.2"
      ]
     },
     "metadata": {},
     "output_type": "display_data"
    },
    {
     "data": {
      "text/html": [
       "<pre>recommendations finished on 37000/106191 queries. users per second: 40698.5</pre>"
      ],
      "text/plain": [
       "recommendations finished on 37000/106191 queries. users per second: 40698.5"
      ]
     },
     "metadata": {},
     "output_type": "display_data"
    },
    {
     "data": {
      "text/html": [
       "<pre>recommendations finished on 38000/106191 queries. users per second: 40340.5</pre>"
      ],
      "text/plain": [
       "recommendations finished on 38000/106191 queries. users per second: 40340.5"
      ]
     },
     "metadata": {},
     "output_type": "display_data"
    },
    {
     "data": {
      "text/html": [
       "<pre>recommendations finished on 39000/106191 queries. users per second: 40268.7</pre>"
      ],
      "text/plain": [
       "recommendations finished on 39000/106191 queries. users per second: 40268.7"
      ]
     },
     "metadata": {},
     "output_type": "display_data"
    },
    {
     "data": {
      "text/html": [
       "<pre>recommendations finished on 40000/106191 queries. users per second: 40278.3</pre>"
      ],
      "text/plain": [
       "recommendations finished on 40000/106191 queries. users per second: 40278.3"
      ]
     },
     "metadata": {},
     "output_type": "display_data"
    },
    {
     "data": {
      "text/html": [
       "<pre>recommendations finished on 41000/106191 queries. users per second: 40296.7</pre>"
      ],
      "text/plain": [
       "recommendations finished on 41000/106191 queries. users per second: 40296.7"
      ]
     },
     "metadata": {},
     "output_type": "display_data"
    },
    {
     "data": {
      "text/html": [
       "<pre>recommendations finished on 42000/106191 queries. users per second: 39870.1</pre>"
      ],
      "text/plain": [
       "recommendations finished on 42000/106191 queries. users per second: 39870.1"
      ]
     },
     "metadata": {},
     "output_type": "display_data"
    },
    {
     "data": {
      "text/html": [
       "<pre>recommendations finished on 43000/106191 queries. users per second: 39812.1</pre>"
      ],
      "text/plain": [
       "recommendations finished on 43000/106191 queries. users per second: 39812.1"
      ]
     },
     "metadata": {},
     "output_type": "display_data"
    },
    {
     "data": {
      "text/html": [
       "<pre>recommendations finished on 44000/106191 queries. users per second: 39758.1</pre>"
      ],
      "text/plain": [
       "recommendations finished on 44000/106191 queries. users per second: 39758.1"
      ]
     },
     "metadata": {},
     "output_type": "display_data"
    },
    {
     "data": {
      "text/html": [
       "<pre>recommendations finished on 45000/106191 queries. users per second: 39696.4</pre>"
      ],
      "text/plain": [
       "recommendations finished on 45000/106191 queries. users per second: 39696.4"
      ]
     },
     "metadata": {},
     "output_type": "display_data"
    },
    {
     "data": {
      "text/html": [
       "<pre>recommendations finished on 46000/106191 queries. users per second: 39298.5</pre>"
      ],
      "text/plain": [
       "recommendations finished on 46000/106191 queries. users per second: 39298.5"
      ]
     },
     "metadata": {},
     "output_type": "display_data"
    },
    {
     "data": {
      "text/html": [
       "<pre>recommendations finished on 47000/106191 queries. users per second: 39173.6</pre>"
      ],
      "text/plain": [
       "recommendations finished on 47000/106191 queries. users per second: 39173.6"
      ]
     },
     "metadata": {},
     "output_type": "display_data"
    },
    {
     "data": {
      "text/html": [
       "<pre>recommendations finished on 48000/106191 queries. users per second: 38951.9</pre>"
      ],
      "text/plain": [
       "recommendations finished on 48000/106191 queries. users per second: 38951.9"
      ]
     },
     "metadata": {},
     "output_type": "display_data"
    },
    {
     "data": {
      "text/html": [
       "<pre>recommendations finished on 49000/106191 queries. users per second: 38685.7</pre>"
      ],
      "text/plain": [
       "recommendations finished on 49000/106191 queries. users per second: 38685.7"
      ]
     },
     "metadata": {},
     "output_type": "display_data"
    },
    {
     "data": {
      "text/html": [
       "<pre>recommendations finished on 50000/106191 queries. users per second: 38507.4</pre>"
      ],
      "text/plain": [
       "recommendations finished on 50000/106191 queries. users per second: 38507.4"
      ]
     },
     "metadata": {},
     "output_type": "display_data"
    },
    {
     "data": {
      "text/html": [
       "<pre>recommendations finished on 51000/106191 queries. users per second: 38201</pre>"
      ],
      "text/plain": [
       "recommendations finished on 51000/106191 queries. users per second: 38201"
      ]
     },
     "metadata": {},
     "output_type": "display_data"
    },
    {
     "data": {
      "text/html": [
       "<pre>recommendations finished on 52000/106191 queries. users per second: 38088.8</pre>"
      ],
      "text/plain": [
       "recommendations finished on 52000/106191 queries. users per second: 38088.8"
      ]
     },
     "metadata": {},
     "output_type": "display_data"
    },
    {
     "data": {
      "text/html": [
       "<pre>recommendations finished on 53000/106191 queries. users per second: 38102.7</pre>"
      ],
      "text/plain": [
       "recommendations finished on 53000/106191 queries. users per second: 38102.7"
      ]
     },
     "metadata": {},
     "output_type": "display_data"
    },
    {
     "data": {
      "text/html": [
       "<pre>recommendations finished on 54000/106191 queries. users per second: 38046.2</pre>"
      ],
      "text/plain": [
       "recommendations finished on 54000/106191 queries. users per second: 38046.2"
      ]
     },
     "metadata": {},
     "output_type": "display_data"
    },
    {
     "data": {
      "text/html": [
       "<pre>recommendations finished on 55000/106191 queries. users per second: 37925</pre>"
      ],
      "text/plain": [
       "recommendations finished on 55000/106191 queries. users per second: 37925"
      ]
     },
     "metadata": {},
     "output_type": "display_data"
    },
    {
     "data": {
      "text/html": [
       "<pre>recommendations finished on 56000/106191 queries. users per second: 37867.7</pre>"
      ],
      "text/plain": [
       "recommendations finished on 56000/106191 queries. users per second: 37867.7"
      ]
     },
     "metadata": {},
     "output_type": "display_data"
    },
    {
     "data": {
      "text/html": [
       "<pre>recommendations finished on 57000/106191 queries. users per second: 37773.3</pre>"
      ],
      "text/plain": [
       "recommendations finished on 57000/106191 queries. users per second: 37773.3"
      ]
     },
     "metadata": {},
     "output_type": "display_data"
    },
    {
     "data": {
      "text/html": [
       "<pre>recommendations finished on 58000/106191 queries. users per second: 37649</pre>"
      ],
      "text/plain": [
       "recommendations finished on 58000/106191 queries. users per second: 37649"
      ]
     },
     "metadata": {},
     "output_type": "display_data"
    },
    {
     "data": {
      "text/html": [
       "<pre>recommendations finished on 59000/106191 queries. users per second: 37553.6</pre>"
      ],
      "text/plain": [
       "recommendations finished on 59000/106191 queries. users per second: 37553.6"
      ]
     },
     "metadata": {},
     "output_type": "display_data"
    },
    {
     "data": {
      "text/html": [
       "<pre>recommendations finished on 60000/106191 queries. users per second: 37540.4</pre>"
      ],
      "text/plain": [
       "recommendations finished on 60000/106191 queries. users per second: 37540.4"
      ]
     },
     "metadata": {},
     "output_type": "display_data"
    },
    {
     "data": {
      "text/html": [
       "<pre>recommendations finished on 61000/106191 queries. users per second: 37516.4</pre>"
      ],
      "text/plain": [
       "recommendations finished on 61000/106191 queries. users per second: 37516.4"
      ]
     },
     "metadata": {},
     "output_type": "display_data"
    },
    {
     "data": {
      "text/html": [
       "<pre>recommendations finished on 62000/106191 queries. users per second: 37404.3</pre>"
      ],
      "text/plain": [
       "recommendations finished on 62000/106191 queries. users per second: 37404.3"
      ]
     },
     "metadata": {},
     "output_type": "display_data"
    },
    {
     "data": {
      "text/html": [
       "<pre>recommendations finished on 63000/106191 queries. users per second: 37347.4</pre>"
      ],
      "text/plain": [
       "recommendations finished on 63000/106191 queries. users per second: 37347.4"
      ]
     },
     "metadata": {},
     "output_type": "display_data"
    },
    {
     "data": {
      "text/html": [
       "<pre>recommendations finished on 64000/106191 queries. users per second: 37308.1</pre>"
      ],
      "text/plain": [
       "recommendations finished on 64000/106191 queries. users per second: 37308.1"
      ]
     },
     "metadata": {},
     "output_type": "display_data"
    },
    {
     "data": {
      "text/html": [
       "<pre>recommendations finished on 65000/106191 queries. users per second: 37304.1</pre>"
      ],
      "text/plain": [
       "recommendations finished on 65000/106191 queries. users per second: 37304.1"
      ]
     },
     "metadata": {},
     "output_type": "display_data"
    },
    {
     "data": {
      "text/html": [
       "<pre>recommendations finished on 66000/106191 queries. users per second: 37267.2</pre>"
      ],
      "text/plain": [
       "recommendations finished on 66000/106191 queries. users per second: 37267.2"
      ]
     },
     "metadata": {},
     "output_type": "display_data"
    },
    {
     "data": {
      "text/html": [
       "<pre>recommendations finished on 67000/106191 queries. users per second: 37244</pre>"
      ],
      "text/plain": [
       "recommendations finished on 67000/106191 queries. users per second: 37244"
      ]
     },
     "metadata": {},
     "output_type": "display_data"
    },
    {
     "data": {
      "text/html": [
       "<pre>recommendations finished on 68000/106191 queries. users per second: 37308.2</pre>"
      ],
      "text/plain": [
       "recommendations finished on 68000/106191 queries. users per second: 37308.2"
      ]
     },
     "metadata": {},
     "output_type": "display_data"
    },
    {
     "data": {
      "text/html": [
       "<pre>recommendations finished on 69000/106191 queries. users per second: 37327</pre>"
      ],
      "text/plain": [
       "recommendations finished on 69000/106191 queries. users per second: 37327"
      ]
     },
     "metadata": {},
     "output_type": "display_data"
    },
    {
     "data": {
      "text/html": [
       "<pre>recommendations finished on 70000/106191 queries. users per second: 37389.2</pre>"
      ],
      "text/plain": [
       "recommendations finished on 70000/106191 queries. users per second: 37389.2"
      ]
     },
     "metadata": {},
     "output_type": "display_data"
    },
    {
     "data": {
      "text/html": [
       "<pre>recommendations finished on 71000/106191 queries. users per second: 37384.5</pre>"
      ],
      "text/plain": [
       "recommendations finished on 71000/106191 queries. users per second: 37384.5"
      ]
     },
     "metadata": {},
     "output_type": "display_data"
    },
    {
     "data": {
      "text/html": [
       "<pre>recommendations finished on 72000/106191 queries. users per second: 37451.9</pre>"
      ],
      "text/plain": [
       "recommendations finished on 72000/106191 queries. users per second: 37451.9"
      ]
     },
     "metadata": {},
     "output_type": "display_data"
    },
    {
     "data": {
      "text/html": [
       "<pre>recommendations finished on 73000/106191 queries. users per second: 37486.4</pre>"
      ],
      "text/plain": [
       "recommendations finished on 73000/106191 queries. users per second: 37486.4"
      ]
     },
     "metadata": {},
     "output_type": "display_data"
    },
    {
     "data": {
      "text/html": [
       "<pre>recommendations finished on 74000/106191 queries. users per second: 37538</pre>"
      ],
      "text/plain": [
       "recommendations finished on 74000/106191 queries. users per second: 37538"
      ]
     },
     "metadata": {},
     "output_type": "display_data"
    },
    {
     "data": {
      "text/html": [
       "<pre>recommendations finished on 75000/106191 queries. users per second: 37492.7</pre>"
      ],
      "text/plain": [
       "recommendations finished on 75000/106191 queries. users per second: 37492.7"
      ]
     },
     "metadata": {},
     "output_type": "display_data"
    },
    {
     "data": {
      "text/html": [
       "<pre>recommendations finished on 76000/106191 queries. users per second: 37517.9</pre>"
      ],
      "text/plain": [
       "recommendations finished on 76000/106191 queries. users per second: 37517.9"
      ]
     },
     "metadata": {},
     "output_type": "display_data"
    },
    {
     "data": {
      "text/html": [
       "<pre>recommendations finished on 77000/106191 queries. users per second: 37434.5</pre>"
      ],
      "text/plain": [
       "recommendations finished on 77000/106191 queries. users per second: 37434.5"
      ]
     },
     "metadata": {},
     "output_type": "display_data"
    },
    {
     "data": {
      "text/html": [
       "<pre>recommendations finished on 78000/106191 queries. users per second: 37447.2</pre>"
      ],
      "text/plain": [
       "recommendations finished on 78000/106191 queries. users per second: 37447.2"
      ]
     },
     "metadata": {},
     "output_type": "display_data"
    },
    {
     "data": {
      "text/html": [
       "<pre>recommendations finished on 79000/106191 queries. users per second: 37482.5</pre>"
      ],
      "text/plain": [
       "recommendations finished on 79000/106191 queries. users per second: 37482.5"
      ]
     },
     "metadata": {},
     "output_type": "display_data"
    },
    {
     "data": {
      "text/html": [
       "<pre>recommendations finished on 80000/106191 queries. users per second: 37478.7</pre>"
      ],
      "text/plain": [
       "recommendations finished on 80000/106191 queries. users per second: 37478.7"
      ]
     },
     "metadata": {},
     "output_type": "display_data"
    },
    {
     "data": {
      "text/html": [
       "<pre>recommendations finished on 81000/106191 queries. users per second: 37481</pre>"
      ],
      "text/plain": [
       "recommendations finished on 81000/106191 queries. users per second: 37481"
      ]
     },
     "metadata": {},
     "output_type": "display_data"
    },
    {
     "data": {
      "text/html": [
       "<pre>recommendations finished on 82000/106191 queries. users per second: 37499.2</pre>"
      ],
      "text/plain": [
       "recommendations finished on 82000/106191 queries. users per second: 37499.2"
      ]
     },
     "metadata": {},
     "output_type": "display_data"
    },
    {
     "data": {
      "text/html": [
       "<pre>recommendations finished on 83000/106191 queries. users per second: 37555.5</pre>"
      ],
      "text/plain": [
       "recommendations finished on 83000/106191 queries. users per second: 37555.5"
      ]
     },
     "metadata": {},
     "output_type": "display_data"
    },
    {
     "data": {
      "text/html": [
       "<pre>recommendations finished on 84000/106191 queries. users per second: 37619.2</pre>"
      ],
      "text/plain": [
       "recommendations finished on 84000/106191 queries. users per second: 37619.2"
      ]
     },
     "metadata": {},
     "output_type": "display_data"
    },
    {
     "data": {
      "text/html": [
       "<pre>recommendations finished on 85000/106191 queries. users per second: 37674.2</pre>"
      ],
      "text/plain": [
       "recommendations finished on 85000/106191 queries. users per second: 37674.2"
      ]
     },
     "metadata": {},
     "output_type": "display_data"
    },
    {
     "data": {
      "text/html": [
       "<pre>recommendations finished on 86000/106191 queries. users per second: 37729.1</pre>"
      ],
      "text/plain": [
       "recommendations finished on 86000/106191 queries. users per second: 37729.1"
      ]
     },
     "metadata": {},
     "output_type": "display_data"
    },
    {
     "data": {
      "text/html": [
       "<pre>recommendations finished on 87000/106191 queries. users per second: 37651.3</pre>"
      ],
      "text/plain": [
       "recommendations finished on 87000/106191 queries. users per second: 37651.3"
      ]
     },
     "metadata": {},
     "output_type": "display_data"
    },
    {
     "data": {
      "text/html": [
       "<pre>recommendations finished on 88000/106191 queries. users per second: 37704.9</pre>"
      ],
      "text/plain": [
       "recommendations finished on 88000/106191 queries. users per second: 37704.9"
      ]
     },
     "metadata": {},
     "output_type": "display_data"
    },
    {
     "data": {
      "text/html": [
       "<pre>recommendations finished on 89000/106191 queries. users per second: 37762.8</pre>"
      ],
      "text/plain": [
       "recommendations finished on 89000/106191 queries. users per second: 37762.8"
      ]
     },
     "metadata": {},
     "output_type": "display_data"
    },
    {
     "data": {
      "text/html": [
       "<pre>recommendations finished on 90000/106191 queries. users per second: 37822.7</pre>"
      ],
      "text/plain": [
       "recommendations finished on 90000/106191 queries. users per second: 37822.7"
      ]
     },
     "metadata": {},
     "output_type": "display_data"
    },
    {
     "data": {
      "text/html": [
       "<pre>recommendations finished on 91000/106191 queries. users per second: 37870.3</pre>"
      ],
      "text/plain": [
       "recommendations finished on 91000/106191 queries. users per second: 37870.3"
      ]
     },
     "metadata": {},
     "output_type": "display_data"
    },
    {
     "data": {
      "text/html": [
       "<pre>recommendations finished on 92000/106191 queries. users per second: 37918.6</pre>"
      ],
      "text/plain": [
       "recommendations finished on 92000/106191 queries. users per second: 37918.6"
      ]
     },
     "metadata": {},
     "output_type": "display_data"
    },
    {
     "data": {
      "text/html": [
       "<pre>recommendations finished on 93000/106191 queries. users per second: 37943.1</pre>"
      ],
      "text/plain": [
       "recommendations finished on 93000/106191 queries. users per second: 37943.1"
      ]
     },
     "metadata": {},
     "output_type": "display_data"
    },
    {
     "data": {
      "text/html": [
       "<pre>recommendations finished on 94000/106191 queries. users per second: 37929.3</pre>"
      ],
      "text/plain": [
       "recommendations finished on 94000/106191 queries. users per second: 37929.3"
      ]
     },
     "metadata": {},
     "output_type": "display_data"
    },
    {
     "data": {
      "text/html": [
       "<pre>recommendations finished on 95000/106191 queries. users per second: 37892</pre>"
      ],
      "text/plain": [
       "recommendations finished on 95000/106191 queries. users per second: 37892"
      ]
     },
     "metadata": {},
     "output_type": "display_data"
    },
    {
     "data": {
      "text/html": [
       "<pre>recommendations finished on 96000/106191 queries. users per second: 37883.5</pre>"
      ],
      "text/plain": [
       "recommendations finished on 96000/106191 queries. users per second: 37883.5"
      ]
     },
     "metadata": {},
     "output_type": "display_data"
    },
    {
     "data": {
      "text/html": [
       "<pre>recommendations finished on 97000/106191 queries. users per second: 37858.8</pre>"
      ],
      "text/plain": [
       "recommendations finished on 97000/106191 queries. users per second: 37858.8"
      ]
     },
     "metadata": {},
     "output_type": "display_data"
    },
    {
     "data": {
      "text/html": [
       "<pre>recommendations finished on 98000/106191 queries. users per second: 37810.4</pre>"
      ],
      "text/plain": [
       "recommendations finished on 98000/106191 queries. users per second: 37810.4"
      ]
     },
     "metadata": {},
     "output_type": "display_data"
    },
    {
     "data": {
      "text/html": [
       "<pre>recommendations finished on 99000/106191 queries. users per second: 37858.2</pre>"
      ],
      "text/plain": [
       "recommendations finished on 99000/106191 queries. users per second: 37858.2"
      ]
     },
     "metadata": {},
     "output_type": "display_data"
    },
    {
     "data": {
      "text/html": [
       "<pre>recommendations finished on 100000/106191 queries. users per second: 37891.7</pre>"
      ],
      "text/plain": [
       "recommendations finished on 100000/106191 queries. users per second: 37891.7"
      ]
     },
     "metadata": {},
     "output_type": "display_data"
    },
    {
     "data": {
      "text/html": [
       "<pre>recommendations finished on 101000/106191 queries. users per second: 37939.8</pre>"
      ],
      "text/plain": [
       "recommendations finished on 101000/106191 queries. users per second: 37939.8"
      ]
     },
     "metadata": {},
     "output_type": "display_data"
    },
    {
     "data": {
      "text/html": [
       "<pre>recommendations finished on 102000/106191 queries. users per second: 38001</pre>"
      ],
      "text/plain": [
       "recommendations finished on 102000/106191 queries. users per second: 38001"
      ]
     },
     "metadata": {},
     "output_type": "display_data"
    },
    {
     "data": {
      "text/html": [
       "<pre>recommendations finished on 103000/106191 queries. users per second: 38068.4</pre>"
      ],
      "text/plain": [
       "recommendations finished on 103000/106191 queries. users per second: 38068.4"
      ]
     },
     "metadata": {},
     "output_type": "display_data"
    },
    {
     "data": {
      "text/html": [
       "<pre>recommendations finished on 104000/106191 queries. users per second: 38130.8</pre>"
      ],
      "text/plain": [
       "recommendations finished on 104000/106191 queries. users per second: 38130.8"
      ]
     },
     "metadata": {},
     "output_type": "display_data"
    },
    {
     "data": {
      "text/html": [
       "<pre>recommendations finished on 105000/106191 queries. users per second: 38156.3</pre>"
      ],
      "text/plain": [
       "recommendations finished on 105000/106191 queries. users per second: 38156.3"
      ]
     },
     "metadata": {},
     "output_type": "display_data"
    },
    {
     "data": {
      "text/html": [
       "<pre>recommendations finished on 106000/106191 queries. users per second: 38091.7</pre>"
      ],
      "text/plain": [
       "recommendations finished on 106000/106191 queries. users per second: 38091.7"
      ]
     },
     "metadata": {},
     "output_type": "display_data"
    },
    {
     "name": "stdout",
     "output_type": "stream",
     "text": [
      "\n",
      "Precision and recall summary statistics by cutoff\n",
      "+--------+------------------------+------------------------+\n",
      "| cutoff |     mean_precision     |      mean_recall       |\n",
      "+--------+------------------------+------------------------+\n",
      "|   1    | 2.8250981721614868e-05 | 6.773627196410612e-06  |\n",
      "|   2    | 2.354248476801213e-05  | 1.1796023946919817e-05 |\n",
      "|   3    | 1.8833987814409806e-05 | 1.2580773439186969e-05 |\n",
      "|   4    | 1.412549086080756e-05  | 1.2580773439186969e-05 |\n",
      "|   5    | 1.5067190251527824e-05 | 1.6068548960374075e-05 |\n",
      "|   6    | 1.5694989845341525e-05 | 1.8191988762979088e-05 |\n",
      "|   7    | 1.4798133282750248e-05 | 2.2900485716581614e-05 |\n",
      "|   8    | 1.4125490860807258e-05 | 2.4077609954982322e-05 |\n",
      "|   9    | 1.3602324532629344e-05 | 2.7216607924050538e-05 |\n",
      "|   10   | 1.506719025152787e-05  | 3.147236478596042e-05  |\n",
      "+--------+------------------------+------------------------+\n",
      "[10 rows x 3 columns]\n",
      "\n",
      "\n",
      "Overall RMSE: 0.0\n",
      "\n",
      "Per User RMSE (best)\n",
      "+-----------------+------+-------+\n",
      "|   CRM_CUST_KEY  | rmse | count |\n",
      "+-----------------+------+-------+\n",
      "| Master-CM978491 | 0.0  |   1   |\n",
      "+-----------------+------+-------+\n",
      "[1 rows x 3 columns]\n",
      "\n",
      "\n",
      "Per User RMSE (worst)\n",
      "+------------------+------+-------+\n",
      "|   CRM_CUST_KEY   | rmse | count |\n",
      "+------------------+------+-------+\n",
      "| Master-CM1138599 | 0.0  |   3   |\n",
      "+------------------+------+-------+\n",
      "[1 rows x 3 columns]\n",
      "\n",
      "\n",
      "Per Item RMSE (best)\n",
      "+-------------------------------+------+-------+\n",
      "|            PRODUCT            | rmse | count |\n",
      "+-------------------------------+------+-------+\n",
      "| 08201573|DISPOSABLE BITE G... | 0.0  |  165  |\n",
      "+-------------------------------+------+-------+\n",
      "[1 rows x 3 columns]\n",
      "\n",
      "\n",
      "Per Item RMSE (worst)\n",
      "+-------------------------------+------+-------+\n",
      "|            PRODUCT            | rmse | count |\n",
      "+-------------------------------+------+-------+\n",
      "| 08411053|MOUNT-ELLIPSE (NO... | 0.0  |   1   |\n",
      "+-------------------------------+------+-------+\n",
      "[1 rows x 3 columns]\n",
      "\n",
      "PROGRESS: Evaluate model Cosine Similarity on Purchase Dummy\n"
     ]
    },
    {
     "data": {
      "text/html": [
       "<pre>recommendations finished on 1000/106191 queries. users per second: 23112.8</pre>"
      ],
      "text/plain": [
       "recommendations finished on 1000/106191 queries. users per second: 23112.8"
      ]
     },
     "metadata": {},
     "output_type": "display_data"
    },
    {
     "data": {
      "text/html": [
       "<pre>recommendations finished on 2000/106191 queries. users per second: 25804.1</pre>"
      ],
      "text/plain": [
       "recommendations finished on 2000/106191 queries. users per second: 25804.1"
      ]
     },
     "metadata": {},
     "output_type": "display_data"
    },
    {
     "data": {
      "text/html": [
       "<pre>recommendations finished on 3000/106191 queries. users per second: 25996.5</pre>"
      ],
      "text/plain": [
       "recommendations finished on 3000/106191 queries. users per second: 25996.5"
      ]
     },
     "metadata": {},
     "output_type": "display_data"
    },
    {
     "data": {
      "text/html": [
       "<pre>recommendations finished on 4000/106191 queries. users per second: 26414</pre>"
      ],
      "text/plain": [
       "recommendations finished on 4000/106191 queries. users per second: 26414"
      ]
     },
     "metadata": {},
     "output_type": "display_data"
    },
    {
     "data": {
      "text/html": [
       "<pre>recommendations finished on 5000/106191 queries. users per second: 26336</pre>"
      ],
      "text/plain": [
       "recommendations finished on 5000/106191 queries. users per second: 26336"
      ]
     },
     "metadata": {},
     "output_type": "display_data"
    },
    {
     "data": {
      "text/html": [
       "<pre>recommendations finished on 6000/106191 queries. users per second: 26615.9</pre>"
      ],
      "text/plain": [
       "recommendations finished on 6000/106191 queries. users per second: 26615.9"
      ]
     },
     "metadata": {},
     "output_type": "display_data"
    },
    {
     "data": {
      "text/html": [
       "<pre>recommendations finished on 7000/106191 queries. users per second: 27028.9</pre>"
      ],
      "text/plain": [
       "recommendations finished on 7000/106191 queries. users per second: 27028.9"
      ]
     },
     "metadata": {},
     "output_type": "display_data"
    },
    {
     "data": {
      "text/html": [
       "<pre>recommendations finished on 8000/106191 queries. users per second: 27108.2</pre>"
      ],
      "text/plain": [
       "recommendations finished on 8000/106191 queries. users per second: 27108.2"
      ]
     },
     "metadata": {},
     "output_type": "display_data"
    },
    {
     "data": {
      "text/html": [
       "<pre>recommendations finished on 9000/106191 queries. users per second: 27355.4</pre>"
      ],
      "text/plain": [
       "recommendations finished on 9000/106191 queries. users per second: 27355.4"
      ]
     },
     "metadata": {},
     "output_type": "display_data"
    },
    {
     "data": {
      "text/html": [
       "<pre>recommendations finished on 10000/106191 queries. users per second: 27341.4</pre>"
      ],
      "text/plain": [
       "recommendations finished on 10000/106191 queries. users per second: 27341.4"
      ]
     },
     "metadata": {},
     "output_type": "display_data"
    },
    {
     "data": {
      "text/html": [
       "<pre>recommendations finished on 11000/106191 queries. users per second: 27360.5</pre>"
      ],
      "text/plain": [
       "recommendations finished on 11000/106191 queries. users per second: 27360.5"
      ]
     },
     "metadata": {},
     "output_type": "display_data"
    },
    {
     "data": {
      "text/html": [
       "<pre>recommendations finished on 12000/106191 queries. users per second: 27475.9</pre>"
      ],
      "text/plain": [
       "recommendations finished on 12000/106191 queries. users per second: 27475.9"
      ]
     },
     "metadata": {},
     "output_type": "display_data"
    },
    {
     "data": {
      "text/html": [
       "<pre>recommendations finished on 13000/106191 queries. users per second: 27336.2</pre>"
      ],
      "text/plain": [
       "recommendations finished on 13000/106191 queries. users per second: 27336.2"
      ]
     },
     "metadata": {},
     "output_type": "display_data"
    },
    {
     "data": {
      "text/html": [
       "<pre>recommendations finished on 14000/106191 queries. users per second: 27337.4</pre>"
      ],
      "text/plain": [
       "recommendations finished on 14000/106191 queries. users per second: 27337.4"
      ]
     },
     "metadata": {},
     "output_type": "display_data"
    },
    {
     "data": {
      "text/html": [
       "<pre>recommendations finished on 15000/106191 queries. users per second: 27527.8</pre>"
      ],
      "text/plain": [
       "recommendations finished on 15000/106191 queries. users per second: 27527.8"
      ]
     },
     "metadata": {},
     "output_type": "display_data"
    },
    {
     "data": {
      "text/html": [
       "<pre>recommendations finished on 16000/106191 queries. users per second: 27531.5</pre>"
      ],
      "text/plain": [
       "recommendations finished on 16000/106191 queries. users per second: 27531.5"
      ]
     },
     "metadata": {},
     "output_type": "display_data"
    },
    {
     "data": {
      "text/html": [
       "<pre>recommendations finished on 17000/106191 queries. users per second: 27601.3</pre>"
      ],
      "text/plain": [
       "recommendations finished on 17000/106191 queries. users per second: 27601.3"
      ]
     },
     "metadata": {},
     "output_type": "display_data"
    },
    {
     "data": {
      "text/html": [
       "<pre>recommendations finished on 18000/106191 queries. users per second: 27543.3</pre>"
      ],
      "text/plain": [
       "recommendations finished on 18000/106191 queries. users per second: 27543.3"
      ]
     },
     "metadata": {},
     "output_type": "display_data"
    },
    {
     "data": {
      "text/html": [
       "<pre>recommendations finished on 19000/106191 queries. users per second: 27548.5</pre>"
      ],
      "text/plain": [
       "recommendations finished on 19000/106191 queries. users per second: 27548.5"
      ]
     },
     "metadata": {},
     "output_type": "display_data"
    },
    {
     "data": {
      "text/html": [
       "<pre>recommendations finished on 20000/106191 queries. users per second: 27632.8</pre>"
      ],
      "text/plain": [
       "recommendations finished on 20000/106191 queries. users per second: 27632.8"
      ]
     },
     "metadata": {},
     "output_type": "display_data"
    },
    {
     "data": {
      "text/html": [
       "<pre>recommendations finished on 21000/106191 queries. users per second: 27684.8</pre>"
      ],
      "text/plain": [
       "recommendations finished on 21000/106191 queries. users per second: 27684.8"
      ]
     },
     "metadata": {},
     "output_type": "display_data"
    },
    {
     "data": {
      "text/html": [
       "<pre>recommendations finished on 22000/106191 queries. users per second: 27568.8</pre>"
      ],
      "text/plain": [
       "recommendations finished on 22000/106191 queries. users per second: 27568.8"
      ]
     },
     "metadata": {},
     "output_type": "display_data"
    },
    {
     "data": {
      "text/html": [
       "<pre>recommendations finished on 23000/106191 queries. users per second: 27571.1</pre>"
      ],
      "text/plain": [
       "recommendations finished on 23000/106191 queries. users per second: 27571.1"
      ]
     },
     "metadata": {},
     "output_type": "display_data"
    },
    {
     "data": {
      "text/html": [
       "<pre>recommendations finished on 24000/106191 queries. users per second: 27613.5</pre>"
      ],
      "text/plain": [
       "recommendations finished on 24000/106191 queries. users per second: 27613.5"
      ]
     },
     "metadata": {},
     "output_type": "display_data"
    },
    {
     "data": {
      "text/html": [
       "<pre>recommendations finished on 25000/106191 queries. users per second: 27603.3</pre>"
      ],
      "text/plain": [
       "recommendations finished on 25000/106191 queries. users per second: 27603.3"
      ]
     },
     "metadata": {},
     "output_type": "display_data"
    },
    {
     "data": {
      "text/html": [
       "<pre>recommendations finished on 26000/106191 queries. users per second: 27674.6</pre>"
      ],
      "text/plain": [
       "recommendations finished on 26000/106191 queries. users per second: 27674.6"
      ]
     },
     "metadata": {},
     "output_type": "display_data"
    },
    {
     "data": {
      "text/html": [
       "<pre>recommendations finished on 27000/106191 queries. users per second: 27726.2</pre>"
      ],
      "text/plain": [
       "recommendations finished on 27000/106191 queries. users per second: 27726.2"
      ]
     },
     "metadata": {},
     "output_type": "display_data"
    },
    {
     "data": {
      "text/html": [
       "<pre>recommendations finished on 28000/106191 queries. users per second: 27739.9</pre>"
      ],
      "text/plain": [
       "recommendations finished on 28000/106191 queries. users per second: 27739.9"
      ]
     },
     "metadata": {},
     "output_type": "display_data"
    },
    {
     "data": {
      "text/html": [
       "<pre>recommendations finished on 29000/106191 queries. users per second: 27727.4</pre>"
      ],
      "text/plain": [
       "recommendations finished on 29000/106191 queries. users per second: 27727.4"
      ]
     },
     "metadata": {},
     "output_type": "display_data"
    },
    {
     "data": {
      "text/html": [
       "<pre>recommendations finished on 30000/106191 queries. users per second: 27797.6</pre>"
      ],
      "text/plain": [
       "recommendations finished on 30000/106191 queries. users per second: 27797.6"
      ]
     },
     "metadata": {},
     "output_type": "display_data"
    },
    {
     "data": {
      "text/html": [
       "<pre>recommendations finished on 31000/106191 queries. users per second: 27721.1</pre>"
      ],
      "text/plain": [
       "recommendations finished on 31000/106191 queries. users per second: 27721.1"
      ]
     },
     "metadata": {},
     "output_type": "display_data"
    },
    {
     "data": {
      "text/html": [
       "<pre>recommendations finished on 32000/106191 queries. users per second: 27687.6</pre>"
      ],
      "text/plain": [
       "recommendations finished on 32000/106191 queries. users per second: 27687.6"
      ]
     },
     "metadata": {},
     "output_type": "display_data"
    },
    {
     "data": {
      "text/html": [
       "<pre>recommendations finished on 33000/106191 queries. users per second: 27720.9</pre>"
      ],
      "text/plain": [
       "recommendations finished on 33000/106191 queries. users per second: 27720.9"
      ]
     },
     "metadata": {},
     "output_type": "display_data"
    },
    {
     "data": {
      "text/html": [
       "<pre>recommendations finished on 34000/106191 queries. users per second: 27689.1</pre>"
      ],
      "text/plain": [
       "recommendations finished on 34000/106191 queries. users per second: 27689.1"
      ]
     },
     "metadata": {},
     "output_type": "display_data"
    },
    {
     "data": {
      "text/html": [
       "<pre>recommendations finished on 35000/106191 queries. users per second: 27724.1</pre>"
      ],
      "text/plain": [
       "recommendations finished on 35000/106191 queries. users per second: 27724.1"
      ]
     },
     "metadata": {},
     "output_type": "display_data"
    },
    {
     "data": {
      "text/html": [
       "<pre>recommendations finished on 36000/106191 queries. users per second: 27714.3</pre>"
      ],
      "text/plain": [
       "recommendations finished on 36000/106191 queries. users per second: 27714.3"
      ]
     },
     "metadata": {},
     "output_type": "display_data"
    },
    {
     "data": {
      "text/html": [
       "<pre>recommendations finished on 37000/106191 queries. users per second: 27520.1</pre>"
      ],
      "text/plain": [
       "recommendations finished on 37000/106191 queries. users per second: 27520.1"
      ]
     },
     "metadata": {},
     "output_type": "display_data"
    },
    {
     "data": {
      "text/html": [
       "<pre>recommendations finished on 38000/106191 queries. users per second: 27571.9</pre>"
      ],
      "text/plain": [
       "recommendations finished on 38000/106191 queries. users per second: 27571.9"
      ]
     },
     "metadata": {},
     "output_type": "display_data"
    },
    {
     "data": {
      "text/html": [
       "<pre>recommendations finished on 39000/106191 queries. users per second: 27537.8</pre>"
      ],
      "text/plain": [
       "recommendations finished on 39000/106191 queries. users per second: 27537.8"
      ]
     },
     "metadata": {},
     "output_type": "display_data"
    },
    {
     "data": {
      "text/html": [
       "<pre>recommendations finished on 40000/106191 queries. users per second: 27505.8</pre>"
      ],
      "text/plain": [
       "recommendations finished on 40000/106191 queries. users per second: 27505.8"
      ]
     },
     "metadata": {},
     "output_type": "display_data"
    },
    {
     "data": {
      "text/html": [
       "<pre>recommendations finished on 41000/106191 queries. users per second: 27412.8</pre>"
      ],
      "text/plain": [
       "recommendations finished on 41000/106191 queries. users per second: 27412.8"
      ]
     },
     "metadata": {},
     "output_type": "display_data"
    },
    {
     "data": {
      "text/html": [
       "<pre>recommendations finished on 42000/106191 queries. users per second: 27361.7</pre>"
      ],
      "text/plain": [
       "recommendations finished on 42000/106191 queries. users per second: 27361.7"
      ]
     },
     "metadata": {},
     "output_type": "display_data"
    },
    {
     "data": {
      "text/html": [
       "<pre>recommendations finished on 43000/106191 queries. users per second: 27349</pre>"
      ],
      "text/plain": [
       "recommendations finished on 43000/106191 queries. users per second: 27349"
      ]
     },
     "metadata": {},
     "output_type": "display_data"
    },
    {
     "data": {
      "text/html": [
       "<pre>recommendations finished on 44000/106191 queries. users per second: 27281.6</pre>"
      ],
      "text/plain": [
       "recommendations finished on 44000/106191 queries. users per second: 27281.6"
      ]
     },
     "metadata": {},
     "output_type": "display_data"
    },
    {
     "data": {
      "text/html": [
       "<pre>recommendations finished on 45000/106191 queries. users per second: 27242.4</pre>"
      ],
      "text/plain": [
       "recommendations finished on 45000/106191 queries. users per second: 27242.4"
      ]
     },
     "metadata": {},
     "output_type": "display_data"
    },
    {
     "data": {
      "text/html": [
       "<pre>recommendations finished on 46000/106191 queries. users per second: 27078.9</pre>"
      ],
      "text/plain": [
       "recommendations finished on 46000/106191 queries. users per second: 27078.9"
      ]
     },
     "metadata": {},
     "output_type": "display_data"
    },
    {
     "data": {
      "text/html": [
       "<pre>recommendations finished on 47000/106191 queries. users per second: 26976</pre>"
      ],
      "text/plain": [
       "recommendations finished on 47000/106191 queries. users per second: 26976"
      ]
     },
     "metadata": {},
     "output_type": "display_data"
    },
    {
     "data": {
      "text/html": [
       "<pre>recommendations finished on 48000/106191 queries. users per second: 26838.7</pre>"
      ],
      "text/plain": [
       "recommendations finished on 48000/106191 queries. users per second: 26838.7"
      ]
     },
     "metadata": {},
     "output_type": "display_data"
    },
    {
     "data": {
      "text/html": [
       "<pre>recommendations finished on 49000/106191 queries. users per second: 26562.7</pre>"
      ],
      "text/plain": [
       "recommendations finished on 49000/106191 queries. users per second: 26562.7"
      ]
     },
     "metadata": {},
     "output_type": "display_data"
    },
    {
     "data": {
      "text/html": [
       "<pre>recommendations finished on 50000/106191 queries. users per second: 26460</pre>"
      ],
      "text/plain": [
       "recommendations finished on 50000/106191 queries. users per second: 26460"
      ]
     },
     "metadata": {},
     "output_type": "display_data"
    },
    {
     "data": {
      "text/html": [
       "<pre>recommendations finished on 51000/106191 queries. users per second: 26376.3</pre>"
      ],
      "text/plain": [
       "recommendations finished on 51000/106191 queries. users per second: 26376.3"
      ]
     },
     "metadata": {},
     "output_type": "display_data"
    },
    {
     "data": {
      "text/html": [
       "<pre>recommendations finished on 52000/106191 queries. users per second: 26261.5</pre>"
      ],
      "text/plain": [
       "recommendations finished on 52000/106191 queries. users per second: 26261.5"
      ]
     },
     "metadata": {},
     "output_type": "display_data"
    },
    {
     "data": {
      "text/html": [
       "<pre>recommendations finished on 53000/106191 queries. users per second: 26150.6</pre>"
      ],
      "text/plain": [
       "recommendations finished on 53000/106191 queries. users per second: 26150.6"
      ]
     },
     "metadata": {},
     "output_type": "display_data"
    },
    {
     "data": {
      "text/html": [
       "<pre>recommendations finished on 54000/106191 queries. users per second: 26070.4</pre>"
      ],
      "text/plain": [
       "recommendations finished on 54000/106191 queries. users per second: 26070.4"
      ]
     },
     "metadata": {},
     "output_type": "display_data"
    },
    {
     "data": {
      "text/html": [
       "<pre>recommendations finished on 55000/106191 queries. users per second: 26068.6</pre>"
      ],
      "text/plain": [
       "recommendations finished on 55000/106191 queries. users per second: 26068.6"
      ]
     },
     "metadata": {},
     "output_type": "display_data"
    },
    {
     "data": {
      "text/html": [
       "<pre>recommendations finished on 56000/106191 queries. users per second: 26007.3</pre>"
      ],
      "text/plain": [
       "recommendations finished on 56000/106191 queries. users per second: 26007.3"
      ]
     },
     "metadata": {},
     "output_type": "display_data"
    },
    {
     "data": {
      "text/html": [
       "<pre>recommendations finished on 57000/106191 queries. users per second: 25943.3</pre>"
      ],
      "text/plain": [
       "recommendations finished on 57000/106191 queries. users per second: 25943.3"
      ]
     },
     "metadata": {},
     "output_type": "display_data"
    },
    {
     "data": {
      "text/html": [
       "<pre>recommendations finished on 58000/106191 queries. users per second: 25852.4</pre>"
      ],
      "text/plain": [
       "recommendations finished on 58000/106191 queries. users per second: 25852.4"
      ]
     },
     "metadata": {},
     "output_type": "display_data"
    },
    {
     "data": {
      "text/html": [
       "<pre>recommendations finished on 59000/106191 queries. users per second: 25792.3</pre>"
      ],
      "text/plain": [
       "recommendations finished on 59000/106191 queries. users per second: 25792.3"
      ]
     },
     "metadata": {},
     "output_type": "display_data"
    },
    {
     "data": {
      "text/html": [
       "<pre>recommendations finished on 60000/106191 queries. users per second: 25719</pre>"
      ],
      "text/plain": [
       "recommendations finished on 60000/106191 queries. users per second: 25719"
      ]
     },
     "metadata": {},
     "output_type": "display_data"
    },
    {
     "data": {
      "text/html": [
       "<pre>recommendations finished on 61000/106191 queries. users per second: 25616.8</pre>"
      ],
      "text/plain": [
       "recommendations finished on 61000/106191 queries. users per second: 25616.8"
      ]
     },
     "metadata": {},
     "output_type": "display_data"
    },
    {
     "data": {
      "text/html": [
       "<pre>recommendations finished on 62000/106191 queries. users per second: 25554.6</pre>"
      ],
      "text/plain": [
       "recommendations finished on 62000/106191 queries. users per second: 25554.6"
      ]
     },
     "metadata": {},
     "output_type": "display_data"
    },
    {
     "data": {
      "text/html": [
       "<pre>recommendations finished on 63000/106191 queries. users per second: 25524.4</pre>"
      ],
      "text/plain": [
       "recommendations finished on 63000/106191 queries. users per second: 25524.4"
      ]
     },
     "metadata": {},
     "output_type": "display_data"
    },
    {
     "data": {
      "text/html": [
       "<pre>recommendations finished on 64000/106191 queries. users per second: 25491.9</pre>"
      ],
      "text/plain": [
       "recommendations finished on 64000/106191 queries. users per second: 25491.9"
      ]
     },
     "metadata": {},
     "output_type": "display_data"
    },
    {
     "data": {
      "text/html": [
       "<pre>recommendations finished on 65000/106191 queries. users per second: 25395.5</pre>"
      ],
      "text/plain": [
       "recommendations finished on 65000/106191 queries. users per second: 25395.5"
      ]
     },
     "metadata": {},
     "output_type": "display_data"
    },
    {
     "data": {
      "text/html": [
       "<pre>recommendations finished on 66000/106191 queries. users per second: 25384.9</pre>"
      ],
      "text/plain": [
       "recommendations finished on 66000/106191 queries. users per second: 25384.9"
      ]
     },
     "metadata": {},
     "output_type": "display_data"
    },
    {
     "data": {
      "text/html": [
       "<pre>recommendations finished on 67000/106191 queries. users per second: 25309.5</pre>"
      ],
      "text/plain": [
       "recommendations finished on 67000/106191 queries. users per second: 25309.5"
      ]
     },
     "metadata": {},
     "output_type": "display_data"
    },
    {
     "data": {
      "text/html": [
       "<pre>recommendations finished on 68000/106191 queries. users per second: 25238.7</pre>"
      ],
      "text/plain": [
       "recommendations finished on 68000/106191 queries. users per second: 25238.7"
      ]
     },
     "metadata": {},
     "output_type": "display_data"
    },
    {
     "data": {
      "text/html": [
       "<pre>recommendations finished on 69000/106191 queries. users per second: 25206.7</pre>"
      ],
      "text/plain": [
       "recommendations finished on 69000/106191 queries. users per second: 25206.7"
      ]
     },
     "metadata": {},
     "output_type": "display_data"
    },
    {
     "data": {
      "text/html": [
       "<pre>recommendations finished on 70000/106191 queries. users per second: 25157.8</pre>"
      ],
      "text/plain": [
       "recommendations finished on 70000/106191 queries. users per second: 25157.8"
      ]
     },
     "metadata": {},
     "output_type": "display_data"
    },
    {
     "data": {
      "text/html": [
       "<pre>recommendations finished on 71000/106191 queries. users per second: 25010.6</pre>"
      ],
      "text/plain": [
       "recommendations finished on 71000/106191 queries. users per second: 25010.6"
      ]
     },
     "metadata": {},
     "output_type": "display_data"
    },
    {
     "data": {
      "text/html": [
       "<pre>recommendations finished on 72000/106191 queries. users per second: 24918.6</pre>"
      ],
      "text/plain": [
       "recommendations finished on 72000/106191 queries. users per second: 24918.6"
      ]
     },
     "metadata": {},
     "output_type": "display_data"
    },
    {
     "data": {
      "text/html": [
       "<pre>recommendations finished on 73000/106191 queries. users per second: 24885.3</pre>"
      ],
      "text/plain": [
       "recommendations finished on 73000/106191 queries. users per second: 24885.3"
      ]
     },
     "metadata": {},
     "output_type": "display_data"
    },
    {
     "data": {
      "text/html": [
       "<pre>recommendations finished on 74000/106191 queries. users per second: 24703.8</pre>"
      ],
      "text/plain": [
       "recommendations finished on 74000/106191 queries. users per second: 24703.8"
      ]
     },
     "metadata": {},
     "output_type": "display_data"
    },
    {
     "data": {
      "text/html": [
       "<pre>recommendations finished on 75000/106191 queries. users per second: 24648</pre>"
      ],
      "text/plain": [
       "recommendations finished on 75000/106191 queries. users per second: 24648"
      ]
     },
     "metadata": {},
     "output_type": "display_data"
    },
    {
     "data": {
      "text/html": [
       "<pre>recommendations finished on 76000/106191 queries. users per second: 24598.4</pre>"
      ],
      "text/plain": [
       "recommendations finished on 76000/106191 queries. users per second: 24598.4"
      ]
     },
     "metadata": {},
     "output_type": "display_data"
    },
    {
     "data": {
      "text/html": [
       "<pre>recommendations finished on 77000/106191 queries. users per second: 24538.7</pre>"
      ],
      "text/plain": [
       "recommendations finished on 77000/106191 queries. users per second: 24538.7"
      ]
     },
     "metadata": {},
     "output_type": "display_data"
    },
    {
     "data": {
      "text/html": [
       "<pre>recommendations finished on 78000/106191 queries. users per second: 24516.1</pre>"
      ],
      "text/plain": [
       "recommendations finished on 78000/106191 queries. users per second: 24516.1"
      ]
     },
     "metadata": {},
     "output_type": "display_data"
    },
    {
     "data": {
      "text/html": [
       "<pre>recommendations finished on 79000/106191 queries. users per second: 24468.7</pre>"
      ],
      "text/plain": [
       "recommendations finished on 79000/106191 queries. users per second: 24468.7"
      ]
     },
     "metadata": {},
     "output_type": "display_data"
    },
    {
     "data": {
      "text/html": [
       "<pre>recommendations finished on 80000/106191 queries. users per second: 24418</pre>"
      ],
      "text/plain": [
       "recommendations finished on 80000/106191 queries. users per second: 24418"
      ]
     },
     "metadata": {},
     "output_type": "display_data"
    },
    {
     "data": {
      "text/html": [
       "<pre>recommendations finished on 81000/106191 queries. users per second: 24285.6</pre>"
      ],
      "text/plain": [
       "recommendations finished on 81000/106191 queries. users per second: 24285.6"
      ]
     },
     "metadata": {},
     "output_type": "display_data"
    },
    {
     "data": {
      "text/html": [
       "<pre>recommendations finished on 82000/106191 queries. users per second: 24264.6</pre>"
      ],
      "text/plain": [
       "recommendations finished on 82000/106191 queries. users per second: 24264.6"
      ]
     },
     "metadata": {},
     "output_type": "display_data"
    },
    {
     "data": {
      "text/html": [
       "<pre>recommendations finished on 83000/106191 queries. users per second: 24252.5</pre>"
      ],
      "text/plain": [
       "recommendations finished on 83000/106191 queries. users per second: 24252.5"
      ]
     },
     "metadata": {},
     "output_type": "display_data"
    },
    {
     "data": {
      "text/html": [
       "<pre>recommendations finished on 84000/106191 queries. users per second: 24225</pre>"
      ],
      "text/plain": [
       "recommendations finished on 84000/106191 queries. users per second: 24225"
      ]
     },
     "metadata": {},
     "output_type": "display_data"
    },
    {
     "data": {
      "text/html": [
       "<pre>recommendations finished on 85000/106191 queries. users per second: 24189</pre>"
      ],
      "text/plain": [
       "recommendations finished on 85000/106191 queries. users per second: 24189"
      ]
     },
     "metadata": {},
     "output_type": "display_data"
    },
    {
     "data": {
      "text/html": [
       "<pre>recommendations finished on 86000/106191 queries. users per second: 24166.4</pre>"
      ],
      "text/plain": [
       "recommendations finished on 86000/106191 queries. users per second: 24166.4"
      ]
     },
     "metadata": {},
     "output_type": "display_data"
    },
    {
     "data": {
      "text/html": [
       "<pre>recommendations finished on 87000/106191 queries. users per second: 24137.5</pre>"
      ],
      "text/plain": [
       "recommendations finished on 87000/106191 queries. users per second: 24137.5"
      ]
     },
     "metadata": {},
     "output_type": "display_data"
    },
    {
     "data": {
      "text/html": [
       "<pre>recommendations finished on 88000/106191 queries. users per second: 24104.3</pre>"
      ],
      "text/plain": [
       "recommendations finished on 88000/106191 queries. users per second: 24104.3"
      ]
     },
     "metadata": {},
     "output_type": "display_data"
    },
    {
     "data": {
      "text/html": [
       "<pre>recommendations finished on 89000/106191 queries. users per second: 24051.7</pre>"
      ],
      "text/plain": [
       "recommendations finished on 89000/106191 queries. users per second: 24051.7"
      ]
     },
     "metadata": {},
     "output_type": "display_data"
    },
    {
     "data": {
      "text/html": [
       "<pre>recommendations finished on 90000/106191 queries. users per second: 23997.2</pre>"
      ],
      "text/plain": [
       "recommendations finished on 90000/106191 queries. users per second: 23997.2"
      ]
     },
     "metadata": {},
     "output_type": "display_data"
    },
    {
     "data": {
      "text/html": [
       "<pre>recommendations finished on 91000/106191 queries. users per second: 23903.6</pre>"
      ],
      "text/plain": [
       "recommendations finished on 91000/106191 queries. users per second: 23903.6"
      ]
     },
     "metadata": {},
     "output_type": "display_data"
    },
    {
     "data": {
      "text/html": [
       "<pre>recommendations finished on 92000/106191 queries. users per second: 23836.7</pre>"
      ],
      "text/plain": [
       "recommendations finished on 92000/106191 queries. users per second: 23836.7"
      ]
     },
     "metadata": {},
     "output_type": "display_data"
    },
    {
     "data": {
      "text/html": [
       "<pre>recommendations finished on 93000/106191 queries. users per second: 23814.4</pre>"
      ],
      "text/plain": [
       "recommendations finished on 93000/106191 queries. users per second: 23814.4"
      ]
     },
     "metadata": {},
     "output_type": "display_data"
    },
    {
     "data": {
      "text/html": [
       "<pre>recommendations finished on 94000/106191 queries. users per second: 23775.5</pre>"
      ],
      "text/plain": [
       "recommendations finished on 94000/106191 queries. users per second: 23775.5"
      ]
     },
     "metadata": {},
     "output_type": "display_data"
    },
    {
     "data": {
      "text/html": [
       "<pre>recommendations finished on 95000/106191 queries. users per second: 23737.1</pre>"
      ],
      "text/plain": [
       "recommendations finished on 95000/106191 queries. users per second: 23737.1"
      ]
     },
     "metadata": {},
     "output_type": "display_data"
    },
    {
     "data": {
      "text/html": [
       "<pre>recommendations finished on 96000/106191 queries. users per second: 23710.4</pre>"
      ],
      "text/plain": [
       "recommendations finished on 96000/106191 queries. users per second: 23710.4"
      ]
     },
     "metadata": {},
     "output_type": "display_data"
    },
    {
     "data": {
      "text/html": [
       "<pre>recommendations finished on 97000/106191 queries. users per second: 23703</pre>"
      ],
      "text/plain": [
       "recommendations finished on 97000/106191 queries. users per second: 23703"
      ]
     },
     "metadata": {},
     "output_type": "display_data"
    },
    {
     "data": {
      "text/html": [
       "<pre>recommendations finished on 98000/106191 queries. users per second: 23663.8</pre>"
      ],
      "text/plain": [
       "recommendations finished on 98000/106191 queries. users per second: 23663.8"
      ]
     },
     "metadata": {},
     "output_type": "display_data"
    },
    {
     "data": {
      "text/html": [
       "<pre>recommendations finished on 99000/106191 queries. users per second: 23635</pre>"
      ],
      "text/plain": [
       "recommendations finished on 99000/106191 queries. users per second: 23635"
      ]
     },
     "metadata": {},
     "output_type": "display_data"
    },
    {
     "data": {
      "text/html": [
       "<pre>recommendations finished on 100000/106191 queries. users per second: 23603.6</pre>"
      ],
      "text/plain": [
       "recommendations finished on 100000/106191 queries. users per second: 23603.6"
      ]
     },
     "metadata": {},
     "output_type": "display_data"
    },
    {
     "data": {
      "text/html": [
       "<pre>recommendations finished on 101000/106191 queries. users per second: 23559.8</pre>"
      ],
      "text/plain": [
       "recommendations finished on 101000/106191 queries. users per second: 23559.8"
      ]
     },
     "metadata": {},
     "output_type": "display_data"
    },
    {
     "data": {
      "text/html": [
       "<pre>recommendations finished on 102000/106191 queries. users per second: 23508.8</pre>"
      ],
      "text/plain": [
       "recommendations finished on 102000/106191 queries. users per second: 23508.8"
      ]
     },
     "metadata": {},
     "output_type": "display_data"
    },
    {
     "data": {
      "text/html": [
       "<pre>recommendations finished on 103000/106191 queries. users per second: 23444.5</pre>"
      ],
      "text/plain": [
       "recommendations finished on 103000/106191 queries. users per second: 23444.5"
      ]
     },
     "metadata": {},
     "output_type": "display_data"
    },
    {
     "data": {
      "text/html": [
       "<pre>recommendations finished on 104000/106191 queries. users per second: 23323.1</pre>"
      ],
      "text/plain": [
       "recommendations finished on 104000/106191 queries. users per second: 23323.1"
      ]
     },
     "metadata": {},
     "output_type": "display_data"
    },
    {
     "data": {
      "text/html": [
       "<pre>recommendations finished on 105000/106191 queries. users per second: 23169.7</pre>"
      ],
      "text/plain": [
       "recommendations finished on 105000/106191 queries. users per second: 23169.7"
      ]
     },
     "metadata": {},
     "output_type": "display_data"
    },
    {
     "data": {
      "text/html": [
       "<pre>recommendations finished on 106000/106191 queries. users per second: 22994</pre>"
      ],
      "text/plain": [
       "recommendations finished on 106000/106191 queries. users per second: 22994"
      ]
     },
     "metadata": {},
     "output_type": "display_data"
    },
    {
     "name": "stdout",
     "output_type": "stream",
     "text": [
      "\n",
      "Precision and recall summary statistics by cutoff\n",
      "+--------+---------------------+---------------------+\n",
      "| cutoff |    mean_precision   |     mean_recall     |\n",
      "+--------+---------------------+---------------------+\n",
      "|   1    | 0.13488902072680037 | 0.04773521547326018 |\n",
      "|   2    | 0.10435912647964603 | 0.07057629240840006 |\n",
      "|   3    | 0.08576998050682257 | 0.08434406094588112 |\n",
      "|   4    | 0.07337721652494132 | 0.09450466451587974 |\n",
      "|   5    | 0.06465142997052438 | 0.10260472224217154 |\n",
      "|   6    | 0.05790038703844897 | 0.10920561523613649 |\n",
      "|   7    | 0.05260736382017855 | 0.11468415496716702 |\n",
      "|   8    | 0.04835861796197414 | 0.11975112371442972 |\n",
      "|   9    | 0.04488662462502063 | 0.12434687945152417 |\n",
      "|   10   | 0.04191880667853236 |  0.1284612816043999 |\n",
      "+--------+---------------------+---------------------+\n",
      "[10 rows x 3 columns]\n",
      "\n",
      "\n",
      "Overall RMSE: 0.9604138869581377\n",
      "\n",
      "Per User RMSE (best)\n",
      "+-----------------+---------------------+-------+\n",
      "|   CRM_CUST_KEY  |         rmse        | count |\n",
      "+-----------------+---------------------+-------+\n",
      "| Master-CM296828 | 0.08712905645370483 |   1   |\n",
      "+-----------------+---------------------+-------+\n",
      "[1 rows x 3 columns]\n",
      "\n",
      "\n",
      "Per User RMSE (worst)\n",
      "+-----------------+------+-------+\n",
      "|   CRM_CUST_KEY  | rmse | count |\n",
      "+-----------------+------+-------+\n",
      "| Master-CM184618 | 1.0  |   1   |\n",
      "+-----------------+------+-------+\n",
      "[1 rows x 3 columns]\n",
      "\n",
      "\n",
      "Per Item RMSE (best)\n",
      "+-------------------------------+--------------------+-------+\n",
      "|            PRODUCT            |        rmse        | count |\n",
      "+-------------------------------+--------------------+-------+\n",
      "| 06231254|premolar 2.5, pac... | 0.0994533254550054 |   1   |\n",
      "+-------------------------------+--------------------+-------+\n",
      "[1 rows x 3 columns]\n",
      "\n",
      "\n",
      "Per Item RMSE (worst)\n",
      "+-------------------------------+------+-------+\n",
      "|            PRODUCT            | rmse | count |\n",
      "+-------------------------------+------+-------+\n",
      "| 5082|SWIVEL, REPLACEMENT Q... | 1.0  |   4   |\n",
      "+-------------------------------+------+-------+\n",
      "[1 rows x 3 columns]\n",
      "\n",
      "PROGRESS: Evaluate model Pearson Similarity on Purchase Dummy\n"
     ]
    },
    {
     "data": {
      "text/html": [
       "<pre>recommendations finished on 1000/106191 queries. users per second: 21297.4</pre>"
      ],
      "text/plain": [
       "recommendations finished on 1000/106191 queries. users per second: 21297.4"
      ]
     },
     "metadata": {},
     "output_type": "display_data"
    },
    {
     "data": {
      "text/html": [
       "<pre>recommendations finished on 2000/106191 queries. users per second: 24410.5</pre>"
      ],
      "text/plain": [
       "recommendations finished on 2000/106191 queries. users per second: 24410.5"
      ]
     },
     "metadata": {},
     "output_type": "display_data"
    },
    {
     "data": {
      "text/html": [
       "<pre>recommendations finished on 3000/106191 queries. users per second: 25194</pre>"
      ],
      "text/plain": [
       "recommendations finished on 3000/106191 queries. users per second: 25194"
      ]
     },
     "metadata": {},
     "output_type": "display_data"
    },
    {
     "data": {
      "text/html": [
       "<pre>recommendations finished on 4000/106191 queries. users per second: 25553.4</pre>"
      ],
      "text/plain": [
       "recommendations finished on 4000/106191 queries. users per second: 25553.4"
      ]
     },
     "metadata": {},
     "output_type": "display_data"
    },
    {
     "data": {
      "text/html": [
       "<pre>recommendations finished on 5000/106191 queries. users per second: 25642.5</pre>"
      ],
      "text/plain": [
       "recommendations finished on 5000/106191 queries. users per second: 25642.5"
      ]
     },
     "metadata": {},
     "output_type": "display_data"
    },
    {
     "data": {
      "text/html": [
       "<pre>recommendations finished on 6000/106191 queries. users per second: 24954.3</pre>"
      ],
      "text/plain": [
       "recommendations finished on 6000/106191 queries. users per second: 24954.3"
      ]
     },
     "metadata": {},
     "output_type": "display_data"
    },
    {
     "data": {
      "text/html": [
       "<pre>recommendations finished on 7000/106191 queries. users per second: 24339.8</pre>"
      ],
      "text/plain": [
       "recommendations finished on 7000/106191 queries. users per second: 24339.8"
      ]
     },
     "metadata": {},
     "output_type": "display_data"
    },
    {
     "data": {
      "text/html": [
       "<pre>recommendations finished on 8000/106191 queries. users per second: 23399.3</pre>"
      ],
      "text/plain": [
       "recommendations finished on 8000/106191 queries. users per second: 23399.3"
      ]
     },
     "metadata": {},
     "output_type": "display_data"
    },
    {
     "data": {
      "text/html": [
       "<pre>recommendations finished on 9000/106191 queries. users per second: 22846.4</pre>"
      ],
      "text/plain": [
       "recommendations finished on 9000/106191 queries. users per second: 22846.4"
      ]
     },
     "metadata": {},
     "output_type": "display_data"
    },
    {
     "data": {
      "text/html": [
       "<pre>recommendations finished on 10000/106191 queries. users per second: 22346.6</pre>"
      ],
      "text/plain": [
       "recommendations finished on 10000/106191 queries. users per second: 22346.6"
      ]
     },
     "metadata": {},
     "output_type": "display_data"
    },
    {
     "data": {
      "text/html": [
       "<pre>recommendations finished on 11000/106191 queries. users per second: 21737.8</pre>"
      ],
      "text/plain": [
       "recommendations finished on 11000/106191 queries. users per second: 21737.8"
      ]
     },
     "metadata": {},
     "output_type": "display_data"
    },
    {
     "data": {
      "text/html": [
       "<pre>recommendations finished on 12000/106191 queries. users per second: 21407.3</pre>"
      ],
      "text/plain": [
       "recommendations finished on 12000/106191 queries. users per second: 21407.3"
      ]
     },
     "metadata": {},
     "output_type": "display_data"
    },
    {
     "data": {
      "text/html": [
       "<pre>recommendations finished on 13000/106191 queries. users per second: 21083</pre>"
      ],
      "text/plain": [
       "recommendations finished on 13000/106191 queries. users per second: 21083"
      ]
     },
     "metadata": {},
     "output_type": "display_data"
    },
    {
     "data": {
      "text/html": [
       "<pre>recommendations finished on 14000/106191 queries. users per second: 20853.9</pre>"
      ],
      "text/plain": [
       "recommendations finished on 14000/106191 queries. users per second: 20853.9"
      ]
     },
     "metadata": {},
     "output_type": "display_data"
    },
    {
     "data": {
      "text/html": [
       "<pre>recommendations finished on 15000/106191 queries. users per second: 20661.8</pre>"
      ],
      "text/plain": [
       "recommendations finished on 15000/106191 queries. users per second: 20661.8"
      ]
     },
     "metadata": {},
     "output_type": "display_data"
    },
    {
     "data": {
      "text/html": [
       "<pre>recommendations finished on 16000/106191 queries. users per second: 20284.5</pre>"
      ],
      "text/plain": [
       "recommendations finished on 16000/106191 queries. users per second: 20284.5"
      ]
     },
     "metadata": {},
     "output_type": "display_data"
    },
    {
     "data": {
      "text/html": [
       "<pre>recommendations finished on 17000/106191 queries. users per second: 20157</pre>"
      ],
      "text/plain": [
       "recommendations finished on 17000/106191 queries. users per second: 20157"
      ]
     },
     "metadata": {},
     "output_type": "display_data"
    },
    {
     "data": {
      "text/html": [
       "<pre>recommendations finished on 18000/106191 queries. users per second: 20064.2</pre>"
      ],
      "text/plain": [
       "recommendations finished on 18000/106191 queries. users per second: 20064.2"
      ]
     },
     "metadata": {},
     "output_type": "display_data"
    },
    {
     "data": {
      "text/html": [
       "<pre>recommendations finished on 19000/106191 queries. users per second: 19851</pre>"
      ],
      "text/plain": [
       "recommendations finished on 19000/106191 queries. users per second: 19851"
      ]
     },
     "metadata": {},
     "output_type": "display_data"
    },
    {
     "data": {
      "text/html": [
       "<pre>recommendations finished on 20000/106191 queries. users per second: 19782</pre>"
      ],
      "text/plain": [
       "recommendations finished on 20000/106191 queries. users per second: 19782"
      ]
     },
     "metadata": {},
     "output_type": "display_data"
    },
    {
     "data": {
      "text/html": [
       "<pre>recommendations finished on 21000/106191 queries. users per second: 19694.4</pre>"
      ],
      "text/plain": [
       "recommendations finished on 21000/106191 queries. users per second: 19694.4"
      ]
     },
     "metadata": {},
     "output_type": "display_data"
    },
    {
     "data": {
      "text/html": [
       "<pre>recommendations finished on 22000/106191 queries. users per second: 19592.9</pre>"
      ],
      "text/plain": [
       "recommendations finished on 22000/106191 queries. users per second: 19592.9"
      ]
     },
     "metadata": {},
     "output_type": "display_data"
    },
    {
     "data": {
      "text/html": [
       "<pre>recommendations finished on 23000/106191 queries. users per second: 19557.4</pre>"
      ],
      "text/plain": [
       "recommendations finished on 23000/106191 queries. users per second: 19557.4"
      ]
     },
     "metadata": {},
     "output_type": "display_data"
    },
    {
     "data": {
      "text/html": [
       "<pre>recommendations finished on 24000/106191 queries. users per second: 19501.9</pre>"
      ],
      "text/plain": [
       "recommendations finished on 24000/106191 queries. users per second: 19501.9"
      ]
     },
     "metadata": {},
     "output_type": "display_data"
    },
    {
     "data": {
      "text/html": [
       "<pre>recommendations finished on 25000/106191 queries. users per second: 19423.7</pre>"
      ],
      "text/plain": [
       "recommendations finished on 25000/106191 queries. users per second: 19423.7"
      ]
     },
     "metadata": {},
     "output_type": "display_data"
    },
    {
     "data": {
      "text/html": [
       "<pre>recommendations finished on 26000/106191 queries. users per second: 19403.9</pre>"
      ],
      "text/plain": [
       "recommendations finished on 26000/106191 queries. users per second: 19403.9"
      ]
     },
     "metadata": {},
     "output_type": "display_data"
    },
    {
     "data": {
      "text/html": [
       "<pre>recommendations finished on 27000/106191 queries. users per second: 19392.7</pre>"
      ],
      "text/plain": [
       "recommendations finished on 27000/106191 queries. users per second: 19392.7"
      ]
     },
     "metadata": {},
     "output_type": "display_data"
    },
    {
     "data": {
      "text/html": [
       "<pre>recommendations finished on 28000/106191 queries. users per second: 19343.8</pre>"
      ],
      "text/plain": [
       "recommendations finished on 28000/106191 queries. users per second: 19343.8"
      ]
     },
     "metadata": {},
     "output_type": "display_data"
    },
    {
     "data": {
      "text/html": [
       "<pre>recommendations finished on 29000/106191 queries. users per second: 19337.4</pre>"
      ],
      "text/plain": [
       "recommendations finished on 29000/106191 queries. users per second: 19337.4"
      ]
     },
     "metadata": {},
     "output_type": "display_data"
    },
    {
     "data": {
      "text/html": [
       "<pre>recommendations finished on 30000/106191 queries. users per second: 19299</pre>"
      ],
      "text/plain": [
       "recommendations finished on 30000/106191 queries. users per second: 19299"
      ]
     },
     "metadata": {},
     "output_type": "display_data"
    },
    {
     "data": {
      "text/html": [
       "<pre>recommendations finished on 31000/106191 queries. users per second: 19237.7</pre>"
      ],
      "text/plain": [
       "recommendations finished on 31000/106191 queries. users per second: 19237.7"
      ]
     },
     "metadata": {},
     "output_type": "display_data"
    },
    {
     "data": {
      "text/html": [
       "<pre>recommendations finished on 32000/106191 queries. users per second: 19172.3</pre>"
      ],
      "text/plain": [
       "recommendations finished on 32000/106191 queries. users per second: 19172.3"
      ]
     },
     "metadata": {},
     "output_type": "display_data"
    },
    {
     "data": {
      "text/html": [
       "<pre>recommendations finished on 33000/106191 queries. users per second: 19129.1</pre>"
      ],
      "text/plain": [
       "recommendations finished on 33000/106191 queries. users per second: 19129.1"
      ]
     },
     "metadata": {},
     "output_type": "display_data"
    },
    {
     "data": {
      "text/html": [
       "<pre>recommendations finished on 34000/106191 queries. users per second: 18990.9</pre>"
      ],
      "text/plain": [
       "recommendations finished on 34000/106191 queries. users per second: 18990.9"
      ]
     },
     "metadata": {},
     "output_type": "display_data"
    },
    {
     "data": {
      "text/html": [
       "<pre>recommendations finished on 35000/106191 queries. users per second: 18960.6</pre>"
      ],
      "text/plain": [
       "recommendations finished on 35000/106191 queries. users per second: 18960.6"
      ]
     },
     "metadata": {},
     "output_type": "display_data"
    },
    {
     "data": {
      "text/html": [
       "<pre>recommendations finished on 36000/106191 queries. users per second: 18984.8</pre>"
      ],
      "text/plain": [
       "recommendations finished on 36000/106191 queries. users per second: 18984.8"
      ]
     },
     "metadata": {},
     "output_type": "display_data"
    },
    {
     "data": {
      "text/html": [
       "<pre>recommendations finished on 37000/106191 queries. users per second: 18957.9</pre>"
      ],
      "text/plain": [
       "recommendations finished on 37000/106191 queries. users per second: 18957.9"
      ]
     },
     "metadata": {},
     "output_type": "display_data"
    },
    {
     "data": {
      "text/html": [
       "<pre>recommendations finished on 38000/106191 queries. users per second: 18921.4</pre>"
      ],
      "text/plain": [
       "recommendations finished on 38000/106191 queries. users per second: 18921.4"
      ]
     },
     "metadata": {},
     "output_type": "display_data"
    },
    {
     "data": {
      "text/html": [
       "<pre>recommendations finished on 39000/106191 queries. users per second: 18883.2</pre>"
      ],
      "text/plain": [
       "recommendations finished on 39000/106191 queries. users per second: 18883.2"
      ]
     },
     "metadata": {},
     "output_type": "display_data"
    },
    {
     "data": {
      "text/html": [
       "<pre>recommendations finished on 40000/106191 queries. users per second: 18809.3</pre>"
      ],
      "text/plain": [
       "recommendations finished on 40000/106191 queries. users per second: 18809.3"
      ]
     },
     "metadata": {},
     "output_type": "display_data"
    },
    {
     "data": {
      "text/html": [
       "<pre>recommendations finished on 41000/106191 queries. users per second: 18744.4</pre>"
      ],
      "text/plain": [
       "recommendations finished on 41000/106191 queries. users per second: 18744.4"
      ]
     },
     "metadata": {},
     "output_type": "display_data"
    },
    {
     "data": {
      "text/html": [
       "<pre>recommendations finished on 42000/106191 queries. users per second: 18721.1</pre>"
      ],
      "text/plain": [
       "recommendations finished on 42000/106191 queries. users per second: 18721.1"
      ]
     },
     "metadata": {},
     "output_type": "display_data"
    },
    {
     "data": {
      "text/html": [
       "<pre>recommendations finished on 43000/106191 queries. users per second: 18713</pre>"
      ],
      "text/plain": [
       "recommendations finished on 43000/106191 queries. users per second: 18713"
      ]
     },
     "metadata": {},
     "output_type": "display_data"
    },
    {
     "data": {
      "text/html": [
       "<pre>recommendations finished on 44000/106191 queries. users per second: 18695.7</pre>"
      ],
      "text/plain": [
       "recommendations finished on 44000/106191 queries. users per second: 18695.7"
      ]
     },
     "metadata": {},
     "output_type": "display_data"
    },
    {
     "data": {
      "text/html": [
       "<pre>recommendations finished on 45000/106191 queries. users per second: 18677.8</pre>"
      ],
      "text/plain": [
       "recommendations finished on 45000/106191 queries. users per second: 18677.8"
      ]
     },
     "metadata": {},
     "output_type": "display_data"
    },
    {
     "data": {
      "text/html": [
       "<pre>recommendations finished on 46000/106191 queries. users per second: 18674.4</pre>"
      ],
      "text/plain": [
       "recommendations finished on 46000/106191 queries. users per second: 18674.4"
      ]
     },
     "metadata": {},
     "output_type": "display_data"
    },
    {
     "data": {
      "text/html": [
       "<pre>recommendations finished on 47000/106191 queries. users per second: 18680.7</pre>"
      ],
      "text/plain": [
       "recommendations finished on 47000/106191 queries. users per second: 18680.7"
      ]
     },
     "metadata": {},
     "output_type": "display_data"
    },
    {
     "data": {
      "text/html": [
       "<pre>recommendations finished on 48000/106191 queries. users per second: 18675.7</pre>"
      ],
      "text/plain": [
       "recommendations finished on 48000/106191 queries. users per second: 18675.7"
      ]
     },
     "metadata": {},
     "output_type": "display_data"
    },
    {
     "data": {
      "text/html": [
       "<pre>recommendations finished on 49000/106191 queries. users per second: 18677.9</pre>"
      ],
      "text/plain": [
       "recommendations finished on 49000/106191 queries. users per second: 18677.9"
      ]
     },
     "metadata": {},
     "output_type": "display_data"
    },
    {
     "data": {
      "text/html": [
       "<pre>recommendations finished on 50000/106191 queries. users per second: 18626.7</pre>"
      ],
      "text/plain": [
       "recommendations finished on 50000/106191 queries. users per second: 18626.7"
      ]
     },
     "metadata": {},
     "output_type": "display_data"
    },
    {
     "data": {
      "text/html": [
       "<pre>recommendations finished on 51000/106191 queries. users per second: 18650.3</pre>"
      ],
      "text/plain": [
       "recommendations finished on 51000/106191 queries. users per second: 18650.3"
      ]
     },
     "metadata": {},
     "output_type": "display_data"
    },
    {
     "data": {
      "text/html": [
       "<pre>recommendations finished on 52000/106191 queries. users per second: 18591.5</pre>"
      ],
      "text/plain": [
       "recommendations finished on 52000/106191 queries. users per second: 18591.5"
      ]
     },
     "metadata": {},
     "output_type": "display_data"
    },
    {
     "data": {
      "text/html": [
       "<pre>recommendations finished on 53000/106191 queries. users per second: 18592.9</pre>"
      ],
      "text/plain": [
       "recommendations finished on 53000/106191 queries. users per second: 18592.9"
      ]
     },
     "metadata": {},
     "output_type": "display_data"
    },
    {
     "data": {
      "text/html": [
       "<pre>recommendations finished on 54000/106191 queries. users per second: 18595.1</pre>"
      ],
      "text/plain": [
       "recommendations finished on 54000/106191 queries. users per second: 18595.1"
      ]
     },
     "metadata": {},
     "output_type": "display_data"
    },
    {
     "data": {
      "text/html": [
       "<pre>recommendations finished on 55000/106191 queries. users per second: 18589</pre>"
      ],
      "text/plain": [
       "recommendations finished on 55000/106191 queries. users per second: 18589"
      ]
     },
     "metadata": {},
     "output_type": "display_data"
    },
    {
     "data": {
      "text/html": [
       "<pre>recommendations finished on 56000/106191 queries. users per second: 18595.7</pre>"
      ],
      "text/plain": [
       "recommendations finished on 56000/106191 queries. users per second: 18595.7"
      ]
     },
     "metadata": {},
     "output_type": "display_data"
    },
    {
     "data": {
      "text/html": [
       "<pre>recommendations finished on 57000/106191 queries. users per second: 18615.2</pre>"
      ],
      "text/plain": [
       "recommendations finished on 57000/106191 queries. users per second: 18615.2"
      ]
     },
     "metadata": {},
     "output_type": "display_data"
    },
    {
     "data": {
      "text/html": [
       "<pre>recommendations finished on 58000/106191 queries. users per second: 18597.5</pre>"
      ],
      "text/plain": [
       "recommendations finished on 58000/106191 queries. users per second: 18597.5"
      ]
     },
     "metadata": {},
     "output_type": "display_data"
    },
    {
     "data": {
      "text/html": [
       "<pre>recommendations finished on 59000/106191 queries. users per second: 18581.6</pre>"
      ],
      "text/plain": [
       "recommendations finished on 59000/106191 queries. users per second: 18581.6"
      ]
     },
     "metadata": {},
     "output_type": "display_data"
    },
    {
     "data": {
      "text/html": [
       "<pre>recommendations finished on 60000/106191 queries. users per second: 18589.2</pre>"
      ],
      "text/plain": [
       "recommendations finished on 60000/106191 queries. users per second: 18589.2"
      ]
     },
     "metadata": {},
     "output_type": "display_data"
    },
    {
     "data": {
      "text/html": [
       "<pre>recommendations finished on 61000/106191 queries. users per second: 18596.1</pre>"
      ],
      "text/plain": [
       "recommendations finished on 61000/106191 queries. users per second: 18596.1"
      ]
     },
     "metadata": {},
     "output_type": "display_data"
    },
    {
     "data": {
      "text/html": [
       "<pre>recommendations finished on 62000/106191 queries. users per second: 18615.8</pre>"
      ],
      "text/plain": [
       "recommendations finished on 62000/106191 queries. users per second: 18615.8"
      ]
     },
     "metadata": {},
     "output_type": "display_data"
    },
    {
     "data": {
      "text/html": [
       "<pre>recommendations finished on 63000/106191 queries. users per second: 18611.6</pre>"
      ],
      "text/plain": [
       "recommendations finished on 63000/106191 queries. users per second: 18611.6"
      ]
     },
     "metadata": {},
     "output_type": "display_data"
    },
    {
     "data": {
      "text/html": [
       "<pre>recommendations finished on 64000/106191 queries. users per second: 18580.4</pre>"
      ],
      "text/plain": [
       "recommendations finished on 64000/106191 queries. users per second: 18580.4"
      ]
     },
     "metadata": {},
     "output_type": "display_data"
    },
    {
     "data": {
      "text/html": [
       "<pre>recommendations finished on 65000/106191 queries. users per second: 18581.9</pre>"
      ],
      "text/plain": [
       "recommendations finished on 65000/106191 queries. users per second: 18581.9"
      ]
     },
     "metadata": {},
     "output_type": "display_data"
    },
    {
     "data": {
      "text/html": [
       "<pre>recommendations finished on 66000/106191 queries. users per second: 18606.1</pre>"
      ],
      "text/plain": [
       "recommendations finished on 66000/106191 queries. users per second: 18606.1"
      ]
     },
     "metadata": {},
     "output_type": "display_data"
    },
    {
     "data": {
      "text/html": [
       "<pre>recommendations finished on 67000/106191 queries. users per second: 18606.7</pre>"
      ],
      "text/plain": [
       "recommendations finished on 67000/106191 queries. users per second: 18606.7"
      ]
     },
     "metadata": {},
     "output_type": "display_data"
    },
    {
     "data": {
      "text/html": [
       "<pre>recommendations finished on 68000/106191 queries. users per second: 18607.3</pre>"
      ],
      "text/plain": [
       "recommendations finished on 68000/106191 queries. users per second: 18607.3"
      ]
     },
     "metadata": {},
     "output_type": "display_data"
    },
    {
     "data": {
      "text/html": [
       "<pre>recommendations finished on 69000/106191 queries. users per second: 18593.7</pre>"
      ],
      "text/plain": [
       "recommendations finished on 69000/106191 queries. users per second: 18593.7"
      ]
     },
     "metadata": {},
     "output_type": "display_data"
    },
    {
     "data": {
      "text/html": [
       "<pre>recommendations finished on 70000/106191 queries. users per second: 18550</pre>"
      ],
      "text/plain": [
       "recommendations finished on 70000/106191 queries. users per second: 18550"
      ]
     },
     "metadata": {},
     "output_type": "display_data"
    },
    {
     "data": {
      "text/html": [
       "<pre>recommendations finished on 71000/106191 queries. users per second: 18554.8</pre>"
      ],
      "text/plain": [
       "recommendations finished on 71000/106191 queries. users per second: 18554.8"
      ]
     },
     "metadata": {},
     "output_type": "display_data"
    },
    {
     "data": {
      "text/html": [
       "<pre>recommendations finished on 72000/106191 queries. users per second: 18551.1</pre>"
      ],
      "text/plain": [
       "recommendations finished on 72000/106191 queries. users per second: 18551.1"
      ]
     },
     "metadata": {},
     "output_type": "display_data"
    },
    {
     "data": {
      "text/html": [
       "<pre>recommendations finished on 73000/106191 queries. users per second: 18546.7</pre>"
      ],
      "text/plain": [
       "recommendations finished on 73000/106191 queries. users per second: 18546.7"
      ]
     },
     "metadata": {},
     "output_type": "display_data"
    },
    {
     "data": {
      "text/html": [
       "<pre>recommendations finished on 74000/106191 queries. users per second: 18529.5</pre>"
      ],
      "text/plain": [
       "recommendations finished on 74000/106191 queries. users per second: 18529.5"
      ]
     },
     "metadata": {},
     "output_type": "display_data"
    },
    {
     "data": {
      "text/html": [
       "<pre>recommendations finished on 75000/106191 queries. users per second: 18531.5</pre>"
      ],
      "text/plain": [
       "recommendations finished on 75000/106191 queries. users per second: 18531.5"
      ]
     },
     "metadata": {},
     "output_type": "display_data"
    },
    {
     "data": {
      "text/html": [
       "<pre>recommendations finished on 76000/106191 queries. users per second: 18521.9</pre>"
      ],
      "text/plain": [
       "recommendations finished on 76000/106191 queries. users per second: 18521.9"
      ]
     },
     "metadata": {},
     "output_type": "display_data"
    },
    {
     "data": {
      "text/html": [
       "<pre>recommendations finished on 77000/106191 queries. users per second: 18504.9</pre>"
      ],
      "text/plain": [
       "recommendations finished on 77000/106191 queries. users per second: 18504.9"
      ]
     },
     "metadata": {},
     "output_type": "display_data"
    },
    {
     "data": {
      "text/html": [
       "<pre>recommendations finished on 78000/106191 queries. users per second: 18507.7</pre>"
      ],
      "text/plain": [
       "recommendations finished on 78000/106191 queries. users per second: 18507.7"
      ]
     },
     "metadata": {},
     "output_type": "display_data"
    },
    {
     "data": {
      "text/html": [
       "<pre>recommendations finished on 79000/106191 queries. users per second: 18494.3</pre>"
      ],
      "text/plain": [
       "recommendations finished on 79000/106191 queries. users per second: 18494.3"
      ]
     },
     "metadata": {},
     "output_type": "display_data"
    },
    {
     "data": {
      "text/html": [
       "<pre>recommendations finished on 80000/106191 queries. users per second: 18460.1</pre>"
      ],
      "text/plain": [
       "recommendations finished on 80000/106191 queries. users per second: 18460.1"
      ]
     },
     "metadata": {},
     "output_type": "display_data"
    },
    {
     "data": {
      "text/html": [
       "<pre>recommendations finished on 81000/106191 queries. users per second: 18458.8</pre>"
      ],
      "text/plain": [
       "recommendations finished on 81000/106191 queries. users per second: 18458.8"
      ]
     },
     "metadata": {},
     "output_type": "display_data"
    },
    {
     "data": {
      "text/html": [
       "<pre>recommendations finished on 82000/106191 queries. users per second: 18471.5</pre>"
      ],
      "text/plain": [
       "recommendations finished on 82000/106191 queries. users per second: 18471.5"
      ]
     },
     "metadata": {},
     "output_type": "display_data"
    },
    {
     "data": {
      "text/html": [
       "<pre>recommendations finished on 83000/106191 queries. users per second: 18470.8</pre>"
      ],
      "text/plain": [
       "recommendations finished on 83000/106191 queries. users per second: 18470.8"
      ]
     },
     "metadata": {},
     "output_type": "display_data"
    },
    {
     "data": {
      "text/html": [
       "<pre>recommendations finished on 84000/106191 queries. users per second: 18459.6</pre>"
      ],
      "text/plain": [
       "recommendations finished on 84000/106191 queries. users per second: 18459.6"
      ]
     },
     "metadata": {},
     "output_type": "display_data"
    },
    {
     "data": {
      "text/html": [
       "<pre>recommendations finished on 85000/106191 queries. users per second: 18464.1</pre>"
      ],
      "text/plain": [
       "recommendations finished on 85000/106191 queries. users per second: 18464.1"
      ]
     },
     "metadata": {},
     "output_type": "display_data"
    },
    {
     "data": {
      "text/html": [
       "<pre>recommendations finished on 86000/106191 queries. users per second: 18474.9</pre>"
      ],
      "text/plain": [
       "recommendations finished on 86000/106191 queries. users per second: 18474.9"
      ]
     },
     "metadata": {},
     "output_type": "display_data"
    },
    {
     "data": {
      "text/html": [
       "<pre>recommendations finished on 87000/106191 queries. users per second: 18486.7</pre>"
      ],
      "text/plain": [
       "recommendations finished on 87000/106191 queries. users per second: 18486.7"
      ]
     },
     "metadata": {},
     "output_type": "display_data"
    },
    {
     "data": {
      "text/html": [
       "<pre>recommendations finished on 88000/106191 queries. users per second: 18456</pre>"
      ],
      "text/plain": [
       "recommendations finished on 88000/106191 queries. users per second: 18456"
      ]
     },
     "metadata": {},
     "output_type": "display_data"
    },
    {
     "data": {
      "text/html": [
       "<pre>recommendations finished on 89000/106191 queries. users per second: 18446.5</pre>"
      ],
      "text/plain": [
       "recommendations finished on 89000/106191 queries. users per second: 18446.5"
      ]
     },
     "metadata": {},
     "output_type": "display_data"
    },
    {
     "data": {
      "text/html": [
       "<pre>recommendations finished on 90000/106191 queries. users per second: 18452.2</pre>"
      ],
      "text/plain": [
       "recommendations finished on 90000/106191 queries. users per second: 18452.2"
      ]
     },
     "metadata": {},
     "output_type": "display_data"
    },
    {
     "data": {
      "text/html": [
       "<pre>recommendations finished on 91000/106191 queries. users per second: 18454.3</pre>"
      ],
      "text/plain": [
       "recommendations finished on 91000/106191 queries. users per second: 18454.3"
      ]
     },
     "metadata": {},
     "output_type": "display_data"
    },
    {
     "data": {
      "text/html": [
       "<pre>recommendations finished on 92000/106191 queries. users per second: 18446.4</pre>"
      ],
      "text/plain": [
       "recommendations finished on 92000/106191 queries. users per second: 18446.4"
      ]
     },
     "metadata": {},
     "output_type": "display_data"
    },
    {
     "data": {
      "text/html": [
       "<pre>recommendations finished on 93000/106191 queries. users per second: 18459.6</pre>"
      ],
      "text/plain": [
       "recommendations finished on 93000/106191 queries. users per second: 18459.6"
      ]
     },
     "metadata": {},
     "output_type": "display_data"
    },
    {
     "data": {
      "text/html": [
       "<pre>recommendations finished on 94000/106191 queries. users per second: 18431.8</pre>"
      ],
      "text/plain": [
       "recommendations finished on 94000/106191 queries. users per second: 18431.8"
      ]
     },
     "metadata": {},
     "output_type": "display_data"
    },
    {
     "data": {
      "text/html": [
       "<pre>recommendations finished on 95000/106191 queries. users per second: 18411.5</pre>"
      ],
      "text/plain": [
       "recommendations finished on 95000/106191 queries. users per second: 18411.5"
      ]
     },
     "metadata": {},
     "output_type": "display_data"
    },
    {
     "data": {
      "text/html": [
       "<pre>recommendations finished on 96000/106191 queries. users per second: 18360.5</pre>"
      ],
      "text/plain": [
       "recommendations finished on 96000/106191 queries. users per second: 18360.5"
      ]
     },
     "metadata": {},
     "output_type": "display_data"
    },
    {
     "data": {
      "text/html": [
       "<pre>recommendations finished on 97000/106191 queries. users per second: 18312.7</pre>"
      ],
      "text/plain": [
       "recommendations finished on 97000/106191 queries. users per second: 18312.7"
      ]
     },
     "metadata": {},
     "output_type": "display_data"
    },
    {
     "data": {
      "text/html": [
       "<pre>recommendations finished on 98000/106191 queries. users per second: 18274.6</pre>"
      ],
      "text/plain": [
       "recommendations finished on 98000/106191 queries. users per second: 18274.6"
      ]
     },
     "metadata": {},
     "output_type": "display_data"
    },
    {
     "data": {
      "text/html": [
       "<pre>recommendations finished on 99000/106191 queries. users per second: 18254.1</pre>"
      ],
      "text/plain": [
       "recommendations finished on 99000/106191 queries. users per second: 18254.1"
      ]
     },
     "metadata": {},
     "output_type": "display_data"
    },
    {
     "data": {
      "text/html": [
       "<pre>recommendations finished on 100000/106191 queries. users per second: 18237.4</pre>"
      ],
      "text/plain": [
       "recommendations finished on 100000/106191 queries. users per second: 18237.4"
      ]
     },
     "metadata": {},
     "output_type": "display_data"
    },
    {
     "data": {
      "text/html": [
       "<pre>recommendations finished on 101000/106191 queries. users per second: 18226.1</pre>"
      ],
      "text/plain": [
       "recommendations finished on 101000/106191 queries. users per second: 18226.1"
      ]
     },
     "metadata": {},
     "output_type": "display_data"
    },
    {
     "data": {
      "text/html": [
       "<pre>recommendations finished on 102000/106191 queries. users per second: 18213</pre>"
      ],
      "text/plain": [
       "recommendations finished on 102000/106191 queries. users per second: 18213"
      ]
     },
     "metadata": {},
     "output_type": "display_data"
    },
    {
     "data": {
      "text/html": [
       "<pre>recommendations finished on 103000/106191 queries. users per second: 18211.5</pre>"
      ],
      "text/plain": [
       "recommendations finished on 103000/106191 queries. users per second: 18211.5"
      ]
     },
     "metadata": {},
     "output_type": "display_data"
    },
    {
     "data": {
      "text/html": [
       "<pre>recommendations finished on 104000/106191 queries. users per second: 18200.3</pre>"
      ],
      "text/plain": [
       "recommendations finished on 104000/106191 queries. users per second: 18200.3"
      ]
     },
     "metadata": {},
     "output_type": "display_data"
    },
    {
     "data": {
      "text/html": [
       "<pre>recommendations finished on 105000/106191 queries. users per second: 18146</pre>"
      ],
      "text/plain": [
       "recommendations finished on 105000/106191 queries. users per second: 18146"
      ]
     },
     "metadata": {},
     "output_type": "display_data"
    },
    {
     "data": {
      "text/html": [
       "<pre>recommendations finished on 106000/106191 queries. users per second: 18064.1</pre>"
      ],
      "text/plain": [
       "recommendations finished on 106000/106191 queries. users per second: 18064.1"
      ]
     },
     "metadata": {},
     "output_type": "display_data"
    },
    {
     "name": "stdout",
     "output_type": "stream",
     "text": [
      "\n",
      "Precision and recall summary statistics by cutoff\n",
      "+--------+------------------------+------------------------+\n",
      "| cutoff |     mean_precision     |      mean_recall       |\n",
      "+--------+------------------------+------------------------+\n",
      "|   1    | 1.883398781440979e-05  | 5.650196344322974e-06  |\n",
      "|   2    | 9.416993907204895e-06  | 5.650196344322974e-06  |\n",
      "|   3    | 6.277995938136548e-06  | 5.650196344322974e-06  |\n",
      "|   4    | 9.416993907204913e-06  | 6.6166772979572106e-06 |\n",
      "|   5    | 9.416993907204862e-06  | 1.1325174251559609e-05 |\n",
      "|   6    | 7.847494922670722e-06  | 1.1325174251559609e-05 |\n",
      "|   7    | 8.071709063318395e-06  | 1.2371506907915673e-05 |\n",
      "|   8    | 1.5302615099208086e-05 | 2.979702225698425e-05  |\n",
      "|   9    | 1.4648657188985473e-05 | 3.4505519210586156e-05 |\n",
      "|   10   | 1.4125490860807305e-05 | 3.568264344898681e-05  |\n",
      "+--------+------------------------+------------------------+\n",
      "[10 rows x 3 columns]\n",
      "\n",
      "\n",
      "Overall RMSE: 1.0\n",
      "\n",
      "Per User RMSE (best)\n",
      "+-----------------+------+-------+\n",
      "|   CRM_CUST_KEY  | rmse | count |\n",
      "+-----------------+------+-------+\n",
      "| Master-CM978491 | 1.0  |   1   |\n",
      "+-----------------+------+-------+\n",
      "[1 rows x 3 columns]\n",
      "\n",
      "\n",
      "Per User RMSE (worst)\n",
      "+------------------+------+-------+\n",
      "|   CRM_CUST_KEY   | rmse | count |\n",
      "+------------------+------+-------+\n",
      "| Master-CM1138599 | 1.0  |   3   |\n",
      "+------------------+------+-------+\n",
      "[1 rows x 3 columns]\n",
      "\n",
      "\n",
      "Per Item RMSE (best)\n",
      "+-------------------------------+------+-------+\n",
      "|            PRODUCT            | rmse | count |\n",
      "+-------------------------------+------+-------+\n",
      "| 08201573|DISPOSABLE BITE G... | 1.0  |  165  |\n",
      "+-------------------------------+------+-------+\n",
      "[1 rows x 3 columns]\n",
      "\n",
      "\n",
      "Per Item RMSE (worst)\n",
      "+-------------------------------+------+-------+\n",
      "|            PRODUCT            | rmse | count |\n",
      "+-------------------------------+------+-------+\n",
      "| 08411053|MOUNT-ELLIPSE (NO... | 1.0  |   1   |\n",
      "+-------------------------------+------+-------+\n",
      "[1 rows x 3 columns]\n",
      "\n"
     ]
    }
   ],
   "source": [
    "evalDummy = tc.recommender.util.compare_models(testDataDummy,modelsWdummy,model_names=names_w_dummy)"
   ]
  },
  {
   "cell_type": "markdown",
   "metadata": {
    "Collapsed": "true"
   },
   "source": [
    "#### Models on Normalized Purchase Frequency"
   ]
  },
  {
   "cell_type": "code",
   "execution_count": 63,
   "metadata": {
    "Collapsed": "false"
   },
   "outputs": [
    {
     "name": "stdout",
     "output_type": "stream",
     "text": [
      "PROGRESS: Evaluate model Popularity Model on Scaled Purchase Counts\n"
     ]
    },
    {
     "data": {
      "text/html": [
       "<pre>recommendations finished on 1000/18130 queries. users per second: 42324.5</pre>"
      ],
      "text/plain": [
       "recommendations finished on 1000/18130 queries. users per second: 42324.5"
      ]
     },
     "metadata": {},
     "output_type": "display_data"
    },
    {
     "data": {
      "text/html": [
       "<pre>recommendations finished on 2000/18130 queries. users per second: 51254.5</pre>"
      ],
      "text/plain": [
       "recommendations finished on 2000/18130 queries. users per second: 51254.5"
      ]
     },
     "metadata": {},
     "output_type": "display_data"
    },
    {
     "data": {
      "text/html": [
       "<pre>recommendations finished on 3000/18130 queries. users per second: 54647.8</pre>"
      ],
      "text/plain": [
       "recommendations finished on 3000/18130 queries. users per second: 54647.8"
      ]
     },
     "metadata": {},
     "output_type": "display_data"
    },
    {
     "data": {
      "text/html": [
       "<pre>recommendations finished on 4000/18130 queries. users per second: 56353.1</pre>"
      ],
      "text/plain": [
       "recommendations finished on 4000/18130 queries. users per second: 56353.1"
      ]
     },
     "metadata": {},
     "output_type": "display_data"
    },
    {
     "data": {
      "text/html": [
       "<pre>recommendations finished on 5000/18130 queries. users per second: 56821.4</pre>"
      ],
      "text/plain": [
       "recommendations finished on 5000/18130 queries. users per second: 56821.4"
      ]
     },
     "metadata": {},
     "output_type": "display_data"
    },
    {
     "data": {
      "text/html": [
       "<pre>recommendations finished on 6000/18130 queries. users per second: 56363.4</pre>"
      ],
      "text/plain": [
       "recommendations finished on 6000/18130 queries. users per second: 56363.4"
      ]
     },
     "metadata": {},
     "output_type": "display_data"
    },
    {
     "data": {
      "text/html": [
       "<pre>recommendations finished on 7000/18130 queries. users per second: 55844.5</pre>"
      ],
      "text/plain": [
       "recommendations finished on 7000/18130 queries. users per second: 55844.5"
      ]
     },
     "metadata": {},
     "output_type": "display_data"
    },
    {
     "data": {
      "text/html": [
       "<pre>recommendations finished on 8000/18130 queries. users per second: 55408.6</pre>"
      ],
      "text/plain": [
       "recommendations finished on 8000/18130 queries. users per second: 55408.6"
      ]
     },
     "metadata": {},
     "output_type": "display_data"
    },
    {
     "data": {
      "text/html": [
       "<pre>recommendations finished on 9000/18130 queries. users per second: 52539.1</pre>"
      ],
      "text/plain": [
       "recommendations finished on 9000/18130 queries. users per second: 52539.1"
      ]
     },
     "metadata": {},
     "output_type": "display_data"
    },
    {
     "data": {
      "text/html": [
       "<pre>recommendations finished on 10000/18130 queries. users per second: 51442.4</pre>"
      ],
      "text/plain": [
       "recommendations finished on 10000/18130 queries. users per second: 51442.4"
      ]
     },
     "metadata": {},
     "output_type": "display_data"
    },
    {
     "data": {
      "text/html": [
       "<pre>recommendations finished on 11000/18130 queries. users per second: 47756.7</pre>"
      ],
      "text/plain": [
       "recommendations finished on 11000/18130 queries. users per second: 47756.7"
      ]
     },
     "metadata": {},
     "output_type": "display_data"
    },
    {
     "data": {
      "text/html": [
       "<pre>recommendations finished on 12000/18130 queries. users per second: 48588.3</pre>"
      ],
      "text/plain": [
       "recommendations finished on 12000/18130 queries. users per second: 48588.3"
      ]
     },
     "metadata": {},
     "output_type": "display_data"
    },
    {
     "data": {
      "text/html": [
       "<pre>recommendations finished on 13000/18130 queries. users per second: 48373.2</pre>"
      ],
      "text/plain": [
       "recommendations finished on 13000/18130 queries. users per second: 48373.2"
      ]
     },
     "metadata": {},
     "output_type": "display_data"
    },
    {
     "data": {
      "text/html": [
       "<pre>recommendations finished on 14000/18130 queries. users per second: 48779</pre>"
      ],
      "text/plain": [
       "recommendations finished on 14000/18130 queries. users per second: 48779"
      ]
     },
     "metadata": {},
     "output_type": "display_data"
    },
    {
     "data": {
      "text/html": [
       "<pre>recommendations finished on 15000/18130 queries. users per second: 49318.4</pre>"
      ],
      "text/plain": [
       "recommendations finished on 15000/18130 queries. users per second: 49318.4"
      ]
     },
     "metadata": {},
     "output_type": "display_data"
    },
    {
     "data": {
      "text/html": [
       "<pre>recommendations finished on 16000/18130 queries. users per second: 49536.5</pre>"
      ],
      "text/plain": [
       "recommendations finished on 16000/18130 queries. users per second: 49536.5"
      ]
     },
     "metadata": {},
     "output_type": "display_data"
    },
    {
     "data": {
      "text/html": [
       "<pre>recommendations finished on 17000/18130 queries. users per second: 49075.4</pre>"
      ],
      "text/plain": [
       "recommendations finished on 17000/18130 queries. users per second: 49075.4"
      ]
     },
     "metadata": {},
     "output_type": "display_data"
    },
    {
     "data": {
      "text/html": [
       "<pre>recommendations finished on 18000/18130 queries. users per second: 47591.9</pre>"
      ],
      "text/plain": [
       "recommendations finished on 18000/18130 queries. users per second: 47591.9"
      ]
     },
     "metadata": {},
     "output_type": "display_data"
    },
    {
     "name": "stdout",
     "output_type": "stream",
     "text": [
      "\n",
      "Precision and recall summary statistics by cutoff\n",
      "+--------+----------------------+---------------------+\n",
      "| cutoff |    mean_precision    |     mean_recall     |\n",
      "+--------+----------------------+---------------------+\n",
      "|   1    | 0.12482073910645448  | 0.05139155835781497 |\n",
      "|   2    |  0.0993105350248208  |  0.078247199813744  |\n",
      "|   3    | 0.08266225409082528  | 0.09600160320179227 |\n",
      "|   4    | 0.07155267512410336  |  0.1088586854683452 |\n",
      "|   5    | 0.06380584666299013  | 0.11994082406730659 |\n",
      "|   6    | 0.057924250781393974 | 0.12925327312064316 |\n",
      "|   7    | 0.053273973682137085 |  0.1375155212271436 |\n",
      "|   8    | 0.049593215664644516 |  0.1449018991658424 |\n",
      "|   9    |  0.0464730036158608  | 0.15279958336433047 |\n",
      "|   10   |  0.0436624379481525  |  0.1583599027281388 |\n",
      "+--------+----------------------+---------------------+\n",
      "[10 rows x 3 columns]\n",
      "\n",
      "\n",
      "Overall RMSE: 0.3343371205186998\n",
      "\n",
      "Per User RMSE (best)\n",
      "+-----------------+------+-------+\n",
      "|   CRM_CUST_KEY  | rmse | count |\n",
      "+-----------------+------+-------+\n",
      "| Master-CM045979 | 0.0  |   1   |\n",
      "+-----------------+------+-------+\n",
      "[1 rows x 3 columns]\n",
      "\n",
      "\n",
      "Per User RMSE (worst)\n",
      "+-----------------+------+-------+\n",
      "|   CRM_CUST_KEY  | rmse | count |\n",
      "+-----------------+------+-------+\n",
      "| Master-CM093435 | 1.0  |   1   |\n",
      "+-----------------+------+-------+\n",
      "[1 rows x 3 columns]\n",
      "\n",
      "\n",
      "Per Item RMSE (best)\n",
      "+-------------------------------+------+-------+\n",
      "|            PRODUCT            | rmse | count |\n",
      "+-------------------------------+------+-------+\n",
      "| H50A-010|NTI Finishing Car... | 0.0  |   1   |\n",
      "+-------------------------------+------+-------+\n",
      "[1 rows x 3 columns]\n",
      "\n",
      "\n",
      "Per Item RMSE (worst)\n",
      "+----------------------------+------+-------+\n",
      "|          PRODUCT           | rmse | count |\n",
      "+----------------------------+------+-------+\n",
      "| 10017860|COUPLING BIEN-AIR | 1.0  |   1   |\n",
      "+----------------------------+------+-------+\n",
      "[1 rows x 3 columns]\n",
      "\n",
      "PROGRESS: Evaluate model Cosine Similarity on Scaled Purchase Counts\n"
     ]
    },
    {
     "data": {
      "text/html": [
       "<pre>recommendations finished on 1000/18130 queries. users per second: 52651</pre>"
      ],
      "text/plain": [
       "recommendations finished on 1000/18130 queries. users per second: 52651"
      ]
     },
     "metadata": {},
     "output_type": "display_data"
    },
    {
     "data": {
      "text/html": [
       "<pre>recommendations finished on 2000/18130 queries. users per second: 56439.8</pre>"
      ],
      "text/plain": [
       "recommendations finished on 2000/18130 queries. users per second: 56439.8"
      ]
     },
     "metadata": {},
     "output_type": "display_data"
    },
    {
     "data": {
      "text/html": [
       "<pre>recommendations finished on 3000/18130 queries. users per second: 56964.9</pre>"
      ],
      "text/plain": [
       "recommendations finished on 3000/18130 queries. users per second: 56964.9"
      ]
     },
     "metadata": {},
     "output_type": "display_data"
    },
    {
     "data": {
      "text/html": [
       "<pre>recommendations finished on 4000/18130 queries. users per second: 56346</pre>"
      ],
      "text/plain": [
       "recommendations finished on 4000/18130 queries. users per second: 56346"
      ]
     },
     "metadata": {},
     "output_type": "display_data"
    },
    {
     "data": {
      "text/html": [
       "<pre>recommendations finished on 5000/18130 queries. users per second: 55573.5</pre>"
      ],
      "text/plain": [
       "recommendations finished on 5000/18130 queries. users per second: 55573.5"
      ]
     },
     "metadata": {},
     "output_type": "display_data"
    },
    {
     "data": {
      "text/html": [
       "<pre>recommendations finished on 6000/18130 queries. users per second: 52198</pre>"
      ],
      "text/plain": [
       "recommendations finished on 6000/18130 queries. users per second: 52198"
      ]
     },
     "metadata": {},
     "output_type": "display_data"
    },
    {
     "data": {
      "text/html": [
       "<pre>recommendations finished on 7000/18130 queries. users per second: 51141.9</pre>"
      ],
      "text/plain": [
       "recommendations finished on 7000/18130 queries. users per second: 51141.9"
      ]
     },
     "metadata": {},
     "output_type": "display_data"
    },
    {
     "data": {
      "text/html": [
       "<pre>recommendations finished on 8000/18130 queries. users per second: 49977.2</pre>"
      ],
      "text/plain": [
       "recommendations finished on 8000/18130 queries. users per second: 49977.2"
      ]
     },
     "metadata": {},
     "output_type": "display_data"
    },
    {
     "data": {
      "text/html": [
       "<pre>recommendations finished on 9000/18130 queries. users per second: 49411.5</pre>"
      ],
      "text/plain": [
       "recommendations finished on 9000/18130 queries. users per second: 49411.5"
      ]
     },
     "metadata": {},
     "output_type": "display_data"
    },
    {
     "data": {
      "text/html": [
       "<pre>recommendations finished on 10000/18130 queries. users per second: 49132.1</pre>"
      ],
      "text/plain": [
       "recommendations finished on 10000/18130 queries. users per second: 49132.1"
      ]
     },
     "metadata": {},
     "output_type": "display_data"
    },
    {
     "data": {
      "text/html": [
       "<pre>recommendations finished on 11000/18130 queries. users per second: 45563.7</pre>"
      ],
      "text/plain": [
       "recommendations finished on 11000/18130 queries. users per second: 45563.7"
      ]
     },
     "metadata": {},
     "output_type": "display_data"
    },
    {
     "data": {
      "text/html": [
       "<pre>recommendations finished on 12000/18130 queries. users per second: 45729.6</pre>"
      ],
      "text/plain": [
       "recommendations finished on 12000/18130 queries. users per second: 45729.6"
      ]
     },
     "metadata": {},
     "output_type": "display_data"
    },
    {
     "data": {
      "text/html": [
       "<pre>recommendations finished on 13000/18130 queries. users per second: 45691.8</pre>"
      ],
      "text/plain": [
       "recommendations finished on 13000/18130 queries. users per second: 45691.8"
      ]
     },
     "metadata": {},
     "output_type": "display_data"
    },
    {
     "data": {
      "text/html": [
       "<pre>recommendations finished on 14000/18130 queries. users per second: 45125.9</pre>"
      ],
      "text/plain": [
       "recommendations finished on 14000/18130 queries. users per second: 45125.9"
      ]
     },
     "metadata": {},
     "output_type": "display_data"
    },
    {
     "data": {
      "text/html": [
       "<pre>recommendations finished on 15000/18130 queries. users per second: 45338.6</pre>"
      ],
      "text/plain": [
       "recommendations finished on 15000/18130 queries. users per second: 45338.6"
      ]
     },
     "metadata": {},
     "output_type": "display_data"
    },
    {
     "data": {
      "text/html": [
       "<pre>recommendations finished on 16000/18130 queries. users per second: 45276.3</pre>"
      ],
      "text/plain": [
       "recommendations finished on 16000/18130 queries. users per second: 45276.3"
      ]
     },
     "metadata": {},
     "output_type": "display_data"
    },
    {
     "data": {
      "text/html": [
       "<pre>recommendations finished on 17000/18130 queries. users per second: 45492</pre>"
      ],
      "text/plain": [
       "recommendations finished on 17000/18130 queries. users per second: 45492"
      ]
     },
     "metadata": {},
     "output_type": "display_data"
    },
    {
     "data": {
      "text/html": [
       "<pre>recommendations finished on 18000/18130 queries. users per second: 44637.2</pre>"
      ],
      "text/plain": [
       "recommendations finished on 18000/18130 queries. users per second: 44637.2"
      ]
     },
     "metadata": {},
     "output_type": "display_data"
    },
    {
     "name": "stdout",
     "output_type": "stream",
     "text": [
      "\n",
      "Precision and recall summary statistics by cutoff\n",
      "+--------+----------------------+---------------------+\n",
      "| cutoff |    mean_precision    |     mean_recall     |\n",
      "+--------+----------------------+---------------------+\n",
      "|   1    | 0.12482073910645411  | 0.05118844376694547 |\n",
      "|   2    | 0.09914506343077743  |  0.0779260326075068 |\n",
      "|   3    | 0.08238646810075376  | 0.09567156475950876 |\n",
      "|   4    | 0.07126309983452878  | 0.10854486857558104 |\n",
      "|   5    | 0.06348593491450631  | 0.11947940110588377 |\n",
      "|   6    | 0.05766685052399306  | 0.12894267883045732 |\n",
      "|   7    | 0.05302182649121425  | 0.13719569636918807 |\n",
      "|   8    | 0.04937258687258683  | 0.14439809769802364 |\n",
      "|   9    | 0.04617270331556059  | 0.15172566229309467 |\n",
      "|   10   | 0.043381136238279175 | 0.15726700584442488 |\n",
      "+--------+----------------------+---------------------+\n",
      "[10 rows x 3 columns]\n",
      "\n",
      "\n",
      "Overall RMSE: 0.33433353643365915\n",
      "\n",
      "Per User RMSE (best)\n",
      "+-----------------+------+-------+\n",
      "|   CRM_CUST_KEY  | rmse | count |\n",
      "+-----------------+------+-------+\n",
      "| Master-CM045979 | 0.0  |   1   |\n",
      "+-----------------+------+-------+\n",
      "[1 rows x 3 columns]\n",
      "\n",
      "\n",
      "Per User RMSE (worst)\n",
      "+-----------------+------+-------+\n",
      "|   CRM_CUST_KEY  | rmse | count |\n",
      "+-----------------+------+-------+\n",
      "| Master-CM093435 | 1.0  |   1   |\n",
      "+-----------------+------+-------+\n",
      "[1 rows x 3 columns]\n",
      "\n",
      "\n",
      "Per Item RMSE (best)\n",
      "+-------------------------------+------+-------+\n",
      "|            PRODUCT            | rmse | count |\n",
      "+-------------------------------+------+-------+\n",
      "| H50A-010|NTI Finishing Car... | 0.0  |   1   |\n",
      "+-------------------------------+------+-------+\n",
      "[1 rows x 3 columns]\n",
      "\n",
      "\n",
      "Per Item RMSE (worst)\n",
      "+----------------------------+------+-------+\n",
      "|          PRODUCT           | rmse | count |\n",
      "+----------------------------+------+-------+\n",
      "| 10017860|COUPLING BIEN-AIR | 1.0  |   1   |\n",
      "+----------------------------+------+-------+\n",
      "[1 rows x 3 columns]\n",
      "\n",
      "PROGRESS: Evaluate model Pearson Similarity on Scaled Purchase Counts\n"
     ]
    },
    {
     "data": {
      "text/html": [
       "<pre>recommendations finished on 1000/18130 queries. users per second: 49875.3</pre>"
      ],
      "text/plain": [
       "recommendations finished on 1000/18130 queries. users per second: 49875.3"
      ]
     },
     "metadata": {},
     "output_type": "display_data"
    },
    {
     "data": {
      "text/html": [
       "<pre>recommendations finished on 2000/18130 queries. users per second: 53287.9</pre>"
      ],
      "text/plain": [
       "recommendations finished on 2000/18130 queries. users per second: 53287.9"
      ]
     },
     "metadata": {},
     "output_type": "display_data"
    },
    {
     "data": {
      "text/html": [
       "<pre>recommendations finished on 3000/18130 queries. users per second: 54949.1</pre>"
      ],
      "text/plain": [
       "recommendations finished on 3000/18130 queries. users per second: 54949.1"
      ]
     },
     "metadata": {},
     "output_type": "display_data"
    },
    {
     "data": {
      "text/html": [
       "<pre>recommendations finished on 4000/18130 queries. users per second: 55246.3</pre>"
      ],
      "text/plain": [
       "recommendations finished on 4000/18130 queries. users per second: 55246.3"
      ]
     },
     "metadata": {},
     "output_type": "display_data"
    },
    {
     "data": {
      "text/html": [
       "<pre>recommendations finished on 5000/18130 queries. users per second: 53485.1</pre>"
      ],
      "text/plain": [
       "recommendations finished on 5000/18130 queries. users per second: 53485.1"
      ]
     },
     "metadata": {},
     "output_type": "display_data"
    },
    {
     "data": {
      "text/html": [
       "<pre>recommendations finished on 6000/18130 queries. users per second: 51661.3</pre>"
      ],
      "text/plain": [
       "recommendations finished on 6000/18130 queries. users per second: 51661.3"
      ]
     },
     "metadata": {},
     "output_type": "display_data"
    },
    {
     "data": {
      "text/html": [
       "<pre>recommendations finished on 7000/18130 queries. users per second: 51936.9</pre>"
      ],
      "text/plain": [
       "recommendations finished on 7000/18130 queries. users per second: 51936.9"
      ]
     },
     "metadata": {},
     "output_type": "display_data"
    },
    {
     "data": {
      "text/html": [
       "<pre>recommendations finished on 8000/18130 queries. users per second: 51858.8</pre>"
      ],
      "text/plain": [
       "recommendations finished on 8000/18130 queries. users per second: 51858.8"
      ]
     },
     "metadata": {},
     "output_type": "display_data"
    },
    {
     "data": {
      "text/html": [
       "<pre>recommendations finished on 9000/18130 queries. users per second: 52209.9</pre>"
      ],
      "text/plain": [
       "recommendations finished on 9000/18130 queries. users per second: 52209.9"
      ]
     },
     "metadata": {},
     "output_type": "display_data"
    },
    {
     "data": {
      "text/html": [
       "<pre>recommendations finished on 10000/18130 queries. users per second: 52780.2</pre>"
      ],
      "text/plain": [
       "recommendations finished on 10000/18130 queries. users per second: 52780.2"
      ]
     },
     "metadata": {},
     "output_type": "display_data"
    },
    {
     "data": {
      "text/html": [
       "<pre>recommendations finished on 11000/18130 queries. users per second: 52596.8</pre>"
      ],
      "text/plain": [
       "recommendations finished on 11000/18130 queries. users per second: 52596.8"
      ]
     },
     "metadata": {},
     "output_type": "display_data"
    },
    {
     "data": {
      "text/html": [
       "<pre>recommendations finished on 12000/18130 queries. users per second: 52652.8</pre>"
      ],
      "text/plain": [
       "recommendations finished on 12000/18130 queries. users per second: 52652.8"
      ]
     },
     "metadata": {},
     "output_type": "display_data"
    },
    {
     "data": {
      "text/html": [
       "<pre>recommendations finished on 13000/18130 queries. users per second: 52814.8</pre>"
      ],
      "text/plain": [
       "recommendations finished on 13000/18130 queries. users per second: 52814.8"
      ]
     },
     "metadata": {},
     "output_type": "display_data"
    },
    {
     "data": {
      "text/html": [
       "<pre>recommendations finished on 14000/18130 queries. users per second: 53005.2</pre>"
      ],
      "text/plain": [
       "recommendations finished on 14000/18130 queries. users per second: 53005.2"
      ]
     },
     "metadata": {},
     "output_type": "display_data"
    },
    {
     "data": {
      "text/html": [
       "<pre>recommendations finished on 15000/18130 queries. users per second: 53040.6</pre>"
      ],
      "text/plain": [
       "recommendations finished on 15000/18130 queries. users per second: 53040.6"
      ]
     },
     "metadata": {},
     "output_type": "display_data"
    },
    {
     "data": {
      "text/html": [
       "<pre>recommendations finished on 16000/18130 queries. users per second: 53289.1</pre>"
      ],
      "text/plain": [
       "recommendations finished on 16000/18130 queries. users per second: 53289.1"
      ]
     },
     "metadata": {},
     "output_type": "display_data"
    },
    {
     "data": {
      "text/html": [
       "<pre>recommendations finished on 17000/18130 queries. users per second: 53396.2</pre>"
      ],
      "text/plain": [
       "recommendations finished on 17000/18130 queries. users per second: 53396.2"
      ]
     },
     "metadata": {},
     "output_type": "display_data"
    },
    {
     "data": {
      "text/html": [
       "<pre>recommendations finished on 18000/18130 queries. users per second: 52425.4</pre>"
      ],
      "text/plain": [
       "recommendations finished on 18000/18130 queries. users per second: 52425.4"
      ]
     },
     "metadata": {},
     "output_type": "display_data"
    },
    {
     "name": "stdout",
     "output_type": "stream",
     "text": [
      "\n",
      "Precision and recall summary statistics by cutoff\n",
      "+--------+------------------------+------------------------+\n",
      "| cutoff |     mean_precision     |      mean_recall       |\n",
      "+--------+------------------------+------------------------+\n",
      "|   1    |          0.0           |          0.0           |\n",
      "|   2    | 5.515719801434054e-05  | 8.273579702151091e-05  |\n",
      "|   3    | 3.677146534289374e-05  | 8.273579702151091e-05  |\n",
      "|   4    | 2.757859900717027e-05  | 8.273579702151091e-05  |\n",
      "|   5    | 4.412575841147293e-05  | 0.00011819399574501627 |\n",
      "|   6    | 4.5964331678617184e-05 | 0.0001319832952486009  |\n",
      "|   7    | 3.9397998581672066e-05 | 0.0001319832952486009  |\n",
      "|   8    | 4.826254826254844e-05  | 0.0002055262259343883  |\n",
      "|   9    | 5.515719801434048e-05  | 0.0002606834239487309  |\n",
      "|   10   | 6.0672917815774666e-05 |  0.000292504884341619  |\n",
      "+--------+------------------------+------------------------+\n",
      "[10 rows x 3 columns]\n",
      "\n",
      "\n",
      "Overall RMSE: 0.1849699805664271\n",
      "\n",
      "Per User RMSE (best)\n",
      "+-----------------+------+-------+\n",
      "|   CRM_CUST_KEY  | rmse | count |\n",
      "+-----------------+------+-------+\n",
      "| Master-CM057826 | 0.0  |   2   |\n",
      "+-----------------+------+-------+\n",
      "[1 rows x 3 columns]\n",
      "\n",
      "\n",
      "Per User RMSE (worst)\n",
      "+-----------------+------+-------+\n",
      "|   CRM_CUST_KEY  | rmse | count |\n",
      "+-----------------+------+-------+\n",
      "| Master-CM074018 | 1.0  |   1   |\n",
      "+-----------------+------+-------+\n",
      "[1 rows x 3 columns]\n",
      "\n",
      "\n",
      "Per Item RMSE (best)\n",
      "+-------------------------------+------+-------+\n",
      "|            PRODUCT            | rmse | count |\n",
      "+-------------------------------+------+-------+\n",
      "| 08422948|TRY:TRAY MULTI-PO... | 0.0  |   1   |\n",
      "+-------------------------------+------+-------+\n",
      "[1 rows x 3 columns]\n",
      "\n",
      "\n",
      "Per Item RMSE (worst)\n",
      "+-------------------------------+------+-------+\n",
      "|            PRODUCT            | rmse | count |\n",
      "+-------------------------------+------+-------+\n",
      "| 29856|REFILL - UNID  XRVD ... | 1.0  |   1   |\n",
      "+-------------------------------+------+-------+\n",
      "[1 rows x 3 columns]\n",
      "\n"
     ]
    }
   ],
   "source": [
    "evalNorm = tc.recommender.util.compare_models(testDataNorm, modelsWNormalization,model_names=names_w_norm)"
   ]
  },
  {
   "cell_type": "markdown",
   "metadata": {
    "Collapsed": "true"
   },
   "source": [
    "# 9. Model Selection"
   ]
  },
  {
   "cell_type": "code",
   "execution_count": null,
   "metadata": {
    "Collapsed": "false"
   },
   "outputs": [],
   "source": []
  },
  {
   "cell_type": "markdown",
   "metadata": {
    "Collapsed": "false"
   },
   "source": [
    "# Final Output"
   ]
  },
  {
   "cell_type": "code",
   "execution_count": 74,
   "metadata": {
    "Collapsed": "false"
   },
   "outputs": [
    {
     "data": {
      "text/plain": [
       "'CRM_CUST_KEY'"
      ]
     },
     "execution_count": 74,
     "metadata": {},
     "output_type": "execute_result"
    },
    {
     "data": {
      "text/plain": [
       "'PRODUCT'"
      ]
     },
     "execution_count": 74,
     "metadata": {},
     "output_type": "execute_result"
    },
    {
     "data": {
      "text/html": [
       "<div>\n",
       "<style scoped>\n",
       "    .dataframe tbody tr th:only-of-type {\n",
       "        vertical-align: middle;\n",
       "    }\n",
       "\n",
       "    .dataframe tbody tr th {\n",
       "        vertical-align: top;\n",
       "    }\n",
       "\n",
       "    .dataframe thead th {\n",
       "        text-align: right;\n",
       "    }\n",
       "</style>\n",
       "<table border=\"1\" class=\"dataframe\">\n",
       "  <thead>\n",
       "    <tr style=\"text-align: right;\">\n",
       "      <th></th>\n",
       "      <th>CRM_CUST_KEY</th>\n",
       "      <th>PRODUCT</th>\n",
       "      <th>IVC_QTY</th>\n",
       "      <th>purchaseDummy</th>\n",
       "    </tr>\n",
       "  </thead>\n",
       "  <tbody>\n",
       "    <tr>\n",
       "      <td>288290</td>\n",
       "      <td>Master-CM045451</td>\n",
       "      <td>P1932-3|AXIS Pink DiaGloss - RA</td>\n",
       "      <td>1.0</td>\n",
       "      <td>1</td>\n",
       "    </tr>\n",
       "    <tr>\n",
       "      <td>296292</td>\n",
       "      <td>Master-CM045451</td>\n",
       "      <td>P19032-3|AXIS White DiaGloss - RA</td>\n",
       "      <td>1.0</td>\n",
       "      <td>1</td>\n",
       "    </tr>\n",
       "    <tr>\n",
       "      <td>1255175</td>\n",
       "      <td>Master-CM045452</td>\n",
       "      <td>33872|REFILL- MAXCEM ELITE CLEAR</td>\n",
       "      <td>1.0</td>\n",
       "      <td>1</td>\n",
       "    </tr>\n",
       "    <tr>\n",
       "      <td>1006795</td>\n",
       "      <td>Master-CM045452</td>\n",
       "      <td>33872|REFILL- MAXCEM ELITE CLEAR</td>\n",
       "      <td>1.0</td>\n",
       "      <td>1</td>\n",
       "    </tr>\n",
       "    <tr>\n",
       "      <td>1299216</td>\n",
       "      <td>Master-CM045452</td>\n",
       "      <td>00370|TEMP BOND STANDARD PACKAGE</td>\n",
       "      <td>1.0</td>\n",
       "      <td>1</td>\n",
       "    </tr>\n",
       "    <tr>\n",
       "      <td>...</td>\n",
       "      <td>...</td>\n",
       "      <td>...</td>\n",
       "      <td>...</td>\n",
       "      <td>...</td>\n",
       "    </tr>\n",
       "    <tr>\n",
       "      <td>1661910</td>\n",
       "      <td>Master-CM999916</td>\n",
       "      <td>089-0384|Zone Large Dual Barrel Syringe Kit, P...</td>\n",
       "      <td>1.0</td>\n",
       "      <td>1</td>\n",
       "    </tr>\n",
       "    <tr>\n",
       "      <td>1667177</td>\n",
       "      <td>Master-CM999949</td>\n",
       "      <td>815-1412|No.2 ROUND CARBIDE BUR 5 PK</td>\n",
       "      <td>5.0</td>\n",
       "      <td>1</td>\n",
       "    </tr>\n",
       "    <tr>\n",
       "      <td>1667178</td>\n",
       "      <td>Master-CM999949</td>\n",
       "      <td>815-1414|No. 4 ROUND CARBIDE BUR 5 PK</td>\n",
       "      <td>5.0</td>\n",
       "      <td>1</td>\n",
       "    </tr>\n",
       "    <tr>\n",
       "      <td>1667179</td>\n",
       "      <td>Master-CM999949</td>\n",
       "      <td>815-1416|No.6 ROUND CARBIDE BUR 5 PK</td>\n",
       "      <td>5.0</td>\n",
       "      <td>1</td>\n",
       "    </tr>\n",
       "    <tr>\n",
       "      <td>1667176</td>\n",
       "      <td>Master-CM999949</td>\n",
       "      <td>22936|PATHFINDER CS 21MM SZ K1 BROWN  PK6</td>\n",
       "      <td>1.0</td>\n",
       "      <td>1</td>\n",
       "    </tr>\n",
       "  </tbody>\n",
       "</table>\n",
       "<p>2262441 rows × 4 columns</p>\n",
       "</div>"
      ],
      "text/plain": [
       "            CRM_CUST_KEY                                            PRODUCT  \\\n",
       "288290   Master-CM045451                    P1932-3|AXIS Pink DiaGloss - RA   \n",
       "296292   Master-CM045451                  P19032-3|AXIS White DiaGloss - RA   \n",
       "1255175  Master-CM045452                   33872|REFILL- MAXCEM ELITE CLEAR   \n",
       "1006795  Master-CM045452                   33872|REFILL- MAXCEM ELITE CLEAR   \n",
       "1299216  Master-CM045452                   00370|TEMP BOND STANDARD PACKAGE   \n",
       "...                  ...                                                ...   \n",
       "1661910  Master-CM999916  089-0384|Zone Large Dual Barrel Syringe Kit, P...   \n",
       "1667177  Master-CM999949               815-1412|No.2 ROUND CARBIDE BUR 5 PK   \n",
       "1667178  Master-CM999949              815-1414|No. 4 ROUND CARBIDE BUR 5 PK   \n",
       "1667179  Master-CM999949               815-1416|No.6 ROUND CARBIDE BUR 5 PK   \n",
       "1667176  Master-CM999949          22936|PATHFINDER CS 21MM SZ K1 BROWN  PK6   \n",
       "\n",
       "         IVC_QTY  purchaseDummy  \n",
       "288290       1.0              1  \n",
       "296292       1.0              1  \n",
       "1255175      1.0              1  \n",
       "1006795      1.0              1  \n",
       "1299216      1.0              1  \n",
       "...          ...            ...  \n",
       "1661910      1.0              1  \n",
       "1667177      5.0              1  \n",
       "1667178      5.0              1  \n",
       "1667179      5.0              1  \n",
       "1667176      1.0              1  \n",
       "\n",
       "[2262441 rows x 4 columns]"
      ]
     },
     "execution_count": 74,
     "metadata": {},
     "output_type": "execute_result"
    }
   ],
   "source": [
    "userID\n",
    "itemID\n",
    "#purchaseDummy\n",
    "dataDummy\n",
    "#print(usersToRecommend)"
   ]
  },
  {
   "cell_type": "code",
   "execution_count": 76,
   "metadata": {
    "Collapsed": "false"
   },
   "outputs": [
    {
     "name": "stdout",
     "output_type": "stream",
     "text": [
      "InteractiveShell\t cos\t cosDummy\t cosNormalized\t createDataDummy\t d\t dataDummy\t dfMatrixNorm\t dfNorm\t \n",
      "dfRecMatrix\t dfRec_\t evalCounts\t evalDummy\t evalNorm\t itemID\t item_id\t kPear\t kPearDummy\t \n",
      "kPearNomralization\t model\t modelsWNormalization\t modelsWcounts\t modelsWdummy\t nDisplay\t nRec\t name\t names_w_counts\t \n",
      "names_w_dummy\t names_w_norm\t normalizeData\t np\t pd\t popularityDummy\t popularityModel\t popularityNormalized\t popularityRecommend\t \n",
      "splitData\t target\t tc\t test\t testData\t testDataDummy\t testDataNorm\t train\t trainData\t \n",
      "trainDataDummy\t trainDataNorm\t train_test_split\t userID\t user_id\t usersToRecommend\t \n"
     ]
    }
   ],
   "source": [
    "who"
   ]
  },
  {
   "cell_type": "code",
   "execution_count": 89,
   "metadata": {
    "Collapsed": "false"
   },
   "outputs": [
    {
     "data": {
      "text/html": [
       "<pre>Warning: Ignoring columns IVC_QTY;</pre>"
      ],
      "text/plain": [
       "Warning: Ignoring columns IVC_QTY;"
      ]
     },
     "metadata": {},
     "output_type": "display_data"
    },
    {
     "data": {
      "text/html": [
       "<pre>    To use these columns in scoring predictions, use a model that allows the use of additional features.</pre>"
      ],
      "text/plain": [
       "    To use these columns in scoring predictions, use a model that allows the use of additional features."
      ]
     },
     "metadata": {},
     "output_type": "display_data"
    },
    {
     "data": {
      "text/html": [
       "<pre>Preparing data set.</pre>"
      ],
      "text/plain": [
       "Preparing data set."
      ]
     },
     "metadata": {},
     "output_type": "display_data"
    },
    {
     "data": {
      "text/html": [
       "<pre>    Data has 2262441 observations with 149170 users and 11420 items.</pre>"
      ],
      "text/plain": [
       "    Data has 2262441 observations with 149170 users and 11420 items."
      ]
     },
     "metadata": {},
     "output_type": "display_data"
    },
    {
     "data": {
      "text/html": [
       "<pre>    Data prepared in: 1.29949s</pre>"
      ],
      "text/plain": [
       "    Data prepared in: 1.29949s"
      ]
     },
     "metadata": {},
     "output_type": "display_data"
    },
    {
     "data": {
      "text/html": [
       "<pre>Training model from provided data.</pre>"
      ],
      "text/plain": [
       "Training model from provided data."
      ]
     },
     "metadata": {},
     "output_type": "display_data"
    },
    {
     "data": {
      "text/html": [
       "<pre>Gathering per-item and per-user statistics.</pre>"
      ],
      "text/plain": [
       "Gathering per-item and per-user statistics."
      ]
     },
     "metadata": {},
     "output_type": "display_data"
    },
    {
     "data": {
      "text/html": [
       "<pre>+--------------------------------+------------+</pre>"
      ],
      "text/plain": [
       "+--------------------------------+------------+"
      ]
     },
     "metadata": {},
     "output_type": "display_data"
    },
    {
     "data": {
      "text/html": [
       "<pre>| Elapsed Time (Item Statistics) | % Complete |</pre>"
      ],
      "text/plain": [
       "| Elapsed Time (Item Statistics) | % Complete |"
      ]
     },
     "metadata": {},
     "output_type": "display_data"
    },
    {
     "data": {
      "text/html": [
       "<pre>+--------------------------------+------------+</pre>"
      ],
      "text/plain": [
       "+--------------------------------+------------+"
      ]
     },
     "metadata": {},
     "output_type": "display_data"
    },
    {
     "data": {
      "text/html": [
       "<pre>| 1.299ms                        | 0.5        |</pre>"
      ],
      "text/plain": [
       "| 1.299ms                        | 0.5        |"
      ]
     },
     "metadata": {},
     "output_type": "display_data"
    },
    {
     "data": {
      "text/html": [
       "<pre>| 42.738ms                       | 100        |</pre>"
      ],
      "text/plain": [
       "| 42.738ms                       | 100        |"
      ]
     },
     "metadata": {},
     "output_type": "display_data"
    },
    {
     "data": {
      "text/html": [
       "<pre>+--------------------------------+------------+</pre>"
      ],
      "text/plain": [
       "+--------------------------------+------------+"
      ]
     },
     "metadata": {},
     "output_type": "display_data"
    },
    {
     "data": {
      "text/html": [
       "<pre>Setting up lookup tables.</pre>"
      ],
      "text/plain": [
       "Setting up lookup tables."
      ]
     },
     "metadata": {},
     "output_type": "display_data"
    },
    {
     "data": {
      "text/html": [
       "<pre>Processing data in one pass using dense lookup tables.</pre>"
      ],
      "text/plain": [
       "Processing data in one pass using dense lookup tables."
      ]
     },
     "metadata": {},
     "output_type": "display_data"
    },
    {
     "data": {
      "text/html": [
       "<pre>+-------------------------------------+------------------+-----------------+</pre>"
      ],
      "text/plain": [
       "+-------------------------------------+------------------+-----------------+"
      ]
     },
     "metadata": {},
     "output_type": "display_data"
    },
    {
     "data": {
      "text/html": [
       "<pre>| Elapsed Time (Constructing Lookups) | Total % Complete | Items Processed |</pre>"
      ],
      "text/plain": [
       "| Elapsed Time (Constructing Lookups) | Total % Complete | Items Processed |"
      ]
     },
     "metadata": {},
     "output_type": "display_data"
    },
    {
     "data": {
      "text/html": [
       "<pre>+-------------------------------------+------------------+-----------------+</pre>"
      ],
      "text/plain": [
       "+-------------------------------------+------------------+-----------------+"
      ]
     },
     "metadata": {},
     "output_type": "display_data"
    },
    {
     "data": {
      "text/html": [
       "<pre>| 812.288ms                           | 0                | 0               |</pre>"
      ],
      "text/plain": [
       "| 812.288ms                           | 0                | 0               |"
      ]
     },
     "metadata": {},
     "output_type": "display_data"
    },
    {
     "data": {
      "text/html": [
       "<pre>| 1.35s                               | 100              | 11420           |</pre>"
      ],
      "text/plain": [
       "| 1.35s                               | 100              | 11420           |"
      ]
     },
     "metadata": {},
     "output_type": "display_data"
    },
    {
     "data": {
      "text/html": [
       "<pre>+-------------------------------------+------------------+-----------------+</pre>"
      ],
      "text/plain": [
       "+-------------------------------------+------------------+-----------------+"
      ]
     },
     "metadata": {},
     "output_type": "display_data"
    },
    {
     "data": {
      "text/html": [
       "<pre>Finalizing lookup tables.</pre>"
      ],
      "text/plain": [
       "Finalizing lookup tables."
      ]
     },
     "metadata": {},
     "output_type": "display_data"
    },
    {
     "data": {
      "text/html": [
       "<pre>Generating candidate set for working with new users.</pre>"
      ],
      "text/plain": [
       "Generating candidate set for working with new users."
      ]
     },
     "metadata": {},
     "output_type": "display_data"
    },
    {
     "data": {
      "text/html": [
       "<pre>Finished training in 1.4224s</pre>"
      ],
      "text/plain": [
       "Finished training in 1.4224s"
      ]
     },
     "metadata": {},
     "output_type": "display_data"
    },
    {
     "data": {
      "text/html": [
       "<pre>recommendations finished on 1000/26227 queries. users per second: 40671.9</pre>"
      ],
      "text/plain": [
       "recommendations finished on 1000/26227 queries. users per second: 40671.9"
      ]
     },
     "metadata": {},
     "output_type": "display_data"
    },
    {
     "data": {
      "text/html": [
       "<pre>recommendations finished on 2000/26227 queries. users per second: 40316.9</pre>"
      ],
      "text/plain": [
       "recommendations finished on 2000/26227 queries. users per second: 40316.9"
      ]
     },
     "metadata": {},
     "output_type": "display_data"
    },
    {
     "data": {
      "text/html": [
       "<pre>recommendations finished on 3000/26227 queries. users per second: 39815.8</pre>"
      ],
      "text/plain": [
       "recommendations finished on 3000/26227 queries. users per second: 39815.8"
      ]
     },
     "metadata": {},
     "output_type": "display_data"
    },
    {
     "data": {
      "text/html": [
       "<pre>recommendations finished on 4000/26227 queries. users per second: 39771.3</pre>"
      ],
      "text/plain": [
       "recommendations finished on 4000/26227 queries. users per second: 39771.3"
      ]
     },
     "metadata": {},
     "output_type": "display_data"
    },
    {
     "data": {
      "text/html": [
       "<pre>recommendations finished on 5000/26227 queries. users per second: 38820.8</pre>"
      ],
      "text/plain": [
       "recommendations finished on 5000/26227 queries. users per second: 38820.8"
      ]
     },
     "metadata": {},
     "output_type": "display_data"
    },
    {
     "data": {
      "text/html": [
       "<pre>recommendations finished on 6000/26227 queries. users per second: 38876</pre>"
      ],
      "text/plain": [
       "recommendations finished on 6000/26227 queries. users per second: 38876"
      ]
     },
     "metadata": {},
     "output_type": "display_data"
    },
    {
     "data": {
      "text/html": [
       "<pre>recommendations finished on 7000/26227 queries. users per second: 39080.8</pre>"
      ],
      "text/plain": [
       "recommendations finished on 7000/26227 queries. users per second: 39080.8"
      ]
     },
     "metadata": {},
     "output_type": "display_data"
    },
    {
     "data": {
      "text/html": [
       "<pre>recommendations finished on 8000/26227 queries. users per second: 38646</pre>"
      ],
      "text/plain": [
       "recommendations finished on 8000/26227 queries. users per second: 38646"
      ]
     },
     "metadata": {},
     "output_type": "display_data"
    },
    {
     "data": {
      "text/html": [
       "<pre>recommendations finished on 9000/26227 queries. users per second: 38764.5</pre>"
      ],
      "text/plain": [
       "recommendations finished on 9000/26227 queries. users per second: 38764.5"
      ]
     },
     "metadata": {},
     "output_type": "display_data"
    },
    {
     "data": {
      "text/html": [
       "<pre>recommendations finished on 10000/26227 queries. users per second: 38760.7</pre>"
      ],
      "text/plain": [
       "recommendations finished on 10000/26227 queries. users per second: 38760.7"
      ]
     },
     "metadata": {},
     "output_type": "display_data"
    },
    {
     "data": {
      "text/html": [
       "<pre>recommendations finished on 11000/26227 queries. users per second: 38757.8</pre>"
      ],
      "text/plain": [
       "recommendations finished on 11000/26227 queries. users per second: 38757.8"
      ]
     },
     "metadata": {},
     "output_type": "display_data"
    },
    {
     "data": {
      "text/html": [
       "<pre>recommendations finished on 12000/26227 queries. users per second: 38788.8</pre>"
      ],
      "text/plain": [
       "recommendations finished on 12000/26227 queries. users per second: 38788.8"
      ]
     },
     "metadata": {},
     "output_type": "display_data"
    },
    {
     "data": {
      "text/html": [
       "<pre>recommendations finished on 13000/26227 queries. users per second: 38874.1</pre>"
      ],
      "text/plain": [
       "recommendations finished on 13000/26227 queries. users per second: 38874.1"
      ]
     },
     "metadata": {},
     "output_type": "display_data"
    },
    {
     "data": {
      "text/html": [
       "<pre>recommendations finished on 14000/26227 queries. users per second: 38240.4</pre>"
      ],
      "text/plain": [
       "recommendations finished on 14000/26227 queries. users per second: 38240.4"
      ]
     },
     "metadata": {},
     "output_type": "display_data"
    },
    {
     "data": {
      "text/html": [
       "<pre>recommendations finished on 15000/26227 queries. users per second: 38017.2</pre>"
      ],
      "text/plain": [
       "recommendations finished on 15000/26227 queries. users per second: 38017.2"
      ]
     },
     "metadata": {},
     "output_type": "display_data"
    },
    {
     "data": {
      "text/html": [
       "<pre>recommendations finished on 16000/26227 queries. users per second: 38153.7</pre>"
      ],
      "text/plain": [
       "recommendations finished on 16000/26227 queries. users per second: 38153.7"
      ]
     },
     "metadata": {},
     "output_type": "display_data"
    },
    {
     "data": {
      "text/html": [
       "<pre>recommendations finished on 17000/26227 queries. users per second: 38111.9</pre>"
      ],
      "text/plain": [
       "recommendations finished on 17000/26227 queries. users per second: 38111.9"
      ]
     },
     "metadata": {},
     "output_type": "display_data"
    },
    {
     "data": {
      "text/html": [
       "<pre>recommendations finished on 18000/26227 queries. users per second: 37732.6</pre>"
      ],
      "text/plain": [
       "recommendations finished on 18000/26227 queries. users per second: 37732.6"
      ]
     },
     "metadata": {},
     "output_type": "display_data"
    },
    {
     "data": {
      "text/html": [
       "<pre>recommendations finished on 19000/26227 queries. users per second: 37362</pre>"
      ],
      "text/plain": [
       "recommendations finished on 19000/26227 queries. users per second: 37362"
      ]
     },
     "metadata": {},
     "output_type": "display_data"
    },
    {
     "data": {
      "text/html": [
       "<pre>recommendations finished on 20000/26227 queries. users per second: 37349.4</pre>"
      ],
      "text/plain": [
       "recommendations finished on 20000/26227 queries. users per second: 37349.4"
      ]
     },
     "metadata": {},
     "output_type": "display_data"
    },
    {
     "data": {
      "text/html": [
       "<pre>recommendations finished on 21000/26227 queries. users per second: 37107.7</pre>"
      ],
      "text/plain": [
       "recommendations finished on 21000/26227 queries. users per second: 37107.7"
      ]
     },
     "metadata": {},
     "output_type": "display_data"
    },
    {
     "data": {
      "text/html": [
       "<pre>recommendations finished on 22000/26227 queries. users per second: 36882.3</pre>"
      ],
      "text/plain": [
       "recommendations finished on 22000/26227 queries. users per second: 36882.3"
      ]
     },
     "metadata": {},
     "output_type": "display_data"
    },
    {
     "data": {
      "text/html": [
       "<pre>recommendations finished on 23000/26227 queries. users per second: 36383.3</pre>"
      ],
      "text/plain": [
       "recommendations finished on 23000/26227 queries. users per second: 36383.3"
      ]
     },
     "metadata": {},
     "output_type": "display_data"
    },
    {
     "data": {
      "text/html": [
       "<pre>recommendations finished on 24000/26227 queries. users per second: 35927.2</pre>"
      ],
      "text/plain": [
       "recommendations finished on 24000/26227 queries. users per second: 35927.2"
      ]
     },
     "metadata": {},
     "output_type": "display_data"
    },
    {
     "data": {
      "text/html": [
       "<pre>recommendations finished on 25000/26227 queries. users per second: 35335.7</pre>"
      ],
      "text/plain": [
       "recommendations finished on 25000/26227 queries. users per second: 35335.7"
      ]
     },
     "metadata": {},
     "output_type": "display_data"
    },
    {
     "data": {
      "text/html": [
       "<pre>recommendations finished on 26000/26227 queries. users per second: 33430.5</pre>"
      ],
      "text/plain": [
       "recommendations finished on 26000/26227 queries. users per second: 33430.5"
      ]
     },
     "metadata": {},
     "output_type": "display_data"
    },
    {
     "name": "stdout",
     "output_type": "stream",
     "text": [
      "+-----------------+-------------------------------+----------------------+------+\n",
      "|   CRM_CUST_KEY  |            PRODUCT            |        score         | rank |\n",
      "+-----------------+-------------------------------+----------------------+------+\n",
      "| Master-CM045451 | P1935-3|AXIS Pink DiaGloss... | 0.23660516738891602  |  1   |\n",
      "| Master-CM045451 | P19035-3|AXIS White DiaGlo... | 0.21700653433799744  |  2   |\n",
      "| Master-CM045451 | P1938-3|AXIS Pink DiaGloss... | 0.17781558632850647  |  3   |\n",
      "| Master-CM045451 | P19038-3|AXIS White DiaGlo... |  0.1307530701160431  |  4   |\n",
      "| Master-CM045451 | P19033-3|AXIS White DiaGlo... | 0.11993256211280823  |  5   |\n",
      "| Master-CM045451 | P1933-3|AXIS Pink DiaGloss... |  0.1113947331905365  |  6   |\n",
      "| Master-CM045451 | 32430|EXPA-SYL CAPSULE 20P... | 0.04949462413787842  |  7   |\n",
      "| Master-CM045451 | 10025988|spare part knee s... | 0.047036051750183105 |  8   |\n",
      "| Master-CM045451 | P1953-3|AXIS Pink DiaGloss... | 0.04694181680679321  |  9   |\n",
      "| Master-CM045451 | P19053-3|AXIS White DiaGlo... | 0.040101468563079834 |  10  |\n",
      "| Master-CM045452 | 35266|REFILL - OPTIBOND FL... | 0.08090128681876442  |  1   |\n",
      "| Master-CM045452 | 33351|KIT- TEMPBOND CLEAR ... |  0.0582443963397633  |  2   |\n",
      "| Master-CM045452 | 10054524|QUATTROcare plus ... | 0.04975143345919522  |  3   |\n",
      "| Master-CM045452 | 33879|REFILL - AUTOMIX TIP... | 0.04425668174570257  |  4   |\n",
      "| Master-CM045452 | 33361|REFILL - TEMPBOND MI... | 0.03895004229112105  |  5   |\n",
      "| Master-CM045452 | 34418|KIT - MAXCEM ELITE BULK | 0.03659071163697676  |  6   |\n",
      "| Master-CM045452 | 36712|Refill - SonicFill 3 A2 |  0.0320213491266424  |  7   |\n",
      "| Master-CM045452 | 04119660|CRTN. KaVo Spray ... | 0.031248607418753883 |  8   |\n",
      "| Master-CM045452 | 32862|REFILL - MAXCEM MIXI... | 0.03099656105041504  |  9   |\n",
      "| Master-CM045452 | 10073049|Dexis Posterior H... | 0.030005238272927025 |  10  |\n",
      "| Master-CM045453 | 08455707|SET RPLCMNT LIGHT... | 0.07046902179718018  |  1   |\n",
      "| Master-CM045453 |  08458720|PLATE LABEL VENTED  |  0.0689550757408142  |  2   |\n",
      "| Master-CM045453 | 32862|REFILL - MAXCEM MIXI... |  0.0659328818321228  |  3   |\n",
      "| Master-CM045453 | 08451205|NAMEPLATE DCIE LI... | 0.061444008350372316 |  4   |\n",
      "| Master-CM045453 |  08453075|PIN SHIELD RELEASE  | 0.05889936685562134  |  5   |\n",
      "| Master-CM045453 | 08451228|RING RETAINING EX... | 0.056077849864959714 |  6   |\n",
      "| Master-CM045453 | 08451224|SPRING COMPRESSIO... | 0.051932120323181154 |  7   |\n",
      "| Master-CM045453 | 33879|REFILL - AUTOMIX TIP... | 0.04691469669342041  |  8   |\n",
      "| Master-CM045453 | 33872|REFILL- MAXCEM ELITE... | 0.04017130136489868  |  9   |\n",
      "| Master-CM045453 | 33351|KIT- TEMPBOND CLEAR ... |  0.0360684871673584  |  10  |\n",
      "+-----------------+-------------------------------+----------------------+------+\n",
      "[262270 rows x 4 columns]\n",
      "\n"
     ]
    }
   ],
   "source": [
    "UsersToRecommend = list(dfRec[user_id])\n",
    "\n",
    "finalModel = tc.item_similarity_recommender.create(tc.SFrame(dataDummy),\n",
    "                                                  user_id=userID,\n",
    "                                                  item_id=itemID,\n",
    "                                                  target='purchaseDummy',\n",
    "                                                  similarity_type='cosine')\n",
    "recom = finalModel.recommend(users=usersToRecommend,k=nRec)\n",
    "recom.print_rows(nDisplay)\n",
    "\n"
   ]
  },
  {
   "cell_type": "code",
   "execution_count": 90,
   "metadata": {
    "Collapsed": "false"
   },
   "outputs": [
    {
     "data": {
      "text/plain": [
       "(262270, 4)"
      ]
     },
     "execution_count": 90,
     "metadata": {},
     "output_type": "execute_result"
    },
    {
     "data": {
      "text/html": [
       "<div>\n",
       "<style scoped>\n",
       "    .dataframe tbody tr th:only-of-type {\n",
       "        vertical-align: middle;\n",
       "    }\n",
       "\n",
       "    .dataframe tbody tr th {\n",
       "        vertical-align: top;\n",
       "    }\n",
       "\n",
       "    .dataframe thead th {\n",
       "        text-align: right;\n",
       "    }\n",
       "</style>\n",
       "<table border=\"1\" class=\"dataframe\">\n",
       "  <thead>\n",
       "    <tr style=\"text-align: right;\">\n",
       "      <th></th>\n",
       "      <th>CRM_CUST_KEY</th>\n",
       "      <th>PRODUCT</th>\n",
       "      <th>score</th>\n",
       "      <th>rank</th>\n",
       "    </tr>\n",
       "  </thead>\n",
       "  <tbody>\n",
       "    <tr>\n",
       "      <td>0</td>\n",
       "      <td>Master-CM045451</td>\n",
       "      <td>P1935-3|AXIS Pink DiaGloss - RA</td>\n",
       "      <td>0.236605</td>\n",
       "      <td>1</td>\n",
       "    </tr>\n",
       "    <tr>\n",
       "      <td>1</td>\n",
       "      <td>Master-CM045451</td>\n",
       "      <td>P19035-3|AXIS White DiaGloss - RA</td>\n",
       "      <td>0.217007</td>\n",
       "      <td>2</td>\n",
       "    </tr>\n",
       "    <tr>\n",
       "      <td>2</td>\n",
       "      <td>Master-CM045451</td>\n",
       "      <td>P1938-3|AXIS Pink DiaGloss - RA</td>\n",
       "      <td>0.177816</td>\n",
       "      <td>3</td>\n",
       "    </tr>\n",
       "    <tr>\n",
       "      <td>3</td>\n",
       "      <td>Master-CM045451</td>\n",
       "      <td>P19038-3|AXIS White DiaGloss - RA</td>\n",
       "      <td>0.130753</td>\n",
       "      <td>4</td>\n",
       "    </tr>\n",
       "    <tr>\n",
       "      <td>4</td>\n",
       "      <td>Master-CM045451</td>\n",
       "      <td>P19033-3|AXIS White DiaGloss - RA</td>\n",
       "      <td>0.119933</td>\n",
       "      <td>5</td>\n",
       "    </tr>\n",
       "  </tbody>\n",
       "</table>\n",
       "</div>"
      ],
      "text/plain": [
       "      CRM_CUST_KEY                            PRODUCT     score  rank\n",
       "0  Master-CM045451    P1935-3|AXIS Pink DiaGloss - RA  0.236605     1\n",
       "1  Master-CM045451  P19035-3|AXIS White DiaGloss - RA  0.217007     2\n",
       "2  Master-CM045451    P1938-3|AXIS Pink DiaGloss - RA  0.177816     3\n",
       "3  Master-CM045451  P19038-3|AXIS White DiaGloss - RA  0.130753     4\n",
       "4  Master-CM045451  P19033-3|AXIS White DiaGloss - RA  0.119933     5"
      ]
     },
     "execution_count": 90,
     "metadata": {},
     "output_type": "execute_result"
    }
   ],
   "source": [
    "# send to CSV\n",
    "dfRecCSV = recom.to_dataframe()\n",
    "dfRecCSV.shape\n",
    "dfRecCSV.head()\n",
    "dfRecCSV.to_csv('FinalOutput.csv')"
   ]
  },
  {
   "cell_type": "code",
   "execution_count": null,
   "metadata": {
    "Collapsed": "false"
   },
   "outputs": [],
   "source": []
  }
 ],
 "metadata": {
  "kernelspec": {
   "display_name": "Python 3",
   "language": "python",
   "name": "python3"
  },
  "language_info": {
   "codemirror_mode": {
    "name": "ipython",
    "version": 3
   },
   "file_extension": ".py",
   "mimetype": "text/x-python",
   "name": "python",
   "nbconvert_exporter": "python",
   "pygments_lexer": "ipython3",
   "version": "3.6.9"
  }
 },
 "nbformat": 4,
 "nbformat_minor": 4
}
